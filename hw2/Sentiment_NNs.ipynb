{
  "nbformat": 4,
  "nbformat_minor": 0,
  "metadata": {
    "colab": {
      "name": "Sentiment_NNs.ipynb",
      "provenance": [],
      "collapsed_sections": [],
      "toc_visible": true
    },
    "kernelspec": {
      "name": "python3",
      "display_name": "Python 3"
    },
    "accelerator": "GPU"
  },
  "cells": [
    {
      "cell_type": "markdown",
      "metadata": {
        "id": "gGu2H2gmZo8v"
      },
      "source": [
        "# Sentiment Classifier using feed-forward Neural Networks"
      ]
    },
    {
      "cell_type": "markdown",
      "metadata": {
        "id": "mZ_-Jo8mZwpR"
      },
      "source": [
        "The goal of this notebook is to develop a sentiment classifier using feed-forward neural networks for the Twitter sentiment analysis dataset. We are going to experiment and develop several models, and compare them over known metrics such as F1 score, Recall and Precision. "
      ]
    },
    {
      "cell_type": "markdown",
      "metadata": {
        "id": "JWHUFYlMaHDr"
      },
      "source": [
        "We are going to expirement with parameters like:\n",
        " - Number of hidden layers\n",
        " - Activation functions\n",
        " - The loss function\n",
        " - The optimizer\n",
        "\n",
        " The data is going to be preprocessed and scaled, in order to maximize our classifier's potential.\n",
        "\n",
        " The classifier is going to be implemented using the PyTorch API."
      ]
    },
    {
      "cell_type": "markdown",
      "metadata": {
        "id": "yh9ww9P3abAG"
      },
      "source": [
        "## Import Libraries"
      ]
    },
    {
      "cell_type": "code",
      "metadata": {
        "id": "NoAd1jDdZnhb",
        "colab": {
          "base_uri": "https://localhost:8080/"
        },
        "outputId": "060f71a4-f22e-466f-bc0e-d050e456b02e"
      },
      "source": [
        "!python -m textblob.download_corpora\n",
        "\n",
        "# For NN models\n",
        "import torch.nn as nn\n",
        "import torch\n",
        "# For data vizualization \n",
        "import matplotlib as mpl\n",
        "import matplotlib.pyplot as plt\n",
        "# For large and multi-dimensional arrays\n",
        "import numpy as np\n",
        "# For basic cleaning and data preprocessing \n",
        "import re\n",
        "# For data manipulation and analysis\n",
        "import pandas as pd\n",
        "# Stop words\n",
        "import nltk \n",
        "nltk.download('stopwords')  \n",
        "#Data Preprocessing and Feature Engineering\n",
        "from textblob import TextBlob\n",
        "import scipy\n",
        "from nltk.corpus import stopwords\n",
        "from nltk.stem.wordnet import WordNetLemmatizer\n",
        "# Necessary for data format\n",
        "from sklearn.feature_extraction.text import CountVectorizer\n",
        "# Word embedings\n",
        "from sklearn.feature_extraction.text import TfidfVectorizer  \n",
        "# Machine learning model\n",
        "from sklearn.linear_model import LogisticRegression\n",
        "# Metrics\n",
        "from sklearn.metrics import accuracy_score\n",
        "from sklearn.metrics import classification_report,confusion_matrix\n",
        "from sklearn.metrics import precision_recall_fscore_support \n",
        "# Best parameters during classification\n",
        "from sklearn.model_selection import GridSearchCV\n",
        "# Data preprocessing\n",
        "from sklearn.model_selection import train_test_split\n",
        "# Validation of the model\n",
        "from sklearn.model_selection import KFold\n",
        "from sklearn.model_selection import cross_val_score\n",
        "from sklearn.model_selection import cross_validate"
      ],
      "execution_count": 1,
      "outputs": [
        {
          "output_type": "stream",
          "text": [
            "[nltk_data] Downloading package brown to /root/nltk_data...\n",
            "[nltk_data]   Package brown is already up-to-date!\n",
            "[nltk_data] Downloading package punkt to /root/nltk_data...\n",
            "[nltk_data]   Package punkt is already up-to-date!\n",
            "[nltk_data] Downloading package wordnet to /root/nltk_data...\n",
            "[nltk_data]   Package wordnet is already up-to-date!\n",
            "[nltk_data] Downloading package averaged_perceptron_tagger to\n",
            "[nltk_data]     /root/nltk_data...\n",
            "[nltk_data]   Package averaged_perceptron_tagger is already up-to-\n",
            "[nltk_data]       date!\n",
            "[nltk_data] Downloading package conll2000 to /root/nltk_data...\n",
            "[nltk_data]   Package conll2000 is already up-to-date!\n",
            "[nltk_data] Downloading package movie_reviews to /root/nltk_data...\n",
            "[nltk_data]   Package movie_reviews is already up-to-date!\n",
            "Finished.\n",
            "[nltk_data] Downloading package stopwords to /root/nltk_data...\n",
            "[nltk_data]   Package stopwords is already up-to-date!\n"
          ],
          "name": "stdout"
        }
      ]
    },
    {
      "cell_type": "markdown",
      "metadata": {
        "id": "6-4A7wuabKBH"
      },
      "source": [
        "## Dataset Configuration"
      ]
    },
    {
      "cell_type": "markdown",
      "metadata": {
        "id": "dQAEXggCbZwQ"
      },
      "source": [
        "We are going to import the dataset..."
      ]
    },
    {
      "cell_type": "code",
      "metadata": {
        "id": "RwJe2AHPbAX1",
        "colab": {
          "base_uri": "https://localhost:8080/"
        },
        "outputId": "d409975b-c253-4556-c85f-3494c19f019f"
      },
      "source": [
        "df = pd.read_csv(\"/content/drive/MyDrive/tn2/SentimentTweets.csv\")\n",
        "df.info()"
      ],
      "execution_count": 2,
      "outputs": [
        {
          "output_type": "stream",
          "text": [
            "<class 'pandas.core.frame.DataFrame'>\n",
            "RangeIndex: 1280000 entries, 0 to 1279999\n",
            "Data columns (total 7 columns):\n",
            " #   Column      Non-Null Count    Dtype \n",
            "---  ------      --------------    ----- \n",
            " 0   Unnamed: 0  1280000 non-null  int64 \n",
            " 1   target      1280000 non-null  int64 \n",
            " 2   id          1280000 non-null  int64 \n",
            " 3   date        1280000 non-null  object\n",
            " 4   flag        1280000 non-null  object\n",
            " 5   user        1280000 non-null  object\n",
            " 6   text        1280000 non-null  object\n",
            "dtypes: int64(3), object(4)\n",
            "memory usage: 68.4+ MB\n"
          ],
          "name": "stdout"
        }
      ]
    },
    {
      "cell_type": "markdown",
      "metadata": {
        "id": "R6oEEGB2bbDY"
      },
      "source": [
        "...and take a look at its columns"
      ]
    },
    {
      "cell_type": "code",
      "metadata": {
        "id": "UBF1iblKbdVL",
        "colab": {
          "base_uri": "https://localhost:8080/",
          "height": 204
        },
        "outputId": "5b3d87c9-7441-44e6-9ac0-ab9f29e5d587"
      },
      "source": [
        "df.head()"
      ],
      "execution_count": 3,
      "outputs": [
        {
          "output_type": "execute_result",
          "data": {
            "text/html": [
              "<div>\n",
              "<style scoped>\n",
              "    .dataframe tbody tr th:only-of-type {\n",
              "        vertical-align: middle;\n",
              "    }\n",
              "\n",
              "    .dataframe tbody tr th {\n",
              "        vertical-align: top;\n",
              "    }\n",
              "\n",
              "    .dataframe thead th {\n",
              "        text-align: right;\n",
              "    }\n",
              "</style>\n",
              "<table border=\"1\" class=\"dataframe\">\n",
              "  <thead>\n",
              "    <tr style=\"text-align: right;\">\n",
              "      <th></th>\n",
              "      <th>Unnamed: 0</th>\n",
              "      <th>target</th>\n",
              "      <th>id</th>\n",
              "      <th>date</th>\n",
              "      <th>flag</th>\n",
              "      <th>user</th>\n",
              "      <th>text</th>\n",
              "    </tr>\n",
              "  </thead>\n",
              "  <tbody>\n",
              "    <tr>\n",
              "      <th>0</th>\n",
              "      <td>680949</td>\n",
              "      <td>0</td>\n",
              "      <td>2249621587</td>\n",
              "      <td>Fri Jun 19 22:41:08 PDT 2009</td>\n",
              "      <td>NO_QUERY</td>\n",
              "      <td>sukumarpant</td>\n",
              "      <td>#brokenpromises...</td>\n",
              "    </tr>\n",
              "    <tr>\n",
              "      <th>1</th>\n",
              "      <td>406741</td>\n",
              "      <td>0</td>\n",
              "      <td>2059003515</td>\n",
              "      <td>Sat Jun 06 16:03:21 PDT 2009</td>\n",
              "      <td>NO_QUERY</td>\n",
              "      <td>MTMSparrow</td>\n",
              "      <td>David Carradine  so sad. Thai's law not sure i...</td>\n",
              "    </tr>\n",
              "    <tr>\n",
              "      <th>2</th>\n",
              "      <td>1337108</td>\n",
              "      <td>4</td>\n",
              "      <td>2017466467</td>\n",
              "      <td>Wed Jun 03 08:26:14 PDT 2009</td>\n",
              "      <td>NO_QUERY</td>\n",
              "      <td>itsmemcee</td>\n",
              "      <td>A @ 415 B @ 425. Tell your bro i say congrats!</td>\n",
              "    </tr>\n",
              "    <tr>\n",
              "      <th>3</th>\n",
              "      <td>1560887</td>\n",
              "      <td>4</td>\n",
              "      <td>2186457254</td>\n",
              "      <td>Mon Jun 15 18:52:04 PDT 2009</td>\n",
              "      <td>NO_QUERY</td>\n",
              "      <td>jdfreivald</td>\n",
              "      <td>@littlefluffycat  Indeed.</td>\n",
              "    </tr>\n",
              "    <tr>\n",
              "      <th>4</th>\n",
              "      <td>1466295</td>\n",
              "      <td>4</td>\n",
              "      <td>2064458395</td>\n",
              "      <td>Sun Jun 07 06:19:20 PDT 2009</td>\n",
              "      <td>NO_QUERY</td>\n",
              "      <td>CrazyHan</td>\n",
              "      <td>Completed Race 4 Life in 58mins with girlies f...</td>\n",
              "    </tr>\n",
              "  </tbody>\n",
              "</table>\n",
              "</div>"
            ],
            "text/plain": [
              "   Unnamed: 0  ...                                               text\n",
              "0      680949  ...                                #brokenpromises... \n",
              "1      406741  ...  David Carradine  so sad. Thai's law not sure i...\n",
              "2     1337108  ...    A @ 415 B @ 425. Tell your bro i say congrats! \n",
              "3     1560887  ...                          @littlefluffycat  Indeed.\n",
              "4     1466295  ...  Completed Race 4 Life in 58mins with girlies f...\n",
              "\n",
              "[5 rows x 7 columns]"
            ]
          },
          "metadata": {
            "tags": []
          },
          "execution_count": 3
        }
      ]
    },
    {
      "cell_type": "markdown",
      "metadata": {
        "id": "i6PI7THWwqzr"
      },
      "source": [
        "Also, because the tweets are more than a million, we are going to keep 10% of them, to avoid overfitting, and to relief our RAM!"
      ]
    },
    {
      "cell_type": "code",
      "metadata": {
        "id": "3uJM3Ll4llu2"
      },
      "source": [
        "df = df[:200000]"
      ],
      "execution_count": 4,
      "outputs": []
    },
    {
      "cell_type": "markdown",
      "metadata": {
        "id": "jrNDekieHP_s"
      },
      "source": [
        "## Data Preprocessing"
      ]
    },
    {
      "cell_type": "markdown",
      "metadata": {
        "id": "QNOJ9P3xGBCf"
      },
      "source": [
        "Like always, we have to preprocess our data set. We are going to convert everything to lowercase, and remove any punctuation points, weird characters and links.\n"
      ]
    },
    {
      "cell_type": "markdown",
      "metadata": {
        "id": "8x7Yolm6hLHv"
      },
      "source": [
        "We are going to classify tweets. As we all know, twitter users use the symbols `#` and `@` a lot. This may cause problem to the classifier, thus we are going to remove them, using `TextBlob`. We are also going to lemmatize the data in order to avoid multiple representations of the same word"
      ]
    },
    {
      "cell_type": "code",
      "metadata": {
        "id": "JfpQQXW8kBVG"
      },
      "source": [
        "def lemmatization(text):\n",
        "  lem = WordNetLemmatizer()\n",
        "  normalized_tweet = []\n",
        "  for word in text:\n",
        "    normalized_text = lem.lemmatize(word,'v')\n",
        "    normalized_tweet.append(normalized_text)\n",
        "  return normalized_tweet"
      ],
      "execution_count": 5,
      "outputs": []
    },
    {
      "cell_type": "code",
      "metadata": {
        "id": "m7fbcC1uGGO1"
      },
      "source": [
        "def text_normalization(text):\n",
        "    # convert text to lowercase\n",
        "    text = text.lower()\n",
        "    # first group of special chars: \\u followed by a number\n",
        "    text = re.sub('u\\d\\w+', '', text)\n",
        "    # remove links\n",
        "    text = re.sub(r'^http?://', ' ', text)\n",
        "    text = re.sub(r'^www://', ' ', text)\n",
        "    # apply blob techniques\n",
        "    tweet_blob = TextBlob(text)\n",
        "    # return normalized text\n",
        "    blob_res = ' '.join(tweet_blob.words)\n",
        "    lemmatizer = WordNetLemmatizer() \n",
        "    result = ' '.join(\n",
        "        lemmatizer.lemmatize(term) \n",
        "        for term in text.split()\n",
        "    )\n",
        "    return result"
      ],
      "execution_count": 6,
      "outputs": []
    },
    {
      "cell_type": "code",
      "metadata": {
        "id": "FvQUHNZ2GLEs"
      },
      "source": [
        "def preprocess(input_df):\n",
        "    # Remove rows with missing values in column col\n",
        "    input_df.dropna(inplace=True)\n",
        "    # Speed up code using numpy vectorization\n",
        "    vfunc = np.vectorize(text_normalization)\n",
        "    input_df.text = vfunc(input_df.text.values)\n",
        "    # return processed input_df\n",
        "    return input_df"
      ],
      "execution_count": 7,
      "outputs": []
    },
    {
      "cell_type": "markdown",
      "metadata": {
        "id": "rjRCFe45GM25"
      },
      "source": [
        "Let's now apply those techniques in our dataset."
      ]
    },
    {
      "cell_type": "code",
      "metadata": {
        "colab": {
          "base_uri": "https://localhost:8080/",
          "height": 204
        },
        "id": "nobCV3ntGNvK",
        "outputId": "78784252-3654-4eb4-8c5f-06bea69dec81"
      },
      "source": [
        "df = preprocess(df)\n",
        "df.head()"
      ],
      "execution_count": 8,
      "outputs": [
        {
          "output_type": "execute_result",
          "data": {
            "text/html": [
              "<div>\n",
              "<style scoped>\n",
              "    .dataframe tbody tr th:only-of-type {\n",
              "        vertical-align: middle;\n",
              "    }\n",
              "\n",
              "    .dataframe tbody tr th {\n",
              "        vertical-align: top;\n",
              "    }\n",
              "\n",
              "    .dataframe thead th {\n",
              "        text-align: right;\n",
              "    }\n",
              "</style>\n",
              "<table border=\"1\" class=\"dataframe\">\n",
              "  <thead>\n",
              "    <tr style=\"text-align: right;\">\n",
              "      <th></th>\n",
              "      <th>Unnamed: 0</th>\n",
              "      <th>target</th>\n",
              "      <th>id</th>\n",
              "      <th>date</th>\n",
              "      <th>flag</th>\n",
              "      <th>user</th>\n",
              "      <th>text</th>\n",
              "    </tr>\n",
              "  </thead>\n",
              "  <tbody>\n",
              "    <tr>\n",
              "      <th>0</th>\n",
              "      <td>680949</td>\n",
              "      <td>0</td>\n",
              "      <td>2249621587</td>\n",
              "      <td>Fri Jun 19 22:41:08 PDT 2009</td>\n",
              "      <td>NO_QUERY</td>\n",
              "      <td>sukumarpant</td>\n",
              "      <td>#brokenpromises...</td>\n",
              "    </tr>\n",
              "    <tr>\n",
              "      <th>1</th>\n",
              "      <td>406741</td>\n",
              "      <td>0</td>\n",
              "      <td>2059003515</td>\n",
              "      <td>Sat Jun 06 16:03:21 PDT 2009</td>\n",
              "      <td>NO_QUERY</td>\n",
              "      <td>MTMSparrow</td>\n",
              "      <td>david carradine so sad. thai's law not sure if...</td>\n",
              "    </tr>\n",
              "    <tr>\n",
              "      <th>2</th>\n",
              "      <td>1337108</td>\n",
              "      <td>4</td>\n",
              "      <td>2017466467</td>\n",
              "      <td>Wed Jun 03 08:26:14 PDT 2009</td>\n",
              "      <td>NO_QUERY</td>\n",
              "      <td>itsmemcee</td>\n",
              "      <td>a @ 415 b @ 425. tell your bro i say congrats!</td>\n",
              "    </tr>\n",
              "    <tr>\n",
              "      <th>3</th>\n",
              "      <td>1560887</td>\n",
              "      <td>4</td>\n",
              "      <td>2186457254</td>\n",
              "      <td>Mon Jun 15 18:52:04 PDT 2009</td>\n",
              "      <td>NO_QUERY</td>\n",
              "      <td>jdfreivald</td>\n",
              "      <td>@littlefluffycat indeed.</td>\n",
              "    </tr>\n",
              "    <tr>\n",
              "      <th>4</th>\n",
              "      <td>1466295</td>\n",
              "      <td>4</td>\n",
              "      <td>2064458395</td>\n",
              "      <td>Sun Jun 07 06:19:20 PDT 2009</td>\n",
              "      <td>NO_QUERY</td>\n",
              "      <td>CrazyHan</td>\n",
              "      <td>completed race 4 life in 58mins with girlies f...</td>\n",
              "    </tr>\n",
              "  </tbody>\n",
              "</table>\n",
              "</div>"
            ],
            "text/plain": [
              "   Unnamed: 0  ...                                               text\n",
              "0      680949  ...                                 #brokenpromises...\n",
              "1      406741  ...  david carradine so sad. thai's law not sure if...\n",
              "2     1337108  ...     a @ 415 b @ 425. tell your bro i say congrats!\n",
              "3     1560887  ...                           @littlefluffycat indeed.\n",
              "4     1466295  ...  completed race 4 life in 58mins with girlies f...\n",
              "\n",
              "[5 rows x 7 columns]"
            ]
          },
          "metadata": {
            "tags": []
          },
          "execution_count": 8
        }
      ]
    },
    {
      "cell_type": "markdown",
      "metadata": {
        "id": "zV_n2i0VbcnA"
      },
      "source": [
        "We are going to convert the target value to 1 instead of 4, in order to be more convenient."
      ]
    },
    {
      "cell_type": "code",
      "metadata": {
        "id": "dzvu6VnHGoQx"
      },
      "source": [
        "def change_to_1(x):\n",
        "    if (x == 4):\n",
        "        return 1\n",
        "    else:\n",
        "        return x"
      ],
      "execution_count": 9,
      "outputs": []
    },
    {
      "cell_type": "code",
      "metadata": {
        "colab": {
          "base_uri": "https://localhost:8080/",
          "height": 204
        },
        "id": "BS22SvMVGqkQ",
        "outputId": "e9d72d38-1a29-482f-a3b5-ef54f97b68b8"
      },
      "source": [
        "df['target'] = df['target'].apply(change_to_1)\n",
        "df.head()"
      ],
      "execution_count": 10,
      "outputs": [
        {
          "output_type": "execute_result",
          "data": {
            "text/html": [
              "<div>\n",
              "<style scoped>\n",
              "    .dataframe tbody tr th:only-of-type {\n",
              "        vertical-align: middle;\n",
              "    }\n",
              "\n",
              "    .dataframe tbody tr th {\n",
              "        vertical-align: top;\n",
              "    }\n",
              "\n",
              "    .dataframe thead th {\n",
              "        text-align: right;\n",
              "    }\n",
              "</style>\n",
              "<table border=\"1\" class=\"dataframe\">\n",
              "  <thead>\n",
              "    <tr style=\"text-align: right;\">\n",
              "      <th></th>\n",
              "      <th>Unnamed: 0</th>\n",
              "      <th>target</th>\n",
              "      <th>id</th>\n",
              "      <th>date</th>\n",
              "      <th>flag</th>\n",
              "      <th>user</th>\n",
              "      <th>text</th>\n",
              "    </tr>\n",
              "  </thead>\n",
              "  <tbody>\n",
              "    <tr>\n",
              "      <th>0</th>\n",
              "      <td>680949</td>\n",
              "      <td>0</td>\n",
              "      <td>2249621587</td>\n",
              "      <td>Fri Jun 19 22:41:08 PDT 2009</td>\n",
              "      <td>NO_QUERY</td>\n",
              "      <td>sukumarpant</td>\n",
              "      <td>#brokenpromises...</td>\n",
              "    </tr>\n",
              "    <tr>\n",
              "      <th>1</th>\n",
              "      <td>406741</td>\n",
              "      <td>0</td>\n",
              "      <td>2059003515</td>\n",
              "      <td>Sat Jun 06 16:03:21 PDT 2009</td>\n",
              "      <td>NO_QUERY</td>\n",
              "      <td>MTMSparrow</td>\n",
              "      <td>david carradine so sad. thai's law not sure if...</td>\n",
              "    </tr>\n",
              "    <tr>\n",
              "      <th>2</th>\n",
              "      <td>1337108</td>\n",
              "      <td>1</td>\n",
              "      <td>2017466467</td>\n",
              "      <td>Wed Jun 03 08:26:14 PDT 2009</td>\n",
              "      <td>NO_QUERY</td>\n",
              "      <td>itsmemcee</td>\n",
              "      <td>a @ 415 b @ 425. tell your bro i say congrats!</td>\n",
              "    </tr>\n",
              "    <tr>\n",
              "      <th>3</th>\n",
              "      <td>1560887</td>\n",
              "      <td>1</td>\n",
              "      <td>2186457254</td>\n",
              "      <td>Mon Jun 15 18:52:04 PDT 2009</td>\n",
              "      <td>NO_QUERY</td>\n",
              "      <td>jdfreivald</td>\n",
              "      <td>@littlefluffycat indeed.</td>\n",
              "    </tr>\n",
              "    <tr>\n",
              "      <th>4</th>\n",
              "      <td>1466295</td>\n",
              "      <td>1</td>\n",
              "      <td>2064458395</td>\n",
              "      <td>Sun Jun 07 06:19:20 PDT 2009</td>\n",
              "      <td>NO_QUERY</td>\n",
              "      <td>CrazyHan</td>\n",
              "      <td>completed race 4 life in 58mins with girlies f...</td>\n",
              "    </tr>\n",
              "  </tbody>\n",
              "</table>\n",
              "</div>"
            ],
            "text/plain": [
              "   Unnamed: 0  ...                                               text\n",
              "0      680949  ...                                 #brokenpromises...\n",
              "1      406741  ...  david carradine so sad. thai's law not sure if...\n",
              "2     1337108  ...     a @ 415 b @ 425. tell your bro i say congrats!\n",
              "3     1560887  ...                           @littlefluffycat indeed.\n",
              "4     1466295  ...  completed race 4 life in 58mins with girlies f...\n",
              "\n",
              "[5 rows x 7 columns]"
            ]
          },
          "metadata": {
            "tags": []
          },
          "execution_count": 10
        }
      ]
    },
    {
      "cell_type": "markdown",
      "metadata": {
        "id": "Xpm2iVwbHfui"
      },
      "source": [
        ""
      ]
    },
    {
      "cell_type": "markdown",
      "metadata": {
        "id": "WfOk_dUIHiko"
      },
      "source": [
        "## Spiltting the Dataset"
      ]
    },
    {
      "cell_type": "markdown",
      "metadata": {
        "id": "32eJfTIvHmzI"
      },
      "source": [
        "In order to train our model, we are going to use a significant portion of the dataset, but we also need some data to test our classifier, thus we are going to split the dataset into 2 datasets: one for training, and one for testing.\n",
        "\n",
        "First, we are going to define which are our X and Y variables"
      ]
    },
    {
      "cell_type": "code",
      "metadata": {
        "id": "kVQ6FPChJQ0D"
      },
      "source": [
        "X = df['text']\n",
        "Y = df['target']"
      ],
      "execution_count": 11,
      "outputs": []
    },
    {
      "cell_type": "markdown",
      "metadata": {
        "id": "8Sd06AGPJUsm"
      },
      "source": [
        "Then, split the datasets by keeping 80% for training and 20% for testing."
      ]
    },
    {
      "cell_type": "code",
      "metadata": {
        "id": "kUG7PBDGJV-y"
      },
      "source": [
        "X_train, X_test, Y_train, Y_test = train_test_split(X,Y, test_size = 0.2)"
      ],
      "execution_count": 12,
      "outputs": []
    },
    {
      "cell_type": "markdown",
      "metadata": {
        "id": "VwHyW7UvJXVk"
      },
      "source": [
        " ## Feature extraction: TF-IDF"
      ]
    },
    {
      "cell_type": "markdown",
      "metadata": {
        "id": "ygOg69h-LdcC"
      },
      "source": [
        "Next up, we are going to transform our data to a feature vector. In order to do that, we're gonna use TfidfVectorizer.\n",
        "\n",
        "Because of the large amount of tweets, and thus the large amount of words, we are going to limit our vocabulary, in order to not create an erormus vector. We opt to store the vectors that occur more often in the tweets, in order to save space, while not compromising our accuracy. We are going words that occur on more than `0.5%` of the tweets, and on less than `70%` of the tweets."
      ]
    },
    {
      "cell_type": "code",
      "metadata": {
        "id": "oE_ZOS2yngw-"
      },
      "source": [
        "tfidf_vec = TfidfVectorizer(max_df=0.7, min_df=0.005)  "
      ],
      "execution_count": 13,
      "outputs": []
    },
    {
      "cell_type": "code",
      "metadata": {
        "id": "jaWZpy9gLj1W",
        "colab": {
          "base_uri": "https://localhost:8080/",
          "height": 253
        },
        "outputId": "13b38c67-6fd1-4736-bf2c-4626e95aae96"
      },
      "source": [
        "tfidf_train_vec = tfidf_vec.fit_transform(X_train)\n",
        "tfidf_test_vec = tfidf_vec.transform(X_test)\n",
        "\n",
        "tfidf_train_data = pd.DataFrame(tfidf_train_vec.toarray())\n",
        "tfidf_test_data = pd.DataFrame(tfidf_test_vec.toarray())\n",
        "tfidf_train_data.head()"
      ],
      "execution_count": 14,
      "outputs": [
        {
          "output_type": "execute_result",
          "data": {
            "text/html": [
              "<div>\n",
              "<style scoped>\n",
              "    .dataframe tbody tr th:only-of-type {\n",
              "        vertical-align: middle;\n",
              "    }\n",
              "\n",
              "    .dataframe tbody tr th {\n",
              "        vertical-align: top;\n",
              "    }\n",
              "\n",
              "    .dataframe thead th {\n",
              "        text-align: right;\n",
              "    }\n",
              "</style>\n",
              "<table border=\"1\" class=\"dataframe\">\n",
              "  <thead>\n",
              "    <tr style=\"text-align: right;\">\n",
              "      <th></th>\n",
              "      <th>0</th>\n",
              "      <th>1</th>\n",
              "      <th>2</th>\n",
              "      <th>3</th>\n",
              "      <th>4</th>\n",
              "      <th>5</th>\n",
              "      <th>6</th>\n",
              "      <th>7</th>\n",
              "      <th>8</th>\n",
              "      <th>9</th>\n",
              "      <th>10</th>\n",
              "      <th>11</th>\n",
              "      <th>12</th>\n",
              "      <th>13</th>\n",
              "      <th>14</th>\n",
              "      <th>15</th>\n",
              "      <th>16</th>\n",
              "      <th>17</th>\n",
              "      <th>18</th>\n",
              "      <th>19</th>\n",
              "      <th>20</th>\n",
              "      <th>21</th>\n",
              "      <th>22</th>\n",
              "      <th>23</th>\n",
              "      <th>24</th>\n",
              "      <th>25</th>\n",
              "      <th>26</th>\n",
              "      <th>27</th>\n",
              "      <th>28</th>\n",
              "      <th>29</th>\n",
              "      <th>30</th>\n",
              "      <th>31</th>\n",
              "      <th>32</th>\n",
              "      <th>33</th>\n",
              "      <th>34</th>\n",
              "      <th>35</th>\n",
              "      <th>36</th>\n",
              "      <th>37</th>\n",
              "      <th>38</th>\n",
              "      <th>39</th>\n",
              "      <th>...</th>\n",
              "      <th>292</th>\n",
              "      <th>293</th>\n",
              "      <th>294</th>\n",
              "      <th>295</th>\n",
              "      <th>296</th>\n",
              "      <th>297</th>\n",
              "      <th>298</th>\n",
              "      <th>299</th>\n",
              "      <th>300</th>\n",
              "      <th>301</th>\n",
              "      <th>302</th>\n",
              "      <th>303</th>\n",
              "      <th>304</th>\n",
              "      <th>305</th>\n",
              "      <th>306</th>\n",
              "      <th>307</th>\n",
              "      <th>308</th>\n",
              "      <th>309</th>\n",
              "      <th>310</th>\n",
              "      <th>311</th>\n",
              "      <th>312</th>\n",
              "      <th>313</th>\n",
              "      <th>314</th>\n",
              "      <th>315</th>\n",
              "      <th>316</th>\n",
              "      <th>317</th>\n",
              "      <th>318</th>\n",
              "      <th>319</th>\n",
              "      <th>320</th>\n",
              "      <th>321</th>\n",
              "      <th>322</th>\n",
              "      <th>323</th>\n",
              "      <th>324</th>\n",
              "      <th>325</th>\n",
              "      <th>326</th>\n",
              "      <th>327</th>\n",
              "      <th>328</th>\n",
              "      <th>329</th>\n",
              "      <th>330</th>\n",
              "      <th>331</th>\n",
              "    </tr>\n",
              "  </thead>\n",
              "  <tbody>\n",
              "    <tr>\n",
              "      <th>0</th>\n",
              "      <td>0.0</td>\n",
              "      <td>0.0</td>\n",
              "      <td>0.0</td>\n",
              "      <td>0.0</td>\n",
              "      <td>0.0</td>\n",
              "      <td>0.0</td>\n",
              "      <td>0.0</td>\n",
              "      <td>0.0</td>\n",
              "      <td>0.0</td>\n",
              "      <td>0.0</td>\n",
              "      <td>0.0</td>\n",
              "      <td>0.0</td>\n",
              "      <td>0.000000</td>\n",
              "      <td>0.000000</td>\n",
              "      <td>0.000000</td>\n",
              "      <td>0.0</td>\n",
              "      <td>0.0</td>\n",
              "      <td>0.0</td>\n",
              "      <td>0.0</td>\n",
              "      <td>0.0</td>\n",
              "      <td>0.0</td>\n",
              "      <td>0.0</td>\n",
              "      <td>0.0</td>\n",
              "      <td>0.0</td>\n",
              "      <td>0.0</td>\n",
              "      <td>0.0</td>\n",
              "      <td>0.0</td>\n",
              "      <td>0.0</td>\n",
              "      <td>0.0</td>\n",
              "      <td>0.0</td>\n",
              "      <td>0.0</td>\n",
              "      <td>0.0</td>\n",
              "      <td>0.0</td>\n",
              "      <td>0.0</td>\n",
              "      <td>0.0</td>\n",
              "      <td>0.0</td>\n",
              "      <td>0.0</td>\n",
              "      <td>0.0</td>\n",
              "      <td>0.273519</td>\n",
              "      <td>0.0</td>\n",
              "      <td>...</td>\n",
              "      <td>0.0</td>\n",
              "      <td>0.0</td>\n",
              "      <td>0.0</td>\n",
              "      <td>0.0</td>\n",
              "      <td>0.0</td>\n",
              "      <td>0.0</td>\n",
              "      <td>0.0</td>\n",
              "      <td>0.0</td>\n",
              "      <td>0.0</td>\n",
              "      <td>0.0</td>\n",
              "      <td>0.0</td>\n",
              "      <td>0.0</td>\n",
              "      <td>0.0</td>\n",
              "      <td>0.0</td>\n",
              "      <td>0.0</td>\n",
              "      <td>0.0</td>\n",
              "      <td>0.0</td>\n",
              "      <td>0.0</td>\n",
              "      <td>0.0</td>\n",
              "      <td>0.0</td>\n",
              "      <td>0.0</td>\n",
              "      <td>0.0</td>\n",
              "      <td>0.0</td>\n",
              "      <td>0.000000</td>\n",
              "      <td>0.0</td>\n",
              "      <td>0.00000</td>\n",
              "      <td>0.0</td>\n",
              "      <td>0.0</td>\n",
              "      <td>0.0</td>\n",
              "      <td>0.0</td>\n",
              "      <td>0.0</td>\n",
              "      <td>0.0</td>\n",
              "      <td>0.0</td>\n",
              "      <td>0.0</td>\n",
              "      <td>0.0</td>\n",
              "      <td>0.0</td>\n",
              "      <td>0.0</td>\n",
              "      <td>0.0</td>\n",
              "      <td>0.0</td>\n",
              "      <td>0.0</td>\n",
              "    </tr>\n",
              "    <tr>\n",
              "      <th>1</th>\n",
              "      <td>0.0</td>\n",
              "      <td>0.0</td>\n",
              "      <td>0.0</td>\n",
              "      <td>0.0</td>\n",
              "      <td>0.0</td>\n",
              "      <td>0.0</td>\n",
              "      <td>0.0</td>\n",
              "      <td>0.0</td>\n",
              "      <td>0.0</td>\n",
              "      <td>0.0</td>\n",
              "      <td>0.0</td>\n",
              "      <td>0.0</td>\n",
              "      <td>0.172694</td>\n",
              "      <td>0.000000</td>\n",
              "      <td>0.000000</td>\n",
              "      <td>0.0</td>\n",
              "      <td>0.0</td>\n",
              "      <td>0.0</td>\n",
              "      <td>0.0</td>\n",
              "      <td>0.0</td>\n",
              "      <td>0.0</td>\n",
              "      <td>0.0</td>\n",
              "      <td>0.0</td>\n",
              "      <td>0.0</td>\n",
              "      <td>0.0</td>\n",
              "      <td>0.0</td>\n",
              "      <td>0.0</td>\n",
              "      <td>0.0</td>\n",
              "      <td>0.0</td>\n",
              "      <td>0.0</td>\n",
              "      <td>0.0</td>\n",
              "      <td>0.0</td>\n",
              "      <td>0.0</td>\n",
              "      <td>0.0</td>\n",
              "      <td>0.0</td>\n",
              "      <td>0.0</td>\n",
              "      <td>0.0</td>\n",
              "      <td>0.0</td>\n",
              "      <td>0.219585</td>\n",
              "      <td>0.0</td>\n",
              "      <td>...</td>\n",
              "      <td>0.0</td>\n",
              "      <td>0.0</td>\n",
              "      <td>0.0</td>\n",
              "      <td>0.0</td>\n",
              "      <td>0.0</td>\n",
              "      <td>0.0</td>\n",
              "      <td>0.0</td>\n",
              "      <td>0.0</td>\n",
              "      <td>0.0</td>\n",
              "      <td>0.0</td>\n",
              "      <td>0.0</td>\n",
              "      <td>0.0</td>\n",
              "      <td>0.0</td>\n",
              "      <td>0.0</td>\n",
              "      <td>0.0</td>\n",
              "      <td>0.0</td>\n",
              "      <td>0.0</td>\n",
              "      <td>0.0</td>\n",
              "      <td>0.0</td>\n",
              "      <td>0.0</td>\n",
              "      <td>0.0</td>\n",
              "      <td>0.0</td>\n",
              "      <td>0.0</td>\n",
              "      <td>0.000000</td>\n",
              "      <td>0.0</td>\n",
              "      <td>0.26365</td>\n",
              "      <td>0.0</td>\n",
              "      <td>0.0</td>\n",
              "      <td>0.0</td>\n",
              "      <td>0.0</td>\n",
              "      <td>0.0</td>\n",
              "      <td>0.0</td>\n",
              "      <td>0.0</td>\n",
              "      <td>0.0</td>\n",
              "      <td>0.0</td>\n",
              "      <td>0.0</td>\n",
              "      <td>0.0</td>\n",
              "      <td>0.0</td>\n",
              "      <td>0.0</td>\n",
              "      <td>0.0</td>\n",
              "    </tr>\n",
              "    <tr>\n",
              "      <th>2</th>\n",
              "      <td>0.0</td>\n",
              "      <td>0.0</td>\n",
              "      <td>0.0</td>\n",
              "      <td>0.0</td>\n",
              "      <td>0.0</td>\n",
              "      <td>0.0</td>\n",
              "      <td>0.0</td>\n",
              "      <td>0.0</td>\n",
              "      <td>0.0</td>\n",
              "      <td>0.0</td>\n",
              "      <td>0.0</td>\n",
              "      <td>0.0</td>\n",
              "      <td>0.000000</td>\n",
              "      <td>0.000000</td>\n",
              "      <td>0.000000</td>\n",
              "      <td>0.0</td>\n",
              "      <td>0.0</td>\n",
              "      <td>0.0</td>\n",
              "      <td>0.0</td>\n",
              "      <td>0.0</td>\n",
              "      <td>0.0</td>\n",
              "      <td>0.0</td>\n",
              "      <td>0.0</td>\n",
              "      <td>0.0</td>\n",
              "      <td>0.0</td>\n",
              "      <td>0.0</td>\n",
              "      <td>0.0</td>\n",
              "      <td>0.0</td>\n",
              "      <td>0.0</td>\n",
              "      <td>0.0</td>\n",
              "      <td>0.0</td>\n",
              "      <td>0.0</td>\n",
              "      <td>0.0</td>\n",
              "      <td>0.0</td>\n",
              "      <td>0.0</td>\n",
              "      <td>0.0</td>\n",
              "      <td>0.0</td>\n",
              "      <td>0.0</td>\n",
              "      <td>0.000000</td>\n",
              "      <td>0.0</td>\n",
              "      <td>...</td>\n",
              "      <td>0.0</td>\n",
              "      <td>0.0</td>\n",
              "      <td>0.0</td>\n",
              "      <td>0.0</td>\n",
              "      <td>0.0</td>\n",
              "      <td>0.0</td>\n",
              "      <td>0.0</td>\n",
              "      <td>0.0</td>\n",
              "      <td>0.0</td>\n",
              "      <td>0.0</td>\n",
              "      <td>0.0</td>\n",
              "      <td>0.0</td>\n",
              "      <td>0.0</td>\n",
              "      <td>0.0</td>\n",
              "      <td>0.0</td>\n",
              "      <td>0.0</td>\n",
              "      <td>0.0</td>\n",
              "      <td>0.0</td>\n",
              "      <td>0.0</td>\n",
              "      <td>0.0</td>\n",
              "      <td>0.0</td>\n",
              "      <td>0.0</td>\n",
              "      <td>0.0</td>\n",
              "      <td>0.000000</td>\n",
              "      <td>0.0</td>\n",
              "      <td>0.00000</td>\n",
              "      <td>0.0</td>\n",
              "      <td>0.0</td>\n",
              "      <td>0.0</td>\n",
              "      <td>0.0</td>\n",
              "      <td>0.0</td>\n",
              "      <td>0.0</td>\n",
              "      <td>0.0</td>\n",
              "      <td>0.0</td>\n",
              "      <td>0.0</td>\n",
              "      <td>0.0</td>\n",
              "      <td>0.0</td>\n",
              "      <td>0.0</td>\n",
              "      <td>0.0</td>\n",
              "      <td>0.0</td>\n",
              "    </tr>\n",
              "    <tr>\n",
              "      <th>3</th>\n",
              "      <td>0.0</td>\n",
              "      <td>0.0</td>\n",
              "      <td>0.0</td>\n",
              "      <td>0.0</td>\n",
              "      <td>0.0</td>\n",
              "      <td>0.0</td>\n",
              "      <td>0.0</td>\n",
              "      <td>0.0</td>\n",
              "      <td>0.0</td>\n",
              "      <td>0.0</td>\n",
              "      <td>0.0</td>\n",
              "      <td>0.0</td>\n",
              "      <td>0.000000</td>\n",
              "      <td>0.000000</td>\n",
              "      <td>0.000000</td>\n",
              "      <td>0.0</td>\n",
              "      <td>0.0</td>\n",
              "      <td>0.0</td>\n",
              "      <td>0.0</td>\n",
              "      <td>0.0</td>\n",
              "      <td>0.0</td>\n",
              "      <td>0.0</td>\n",
              "      <td>0.0</td>\n",
              "      <td>0.0</td>\n",
              "      <td>0.0</td>\n",
              "      <td>0.0</td>\n",
              "      <td>0.0</td>\n",
              "      <td>0.0</td>\n",
              "      <td>0.0</td>\n",
              "      <td>0.0</td>\n",
              "      <td>0.0</td>\n",
              "      <td>0.0</td>\n",
              "      <td>0.0</td>\n",
              "      <td>0.0</td>\n",
              "      <td>0.0</td>\n",
              "      <td>0.0</td>\n",
              "      <td>0.0</td>\n",
              "      <td>0.0</td>\n",
              "      <td>0.000000</td>\n",
              "      <td>0.0</td>\n",
              "      <td>...</td>\n",
              "      <td>0.0</td>\n",
              "      <td>0.0</td>\n",
              "      <td>0.0</td>\n",
              "      <td>0.0</td>\n",
              "      <td>0.0</td>\n",
              "      <td>0.0</td>\n",
              "      <td>0.0</td>\n",
              "      <td>0.0</td>\n",
              "      <td>0.0</td>\n",
              "      <td>0.0</td>\n",
              "      <td>0.0</td>\n",
              "      <td>0.0</td>\n",
              "      <td>0.0</td>\n",
              "      <td>0.0</td>\n",
              "      <td>0.0</td>\n",
              "      <td>0.0</td>\n",
              "      <td>0.0</td>\n",
              "      <td>0.0</td>\n",
              "      <td>0.0</td>\n",
              "      <td>0.0</td>\n",
              "      <td>0.0</td>\n",
              "      <td>0.0</td>\n",
              "      <td>0.0</td>\n",
              "      <td>0.000000</td>\n",
              "      <td>0.0</td>\n",
              "      <td>0.00000</td>\n",
              "      <td>0.0</td>\n",
              "      <td>0.0</td>\n",
              "      <td>0.0</td>\n",
              "      <td>0.0</td>\n",
              "      <td>0.0</td>\n",
              "      <td>0.0</td>\n",
              "      <td>0.0</td>\n",
              "      <td>0.0</td>\n",
              "      <td>0.0</td>\n",
              "      <td>0.0</td>\n",
              "      <td>0.0</td>\n",
              "      <td>0.0</td>\n",
              "      <td>0.0</td>\n",
              "      <td>0.0</td>\n",
              "    </tr>\n",
              "    <tr>\n",
              "      <th>4</th>\n",
              "      <td>0.0</td>\n",
              "      <td>0.0</td>\n",
              "      <td>0.0</td>\n",
              "      <td>0.0</td>\n",
              "      <td>0.0</td>\n",
              "      <td>0.0</td>\n",
              "      <td>0.0</td>\n",
              "      <td>0.0</td>\n",
              "      <td>0.0</td>\n",
              "      <td>0.0</td>\n",
              "      <td>0.0</td>\n",
              "      <td>0.0</td>\n",
              "      <td>0.000000</td>\n",
              "      <td>0.509259</td>\n",
              "      <td>0.501088</td>\n",
              "      <td>0.0</td>\n",
              "      <td>0.0</td>\n",
              "      <td>0.0</td>\n",
              "      <td>0.0</td>\n",
              "      <td>0.0</td>\n",
              "      <td>0.0</td>\n",
              "      <td>0.0</td>\n",
              "      <td>0.0</td>\n",
              "      <td>0.0</td>\n",
              "      <td>0.0</td>\n",
              "      <td>0.0</td>\n",
              "      <td>0.0</td>\n",
              "      <td>0.0</td>\n",
              "      <td>0.0</td>\n",
              "      <td>0.0</td>\n",
              "      <td>0.0</td>\n",
              "      <td>0.0</td>\n",
              "      <td>0.0</td>\n",
              "      <td>0.0</td>\n",
              "      <td>0.0</td>\n",
              "      <td>0.0</td>\n",
              "      <td>0.0</td>\n",
              "      <td>0.0</td>\n",
              "      <td>0.000000</td>\n",
              "      <td>0.0</td>\n",
              "      <td>...</td>\n",
              "      <td>0.0</td>\n",
              "      <td>0.0</td>\n",
              "      <td>0.0</td>\n",
              "      <td>0.0</td>\n",
              "      <td>0.0</td>\n",
              "      <td>0.0</td>\n",
              "      <td>0.0</td>\n",
              "      <td>0.0</td>\n",
              "      <td>0.0</td>\n",
              "      <td>0.0</td>\n",
              "      <td>0.0</td>\n",
              "      <td>0.0</td>\n",
              "      <td>0.0</td>\n",
              "      <td>0.0</td>\n",
              "      <td>0.0</td>\n",
              "      <td>0.0</td>\n",
              "      <td>0.0</td>\n",
              "      <td>0.0</td>\n",
              "      <td>0.0</td>\n",
              "      <td>0.0</td>\n",
              "      <td>0.0</td>\n",
              "      <td>0.0</td>\n",
              "      <td>0.0</td>\n",
              "      <td>0.323782</td>\n",
              "      <td>0.0</td>\n",
              "      <td>0.00000</td>\n",
              "      <td>0.0</td>\n",
              "      <td>0.0</td>\n",
              "      <td>0.0</td>\n",
              "      <td>0.0</td>\n",
              "      <td>0.0</td>\n",
              "      <td>0.0</td>\n",
              "      <td>0.0</td>\n",
              "      <td>0.0</td>\n",
              "      <td>0.0</td>\n",
              "      <td>0.0</td>\n",
              "      <td>0.0</td>\n",
              "      <td>0.0</td>\n",
              "      <td>0.0</td>\n",
              "      <td>0.0</td>\n",
              "    </tr>\n",
              "  </tbody>\n",
              "</table>\n",
              "<p>5 rows × 332 columns</p>\n",
              "</div>"
            ],
            "text/plain": [
              "   0    1    2    3    4    5    6    ...  325  326  327  328  329  330  331\n",
              "0  0.0  0.0  0.0  0.0  0.0  0.0  0.0  ...  0.0  0.0  0.0  0.0  0.0  0.0  0.0\n",
              "1  0.0  0.0  0.0  0.0  0.0  0.0  0.0  ...  0.0  0.0  0.0  0.0  0.0  0.0  0.0\n",
              "2  0.0  0.0  0.0  0.0  0.0  0.0  0.0  ...  0.0  0.0  0.0  0.0  0.0  0.0  0.0\n",
              "3  0.0  0.0  0.0  0.0  0.0  0.0  0.0  ...  0.0  0.0  0.0  0.0  0.0  0.0  0.0\n",
              "4  0.0  0.0  0.0  0.0  0.0  0.0  0.0  ...  0.0  0.0  0.0  0.0  0.0  0.0  0.0\n",
              "\n",
              "[5 rows x 332 columns]"
            ]
          },
          "metadata": {
            "tags": []
          },
          "execution_count": 14
        }
      ]
    },
    {
      "cell_type": "markdown",
      "metadata": {
        "id": "GNlmDq3CtB6H"
      },
      "source": [
        "## Convert to Tensors"
      ]
    },
    {
      "cell_type": "markdown",
      "metadata": {
        "id": "iVtiQP5DupZx"
      },
      "source": [
        "We are going to use the PyTorch API, thus we must convert all of our feature vectors to tensors"
      ]
    },
    {
      "cell_type": "code",
      "metadata": {
        "id": "pY5kZoMhtNBq"
      },
      "source": [
        "train_x = tfidf_train_data.to_numpy()\n",
        "test_x = tfidf_test_data.to_numpy()\n",
        "\n",
        "X_train_tensor = torch.as_tensor(train_x, dtype=torch.float32)\n",
        "Y_train_tensor = torch.as_tensor(Y_train.values, dtype=torch.float32)\n",
        "\n",
        "X_test_tensor = torch.as_tensor(test_x, dtype=torch.float32)\n",
        "Y_test_tensor = torch.as_tensor(Y_test.values, dtype=torch.float32)\n",
        "\n",
        "\n",
        "Y_train_tensor = Y_train_tensor.view(Y_train_tensor.size()[0], 1)\n",
        "Y_test_tensor = Y_test_tensor.view(Y_test_tensor.size()[0], 1)"
      ],
      "execution_count": 15,
      "outputs": []
    },
    {
      "cell_type": "markdown",
      "metadata": {
        "id": "lYP_pCP289Zd"
      },
      "source": [
        "## First Model"
      ]
    },
    {
      "cell_type": "markdown",
      "metadata": {
        "id": "7oON-JgH9Ath"
      },
      "source": [
        "For our first model we are going to use a simple neural network consisting of 1 fully connected layer. "
      ]
    },
    {
      "cell_type": "markdown",
      "metadata": {
        "id": "6w9gdQPvEuS-"
      },
      "source": [
        "We are going to do so by extending the extending the `nn.Module` class. This requires us to create an `__init__` and a `forward` method."
      ]
    },
    {
      "cell_type": "markdown",
      "metadata": {
        "id": "58K4CMLhO_fi"
      },
      "source": [
        "### Define the Model"
      ]
    },
    {
      "cell_type": "code",
      "metadata": {
        "id": "85vUc9o-FBcX"
      },
      "source": [
        "class Model_1(nn.Module):\n",
        "  def __init__(self, input_size, hidden_neurons_first, hidden_neurons_second):\n",
        "    super(Model_1, self).__init__()\n",
        "\n",
        "    # 1st linear function: vocab_size -> hidden_neurons\n",
        "    self.layer_1 = nn.Linear(input_size, hidden_neurons_first)\n",
        "    # activation function for 1st layer\n",
        "    self.relu_1 = nn.ReLU()\n",
        "\n",
        "    # output layer: hidden_neurons -> 1 neuron (classification)\n",
        "    self.output = nn.Linear(hidden_neurons_second, 1)\n",
        "    # activation using the sigmoid function\n",
        "    self.activation = nn.Sigmoid()\n",
        "\n",
        "  def forward(self, x):\n",
        "    out = self.layer_1(x)\n",
        "    out = self.relu_1(out)\n",
        "\n",
        "    out = self.output(out)\n",
        "    out = self.activation(out)\n",
        "\n",
        "    return out"
      ],
      "execution_count": 16,
      "outputs": []
    },
    {
      "cell_type": "markdown",
      "metadata": {
        "id": "-M3fW0jRO8rC"
      },
      "source": [
        "### Training the Model"
      ]
    },
    {
      "cell_type": "markdown",
      "metadata": {
        "id": "51I3xKNWZE3B"
      },
      "source": [
        "Next up, we are going to define the appropriate functions that use the previosly mentioned class in order to train our model."
      ]
    },
    {
      "cell_type": "markdown",
      "metadata": {
        "id": "4AOYxUQlPc-N"
      },
      "source": [
        "#### Define the training process"
      ]
    },
    {
      "cell_type": "markdown",
      "metadata": {
        "id": "4QgCw4MiZeyQ"
      },
      "source": [
        "Code for training one epoch, which involves the learning procedure that we've learned from theory"
      ]
    },
    {
      "cell_type": "code",
      "metadata": {
        "id": "8Au5DD0OPwcJ"
      },
      "source": [
        "def train_epoch(optimizer, model, train_data, labels):\n",
        "  # clear gradients\n",
        "  optimizer.zero_grad()\n",
        "  outputs = model.forward(train_data)\n",
        "  # compute loss w.r.t batch\n",
        "  # loss = nn.NLLLoss(outputs, labels)\n",
        "  loss = torch.nn.functional.mse_loss(outputs, labels)\n",
        "  # pass gradients back, startiing on loss value\n",
        "  loss.backward()\n",
        "  # update parameters\n",
        "  optimizer.step()\n",
        "\n",
        "  # return the total to keep track of how you did this time around\n",
        "  return loss"
      ],
      "execution_count": 17,
      "outputs": []
    },
    {
      "cell_type": "markdown",
      "metadata": {
        "id": "UCj3k0rj3VDn"
      },
      "source": [
        "#### Hyperparameters definition"
      ]
    },
    {
      "cell_type": "markdown",
      "metadata": {
        "id": "DstirNr4e9pX"
      },
      "source": [
        "Definition of our hyperparameters. Lots of different values were tried as I experemented with thoser parameters, in order to achieve the best results of the model"
      ]
    },
    {
      "cell_type": "code",
      "metadata": {
        "id": "cnFZBzV714KD"
      },
      "source": [
        "epochs = 100\n",
        "learning_rate = 0.01\n",
        "hidden_neurons_first = 200\n",
        "hidden_neurons_second = 200\n",
        "input_size = X_train_tensor.size()[1]\n",
        "model = Model_1(input_size, hidden_neurons_first, hidden_neurons_second)\n",
        "optimizer = torch.optim.Adam(model.parameters(), lr=learning_rate)"
      ],
      "execution_count": 18,
      "outputs": []
    },
    {
      "cell_type": "markdown",
      "metadata": {
        "id": "zGkfHgZm1mvh"
      },
      "source": [
        "#### Training procedure"
      ]
    },
    {
      "cell_type": "markdown",
      "metadata": {
        "id": "w-RUnTaFfMaL"
      },
      "source": [
        "The training procedure is simple: We train for every epoch that the user requested, and store the loss in order to plot it"
      ]
    },
    {
      "cell_type": "code",
      "metadata": {
        "colab": {
          "base_uri": "https://localhost:8080/"
        },
        "id": "yMwkaJa21v6D",
        "outputId": "06498973-8d0e-46ab-aa35-999fdb7c2b49"
      },
      "source": [
        "loss = []\n",
        "\n",
        "for epoch in range(epochs):\n",
        "  epoch_loss = train_epoch(optimizer, model, X_train_tensor, Y_train_tensor)\n",
        "  print(\"Epoch: \", epoch, \" loss: \", round(epoch_loss.item(),4))\n",
        "  loss.append(epoch_loss.item())"
      ],
      "execution_count": 19,
      "outputs": [
        {
          "output_type": "stream",
          "text": [
            "Epoch:  0  loss:  0.25\n",
            "Epoch:  1  loss:  0.2452\n",
            "Epoch:  2  loss:  0.2384\n",
            "Epoch:  3  loss:  0.2294\n",
            "Epoch:  4  loss:  0.2191\n",
            "Epoch:  5  loss:  0.209\n",
            "Epoch:  6  loss:  0.2006\n",
            "Epoch:  7  loss:  0.1945\n",
            "Epoch:  8  loss:  0.1904\n",
            "Epoch:  9  loss:  0.188\n",
            "Epoch:  10  loss:  0.1865\n",
            "Epoch:  11  loss:  0.1855\n",
            "Epoch:  12  loss:  0.1847\n",
            "Epoch:  13  loss:  0.184\n",
            "Epoch:  14  loss:  0.1834\n",
            "Epoch:  15  loss:  0.1829\n",
            "Epoch:  16  loss:  0.1825\n",
            "Epoch:  17  loss:  0.1822\n",
            "Epoch:  18  loss:  0.1818\n",
            "Epoch:  19  loss:  0.1814\n",
            "Epoch:  20  loss:  0.181\n",
            "Epoch:  21  loss:  0.1807\n",
            "Epoch:  22  loss:  0.1804\n",
            "Epoch:  23  loss:  0.1801\n",
            "Epoch:  24  loss:  0.1799\n",
            "Epoch:  25  loss:  0.1796\n",
            "Epoch:  26  loss:  0.1794\n",
            "Epoch:  27  loss:  0.1792\n",
            "Epoch:  28  loss:  0.1791\n",
            "Epoch:  29  loss:  0.1789\n",
            "Epoch:  30  loss:  0.1788\n",
            "Epoch:  31  loss:  0.1786\n",
            "Epoch:  32  loss:  0.1786\n",
            "Epoch:  33  loss:  0.1785\n",
            "Epoch:  34  loss:  0.1784\n",
            "Epoch:  35  loss:  0.1783\n",
            "Epoch:  36  loss:  0.1783\n",
            "Epoch:  37  loss:  0.1782\n",
            "Epoch:  38  loss:  0.1781\n",
            "Epoch:  39  loss:  0.178\n",
            "Epoch:  40  loss:  0.1779\n",
            "Epoch:  41  loss:  0.1779\n",
            "Epoch:  42  loss:  0.1778\n",
            "Epoch:  43  loss:  0.1777\n",
            "Epoch:  44  loss:  0.1776\n",
            "Epoch:  45  loss:  0.1775\n",
            "Epoch:  46  loss:  0.1774\n",
            "Epoch:  47  loss:  0.1773\n",
            "Epoch:  48  loss:  0.1772\n",
            "Epoch:  49  loss:  0.1771\n",
            "Epoch:  50  loss:  0.177\n",
            "Epoch:  51  loss:  0.1769\n",
            "Epoch:  52  loss:  0.1768\n",
            "Epoch:  53  loss:  0.1767\n",
            "Epoch:  54  loss:  0.1767\n",
            "Epoch:  55  loss:  0.1767\n",
            "Epoch:  56  loss:  0.1766\n",
            "Epoch:  57  loss:  0.1762\n",
            "Epoch:  58  loss:  0.1761\n",
            "Epoch:  59  loss:  0.1762\n",
            "Epoch:  60  loss:  0.176\n",
            "Epoch:  61  loss:  0.1757\n",
            "Epoch:  62  loss:  0.1757\n",
            "Epoch:  63  loss:  0.1756\n",
            "Epoch:  64  loss:  0.1753\n",
            "Epoch:  65  loss:  0.1752\n",
            "Epoch:  66  loss:  0.1752\n",
            "Epoch:  67  loss:  0.1749\n",
            "Epoch:  68  loss:  0.1748\n",
            "Epoch:  69  loss:  0.1747\n",
            "Epoch:  70  loss:  0.1745\n",
            "Epoch:  71  loss:  0.1744\n",
            "Epoch:  72  loss:  0.1743\n",
            "Epoch:  73  loss:  0.1741\n",
            "Epoch:  74  loss:  0.1739\n",
            "Epoch:  75  loss:  0.1738\n",
            "Epoch:  76  loss:  0.1737\n",
            "Epoch:  77  loss:  0.1735\n",
            "Epoch:  78  loss:  0.1734\n",
            "Epoch:  79  loss:  0.1732\n",
            "Epoch:  80  loss:  0.1731\n",
            "Epoch:  81  loss:  0.1729\n",
            "Epoch:  82  loss:  0.1728\n",
            "Epoch:  83  loss:  0.1726\n",
            "Epoch:  84  loss:  0.1724\n",
            "Epoch:  85  loss:  0.1723\n",
            "Epoch:  86  loss:  0.1721\n",
            "Epoch:  87  loss:  0.172\n",
            "Epoch:  88  loss:  0.1718\n",
            "Epoch:  89  loss:  0.1716\n",
            "Epoch:  90  loss:  0.1715\n",
            "Epoch:  91  loss:  0.1713\n",
            "Epoch:  92  loss:  0.1712\n",
            "Epoch:  93  loss:  0.171\n",
            "Epoch:  94  loss:  0.1709\n",
            "Epoch:  95  loss:  0.1707\n",
            "Epoch:  96  loss:  0.1705\n",
            "Epoch:  97  loss:  0.1704\n",
            "Epoch:  98  loss:  0.1702\n",
            "Epoch:  99  loss:  0.1701\n"
          ],
          "name": "stdout"
        }
      ]
    },
    {
      "cell_type": "code",
      "metadata": {
        "colab": {
          "base_uri": "https://localhost:8080/",
          "height": 284
        },
        "id": "0BP5f_HdfVNw",
        "outputId": "29fe7825-e70b-48fa-e6d8-6846d65324a5"
      },
      "source": [
        "plt.plot(loss)\n",
        "plt.xlabel(\"Epochs\", fontsize=15)\n",
        "plt.ylabel(\"MSE Loss\", rotation=0, fontsize=15)\n",
        "plt.show()"
      ],
      "execution_count": 20,
      "outputs": [
        {
          "output_type": "display_data",
          "data": {
            "image/png": "[encoded data removed]",
            "text/plain": [
              "<Figure size 432x288 with 1 Axes>"
            ]
          },
          "metadata": {
            "tags": [],
            "needs_background": "light"
          }
        }
      ]
    },
    {
      "cell_type": "markdown",
      "metadata": {
        "id": "1Sg12ypSCi9A"
      },
      "source": [
        "### Predict"
      ]
    },
    {
      "cell_type": "markdown",
      "metadata": {
        "id": "eQtKzGS_f_dt"
      },
      "source": [
        "In order to predict our test set, we just apply the forwaring procedure with the weights that we have learned. The result will be a float number between 0 and 1, which is the probability of the item belonging to the positive class. Thus, in order to gather the predicted labels, we will round the number, as probabilities near 0 must be classified as negative, and near 1, must be classified as positive"
      ]
    },
    {
      "cell_type": "code",
      "metadata": {
        "id": "-flnmThNCiq9"
      },
      "source": [
        "predict_outs = model.forward(X_test_tensor)\n",
        "predict_Y = predict_outs.detach().numpy().round()\n",
        "test_Y = Y_test_tensor.numpy()"
      ],
      "execution_count": 21,
      "outputs": []
    },
    {
      "cell_type": "markdown",
      "metadata": {
        "id": "oNakcVqLgdzg"
      },
      "source": [
        "In order to check our results, we will print the accuracy of our model, as well as a full classification report for both of our classes"
      ]
    },
    {
      "cell_type": "code",
      "metadata": {
        "colab": {
          "base_uri": "https://localhost:8080/"
        },
        "id": "EWFVOSlLKaiy",
        "outputId": "2363acfe-aedd-43e7-fe37-bbf56c43af99"
      },
      "source": [
        "print(\"Accuracy score: {}\".format(round(accuracy_score(test_Y,predict_Y),3)))\n",
        "print(classification_report(test_Y,predict_Y))"
      ],
      "execution_count": 22,
      "outputs": [
        {
          "output_type": "stream",
          "text": [
            "Accuracy score: 0.733\n",
            "              precision    recall  f1-score   support\n",
            "\n",
            "         0.0       0.73      0.73      0.73     19922\n",
            "         1.0       0.73      0.74      0.74     20078\n",
            "\n",
            "    accuracy                           0.73     40000\n",
            "   macro avg       0.73      0.73      0.73     40000\n",
            "weighted avg       0.73      0.73      0.73     40000\n",
            "\n"
          ],
          "name": "stdout"
        }
      ]
    }
  ]
}