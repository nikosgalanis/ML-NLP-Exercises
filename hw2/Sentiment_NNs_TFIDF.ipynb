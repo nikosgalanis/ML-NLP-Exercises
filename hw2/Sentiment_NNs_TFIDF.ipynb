{
  "nbformat": 4,
  "nbformat_minor": 0,
  "metadata": {
    "accelerator": "GPU",
    "colab": {
      "name": "Sentiment_NNs_TFIDF.ipynb",
      "provenance": [],
      "collapsed_sections": [],
      "toc_visible": true
    },
    "kernelspec": {
      "display_name": "Python 3",
      "name": "python3"
    }
  },
  "cells": [
    {
      "cell_type": "markdown",
      "metadata": {
        "id": "gGu2H2gmZo8v"
      },
      "source": [
        "# Sentiment Classifier using feed-forward Neural Networks - TF-IDF features"
      ]
    },
    {
      "cell_type": "markdown",
      "metadata": {
        "id": "mZ_-Jo8mZwpR"
      },
      "source": [
        "The goal of this notebook is to develop a sentiment classifier using feed-forward neural networks for the Twitter sentiment analysis dataset. We are going to experiment and develop a model which uses TD-IDF features, and evaluate it using known metrics such as F1 score, Recall and Precision. "
      ]
    },
    {
      "cell_type": "markdown",
      "metadata": {
        "id": "JWHUFYlMaHDr"
      },
      "source": [
        "We are going to expirement with parameters like:\n",
        " - Number of hidden layers\n",
        " - Activation functions\n",
        " - The loss function\n",
        " - The optimizer\n",
        "\n",
        " The data is going to be preprocessed and scaled, in order to maximize our classifier's potential.\n",
        "\n",
        " The classifier is going to be implemented using the PyTorch API."
      ]
    },
    {
      "cell_type": "markdown",
      "metadata": {
        "id": "yh9ww9P3abAG"
      },
      "source": [
        "## Import Libraries"
      ]
    },
    {
      "cell_type": "code",
      "metadata": {
        "colab": {
          "base_uri": "https://localhost:8080/"
        },
        "id": "NoAd1jDdZnhb",
        "outputId": "b5897311-f258-4ab1-9376-f46292e36027"
      },
      "source": [
        "!python -m textblob.download_corpora\n",
        "# For NN models\n",
        "import torch.nn as nn\n",
        "import torch\n",
        "# For data vizualization \n",
        "import matplotlib as mpl\n",
        "import matplotlib.pyplot as plt\n",
        "# For large and multi-dimensional arrays\n",
        "import numpy as np\n",
        "# For basic cleaning and data preprocessing \n",
        "import re\n",
        "# For data manipulation and analysis\n",
        "import pandas as pd\n",
        "# Stop words\n",
        "import nltk \n",
        "nltk.download('stopwords')  \n",
        "#Data Preprocessing and Feature Engineering\n",
        "from textblob import TextBlob\n",
        "import scipy\n",
        "from nltk.corpus import stopwords\n",
        "from nltk.stem.wordnet import WordNetLemmatizer\n",
        "# Necessary for data format\n",
        "from sklearn.feature_extraction.text import CountVectorizer\n",
        "# Word embedings\n",
        "from sklearn.feature_extraction.text import TfidfVectorizer  \n",
        "# Machine learning model\n",
        "from sklearn.linear_model import LogisticRegression\n",
        "# Metrics\n",
        "from sklearn.metrics import accuracy_score\n",
        "from sklearn.metrics import classification_report,confusion_matrix\n",
        "from sklearn.metrics import precision_recall_fscore_support \n",
        "from sklearn.metrics import roc_curve\n",
        "from sklearn.metrics import roc_auc_score\n",
        "# Best parameters during classification\n",
        "from sklearn.model_selection import GridSearchCV\n",
        "# Data preprocessing\n",
        "from sklearn.model_selection import train_test_split\n",
        "# Validation of the model\n",
        "from sklearn.model_selection import KFold\n",
        "from sklearn.model_selection import cross_val_score\n",
        "from sklearn.model_selection import cross_validate\n"
      ],
      "execution_count": 1,
      "outputs": [
        {
          "output_type": "stream",
          "text": [
            "[nltk_data] Downloading package brown to /root/nltk_data...\n",
            "[nltk_data]   Unzipping corpora/brown.zip.\n",
            "[nltk_data] Downloading package punkt to /root/nltk_data...\n",
            "[nltk_data]   Unzipping tokenizers/punkt.zip.\n",
            "[nltk_data] Downloading package wordnet to /root/nltk_data...\n",
            "[nltk_data]   Unzipping corpora/wordnet.zip.\n",
            "[nltk_data] Downloading package averaged_perceptron_tagger to\n",
            "[nltk_data]     /root/nltk_data...\n",
            "[nltk_data]   Unzipping taggers/averaged_perceptron_tagger.zip.\n",
            "[nltk_data] Downloading package conll2000 to /root/nltk_data...\n",
            "[nltk_data]   Unzipping corpora/conll2000.zip.\n",
            "[nltk_data] Downloading package movie_reviews to /root/nltk_data...\n",
            "[nltk_data]   Unzipping corpora/movie_reviews.zip.\n",
            "Finished.\n",
            "[nltk_data] Downloading package stopwords to /root/nltk_data...\n",
            "[nltk_data]   Unzipping corpora/stopwords.zip.\n"
          ],
          "name": "stdout"
        }
      ]
    },
    {
      "cell_type": "markdown",
      "metadata": {
        "id": "6-4A7wuabKBH"
      },
      "source": [
        "## Dataset Configuration"
      ]
    },
    {
      "cell_type": "markdown",
      "metadata": {
        "id": "dQAEXggCbZwQ"
      },
      "source": [
        "We are going to import the dataset..."
      ]
    },
    {
      "cell_type": "code",
      "metadata": {
        "colab": {
          "base_uri": "https://localhost:8080/"
        },
        "id": "RwJe2AHPbAX1",
        "outputId": "153467c8-da15-4822-9da7-a0c5370b6673"
      },
      "source": [
        "df = pd.read_csv(\"/content/drive/MyDrive/tn2/SentimentTweets.csv\")\n",
        "df.info()"
      ],
      "execution_count": 2,
      "outputs": [
        {
          "output_type": "stream",
          "text": [
            "<class 'pandas.core.frame.DataFrame'>\n",
            "RangeIndex: 1280000 entries, 0 to 1279999\n",
            "Data columns (total 7 columns):\n",
            " #   Column      Non-Null Count    Dtype \n",
            "---  ------      --------------    ----- \n",
            " 0   Unnamed: 0  1280000 non-null  int64 \n",
            " 1   target      1280000 non-null  int64 \n",
            " 2   id          1280000 non-null  int64 \n",
            " 3   date        1280000 non-null  object\n",
            " 4   flag        1280000 non-null  object\n",
            " 5   user        1280000 non-null  object\n",
            " 6   text        1280000 non-null  object\n",
            "dtypes: int64(3), object(4)\n",
            "memory usage: 68.4+ MB\n"
          ],
          "name": "stdout"
        }
      ]
    },
    {
      "cell_type": "markdown",
      "metadata": {
        "id": "R6oEEGB2bbDY"
      },
      "source": [
        "...and take a look at its columns"
      ]
    },
    {
      "cell_type": "code",
      "metadata": {
        "colab": {
          "base_uri": "https://localhost:8080/",
          "height": 204
        },
        "id": "UBF1iblKbdVL",
        "outputId": "f44a289a-b816-4e0b-9372-2435528c4c3d"
      },
      "source": [
        "df.head()"
      ],
      "execution_count": 3,
      "outputs": [
        {
          "output_type": "execute_result",
          "data": {
            "text/html": [
              "<div>\n",
              "<style scoped>\n",
              "    .dataframe tbody tr th:only-of-type {\n",
              "        vertical-align: middle;\n",
              "    }\n",
              "\n",
              "    .dataframe tbody tr th {\n",
              "        vertical-align: top;\n",
              "    }\n",
              "\n",
              "    .dataframe thead th {\n",
              "        text-align: right;\n",
              "    }\n",
              "</style>\n",
              "<table border=\"1\" class=\"dataframe\">\n",
              "  <thead>\n",
              "    <tr style=\"text-align: right;\">\n",
              "      <th></th>\n",
              "      <th>Unnamed: 0</th>\n",
              "      <th>target</th>\n",
              "      <th>id</th>\n",
              "      <th>date</th>\n",
              "      <th>flag</th>\n",
              "      <th>user</th>\n",
              "      <th>text</th>\n",
              "    </tr>\n",
              "  </thead>\n",
              "  <tbody>\n",
              "    <tr>\n",
              "      <th>0</th>\n",
              "      <td>680949</td>\n",
              "      <td>0</td>\n",
              "      <td>2249621587</td>\n",
              "      <td>Fri Jun 19 22:41:08 PDT 2009</td>\n",
              "      <td>NO_QUERY</td>\n",
              "      <td>sukumarpant</td>\n",
              "      <td>#brokenpromises...</td>\n",
              "    </tr>\n",
              "    <tr>\n",
              "      <th>1</th>\n",
              "      <td>406741</td>\n",
              "      <td>0</td>\n",
              "      <td>2059003515</td>\n",
              "      <td>Sat Jun 06 16:03:21 PDT 2009</td>\n",
              "      <td>NO_QUERY</td>\n",
              "      <td>MTMSparrow</td>\n",
              "      <td>David Carradine  so sad. Thai's law not sure i...</td>\n",
              "    </tr>\n",
              "    <tr>\n",
              "      <th>2</th>\n",
              "      <td>1337108</td>\n",
              "      <td>4</td>\n",
              "      <td>2017466467</td>\n",
              "      <td>Wed Jun 03 08:26:14 PDT 2009</td>\n",
              "      <td>NO_QUERY</td>\n",
              "      <td>itsmemcee</td>\n",
              "      <td>A @ 415 B @ 425. Tell your bro i say congrats!</td>\n",
              "    </tr>\n",
              "    <tr>\n",
              "      <th>3</th>\n",
              "      <td>1560887</td>\n",
              "      <td>4</td>\n",
              "      <td>2186457254</td>\n",
              "      <td>Mon Jun 15 18:52:04 PDT 2009</td>\n",
              "      <td>NO_QUERY</td>\n",
              "      <td>jdfreivald</td>\n",
              "      <td>@littlefluffycat  Indeed.</td>\n",
              "    </tr>\n",
              "    <tr>\n",
              "      <th>4</th>\n",
              "      <td>1466295</td>\n",
              "      <td>4</td>\n",
              "      <td>2064458395</td>\n",
              "      <td>Sun Jun 07 06:19:20 PDT 2009</td>\n",
              "      <td>NO_QUERY</td>\n",
              "      <td>CrazyHan</td>\n",
              "      <td>Completed Race 4 Life in 58mins with girlies f...</td>\n",
              "    </tr>\n",
              "  </tbody>\n",
              "</table>\n",
              "</div>"
            ],
            "text/plain": [
              "   Unnamed: 0  ...                                               text\n",
              "0      680949  ...                                #brokenpromises... \n",
              "1      406741  ...  David Carradine  so sad. Thai's law not sure i...\n",
              "2     1337108  ...    A @ 415 B @ 425. Tell your bro i say congrats! \n",
              "3     1560887  ...                          @littlefluffycat  Indeed.\n",
              "4     1466295  ...  Completed Race 4 Life in 58mins with girlies f...\n",
              "\n",
              "[5 rows x 7 columns]"
            ]
          },
          "metadata": {
            "tags": []
          },
          "execution_count": 3
        }
      ]
    },
    {
      "cell_type": "markdown",
      "metadata": {
        "id": "i6PI7THWwqzr"
      },
      "source": [
        "Also, because the tweets are more than a million, we are going to keep 10% of them, to avoid overfitting, and to relief our RAM!"
      ]
    },
    {
      "cell_type": "code",
      "metadata": {
        "id": "3uJM3Ll4llu2"
      },
      "source": [
        "df = df[:200000]"
      ],
      "execution_count": 4,
      "outputs": []
    },
    {
      "cell_type": "markdown",
      "metadata": {
        "id": "jrNDekieHP_s"
      },
      "source": [
        "## Data Preprocessing"
      ]
    },
    {
      "cell_type": "markdown",
      "metadata": {
        "id": "QNOJ9P3xGBCf"
      },
      "source": [
        "Like always, we have to preprocess our data set. We are going to convert everything to lowercase, and remove any punctuation points, weird characters and links.\n"
      ]
    },
    {
      "cell_type": "markdown",
      "metadata": {
        "id": "8x7Yolm6hLHv"
      },
      "source": [
        "We are going to classify tweets. As we all know, twitter users use the symbols `#` and `@` a lot. This may cause problem to the classifier, thus we are going to remove them, using `TextBlob`. We are also going to lemmatize the data in order to avoid multiple representations of the same word"
      ]
    },
    {
      "cell_type": "code",
      "metadata": {
        "id": "m7fbcC1uGGO1"
      },
      "source": [
        "def text_normalization(text):\n",
        "    # convert text to lowercase\n",
        "    text = text.lower()\n",
        "    # remove non alphanumeric character\n",
        "    text = re.sub(r'[^A-Za-z0-9]+', ' ', text)\n",
        "    # remove links\n",
        "    text = re.sub(r'https?:/\\/\\S+', ' ', text)\n",
        "    # apply blob techniques\n",
        "    tweet_blob = TextBlob(text)\n",
        "    # return normalized text\n",
        "    blob_res = ' '.join(tweet_blob.words)\n",
        "    # lematization techniques\n",
        "    lemmatizer = WordNetLemmatizer() \n",
        "    # stop words definition\n",
        "    stop_words = nltk.corpus.stopwords.words('english')\n",
        "    # combine all previous methods in order to clear the text\n",
        "    result = ' '.join(\n",
        "        lemmatizer.lemmatize(term) \n",
        "        for term in text.split()\n",
        "        if term not in set(stop_words)\n",
        "    )\n",
        "    return result"
      ],
      "execution_count": 5,
      "outputs": []
    },
    {
      "cell_type": "code",
      "metadata": {
        "id": "FvQUHNZ2GLEs"
      },
      "source": [
        "def preprocess(input_df):\n",
        "    # Remove rows with missing values in column col\n",
        "    input_df.dropna(inplace=True)\n",
        "    # Speed up code using numpy vectorization\n",
        "    vfunc = np.vectorize(text_normalization)\n",
        "    input_df.text = vfunc(input_df.text.values)\n",
        "    # return processed input_df\n",
        "    return input_df"
      ],
      "execution_count": 6,
      "outputs": []
    },
    {
      "cell_type": "markdown",
      "metadata": {
        "id": "rjRCFe45GM25"
      },
      "source": [
        "Let's now apply those techniques in our dataset."
      ]
    },
    {
      "cell_type": "code",
      "metadata": {
        "colab": {
          "base_uri": "https://localhost:8080/",
          "height": 204
        },
        "id": "nobCV3ntGNvK",
        "outputId": "b8e08e62-f57d-441f-8c0c-21b86317045d"
      },
      "source": [
        "df = preprocess(df)\n",
        "df.head()"
      ],
      "execution_count": 7,
      "outputs": [
        {
          "output_type": "execute_result",
          "data": {
            "text/html": [
              "<div>\n",
              "<style scoped>\n",
              "    .dataframe tbody tr th:only-of-type {\n",
              "        vertical-align: middle;\n",
              "    }\n",
              "\n",
              "    .dataframe tbody tr th {\n",
              "        vertical-align: top;\n",
              "    }\n",
              "\n",
              "    .dataframe thead th {\n",
              "        text-align: right;\n",
              "    }\n",
              "</style>\n",
              "<table border=\"1\" class=\"dataframe\">\n",
              "  <thead>\n",
              "    <tr style=\"text-align: right;\">\n",
              "      <th></th>\n",
              "      <th>Unnamed: 0</th>\n",
              "      <th>target</th>\n",
              "      <th>id</th>\n",
              "      <th>date</th>\n",
              "      <th>flag</th>\n",
              "      <th>user</th>\n",
              "      <th>text</th>\n",
              "    </tr>\n",
              "  </thead>\n",
              "  <tbody>\n",
              "    <tr>\n",
              "      <th>0</th>\n",
              "      <td>680949</td>\n",
              "      <td>0</td>\n",
              "      <td>2249621587</td>\n",
              "      <td>Fri Jun 19 22:41:08 PDT 2009</td>\n",
              "      <td>NO_QUERY</td>\n",
              "      <td>sukumarpant</td>\n",
              "      <td>brokenpromises</td>\n",
              "    </tr>\n",
              "    <tr>\n",
              "      <th>1</th>\n",
              "      <td>406741</td>\n",
              "      <td>0</td>\n",
              "      <td>2059003515</td>\n",
              "      <td>Sat Jun 06 16:03:21 PDT 2009</td>\n",
              "      <td>NO_QUERY</td>\n",
              "      <td>MTMSparrow</td>\n",
              "      <td>david carradine sad thai law sure fowl play ma...</td>\n",
              "    </tr>\n",
              "    <tr>\n",
              "      <th>2</th>\n",
              "      <td>1337108</td>\n",
              "      <td>4</td>\n",
              "      <td>2017466467</td>\n",
              "      <td>Wed Jun 03 08:26:14 PDT 2009</td>\n",
              "      <td>NO_QUERY</td>\n",
              "      <td>itsmemcee</td>\n",
              "      <td>415 b 425 tell bro say congrats</td>\n",
              "    </tr>\n",
              "    <tr>\n",
              "      <th>3</th>\n",
              "      <td>1560887</td>\n",
              "      <td>4</td>\n",
              "      <td>2186457254</td>\n",
              "      <td>Mon Jun 15 18:52:04 PDT 2009</td>\n",
              "      <td>NO_QUERY</td>\n",
              "      <td>jdfreivald</td>\n",
              "      <td>littlefluffycat indeed</td>\n",
              "    </tr>\n",
              "    <tr>\n",
              "      <th>4</th>\n",
              "      <td>1466295</td>\n",
              "      <td>4</td>\n",
              "      <td>2064458395</td>\n",
              "      <td>Sun Jun 07 06:19:20 PDT 2009</td>\n",
              "      <td>NO_QUERY</td>\n",
              "      <td>CrazyHan</td>\n",
              "      <td>completed race 4 life 58mins girlies work fun ...</td>\n",
              "    </tr>\n",
              "  </tbody>\n",
              "</table>\n",
              "</div>"
            ],
            "text/plain": [
              "   Unnamed: 0  ...                                               text\n",
              "0      680949  ...                                     brokenpromises\n",
              "1      406741  ...  david carradine sad thai law sure fowl play ma...\n",
              "2     1337108  ...                    415 b 425 tell bro say congrats\n",
              "3     1560887  ...                             littlefluffycat indeed\n",
              "4     1466295  ...  completed race 4 life 58mins girlies work fun ...\n",
              "\n",
              "[5 rows x 7 columns]"
            ]
          },
          "metadata": {
            "tags": []
          },
          "execution_count": 7
        }
      ]
    },
    {
      "cell_type": "markdown",
      "metadata": {
        "id": "zV_n2i0VbcnA"
      },
      "source": [
        "We are going to convert the target value to 1 instead of 4, in order to be more convenient."
      ]
    },
    {
      "cell_type": "code",
      "metadata": {
        "id": "dzvu6VnHGoQx"
      },
      "source": [
        "def change_to_1(x):\n",
        "    if (x == 4):\n",
        "        return 1\n",
        "    else:\n",
        "        return x"
      ],
      "execution_count": 8,
      "outputs": []
    },
    {
      "cell_type": "code",
      "metadata": {
        "colab": {
          "base_uri": "https://localhost:8080/",
          "height": 204
        },
        "id": "BS22SvMVGqkQ",
        "outputId": "8da94fe9-5df5-4825-f1b1-5b0b740b7381"
      },
      "source": [
        "df['target'] = df['target'].apply(change_to_1)\n",
        "df.head()"
      ],
      "execution_count": 9,
      "outputs": [
        {
          "output_type": "execute_result",
          "data": {
            "text/html": [
              "<div>\n",
              "<style scoped>\n",
              "    .dataframe tbody tr th:only-of-type {\n",
              "        vertical-align: middle;\n",
              "    }\n",
              "\n",
              "    .dataframe tbody tr th {\n",
              "        vertical-align: top;\n",
              "    }\n",
              "\n",
              "    .dataframe thead th {\n",
              "        text-align: right;\n",
              "    }\n",
              "</style>\n",
              "<table border=\"1\" class=\"dataframe\">\n",
              "  <thead>\n",
              "    <tr style=\"text-align: right;\">\n",
              "      <th></th>\n",
              "      <th>Unnamed: 0</th>\n",
              "      <th>target</th>\n",
              "      <th>id</th>\n",
              "      <th>date</th>\n",
              "      <th>flag</th>\n",
              "      <th>user</th>\n",
              "      <th>text</th>\n",
              "    </tr>\n",
              "  </thead>\n",
              "  <tbody>\n",
              "    <tr>\n",
              "      <th>0</th>\n",
              "      <td>680949</td>\n",
              "      <td>0</td>\n",
              "      <td>2249621587</td>\n",
              "      <td>Fri Jun 19 22:41:08 PDT 2009</td>\n",
              "      <td>NO_QUERY</td>\n",
              "      <td>sukumarpant</td>\n",
              "      <td>brokenpromises</td>\n",
              "    </tr>\n",
              "    <tr>\n",
              "      <th>1</th>\n",
              "      <td>406741</td>\n",
              "      <td>0</td>\n",
              "      <td>2059003515</td>\n",
              "      <td>Sat Jun 06 16:03:21 PDT 2009</td>\n",
              "      <td>NO_QUERY</td>\n",
              "      <td>MTMSparrow</td>\n",
              "      <td>david carradine sad thai law sure fowl play ma...</td>\n",
              "    </tr>\n",
              "    <tr>\n",
              "      <th>2</th>\n",
              "      <td>1337108</td>\n",
              "      <td>1</td>\n",
              "      <td>2017466467</td>\n",
              "      <td>Wed Jun 03 08:26:14 PDT 2009</td>\n",
              "      <td>NO_QUERY</td>\n",
              "      <td>itsmemcee</td>\n",
              "      <td>415 b 425 tell bro say congrats</td>\n",
              "    </tr>\n",
              "    <tr>\n",
              "      <th>3</th>\n",
              "      <td>1560887</td>\n",
              "      <td>1</td>\n",
              "      <td>2186457254</td>\n",
              "      <td>Mon Jun 15 18:52:04 PDT 2009</td>\n",
              "      <td>NO_QUERY</td>\n",
              "      <td>jdfreivald</td>\n",
              "      <td>littlefluffycat indeed</td>\n",
              "    </tr>\n",
              "    <tr>\n",
              "      <th>4</th>\n",
              "      <td>1466295</td>\n",
              "      <td>1</td>\n",
              "      <td>2064458395</td>\n",
              "      <td>Sun Jun 07 06:19:20 PDT 2009</td>\n",
              "      <td>NO_QUERY</td>\n",
              "      <td>CrazyHan</td>\n",
              "      <td>completed race 4 life 58mins girlies work fun ...</td>\n",
              "    </tr>\n",
              "  </tbody>\n",
              "</table>\n",
              "</div>"
            ],
            "text/plain": [
              "   Unnamed: 0  ...                                               text\n",
              "0      680949  ...                                     brokenpromises\n",
              "1      406741  ...  david carradine sad thai law sure fowl play ma...\n",
              "2     1337108  ...                    415 b 425 tell bro say congrats\n",
              "3     1560887  ...                             littlefluffycat indeed\n",
              "4     1466295  ...  completed race 4 life 58mins girlies work fun ...\n",
              "\n",
              "[5 rows x 7 columns]"
            ]
          },
          "metadata": {
            "tags": []
          },
          "execution_count": 9
        }
      ]
    },
    {
      "cell_type": "markdown",
      "metadata": {
        "id": "Xpm2iVwbHfui"
      },
      "source": [
        ""
      ]
    },
    {
      "cell_type": "markdown",
      "metadata": {
        "id": "WfOk_dUIHiko"
      },
      "source": [
        "## Spiltting the Dataset"
      ]
    },
    {
      "cell_type": "markdown",
      "metadata": {
        "id": "32eJfTIvHmzI"
      },
      "source": [
        "In order to train our model, we are going to use a significant portion of the dataset, but we also need some data to test our classifier, thus we are going to split the dataset into 2 datasets: one for training, and one for testing.\n",
        "\n",
        "First, we are going to define which are our X and Y variables"
      ]
    },
    {
      "cell_type": "code",
      "metadata": {
        "id": "kVQ6FPChJQ0D"
      },
      "source": [
        "X = df['text']\n",
        "Y = df['target']"
      ],
      "execution_count": 10,
      "outputs": []
    },
    {
      "cell_type": "markdown",
      "metadata": {
        "id": "8Sd06AGPJUsm"
      },
      "source": [
        "Then, split the datasets by keeping 80% for training and 20% for testing."
      ]
    },
    {
      "cell_type": "code",
      "metadata": {
        "id": "kUG7PBDGJV-y"
      },
      "source": [
        "X_train, X_test, Y_train, Y_test = train_test_split(X,Y, test_size = 0.2)"
      ],
      "execution_count": 11,
      "outputs": []
    },
    {
      "cell_type": "markdown",
      "metadata": {
        "id": "VwHyW7UvJXVk"
      },
      "source": [
        " ## Feature extraction: TF-IDF"
      ]
    },
    {
      "cell_type": "markdown",
      "metadata": {
        "id": "ygOg69h-LdcC"
      },
      "source": [
        "Next up, we are going to transform our data to a feature vector. In order to do that, we're gonna use TfidfVectorizer.\n",
        "\n",
        "Because of the large amount of tweets, and thus the large amount of words, we are going to limit our vocabulary, in order to not create an erormus vector. We opt to store the vectors that occur more often in the tweets, in order to save space, while not compromising our accuracy. We are going words that occur on more than `0.5%` of the tweets, and on less than `70%` of the tweets."
      ]
    },
    {
      "cell_type": "code",
      "metadata": {
        "id": "oE_ZOS2yngw-"
      },
      "source": [
        "tfidf_vec = TfidfVectorizer(max_df=0.7, min_df=0.005)  "
      ],
      "execution_count": 12,
      "outputs": []
    },
    {
      "cell_type": "code",
      "metadata": {
        "colab": {
          "base_uri": "https://localhost:8080/",
          "height": 253
        },
        "id": "jaWZpy9gLj1W",
        "outputId": "64c345e2-fb4f-4f36-e120-3b7e67a1ab56"
      },
      "source": [
        "tfidf_train_vec = tfidf_vec.fit_transform(X_train)\n",
        "tfidf_test_vec = tfidf_vec.transform(X_test)\n",
        "\n",
        "tfidf_train_data = pd.DataFrame(tfidf_train_vec.toarray())\n",
        "tfidf_test_data = pd.DataFrame(tfidf_test_vec.toarray())\n",
        "tfidf_train_data.head()"
      ],
      "execution_count": 13,
      "outputs": [
        {
          "output_type": "execute_result",
          "data": {
            "text/html": [
              "<div>\n",
              "<style scoped>\n",
              "    .dataframe tbody tr th:only-of-type {\n",
              "        vertical-align: middle;\n",
              "    }\n",
              "\n",
              "    .dataframe tbody tr th {\n",
              "        vertical-align: top;\n",
              "    }\n",
              "\n",
              "    .dataframe thead th {\n",
              "        text-align: right;\n",
              "    }\n",
              "</style>\n",
              "<table border=\"1\" class=\"dataframe\">\n",
              "  <thead>\n",
              "    <tr style=\"text-align: right;\">\n",
              "      <th></th>\n",
              "      <th>0</th>\n",
              "      <th>1</th>\n",
              "      <th>2</th>\n",
              "      <th>3</th>\n",
              "      <th>4</th>\n",
              "      <th>5</th>\n",
              "      <th>6</th>\n",
              "      <th>7</th>\n",
              "      <th>8</th>\n",
              "      <th>9</th>\n",
              "      <th>10</th>\n",
              "      <th>11</th>\n",
              "      <th>12</th>\n",
              "      <th>13</th>\n",
              "      <th>14</th>\n",
              "      <th>15</th>\n",
              "      <th>16</th>\n",
              "      <th>17</th>\n",
              "      <th>18</th>\n",
              "      <th>19</th>\n",
              "      <th>20</th>\n",
              "      <th>21</th>\n",
              "      <th>22</th>\n",
              "      <th>23</th>\n",
              "      <th>24</th>\n",
              "      <th>25</th>\n",
              "      <th>26</th>\n",
              "      <th>27</th>\n",
              "      <th>28</th>\n",
              "      <th>29</th>\n",
              "      <th>30</th>\n",
              "      <th>31</th>\n",
              "      <th>32</th>\n",
              "      <th>33</th>\n",
              "      <th>34</th>\n",
              "      <th>35</th>\n",
              "      <th>36</th>\n",
              "      <th>37</th>\n",
              "      <th>38</th>\n",
              "      <th>39</th>\n",
              "      <th>...</th>\n",
              "      <th>199</th>\n",
              "      <th>200</th>\n",
              "      <th>201</th>\n",
              "      <th>202</th>\n",
              "      <th>203</th>\n",
              "      <th>204</th>\n",
              "      <th>205</th>\n",
              "      <th>206</th>\n",
              "      <th>207</th>\n",
              "      <th>208</th>\n",
              "      <th>209</th>\n",
              "      <th>210</th>\n",
              "      <th>211</th>\n",
              "      <th>212</th>\n",
              "      <th>213</th>\n",
              "      <th>214</th>\n",
              "      <th>215</th>\n",
              "      <th>216</th>\n",
              "      <th>217</th>\n",
              "      <th>218</th>\n",
              "      <th>219</th>\n",
              "      <th>220</th>\n",
              "      <th>221</th>\n",
              "      <th>222</th>\n",
              "      <th>223</th>\n",
              "      <th>224</th>\n",
              "      <th>225</th>\n",
              "      <th>226</th>\n",
              "      <th>227</th>\n",
              "      <th>228</th>\n",
              "      <th>229</th>\n",
              "      <th>230</th>\n",
              "      <th>231</th>\n",
              "      <th>232</th>\n",
              "      <th>233</th>\n",
              "      <th>234</th>\n",
              "      <th>235</th>\n",
              "      <th>236</th>\n",
              "      <th>237</th>\n",
              "      <th>238</th>\n",
              "    </tr>\n",
              "  </thead>\n",
              "  <tbody>\n",
              "    <tr>\n",
              "      <th>0</th>\n",
              "      <td>0.0</td>\n",
              "      <td>0.0</td>\n",
              "      <td>0.0</td>\n",
              "      <td>0.0</td>\n",
              "      <td>0.0</td>\n",
              "      <td>0.0</td>\n",
              "      <td>0.0</td>\n",
              "      <td>0.0</td>\n",
              "      <td>0.0</td>\n",
              "      <td>0.00000</td>\n",
              "      <td>0.0</td>\n",
              "      <td>0.0</td>\n",
              "      <td>0.0</td>\n",
              "      <td>0.0</td>\n",
              "      <td>0.0</td>\n",
              "      <td>0.0</td>\n",
              "      <td>0.0</td>\n",
              "      <td>0.0</td>\n",
              "      <td>0.0</td>\n",
              "      <td>0.0</td>\n",
              "      <td>0.0</td>\n",
              "      <td>0.0</td>\n",
              "      <td>0.0</td>\n",
              "      <td>0.0</td>\n",
              "      <td>0.0</td>\n",
              "      <td>0.0</td>\n",
              "      <td>0.0</td>\n",
              "      <td>0.0</td>\n",
              "      <td>0.0</td>\n",
              "      <td>0.0</td>\n",
              "      <td>0.0</td>\n",
              "      <td>0.0</td>\n",
              "      <td>0.000000</td>\n",
              "      <td>0.000000</td>\n",
              "      <td>0.0</td>\n",
              "      <td>0.0</td>\n",
              "      <td>0.0</td>\n",
              "      <td>0.0</td>\n",
              "      <td>0.0</td>\n",
              "      <td>0.0</td>\n",
              "      <td>...</td>\n",
              "      <td>0.0</td>\n",
              "      <td>0.316552</td>\n",
              "      <td>0.0</td>\n",
              "      <td>0.3894</td>\n",
              "      <td>0.000000</td>\n",
              "      <td>0.451302</td>\n",
              "      <td>0.0</td>\n",
              "      <td>0.0</td>\n",
              "      <td>0.0</td>\n",
              "      <td>0.0</td>\n",
              "      <td>0.0</td>\n",
              "      <td>0.0</td>\n",
              "      <td>0.0</td>\n",
              "      <td>0.0</td>\n",
              "      <td>0.403635</td>\n",
              "      <td>0.0</td>\n",
              "      <td>0.0</td>\n",
              "      <td>0.0</td>\n",
              "      <td>0.0</td>\n",
              "      <td>0.0</td>\n",
              "      <td>0.0</td>\n",
              "      <td>0.0</td>\n",
              "      <td>0.0</td>\n",
              "      <td>0.0</td>\n",
              "      <td>0.0</td>\n",
              "      <td>0.0</td>\n",
              "      <td>0.0</td>\n",
              "      <td>0.0</td>\n",
              "      <td>0.0</td>\n",
              "      <td>0.0</td>\n",
              "      <td>0.0</td>\n",
              "      <td>0.0</td>\n",
              "      <td>0.0</td>\n",
              "      <td>0.0</td>\n",
              "      <td>0.0</td>\n",
              "      <td>0.0</td>\n",
              "      <td>0.0</td>\n",
              "      <td>0.0</td>\n",
              "      <td>0.0</td>\n",
              "      <td>0.0</td>\n",
              "    </tr>\n",
              "    <tr>\n",
              "      <th>1</th>\n",
              "      <td>0.0</td>\n",
              "      <td>0.0</td>\n",
              "      <td>0.0</td>\n",
              "      <td>0.0</td>\n",
              "      <td>0.0</td>\n",
              "      <td>0.0</td>\n",
              "      <td>0.0</td>\n",
              "      <td>0.0</td>\n",
              "      <td>0.0</td>\n",
              "      <td>0.00000</td>\n",
              "      <td>0.0</td>\n",
              "      <td>0.0</td>\n",
              "      <td>0.0</td>\n",
              "      <td>0.0</td>\n",
              "      <td>0.0</td>\n",
              "      <td>0.0</td>\n",
              "      <td>0.0</td>\n",
              "      <td>0.0</td>\n",
              "      <td>0.0</td>\n",
              "      <td>0.0</td>\n",
              "      <td>0.0</td>\n",
              "      <td>0.0</td>\n",
              "      <td>0.0</td>\n",
              "      <td>0.0</td>\n",
              "      <td>0.0</td>\n",
              "      <td>0.0</td>\n",
              "      <td>0.0</td>\n",
              "      <td>0.0</td>\n",
              "      <td>0.0</td>\n",
              "      <td>0.0</td>\n",
              "      <td>0.0</td>\n",
              "      <td>0.0</td>\n",
              "      <td>0.000000</td>\n",
              "      <td>0.545071</td>\n",
              "      <td>0.0</td>\n",
              "      <td>0.0</td>\n",
              "      <td>0.0</td>\n",
              "      <td>0.0</td>\n",
              "      <td>0.0</td>\n",
              "      <td>0.0</td>\n",
              "      <td>...</td>\n",
              "      <td>0.0</td>\n",
              "      <td>0.000000</td>\n",
              "      <td>0.0</td>\n",
              "      <td>0.0000</td>\n",
              "      <td>0.000000</td>\n",
              "      <td>0.000000</td>\n",
              "      <td>0.0</td>\n",
              "      <td>0.0</td>\n",
              "      <td>0.0</td>\n",
              "      <td>0.0</td>\n",
              "      <td>0.0</td>\n",
              "      <td>0.0</td>\n",
              "      <td>0.0</td>\n",
              "      <td>0.0</td>\n",
              "      <td>0.000000</td>\n",
              "      <td>0.0</td>\n",
              "      <td>0.0</td>\n",
              "      <td>0.0</td>\n",
              "      <td>0.0</td>\n",
              "      <td>0.0</td>\n",
              "      <td>0.0</td>\n",
              "      <td>0.0</td>\n",
              "      <td>0.0</td>\n",
              "      <td>0.0</td>\n",
              "      <td>0.0</td>\n",
              "      <td>0.0</td>\n",
              "      <td>0.0</td>\n",
              "      <td>0.0</td>\n",
              "      <td>0.0</td>\n",
              "      <td>0.0</td>\n",
              "      <td>0.0</td>\n",
              "      <td>0.0</td>\n",
              "      <td>0.0</td>\n",
              "      <td>0.0</td>\n",
              "      <td>0.0</td>\n",
              "      <td>0.0</td>\n",
              "      <td>0.0</td>\n",
              "      <td>0.0</td>\n",
              "      <td>0.0</td>\n",
              "      <td>0.0</td>\n",
              "    </tr>\n",
              "    <tr>\n",
              "      <th>2</th>\n",
              "      <td>0.0</td>\n",
              "      <td>0.0</td>\n",
              "      <td>0.0</td>\n",
              "      <td>0.0</td>\n",
              "      <td>0.0</td>\n",
              "      <td>0.0</td>\n",
              "      <td>0.0</td>\n",
              "      <td>0.0</td>\n",
              "      <td>0.0</td>\n",
              "      <td>0.00000</td>\n",
              "      <td>0.0</td>\n",
              "      <td>0.0</td>\n",
              "      <td>0.0</td>\n",
              "      <td>0.0</td>\n",
              "      <td>0.0</td>\n",
              "      <td>0.0</td>\n",
              "      <td>0.0</td>\n",
              "      <td>0.0</td>\n",
              "      <td>0.0</td>\n",
              "      <td>0.0</td>\n",
              "      <td>0.0</td>\n",
              "      <td>0.0</td>\n",
              "      <td>0.0</td>\n",
              "      <td>0.0</td>\n",
              "      <td>0.0</td>\n",
              "      <td>0.0</td>\n",
              "      <td>0.0</td>\n",
              "      <td>0.0</td>\n",
              "      <td>0.0</td>\n",
              "      <td>0.0</td>\n",
              "      <td>0.0</td>\n",
              "      <td>0.0</td>\n",
              "      <td>0.000000</td>\n",
              "      <td>0.000000</td>\n",
              "      <td>0.0</td>\n",
              "      <td>0.0</td>\n",
              "      <td>0.0</td>\n",
              "      <td>0.0</td>\n",
              "      <td>0.0</td>\n",
              "      <td>0.0</td>\n",
              "      <td>...</td>\n",
              "      <td>0.0</td>\n",
              "      <td>0.402400</td>\n",
              "      <td>0.0</td>\n",
              "      <td>0.0000</td>\n",
              "      <td>0.587151</td>\n",
              "      <td>0.000000</td>\n",
              "      <td>0.0</td>\n",
              "      <td>0.0</td>\n",
              "      <td>0.0</td>\n",
              "      <td>0.0</td>\n",
              "      <td>0.0</td>\n",
              "      <td>0.0</td>\n",
              "      <td>0.0</td>\n",
              "      <td>0.0</td>\n",
              "      <td>0.000000</td>\n",
              "      <td>0.0</td>\n",
              "      <td>0.0</td>\n",
              "      <td>0.0</td>\n",
              "      <td>0.0</td>\n",
              "      <td>0.0</td>\n",
              "      <td>0.0</td>\n",
              "      <td>0.0</td>\n",
              "      <td>0.0</td>\n",
              "      <td>0.0</td>\n",
              "      <td>0.0</td>\n",
              "      <td>0.0</td>\n",
              "      <td>0.0</td>\n",
              "      <td>0.0</td>\n",
              "      <td>0.0</td>\n",
              "      <td>0.0</td>\n",
              "      <td>0.0</td>\n",
              "      <td>0.0</td>\n",
              "      <td>0.0</td>\n",
              "      <td>0.0</td>\n",
              "      <td>0.0</td>\n",
              "      <td>0.0</td>\n",
              "      <td>0.0</td>\n",
              "      <td>0.0</td>\n",
              "      <td>0.0</td>\n",
              "      <td>0.0</td>\n",
              "    </tr>\n",
              "    <tr>\n",
              "      <th>3</th>\n",
              "      <td>0.0</td>\n",
              "      <td>0.0</td>\n",
              "      <td>0.0</td>\n",
              "      <td>0.0</td>\n",
              "      <td>0.0</td>\n",
              "      <td>0.0</td>\n",
              "      <td>0.0</td>\n",
              "      <td>0.0</td>\n",
              "      <td>0.0</td>\n",
              "      <td>0.48571</td>\n",
              "      <td>0.0</td>\n",
              "      <td>0.0</td>\n",
              "      <td>0.0</td>\n",
              "      <td>0.0</td>\n",
              "      <td>0.0</td>\n",
              "      <td>0.0</td>\n",
              "      <td>0.0</td>\n",
              "      <td>0.0</td>\n",
              "      <td>0.0</td>\n",
              "      <td>0.0</td>\n",
              "      <td>0.0</td>\n",
              "      <td>0.0</td>\n",
              "      <td>0.0</td>\n",
              "      <td>0.0</td>\n",
              "      <td>0.0</td>\n",
              "      <td>0.0</td>\n",
              "      <td>0.0</td>\n",
              "      <td>0.0</td>\n",
              "      <td>0.0</td>\n",
              "      <td>0.0</td>\n",
              "      <td>0.0</td>\n",
              "      <td>0.0</td>\n",
              "      <td>0.476196</td>\n",
              "      <td>0.000000</td>\n",
              "      <td>0.0</td>\n",
              "      <td>0.0</td>\n",
              "      <td>0.0</td>\n",
              "      <td>0.0</td>\n",
              "      <td>0.0</td>\n",
              "      <td>0.0</td>\n",
              "      <td>...</td>\n",
              "      <td>0.0</td>\n",
              "      <td>0.000000</td>\n",
              "      <td>0.0</td>\n",
              "      <td>0.0000</td>\n",
              "      <td>0.000000</td>\n",
              "      <td>0.000000</td>\n",
              "      <td>0.0</td>\n",
              "      <td>0.0</td>\n",
              "      <td>0.0</td>\n",
              "      <td>0.0</td>\n",
              "      <td>0.0</td>\n",
              "      <td>0.0</td>\n",
              "      <td>0.0</td>\n",
              "      <td>0.0</td>\n",
              "      <td>0.000000</td>\n",
              "      <td>0.0</td>\n",
              "      <td>0.0</td>\n",
              "      <td>0.0</td>\n",
              "      <td>0.0</td>\n",
              "      <td>0.0</td>\n",
              "      <td>0.0</td>\n",
              "      <td>0.0</td>\n",
              "      <td>0.0</td>\n",
              "      <td>0.0</td>\n",
              "      <td>0.0</td>\n",
              "      <td>0.0</td>\n",
              "      <td>0.0</td>\n",
              "      <td>0.0</td>\n",
              "      <td>0.0</td>\n",
              "      <td>0.0</td>\n",
              "      <td>0.0</td>\n",
              "      <td>0.0</td>\n",
              "      <td>0.0</td>\n",
              "      <td>0.0</td>\n",
              "      <td>0.0</td>\n",
              "      <td>0.0</td>\n",
              "      <td>0.0</td>\n",
              "      <td>0.0</td>\n",
              "      <td>0.0</td>\n",
              "      <td>0.0</td>\n",
              "    </tr>\n",
              "    <tr>\n",
              "      <th>4</th>\n",
              "      <td>0.0</td>\n",
              "      <td>0.0</td>\n",
              "      <td>0.0</td>\n",
              "      <td>0.0</td>\n",
              "      <td>0.0</td>\n",
              "      <td>0.0</td>\n",
              "      <td>0.0</td>\n",
              "      <td>0.0</td>\n",
              "      <td>0.0</td>\n",
              "      <td>0.00000</td>\n",
              "      <td>0.0</td>\n",
              "      <td>0.0</td>\n",
              "      <td>0.0</td>\n",
              "      <td>0.0</td>\n",
              "      <td>0.0</td>\n",
              "      <td>0.0</td>\n",
              "      <td>0.0</td>\n",
              "      <td>0.0</td>\n",
              "      <td>0.0</td>\n",
              "      <td>0.0</td>\n",
              "      <td>0.0</td>\n",
              "      <td>0.0</td>\n",
              "      <td>0.0</td>\n",
              "      <td>0.0</td>\n",
              "      <td>0.0</td>\n",
              "      <td>0.0</td>\n",
              "      <td>0.0</td>\n",
              "      <td>0.0</td>\n",
              "      <td>0.0</td>\n",
              "      <td>0.0</td>\n",
              "      <td>0.0</td>\n",
              "      <td>0.0</td>\n",
              "      <td>0.000000</td>\n",
              "      <td>0.000000</td>\n",
              "      <td>0.0</td>\n",
              "      <td>0.0</td>\n",
              "      <td>0.0</td>\n",
              "      <td>0.0</td>\n",
              "      <td>0.0</td>\n",
              "      <td>0.0</td>\n",
              "      <td>...</td>\n",
              "      <td>0.0</td>\n",
              "      <td>0.000000</td>\n",
              "      <td>0.0</td>\n",
              "      <td>0.0000</td>\n",
              "      <td>0.000000</td>\n",
              "      <td>0.000000</td>\n",
              "      <td>0.0</td>\n",
              "      <td>0.0</td>\n",
              "      <td>0.0</td>\n",
              "      <td>0.0</td>\n",
              "      <td>0.0</td>\n",
              "      <td>0.0</td>\n",
              "      <td>0.0</td>\n",
              "      <td>0.0</td>\n",
              "      <td>0.000000</td>\n",
              "      <td>0.0</td>\n",
              "      <td>0.0</td>\n",
              "      <td>0.0</td>\n",
              "      <td>0.0</td>\n",
              "      <td>0.0</td>\n",
              "      <td>0.0</td>\n",
              "      <td>0.0</td>\n",
              "      <td>0.0</td>\n",
              "      <td>0.0</td>\n",
              "      <td>0.0</td>\n",
              "      <td>0.0</td>\n",
              "      <td>0.0</td>\n",
              "      <td>0.0</td>\n",
              "      <td>0.0</td>\n",
              "      <td>0.0</td>\n",
              "      <td>0.0</td>\n",
              "      <td>0.0</td>\n",
              "      <td>0.0</td>\n",
              "      <td>0.0</td>\n",
              "      <td>0.0</td>\n",
              "      <td>0.0</td>\n",
              "      <td>0.0</td>\n",
              "      <td>0.0</td>\n",
              "      <td>0.0</td>\n",
              "      <td>0.0</td>\n",
              "    </tr>\n",
              "  </tbody>\n",
              "</table>\n",
              "<p>5 rows × 239 columns</p>\n",
              "</div>"
            ],
            "text/plain": [
              "   0    1    2    3    4    5    6    ...  232  233  234  235  236  237  238\n",
              "0  0.0  0.0  0.0  0.0  0.0  0.0  0.0  ...  0.0  0.0  0.0  0.0  0.0  0.0  0.0\n",
              "1  0.0  0.0  0.0  0.0  0.0  0.0  0.0  ...  0.0  0.0  0.0  0.0  0.0  0.0  0.0\n",
              "2  0.0  0.0  0.0  0.0  0.0  0.0  0.0  ...  0.0  0.0  0.0  0.0  0.0  0.0  0.0\n",
              "3  0.0  0.0  0.0  0.0  0.0  0.0  0.0  ...  0.0  0.0  0.0  0.0  0.0  0.0  0.0\n",
              "4  0.0  0.0  0.0  0.0  0.0  0.0  0.0  ...  0.0  0.0  0.0  0.0  0.0  0.0  0.0\n",
              "\n",
              "[5 rows x 239 columns]"
            ]
          },
          "metadata": {
            "tags": []
          },
          "execution_count": 13
        }
      ]
    },
    {
      "cell_type": "markdown",
      "metadata": {
        "id": "GNlmDq3CtB6H"
      },
      "source": [
        "### Convert to Tensors"
      ]
    },
    {
      "cell_type": "markdown",
      "metadata": {
        "id": "iVtiQP5DupZx"
      },
      "source": [
        "We are going to use the PyTorch API, thus we must convert all of our feature vectors to tensors, by first transforming them to numpy arrays"
      ]
    },
    {
      "cell_type": "code",
      "metadata": {
        "id": "pY5kZoMhtNBq"
      },
      "source": [
        "train_x = tfidf_train_data.to_numpy()\n",
        "test_x = tfidf_test_data.to_numpy()\n",
        "\n",
        "X_train_tensor = torch.as_tensor(train_x, dtype=torch.float32)\n",
        "Y_train_tensor = torch.as_tensor(Y_train.values, dtype=torch.float32)\n",
        "\n",
        "X_test_tensor = torch.as_tensor(test_x, dtype=torch.float32)\n",
        "Y_test_tensor = torch.as_tensor(Y_test.values, dtype=torch.float32)\n",
        "\n",
        "\n",
        "Y_train_tensor = Y_train_tensor.view(Y_train_tensor.size()[0], 1)\n",
        "Y_test_tensor = Y_test_tensor.view(Y_test_tensor.size()[0], 1)"
      ],
      "execution_count": 14,
      "outputs": []
    },
    {
      "cell_type": "markdown",
      "metadata": {
        "id": "lYP_pCP289Zd"
      },
      "source": [
        "## First Model"
      ]
    },
    {
      "cell_type": "markdown",
      "metadata": {
        "id": "7oON-JgH9Ath"
      },
      "source": [
        "For our first model we are going to use a simple neural network consisting of 1 fully connected layer. "
      ]
    },
    {
      "cell_type": "markdown",
      "metadata": {
        "id": "6w9gdQPvEuS-"
      },
      "source": [
        "We are going to do so by extending the extending the `nn.Module` class. This requires us to create an `__init__` and a `forward` method."
      ]
    },
    {
      "cell_type": "markdown",
      "metadata": {
        "id": "58K4CMLhO_fi"
      },
      "source": [
        "### Define the Model"
      ]
    },
    {
      "cell_type": "code",
      "metadata": {
        "id": "85vUc9o-FBcX"
      },
      "source": [
        "class Model_1(nn.Module):\n",
        "  def __init__(self, input_size, hidden_neurons_first):\n",
        "    super(Model_1, self).__init__()\n",
        "\n",
        "    # 1st linear function: vocab_size -> hidden_neurons\n",
        "    self.layer_1 = nn.Linear(input_size, hidden_neurons_first)\n",
        "    # activation function for 1st layer\n",
        "    self.relu_1 = nn.ReLU()\n",
        "\n",
        "    # output layer: hidden_neurons -> 1 neuron (classification)\n",
        "    self.output = nn.Linear(hidden_neurons_first, 1)\n",
        "    # activation using the sigmoid function\n",
        "    self.activation = nn.Sigmoid()\n",
        "\n",
        "  def forward(self, x):\n",
        "    out = self.layer_1(x)\n",
        "    out = self.relu_1(out)\n",
        "\n",
        "    out = self.output(out)\n",
        "    out = self.activation(out)\n",
        "\n",
        "    return out"
      ],
      "execution_count": 15,
      "outputs": []
    },
    {
      "cell_type": "markdown",
      "metadata": {
        "id": "-M3fW0jRO8rC"
      },
      "source": [
        "### Training the Model"
      ]
    },
    {
      "cell_type": "markdown",
      "metadata": {
        "id": "51I3xKNWZE3B"
      },
      "source": [
        "Next up, we are going to define the appropriate functions that use the previosly mentioned class in order to train our model."
      ]
    },
    {
      "cell_type": "markdown",
      "metadata": {
        "id": "4AOYxUQlPc-N"
      },
      "source": [
        "#### Define the training process"
      ]
    },
    {
      "cell_type": "markdown",
      "metadata": {
        "id": "4QgCw4MiZeyQ"
      },
      "source": [
        "Code for training one epoch, which involves the learning procedure that we've learned from theory"
      ]
    },
    {
      "cell_type": "code",
      "metadata": {
        "id": "8Au5DD0OPwcJ"
      },
      "source": [
        "def train_epoch(optimizer, model, train_data, train_labels):\n",
        "  # clear gradients\n",
        "  optimizer.zero_grad()\n",
        "  outputs = model.forward(train_data)\n",
        "  predict_Y = outputs.detach().numpy().round()\n",
        "  real_Y = train_labels.numpy()\n",
        "  # compute loss w.r.t batch\n",
        "  loss = torch.nn.BCELoss()(outputs, train_labels)\n",
        "  # pass gradients back, startiing on loss value\n",
        "  loss.backward()\n",
        "  # update parameters\n",
        "  optimizer.step()\n",
        "  metrics_list = precision_recall_fscore_support(predict_Y, real_Y, average='macro')\n",
        "  # return the total to keep track of how you did this time around\n",
        "  return loss, metrics_list[0], metrics_list[1], metrics_list[2]"
      ],
      "execution_count": 16,
      "outputs": []
    },
    {
      "cell_type": "markdown",
      "metadata": {
        "id": "UCj3k0rj3VDn"
      },
      "source": [
        "#### Hyperparameters definition"
      ]
    },
    {
      "cell_type": "markdown",
      "metadata": {
        "id": "DstirNr4e9pX"
      },
      "source": [
        "Definition of our hyperparameters. Lots of different values were tried as I experemented with thoser parameters, in order to achieve the best results of the model"
      ]
    },
    {
      "cell_type": "code",
      "metadata": {
        "id": "cnFZBzV714KD"
      },
      "source": [
        "epochs = 100\n",
        "learning_rate = 0.01\n",
        "hidden_neurons_first = 200\n",
        "input_size = X_train_tensor.size()[1]\n",
        "model = Model_1(input_size, hidden_neurons_first)\n",
        "optimizer = torch.optim.Adam(model.parameters(), lr=learning_rate)"
      ],
      "execution_count": 17,
      "outputs": []
    },
    {
      "cell_type": "markdown",
      "metadata": {
        "id": "zGkfHgZm1mvh"
      },
      "source": [
        "#### Training procedure"
      ]
    },
    {
      "cell_type": "markdown",
      "metadata": {
        "id": "w-RUnTaFfMaL"
      },
      "source": [
        "The training procedure is simple: We train for every epoch that the user requested, and store the loss in order to plot it"
      ]
    },
    {
      "cell_type": "code",
      "metadata": {
        "colab": {
          "base_uri": "https://localhost:8080/"
        },
        "id": "yMwkaJa21v6D",
        "outputId": "5f298bfd-84d3-45af-a9ef-7fb22d3b75ef"
      },
      "source": [
        "loss = []\n",
        "\n",
        "for epoch in range(epochs):\n",
        "  epoch_loss, precision, recall, f1_score = train_epoch(optimizer, model, X_train_tensor, Y_train_tensor)\n",
        "  if (epoch % 5 == 0 or epoch == epochs -1):\n",
        "    print(\"Epoch: \", epoch, \" loss: \", round(epoch_loss.item(),4), \" precision: \", round(precision, 4), \" recall: \", round(recall, 4), \" f1_score \", round(f1_score, 4))\n",
        "  loss.append(epoch_loss.item())"
      ],
      "execution_count": 18,
      "outputs": [
        {
          "output_type": "stream",
          "text": [
            "Epoch:  0  loss:  0.6935  precision:  0.5  recall:  0.4156  f1_score  0.3324\n",
            "Epoch:  5  loss:  0.6307  precision:  0.6678  recall:  0.6744  f1_score  0.6649\n",
            "Epoch:  10  loss:  0.5858  precision:  0.6825  recall:  0.6831  f1_score  0.6824\n",
            "Epoch:  15  loss:  0.5773  precision:  0.6865  recall:  0.6904  f1_score  0.685\n",
            "Epoch:  20  loss:  0.5723  precision:  0.6891  recall:  0.6912  f1_score  0.6884\n",
            "Epoch:  25  loss:  0.5699  precision:  0.6889  recall:  0.6903  f1_score  0.6885\n",
            "Epoch:  30  loss:  0.5676  precision:  0.6903  recall:  0.6927  f1_score  0.6895\n",
            "Epoch:  35  loss:  0.5661  precision:  0.6912  recall:  0.6937  f1_score  0.6903\n",
            "Epoch:  40  loss:  0.5642  precision:  0.6922  recall:  0.6944  f1_score  0.6915\n",
            "Epoch:  45  loss:  0.5623  precision:  0.6937  recall:  0.6959  f1_score  0.6929\n",
            "Epoch:  50  loss:  0.5602  precision:  0.6959  recall:  0.6983  f1_score  0.6951\n",
            "Epoch:  55  loss:  0.5578  precision:  0.6979  recall:  0.7  f1_score  0.6973\n",
            "Epoch:  60  loss:  0.5552  precision:  0.6997  recall:  0.7021  f1_score  0.699\n",
            "Epoch:  65  loss:  0.5524  precision:  0.702  recall:  0.7042  f1_score  0.7014\n",
            "Epoch:  70  loss:  0.5495  precision:  0.7041  recall:  0.7063  f1_score  0.7034\n",
            "Epoch:  75  loss:  0.5466  precision:  0.7064  recall:  0.7095  f1_score  0.7055\n",
            "Epoch:  80  loss:  0.5436  precision:  0.7091  recall:  0.7122  f1_score  0.7082\n",
            "Epoch:  85  loss:  0.5406  precision:  0.7116  recall:  0.7133  f1_score  0.7111\n",
            "Epoch:  90  loss:  0.5376  precision:  0.7144  recall:  0.7165  f1_score  0.7138\n",
            "Epoch:  95  loss:  0.5345  precision:  0.7164  recall:  0.7198  f1_score  0.7155\n",
            "Epoch:  99  loss:  0.5321  precision:  0.7182  recall:  0.7201  f1_score  0.7178\n"
          ],
          "name": "stdout"
        }
      ]
    },
    {
      "cell_type": "code",
      "metadata": {
        "colab": {
          "base_uri": "https://localhost:8080/",
          "height": 286
        },
        "id": "0BP5f_HdfVNw",
        "outputId": "04e2b7e3-4ecf-4ae7-84a6-b192b0993588"
      },
      "source": [
        "plt.plot(loss)\n",
        "plt.xlabel(\"Epochs\", fontsize=15)\n",
        "plt.ylabel(\"BCE Loss\", fontsize=15)\n",
        "plt.show()"
      ],
      "execution_count": 19,
      "outputs": [
        {
          "output_type": "display_data",
          "data": {
            "image/png": "[encoded data removed]",
            "text/plain": [
              "<Figure size 432x288 with 1 Axes>"
            ]
          },
          "metadata": {
            "tags": [],
            "needs_background": "light"
          }
        }
      ]
    },
    {
      "cell_type": "markdown",
      "metadata": {
        "id": "1Sg12ypSCi9A"
      },
      "source": [
        "### Predict"
      ]
    },
    {
      "cell_type": "markdown",
      "metadata": {
        "id": "eQtKzGS_f_dt"
      },
      "source": [
        "In order to predict our test set, we just apply the forwaring procedure with the weights that we have learned. The result will be a float number between 0 and 1, which is the probability of the item belonging to the positive class. Thus, in order to gather the predicted labels, we will round the number, as probabilities near 0 must be classified as negative, and near 1, must be classified as positive"
      ]
    },
    {
      "cell_type": "code",
      "metadata": {
        "id": "-flnmThNCiq9"
      },
      "source": [
        "predict_outs = model.forward(X_test_tensor)\n",
        "predict_Y = predict_outs.detach().numpy().round()\n",
        "test_Y = Y_test_tensor.numpy()"
      ],
      "execution_count": 20,
      "outputs": []
    },
    {
      "cell_type": "markdown",
      "metadata": {
        "id": "oNakcVqLgdzg"
      },
      "source": [
        "In order to check our results, we will print the accuracy of our model, as well as a full classification report for both of our classes"
      ]
    },
    {
      "cell_type": "code",
      "metadata": {
        "colab": {
          "base_uri": "https://localhost:8080/"
        },
        "id": "EWFVOSlLKaiy",
        "outputId": "11d62ffb-285c-4f92-a8d8-c18a735c2b19"
      },
      "source": [
        "print(\"Accuracy score: {}\".format(round(accuracy_score(test_Y,predict_Y),3)))\n",
        "print(classification_report(test_Y,predict_Y))"
      ],
      "execution_count": 21,
      "outputs": [
        {
          "output_type": "stream",
          "text": [
            "Accuracy score: 0.691\n",
            "              precision    recall  f1-score   support\n",
            "\n",
            "         0.0       0.72      0.62      0.67     19951\n",
            "         1.0       0.67      0.76      0.71     20049\n",
            "\n",
            "    accuracy                           0.69     40000\n",
            "   macro avg       0.69      0.69      0.69     40000\n",
            "weighted avg       0.69      0.69      0.69     40000\n",
            "\n"
          ],
          "name": "stdout"
        }
      ]
    },
    {
      "cell_type": "markdown",
      "metadata": {
        "id": "QxjjLOS2g_il"
      },
      "source": [
        "### ROC Curves"
      ]
    },
    {
      "cell_type": "markdown",
      "metadata": {
        "id": "Q2B3LVzqhEXv"
      },
      "source": [
        "A usefull and handy way to observe how our binary classification model behaves are ROC curves. It is a plot of the false positive rate (x-axis) versus the true positive rate (y-axis) for a number of different candidate threshold values between 0.0 and 1.0."
      ]
    },
    {
      "cell_type": "code",
      "metadata": {
        "colab": {
          "base_uri": "https://localhost:8080/",
          "height": 531
        },
        "id": "IHXEyz5-hfbm",
        "outputId": "0ebc1d91-2fb6-4d2a-972e-a5e73423ba18"
      },
      "source": [
        "# calculate the fpr and tpr for all thresholds of the classification\n",
        "probs = predict_outs.detach().numpy()\n",
        "\n",
        "# # keep probabilities for the positive outcome only\n",
        "lr_probs = probs\n",
        "ns_probs = [0 for _ in range(len(test_Y))]\n",
        "\n",
        "# calculate scores\n",
        "ns_auc = roc_auc_score(test_Y, ns_probs)\n",
        "lr_auc = roc_auc_score(test_Y, lr_probs)\n",
        "\n",
        "# summarize scores\n",
        "print('No Skill: ROC AUC=%.3f' % (ns_auc))\n",
        "print('Logistic: ROC AUC=%.3f' % (lr_auc))\n",
        "\n",
        "# calculate roc curves\n",
        "ns_fpr, ns_tpr, _ = roc_curve(test_Y, ns_probs)\n",
        "lr_fpr, lr_tpr, _ = roc_curve(test_Y, lr_probs)\n",
        "\n",
        "# plot the roc curve for the model\n",
        "plt.figure(figsize=(10,8))\n",
        "plt.plot(ns_fpr, ns_tpr, label='No Skill')\n",
        "plt.plot(lr_fpr, lr_tpr, label='SentimetClassifier')\n",
        "\n",
        "# axis labels\n",
        "plt.xlabel('False Positive Rate')\n",
        "plt.ylabel('True Positive Rate')\n",
        "# show the legend\n",
        "plt.legend()\n",
        "# show the plot\n",
        "plt.show()"
      ],
      "execution_count": 22,
      "outputs": [
        {
          "output_type": "stream",
          "text": [
            "No Skill: ROC AUC=0.500\n",
            "Logistic: ROC AUC=0.770\n"
          ],
          "name": "stdout"
        },
        {
          "output_type": "display_data",
          "data": {
            "image/png": "[encoded data removed]",
            "text/plain": [
              "<Figure size 720x576 with 1 Axes>"
            ]
          },
          "metadata": {
            "tags": [],
            "needs_background": "light"
          }
        }
      ]
    }
  ]
}