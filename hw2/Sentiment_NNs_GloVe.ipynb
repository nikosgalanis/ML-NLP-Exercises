{
  "nbformat": 4,
  "nbformat_minor": 0,
  "metadata": {
    "colab": {
      "name": "Sentiment_NNs_GloVe.ipynb",
      "provenance": [],
      "collapsed_sections": [
        "mkOOw64a5seX"
      ]
    },
    "kernelspec": {
      "name": "python3",
      "display_name": "Python 3"
    }
  },
  "cells": [
    {
      "cell_type": "markdown",
      "metadata": {
        "id": "rKkjXP7ouXYy"
      },
      "source": [
        "# Sentiment Classifier using feed-forward Neural Networks - GloVe features"
      ]
    },
    {
      "cell_type": "markdown",
      "metadata": {
        "id": "8sGPkzNhuh_1"
      },
      "source": [
        "The goal of this notebook is to develop a sentiment classifier using feed-forward neural networks for the Twitter sentiment analysis dataset. We are going to experiment and develop more than one models which use pre-traineed vectors as featues, and compare them over known metrics such as F1 score, Recall and Precision. "
      ]
    },
    {
      "cell_type": "markdown",
      "metadata": {
        "id": "MeXsApHru1nZ"
      },
      "source": [
        "We are going to expirement with parameters like:\n",
        " - Number of hidden layers\n",
        " - Activation functions\n",
        " - The loss function\n",
        " - The optimizer\n",
        "\n",
        " The data is going to be preprocessed and scaled, in order to maximize our classifier's potential.\n",
        "\n",
        " The classifier is going to be implemented using the PyTorch API"
      ]
    },
    {
      "cell_type": "markdown",
      "metadata": {
        "id": "m5Jx3uOLu5yM"
      },
      "source": [
        "## Import Libraries"
      ]
    },
    {
      "cell_type": "code",
      "metadata": {
        "colab": {
          "base_uri": "https://localhost:8080/"
        },
        "id": "-cFjy2S1u-1m",
        "outputId": "f19b32d4-62d3-483c-c348-91a07aa0c9e6"
      },
      "source": [
        "!python -m textblob.download_corpora\n",
        "# For NN models\n",
        "import torch.nn as nn\n",
        "import torch\n",
        "# For data vizualization \n",
        "import matplotlib as mpl\n",
        "import matplotlib.pyplot as plt\n",
        "# For large and multi-dimensional arrays\n",
        "import numpy as np\n",
        "# For basic cleaning and data preprocessing \n",
        "import re\n",
        "# For data manipulation and analysis\n",
        "import pandas as pd\n",
        "# Stop words\n",
        "import nltk \n",
        "nltk.download('stopwords')  \n",
        "# Data manipulation\n",
        "import torchtext\n",
        "from torchtext import data\n",
        "# Data Preprocessing and Feature Engineering\n",
        "from textblob import TextBlob\n",
        "import scipy\n",
        "from nltk.corpus import stopwords\n",
        "from nltk.stem.wordnet import WordNetLemmatizer\n",
        "# Necessary for data format\n",
        "from sklearn.feature_extraction.text import CountVectorizer\n",
        "# Word embedings\n",
        "from sklearn.feature_extraction.text import TfidfVectorizer  \n",
        "# Machine learning model\n",
        "from sklearn.linear_model import LogisticRegression\n",
        "# Metrics\n",
        "from sklearn.metrics import accuracy_score\n",
        "from sklearn.metrics import classification_report,confusion_matrix\n",
        "from sklearn.metrics import precision_recall_fscore_support \n",
        "from sklearn.metrics import roc_curve\n",
        "from sklearn.metrics import roc_auc_score\n",
        "# Best parameters during classification\n",
        "from sklearn.model_selection import GridSearchCV\n",
        "# Data preprocessing\n",
        "from sklearn.model_selection import train_test_split\n",
        "# Validation of the model\n",
        "from sklearn.model_selection import KFold\n",
        "from sklearn.model_selection import cross_val_score\n",
        "from sklearn.model_selection import cross_validate"
      ],
      "execution_count": 1,
      "outputs": [
        {
          "output_type": "stream",
          "text": [
            "[nltk_data] Downloading package brown to /root/nltk_data...\n",
            "[nltk_data]   Package brown is already up-to-date!\n",
            "[nltk_data] Downloading package punkt to /root/nltk_data...\n",
            "[nltk_data]   Package punkt is already up-to-date!\n",
            "[nltk_data] Downloading package wordnet to /root/nltk_data...\n",
            "[nltk_data]   Package wordnet is already up-to-date!\n",
            "[nltk_data] Downloading package averaged_perceptron_tagger to\n",
            "[nltk_data]     /root/nltk_data...\n",
            "[nltk_data]   Package averaged_perceptron_tagger is already up-to-\n",
            "[nltk_data]       date!\n",
            "[nltk_data] Downloading package conll2000 to /root/nltk_data...\n",
            "[nltk_data]   Package conll2000 is already up-to-date!\n",
            "[nltk_data] Downloading package movie_reviews to /root/nltk_data...\n",
            "[nltk_data]   Package movie_reviews is already up-to-date!\n",
            "Finished.\n",
            "[nltk_data] Downloading package stopwords to /root/nltk_data...\n",
            "[nltk_data]   Package stopwords is already up-to-date!\n"
          ],
          "name": "stdout"
        }
      ]
    },
    {
      "cell_type": "markdown",
      "metadata": {
        "id": "Sd9ovNGMvAiS"
      },
      "source": [
        "## Dataset Configuration"
      ]
    },
    {
      "cell_type": "markdown",
      "metadata": {
        "id": "1taT1fvivGpL"
      },
      "source": [
        "We are going to import the dataset..."
      ]
    },
    {
      "cell_type": "code",
      "metadata": {
        "colab": {
          "base_uri": "https://localhost:8080/"
        },
        "id": "TAhMcVVTvJk8",
        "outputId": "948d450d-c644-4fb9-ec22-aff6c9429aab"
      },
      "source": [
        "df = pd.read_csv(\"/content/drive/MyDrive/tn2/SentimentTweets.csv\")\n",
        "df.info()"
      ],
      "execution_count": 2,
      "outputs": [
        {
          "output_type": "stream",
          "text": [
            "<class 'pandas.core.frame.DataFrame'>\n",
            "RangeIndex: 1280000 entries, 0 to 1279999\n",
            "Data columns (total 7 columns):\n",
            " #   Column      Non-Null Count    Dtype \n",
            "---  ------      --------------    ----- \n",
            " 0   Unnamed: 0  1280000 non-null  int64 \n",
            " 1   target      1280000 non-null  int64 \n",
            " 2   id          1280000 non-null  int64 \n",
            " 3   date        1280000 non-null  object\n",
            " 4   flag        1280000 non-null  object\n",
            " 5   user        1280000 non-null  object\n",
            " 6   text        1280000 non-null  object\n",
            "dtypes: int64(3), object(4)\n",
            "memory usage: 68.4+ MB\n"
          ],
          "name": "stdout"
        }
      ]
    },
    {
      "cell_type": "markdown",
      "metadata": {
        "id": "j_YVqs04vOjA"
      },
      "source": [
        "...and take a look at its columns"
      ]
    },
    {
      "cell_type": "code",
      "metadata": {
        "colab": {
          "base_uri": "https://localhost:8080/",
          "height": 204
        },
        "id": "9Iq9gHyovO_Y",
        "outputId": "82ea19ab-709f-41df-d290-a176b8fa0e3d"
      },
      "source": [
        "df.head()"
      ],
      "execution_count": 3,
      "outputs": [
        {
          "output_type": "execute_result",
          "data": {
            "text/html": [
              "<div>\n",
              "<style scoped>\n",
              "    .dataframe tbody tr th:only-of-type {\n",
              "        vertical-align: middle;\n",
              "    }\n",
              "\n",
              "    .dataframe tbody tr th {\n",
              "        vertical-align: top;\n",
              "    }\n",
              "\n",
              "    .dataframe thead th {\n",
              "        text-align: right;\n",
              "    }\n",
              "</style>\n",
              "<table border=\"1\" class=\"dataframe\">\n",
              "  <thead>\n",
              "    <tr style=\"text-align: right;\">\n",
              "      <th></th>\n",
              "      <th>Unnamed: 0</th>\n",
              "      <th>target</th>\n",
              "      <th>id</th>\n",
              "      <th>date</th>\n",
              "      <th>flag</th>\n",
              "      <th>user</th>\n",
              "      <th>text</th>\n",
              "    </tr>\n",
              "  </thead>\n",
              "  <tbody>\n",
              "    <tr>\n",
              "      <th>0</th>\n",
              "      <td>680949</td>\n",
              "      <td>0</td>\n",
              "      <td>2249621587</td>\n",
              "      <td>Fri Jun 19 22:41:08 PDT 2009</td>\n",
              "      <td>NO_QUERY</td>\n",
              "      <td>sukumarpant</td>\n",
              "      <td>#brokenpromises...</td>\n",
              "    </tr>\n",
              "    <tr>\n",
              "      <th>1</th>\n",
              "      <td>406741</td>\n",
              "      <td>0</td>\n",
              "      <td>2059003515</td>\n",
              "      <td>Sat Jun 06 16:03:21 PDT 2009</td>\n",
              "      <td>NO_QUERY</td>\n",
              "      <td>MTMSparrow</td>\n",
              "      <td>David Carradine  so sad. Thai's law not sure i...</td>\n",
              "    </tr>\n",
              "    <tr>\n",
              "      <th>2</th>\n",
              "      <td>1337108</td>\n",
              "      <td>4</td>\n",
              "      <td>2017466467</td>\n",
              "      <td>Wed Jun 03 08:26:14 PDT 2009</td>\n",
              "      <td>NO_QUERY</td>\n",
              "      <td>itsmemcee</td>\n",
              "      <td>A @ 415 B @ 425. Tell your bro i say congrats!</td>\n",
              "    </tr>\n",
              "    <tr>\n",
              "      <th>3</th>\n",
              "      <td>1560887</td>\n",
              "      <td>4</td>\n",
              "      <td>2186457254</td>\n",
              "      <td>Mon Jun 15 18:52:04 PDT 2009</td>\n",
              "      <td>NO_QUERY</td>\n",
              "      <td>jdfreivald</td>\n",
              "      <td>@littlefluffycat  Indeed.</td>\n",
              "    </tr>\n",
              "    <tr>\n",
              "      <th>4</th>\n",
              "      <td>1466295</td>\n",
              "      <td>4</td>\n",
              "      <td>2064458395</td>\n",
              "      <td>Sun Jun 07 06:19:20 PDT 2009</td>\n",
              "      <td>NO_QUERY</td>\n",
              "      <td>CrazyHan</td>\n",
              "      <td>Completed Race 4 Life in 58mins with girlies f...</td>\n",
              "    </tr>\n",
              "  </tbody>\n",
              "</table>\n",
              "</div>"
            ],
            "text/plain": [
              "   Unnamed: 0  ...                                               text\n",
              "0      680949  ...                                #brokenpromises... \n",
              "1      406741  ...  David Carradine  so sad. Thai's law not sure i...\n",
              "2     1337108  ...    A @ 415 B @ 425. Tell your bro i say congrats! \n",
              "3     1560887  ...                          @littlefluffycat  Indeed.\n",
              "4     1466295  ...  Completed Race 4 Life in 58mins with girlies f...\n",
              "\n",
              "[5 rows x 7 columns]"
            ]
          },
          "metadata": {
            "tags": []
          },
          "execution_count": 3
        }
      ]
    },
    {
      "cell_type": "markdown",
      "metadata": {
        "id": "vLu7Oh4tvQ1q"
      },
      "source": [
        "## Data Preprocessing"
      ]
    },
    {
      "cell_type": "markdown",
      "metadata": {
        "id": "cT_CFJhVvsCT"
      },
      "source": [
        "Like the other notebook that we made,we have to preprocess our data set. We are going to convert everything to lowercase, and remove any punctuation points, weird characters and links.\n",
        "\n",
        "We are going to classify tweets. As we all know, twitter users use the symbols `#` and `@` a lot. This may cause problem to the classifier, thus we are going to remove them, using `TextBlob`. We are also going to lemmatize the data in order to avoid multiple representations of the same word"
      ]
    },
    {
      "cell_type": "code",
      "metadata": {
        "id": "F1seNOqLvQUY"
      },
      "source": [
        "def text_normalization(text):\n",
        "    # convert text to lowercase\n",
        "    text = text.lower()\n",
        "    # remove non alphanumeric character\n",
        "    text = re.sub(r'[^A-Za-z0-9]+', ' ', text)\n",
        "    # remove links\n",
        "    text = re.sub(r'https?:/\\/\\S+', ' ', text)\n",
        "   \n",
        "    return text"
      ],
      "execution_count": 4,
      "outputs": []
    },
    {
      "cell_type": "code",
      "metadata": {
        "id": "F6IW2Ma3vzbY"
      },
      "source": [
        "def preprocess(input_df):\n",
        "    # Remove rows with missing values in column col\n",
        "    input_df.dropna(inplace=True)\n",
        "    # Speed up code using numpy vectorization\n",
        "    vfunc = np.vectorize(text_normalization)\n",
        "    input_df.text = vfunc(input_df.text.values)\n",
        "    # return processed input_df\n",
        "    return input_df"
      ],
      "execution_count": 5,
      "outputs": []
    },
    {
      "cell_type": "markdown",
      "metadata": {
        "id": "JBWYVeryvzLW"
      },
      "source": [
        "Let's now apply those techniques in our dataset."
      ]
    },
    {
      "cell_type": "code",
      "metadata": {
        "colab": {
          "base_uri": "https://localhost:8080/",
          "height": 204
        },
        "id": "A_0FN1riv2tH",
        "outputId": "6cdfd6f2-aca2-45fc-e36b-b9de47efe856"
      },
      "source": [
        "df = preprocess(df)\n",
        "df.head()"
      ],
      "execution_count": 6,
      "outputs": [
        {
          "output_type": "execute_result",
          "data": {
            "text/html": [
              "<div>\n",
              "<style scoped>\n",
              "    .dataframe tbody tr th:only-of-type {\n",
              "        vertical-align: middle;\n",
              "    }\n",
              "\n",
              "    .dataframe tbody tr th {\n",
              "        vertical-align: top;\n",
              "    }\n",
              "\n",
              "    .dataframe thead th {\n",
              "        text-align: right;\n",
              "    }\n",
              "</style>\n",
              "<table border=\"1\" class=\"dataframe\">\n",
              "  <thead>\n",
              "    <tr style=\"text-align: right;\">\n",
              "      <th></th>\n",
              "      <th>Unnamed: 0</th>\n",
              "      <th>target</th>\n",
              "      <th>id</th>\n",
              "      <th>date</th>\n",
              "      <th>flag</th>\n",
              "      <th>user</th>\n",
              "      <th>text</th>\n",
              "    </tr>\n",
              "  </thead>\n",
              "  <tbody>\n",
              "    <tr>\n",
              "      <th>0</th>\n",
              "      <td>680949</td>\n",
              "      <td>0</td>\n",
              "      <td>2249621587</td>\n",
              "      <td>Fri Jun 19 22:41:08 PDT 2009</td>\n",
              "      <td>NO_QUERY</td>\n",
              "      <td>sukumarpant</td>\n",
              "      <td>brokenpromises</td>\n",
              "    </tr>\n",
              "    <tr>\n",
              "      <th>1</th>\n",
              "      <td>406741</td>\n",
              "      <td>0</td>\n",
              "      <td>2059003515</td>\n",
              "      <td>Sat Jun 06 16:03:21 PDT 2009</td>\n",
              "      <td>NO_QUERY</td>\n",
              "      <td>MTMSparrow</td>\n",
              "      <td>david carradine so sad thai s law not sure if ...</td>\n",
              "    </tr>\n",
              "    <tr>\n",
              "      <th>2</th>\n",
              "      <td>1337108</td>\n",
              "      <td>4</td>\n",
              "      <td>2017466467</td>\n",
              "      <td>Wed Jun 03 08:26:14 PDT 2009</td>\n",
              "      <td>NO_QUERY</td>\n",
              "      <td>itsmemcee</td>\n",
              "      <td>a 415 b 425 tell your bro i say congrats</td>\n",
              "    </tr>\n",
              "    <tr>\n",
              "      <th>3</th>\n",
              "      <td>1560887</td>\n",
              "      <td>4</td>\n",
              "      <td>2186457254</td>\n",
              "      <td>Mon Jun 15 18:52:04 PDT 2009</td>\n",
              "      <td>NO_QUERY</td>\n",
              "      <td>jdfreivald</td>\n",
              "      <td>littlefluffycat indeed</td>\n",
              "    </tr>\n",
              "    <tr>\n",
              "      <th>4</th>\n",
              "      <td>1466295</td>\n",
              "      <td>4</td>\n",
              "      <td>2064458395</td>\n",
              "      <td>Sun Jun 07 06:19:20 PDT 2009</td>\n",
              "      <td>NO_QUERY</td>\n",
              "      <td>CrazyHan</td>\n",
              "      <td>completed race 4 life in 58mins with girlies f...</td>\n",
              "    </tr>\n",
              "  </tbody>\n",
              "</table>\n",
              "</div>"
            ],
            "text/plain": [
              "   Unnamed: 0  ...                                               text\n",
              "0      680949  ...                                    brokenpromises \n",
              "1      406741  ...  david carradine so sad thai s law not sure if ...\n",
              "2     1337108  ...          a 415 b 425 tell your bro i say congrats \n",
              "3     1560887  ...                            littlefluffycat indeed \n",
              "4     1466295  ...  completed race 4 life in 58mins with girlies f...\n",
              "\n",
              "[5 rows x 7 columns]"
            ]
          },
          "metadata": {
            "tags": []
          },
          "execution_count": 6
        }
      ]
    },
    {
      "cell_type": "markdown",
      "metadata": {
        "id": "XsUXX4s1v5ex"
      },
      "source": [
        "We are going to convert the target value to 1 instead of 4, in order to be more convenient."
      ]
    },
    {
      "cell_type": "code",
      "metadata": {
        "id": "aVwHcn1pv6Za"
      },
      "source": [
        "def change_to_1(x):\n",
        "    if (x == 4):\n",
        "        return 1\n",
        "    else:\n",
        "        return x"
      ],
      "execution_count": 7,
      "outputs": []
    },
    {
      "cell_type": "code",
      "metadata": {
        "colab": {
          "base_uri": "https://localhost:8080/",
          "height": 204
        },
        "id": "gxJ3Z3BXv8KD",
        "outputId": "e479d605-4f1d-4e07-b368-cb60fcd2f9f7"
      },
      "source": [
        "df['target'] = df['target'].apply(change_to_1)\n",
        "df.head()"
      ],
      "execution_count": 8,
      "outputs": [
        {
          "output_type": "execute_result",
          "data": {
            "text/html": [
              "<div>\n",
              "<style scoped>\n",
              "    .dataframe tbody tr th:only-of-type {\n",
              "        vertical-align: middle;\n",
              "    }\n",
              "\n",
              "    .dataframe tbody tr th {\n",
              "        vertical-align: top;\n",
              "    }\n",
              "\n",
              "    .dataframe thead th {\n",
              "        text-align: right;\n",
              "    }\n",
              "</style>\n",
              "<table border=\"1\" class=\"dataframe\">\n",
              "  <thead>\n",
              "    <tr style=\"text-align: right;\">\n",
              "      <th></th>\n",
              "      <th>Unnamed: 0</th>\n",
              "      <th>target</th>\n",
              "      <th>id</th>\n",
              "      <th>date</th>\n",
              "      <th>flag</th>\n",
              "      <th>user</th>\n",
              "      <th>text</th>\n",
              "    </tr>\n",
              "  </thead>\n",
              "  <tbody>\n",
              "    <tr>\n",
              "      <th>0</th>\n",
              "      <td>680949</td>\n",
              "      <td>0</td>\n",
              "      <td>2249621587</td>\n",
              "      <td>Fri Jun 19 22:41:08 PDT 2009</td>\n",
              "      <td>NO_QUERY</td>\n",
              "      <td>sukumarpant</td>\n",
              "      <td>brokenpromises</td>\n",
              "    </tr>\n",
              "    <tr>\n",
              "      <th>1</th>\n",
              "      <td>406741</td>\n",
              "      <td>0</td>\n",
              "      <td>2059003515</td>\n",
              "      <td>Sat Jun 06 16:03:21 PDT 2009</td>\n",
              "      <td>NO_QUERY</td>\n",
              "      <td>MTMSparrow</td>\n",
              "      <td>david carradine so sad thai s law not sure if ...</td>\n",
              "    </tr>\n",
              "    <tr>\n",
              "      <th>2</th>\n",
              "      <td>1337108</td>\n",
              "      <td>1</td>\n",
              "      <td>2017466467</td>\n",
              "      <td>Wed Jun 03 08:26:14 PDT 2009</td>\n",
              "      <td>NO_QUERY</td>\n",
              "      <td>itsmemcee</td>\n",
              "      <td>a 415 b 425 tell your bro i say congrats</td>\n",
              "    </tr>\n",
              "    <tr>\n",
              "      <th>3</th>\n",
              "      <td>1560887</td>\n",
              "      <td>1</td>\n",
              "      <td>2186457254</td>\n",
              "      <td>Mon Jun 15 18:52:04 PDT 2009</td>\n",
              "      <td>NO_QUERY</td>\n",
              "      <td>jdfreivald</td>\n",
              "      <td>littlefluffycat indeed</td>\n",
              "    </tr>\n",
              "    <tr>\n",
              "      <th>4</th>\n",
              "      <td>1466295</td>\n",
              "      <td>1</td>\n",
              "      <td>2064458395</td>\n",
              "      <td>Sun Jun 07 06:19:20 PDT 2009</td>\n",
              "      <td>NO_QUERY</td>\n",
              "      <td>CrazyHan</td>\n",
              "      <td>completed race 4 life in 58mins with girlies f...</td>\n",
              "    </tr>\n",
              "  </tbody>\n",
              "</table>\n",
              "</div>"
            ],
            "text/plain": [
              "   Unnamed: 0  ...                                               text\n",
              "0      680949  ...                                    brokenpromises \n",
              "1      406741  ...  david carradine so sad thai s law not sure if ...\n",
              "2     1337108  ...          a 415 b 425 tell your bro i say congrats \n",
              "3     1560887  ...                            littlefluffycat indeed \n",
              "4     1466295  ...  completed race 4 life in 58mins with girlies f...\n",
              "\n",
              "[5 rows x 7 columns]"
            ]
          },
          "metadata": {
            "tags": []
          },
          "execution_count": 8
        }
      ]
    },
    {
      "cell_type": "markdown",
      "metadata": {
        "id": "0FFkdcgNysPB"
      },
      "source": [
        "We are now going to drop the columns we do not need, in order to save memory"
      ]
    },
    {
      "cell_type": "code",
      "metadata": {
        "id": "K3tVa2o6ywru"
      },
      "source": [
        "df = df.drop(['Unnamed: 0', 'id', 'date', 'flag', 'user'], axis=1)"
      ],
      "execution_count": 9,
      "outputs": []
    },
    {
      "cell_type": "markdown",
      "metadata": {
        "id": "mkOOw64a5seX"
      },
      "source": [
        "### Splitting the dataset"
      ]
    },
    {
      "cell_type": "markdown",
      "metadata": {
        "id": "bzzkJJHa5sZo"
      },
      "source": [
        "We are now going to split the dataset in order to have a dataset for training, one for validating, and one for testing our models"
      ]
    },
    {
      "cell_type": "code",
      "metadata": {
        "id": "EAmyUD6h53wN"
      },
      "source": [
        "train_df, valid_df = train_test_split(df, train_size = .8, random_state = 42)\n",
        "train_df, test_df = train_test_split(df, train_size = .25, random_state = 42)"
      ],
      "execution_count": 10,
      "outputs": []
    },
    {
      "cell_type": "markdown",
      "metadata": {
        "id": "F-w5-Whyv-8U"
      },
      "source": [
        "## Feature extractions: Pre-Trained word vectors using `TorchText`"
      ]
    },
    {
      "cell_type": "markdown",
      "metadata": {
        "id": "Sj8hkgMAwGxw"
      },
      "source": [
        "TorchText provides a handy API that allows as to handle a dataset in a way that PyTorch networks understand, while being able to apply techniques such as loading pretrained vectors, which is the goal of this notebook."
      ]
    },
    {
      "cell_type": "markdown",
      "metadata": {
        "id": "W99rWQBDwwnC"
      },
      "source": [
        "### Definition of dataset processing"
      ]
    },
    {
      "cell_type": "markdown",
      "metadata": {
        "id": "iQcwEXlox8JP"
      },
      "source": [
        "We are going to define the columns that we want to process"
      ]
    },
    {
      "cell_type": "code",
      "metadata": {
        "id": "Zj6e29JQyE-r"
      },
      "source": [
        "TEXT = data.Field(tokenize = 'spacy', include_lengths=True)\n",
        "\n",
        "LABEL = data.LabelField(dtype = torch.float)\n",
        "\n",
        "# define which fiels we are going to process\n",
        "train_val_fields = [\n",
        "  ('text', TEXT), # process it as text\n",
        "  ('target', LABEL) # process it as label\n",
        "]"
      ],
      "execution_count": 11,
      "outputs": []
    },
    {
      "cell_type": "markdown",
      "metadata": {
        "id": "7Alg_SBN27na"
      },
      "source": [
        "Next up, we are going create a class for splitting, because we have already loadad the dataset, thus the `TabularDataset.splits()` method is not convinient for us. The function returns the train and the validation dataset."
      ]
    },
    {
      "cell_type": "code",
      "metadata": {
        "id": "gTCc4wLF3O8N"
      },
      "source": [
        "class DataFrameDataset(data.Dataset):\n",
        "\n",
        "    def __init__(self, df, fields, is_test=False):\n",
        "        examples = []\n",
        "        # iterate all the rows in order to create the dataset dict\n",
        "        for _, row in df.iterrows():\n",
        "            label = row.target if not is_test else None\n",
        "            text = row.text\n",
        "            examples.append(data.Example.fromlist([text, label], fields))\n",
        "\n",
        "        super().__init__(examples, fields)\n",
        "\n",
        "    # class method in order to return the dataset in an apropriate from\n",
        "    @classmethod\n",
        "    def splits(cls, fields, train_df, val_df=None, test_df=None):\n",
        "        train_data, val_data, test_data = (None, None, None)\n",
        "\n",
        "        train_data = cls(train_df.copy(), fields)\n",
        "        val_data = cls(val_df.copy(), fields)\n",
        "        test_data = cls(test_df.copy(), fields, True)\n",
        "\n",
        "\n",
        "        return tuple(d for d in (train_data, val_data, test_data))"
      ],
      "execution_count": 12,
      "outputs": []
    },
    {
      "cell_type": "markdown",
      "metadata": {
        "id": "BIOLB2z6Ex2-"
      },
      "source": [
        "Now, we are going to use the class we created in order to convert our dataset in the appropriate type."
      ]
    },
    {
      "cell_type": "code",
      "metadata": {
        "id": "p11W8QWyE_-l"
      },
      "source": [
        "train_ds, val_ds, test_ds = DataFrameDataset.splits(train_val_fields, train_df=train_df, val_df=valid_df, test_df=test_df)"
      ],
      "execution_count": 13,
      "outputs": []
    },
    {
      "cell_type": "markdown",
      "metadata": {
        "id": "N7mMy_K26Fa2"
      },
      "source": [
        "Let's print an item from the dataset, in order to observe its form"
      ]
    },
    {
      "cell_type": "code",
      "metadata": {
        "colab": {
          "base_uri": "https://localhost:8080/"
        },
        "id": "J0QlbL2jIuAs",
        "outputId": "7bbcc6f6-fe38-47b0-ddc8-c2947f16e526"
      },
      "source": [
        "print(vars(train_ds[100]))"
      ],
      "execution_count": 14,
      "outputs": [
        {
          "output_type": "stream",
          "text": [
            "{'text': ['carpe', 'diem', 'quam', 'minimum', 'credula', 'postero', 'seize', 'the', 'day', 'and', 'place', 'no', 'trust', 'in', 'tommorow', 'new', 'motto', 'latin'], 'target': 1}\n"
          ],
          "name": "stdout"
        }
      ]
    },
    {
      "cell_type": "markdown",
      "metadata": {
        "id": "rr9z7xnDGioI"
      },
      "source": [
        "### Loading Pre-Trained vector embeddings"
      ]
    },
    {
      "cell_type": "markdown",
      "metadata": {
        "id": "PfJjqF4AGmfp"
      },
      "source": [
        "Next up, we are going to load the glove vectors in order to build our vocabulary that will be used in our model. We are going to define the maximum vocabulary size, getting the info from the TFIDF notebook, where our vocabulary length was 2000.\n",
        "\n",
        "For every word that is not int the pretrained vectors' map, we are going to use values that are randomly distributed."
      ]
    },
    {
      "cell_type": "code",
      "metadata": {
        "id": "G0F4T6BOG-Td"
      },
      "source": [
        "vocab_size = 20000\n",
        "# build the vocabulary for both of the fields\n",
        "TEXT.build_vocab(train_ds,  max_size = vocab_size, vectors = 'glove.6B.50d', unk_init=torch.Tensor.normal_)\n",
        "\n",
        "LABEL.build_vocab(train_ds)"
      ],
      "execution_count": 15,
      "outputs": []
    },
    {
      "cell_type": "markdown",
      "metadata": {
        "id": "Yg3cnMnMJs8F"
      },
      "source": [
        "Another method to help as achieve our goal faster, is `BucketIterator`, a method that defines an iterator that batches examples of similar lenths together, in roder to minimise the necessary amount of padding during training"
      ]
    },
    {
      "cell_type": "code",
      "metadata": {
        "id": "GIbrU4djJ7hs"
      },
      "source": [
        "# preferebly use gpu\n",
        "device = torch.device('cuda' if torch.cuda.is_available() else 'cpu')\n",
        "\n",
        "# create the 2 iterators\n",
        "train_iterator, valid_iterator = data.BucketIterator.splits((train_ds, val_ds), \n",
        "    batch_size = 128, device = device)"
      ],
      "execution_count": 16,
      "outputs": []
    },
    {
      "cell_type": "markdown",
      "metadata": {
        "id": "UO7US6HQK9e1"
      },
      "source": [
        "We are now all set in order to define our neural networks that will try to classify the available tweets as negative or positive. We will construct different models, that differ when it comes down to hyperparameters, and then evaluate them so we can conclude which is best."
      ]
    },
    {
      "cell_type": "markdown",
      "metadata": {
        "id": "AZYVYB1XK2eh"
      },
      "source": [
        "## Model's definition"
      ]
    },
    {
      "cell_type": "markdown",
      "metadata": {
        "id": "uFSKu4GqNB-M"
      },
      "source": [
        "Let's now define the class of the model we are going to use. All of the models will be of the same architecture: \n",
        " - 1 embedding layer\n",
        " - 1 hidden layer with RELU activation function\n",
        " - 1 output layer with sigmoid activation function\n",
        "\n",
        " We will later be expirementing with different hyperparameters"
      ]
    },
    {
      "cell_type": "code",
      "metadata": {
        "id": "nlh6NM4xXN1a"
      },
      "source": [
        "class Sentiment_Model(nn.Module):\n",
        "  # init function\n",
        "  def __init__(self, input_size, embedding_neurons, hidden_neurons):\n",
        "    # initialization of mother class\n",
        "    super(Sentiment_Model, self).__init__()\n",
        "\n",
        "    # embedding layer: input -> embeding\n",
        "    self.embedding = nn.Embedding(input_size, embedding_neurons)\n",
        "\n",
        "    # 1st linear function: embeding -> hidden_neurons\n",
        "    self.layer_1 = nn.Linear(embedding_neurons, hidden_neurons)\n",
        "    # activation function for 1st layer\n",
        "    self.relu_1 = nn.ReLU()\n",
        "\n",
        "    # output layer: hidden_neurons -> 1 neuron (classification)\n",
        "    self.output = nn.Linear(hidden_neurons, 1)\n",
        "    # activation using the sigmoid function\n",
        "    self.activation = nn.Sigmoid()\n",
        " \n",
        "\n",
        "  def forward(self, x, lengths):\n",
        "\n",
        "    out = self.embedding(x).sum(dim=0)\n",
        "\n",
        "    out = self.layer_1(out)\n",
        "    out = self.relu_1(out)\n",
        "\n",
        "    out = self.output(out)\n",
        "    out = self.activation(out)\n",
        "\n",
        "    return out.squeeze(1)"
      ],
      "execution_count": 17,
      "outputs": []
    },
    {
      "cell_type": "markdown",
      "metadata": {
        "id": "bTQ4cuIeINQR"
      },
      "source": [
        "Finally, we are going to define a function that we are going to use to determine our models' train accuracy."
      ]
    },
    {
      "cell_type": "code",
      "metadata": {
        "id": "IdJWK0UxITXN"
      },
      "source": [
        "def my_accuracy(pred, label):\n",
        "\n",
        "    #round predictions to the closest integer\n",
        "    preds = torch.round(pred)\n",
        "    # find the correct ones\n",
        "    correct = (preds == label).float()\n",
        "    # simple accuracy\n",
        "    acc = correct.sum() / len(correct)\n",
        "    return acc"
      ],
      "execution_count": 18,
      "outputs": []
    },
    {
      "cell_type": "markdown",
      "metadata": {
        "id": "8ADJryd_hLAZ"
      },
      "source": [
        "### Training the model"
      ]
    },
    {
      "cell_type": "markdown",
      "metadata": {
        "id": "rfCQFPeRhfy4"
      },
      "source": [
        "Code for training one epoch, which involves the learning procedure that we've learned from theory"
      ]
    },
    {
      "cell_type": "code",
      "metadata": {
        "id": "I3QZHUQhhKiQ"
      },
      "source": [
        "def train_epoch(model, iterator, optimizer, loss):\n",
        "\n",
        "  epoch_loss = 0\n",
        "  epoch_accuracy = 0\n",
        "  # hold the n of items in the iterator in order to return the mean loss and accuracy\n",
        "  items = 0\n",
        "\n",
        "  model.train()\n",
        "  \n",
        "  for batch in iterator:\n",
        "    items += 1\n",
        "    # get text info\n",
        "    text, len = batch.text\n",
        "    # clear gradients\n",
        "    optimizer.zero_grad()\n",
        "\n",
        "    # forward probagation\n",
        "    outputs = model.forward(text, len)\n",
        "    \n",
        "    # compute loss\n",
        "    ret_loss = loss(outputs, batch.target)\n",
        "    # compute accuracy\n",
        "    accuracy = my_accuracy(outputs, batch.target)\n",
        "\n",
        "    # pass gradients back, startiing on loss value\n",
        "    ret_loss.backward()\n",
        "    # update parameters\n",
        "    optimizer.step()\n",
        "    # compute loss and accuracy\n",
        "    epoch_loss += ret_loss.item()\n",
        "    epoch_accuracy += accuracy.item()\n",
        "\n",
        "  return epoch_loss / items, epoch_accuracy/items\n"
      ],
      "execution_count": 19,
      "outputs": []
    },
    {
      "cell_type": "markdown",
      "metadata": {
        "id": "Lbtsexpihjxs"
      },
      "source": [
        "The training procedure is simple: We train for every epoch that the user requested, and store the loss in order to plot it"
      ]
    },
    {
      "cell_type": "code",
      "metadata": {
        "id": "QTn1iPvEhjj8"
      },
      "source": [
        "def train(model, epochs, optimizer, iterator, loss):\n",
        "  losses = []\n",
        "\n",
        "  for epoch in range(epochs):\n",
        "    epoch_loss, epoch_accuracy = train_epoch(model, iterator, optimizer, loss)\n",
        "    print(\"Epoch: \", epoch, \" loss: \", round(epoch_loss,4), \" accuracy: \", round(epoch_accuracy,4))\n",
        "    losses.append(epoch_loss)\n",
        "\n",
        "  return losses"
      ],
      "execution_count": 20,
      "outputs": []
    },
    {
      "cell_type": "markdown",
      "metadata": {
        "id": "mZKObO9KfLYt"
      },
      "source": [
        "### $1^{st}$ Model"
      ]
    },
    {
      "cell_type": "markdown",
      "metadata": {
        "id": "v8MWErq6jgz3"
      },
      "source": [
        "#### Definitions"
      ]
    },
    {
      "cell_type": "markdown",
      "metadata": {
        "id": "LnxUnno3fYrE"
      },
      "source": [
        "We will now define the hyperparameters that we will pass for our first model"
      ]
    },
    {
      "cell_type": "code",
      "metadata": {
        "id": "2gCnPEp2NeN0",
        "colab": {
          "base_uri": "https://localhost:8080/"
        },
        "outputId": "ee930bfa-d8fd-4c80-b588-3df77b8e4bed"
      },
      "source": [
        "epochs = 10\n",
        "learning_rate = 0.001\n",
        "\n",
        "input_shape = len(TEXT.vocab)\n",
        "\n",
        "embedding_neuros = len(TEXT.vocab.vectors[0])\n",
        "\n",
        "hidden_neurons = 128\n",
        "\n",
        "loss = torch.nn.BCELoss()\n",
        "model = Sentiment_Model(input_shape, embedding_neuros, hidden_neurons)\n",
        "optimizer = torch.optim.Adam(model.parameters(), lr=learning_rate)\n",
        "\n",
        "# initialize the weights\n",
        "model.embedding.weight.data.copy_(TEXT.vocab.vectors)"
      ],
      "execution_count": 21,
      "outputs": [
        {
          "output_type": "execute_result",
          "data": {
            "text/plain": [
              "tensor([[ 1.4779,  0.9154, -0.0154,  ..., -1.5596,  0.7287,  0.4330],\n",
              "        [-0.4040, -0.2261, -0.7617,  ..., -0.5244, -0.5593,  1.0435],\n",
              "        [ 0.1189,  0.1525, -0.0821,  ..., -0.5751, -0.2667,  0.9212],\n",
              "        ...,\n",
              "        [ 0.0828, -1.1594,  0.5331,  ..., -0.5648,  0.0319, -0.5568],\n",
              "        [-0.0382, -0.4149,  0.8220,  ...,  0.2949, -0.0117, -0.1182],\n",
              "        [-0.1548,  1.0891, -0.3383,  ...,  0.6008, -1.5106,  0.5807]])"
            ]
          },
          "metadata": {
            "tags": []
          },
          "execution_count": 21
        }
      ]
    },
    {
      "cell_type": "markdown",
      "metadata": {
        "id": "T4ZTqiO_ji7L"
      },
      "source": [
        "#### Training"
      ]
    },
    {
      "cell_type": "markdown",
      "metadata": {
        "id": "PpACuidgsWeC"
      },
      "source": [
        "We are now ready to train our model and observe the results"
      ]
    },
    {
      "cell_type": "code",
      "metadata": {
        "id": "C0btaRQbjkmN",
        "colab": {
          "base_uri": "https://localhost:8080/"
        },
        "outputId": "b6a1cb06-a90d-4585-9799-5ca3ea0920bb"
      },
      "source": [
        "losses = train(model, epochs, optimizer, train_iterator, loss)"
      ],
      "execution_count": 22,
      "outputs": [
        {
          "output_type": "stream",
          "text": [
            "Epoch:  0  loss:  0.5062  accuracy:  0.7506\n",
            "Epoch:  1  loss:  0.4383  accuracy:  0.7973\n",
            "Epoch:  2  loss:  0.4187  accuracy:  0.808\n",
            "Epoch:  3  loss:  0.408  accuracy:  0.8136\n",
            "Epoch:  4  loss:  0.3975  accuracy:  0.8189\n",
            "Epoch:  5  loss:  0.3887  accuracy:  0.8228\n",
            "Epoch:  6  loss:  0.381  accuracy:  0.8266\n",
            "Epoch:  7  loss:  0.3735  accuracy:  0.8307\n",
            "Epoch:  8  loss:  0.3664  accuracy:  0.8344\n",
            "Epoch:  9  loss:  0.3591  accuracy:  0.838\n"
          ],
          "name": "stdout"
        }
      ]
    },
    {
      "cell_type": "code",
      "metadata": {
        "id": "hmgWT22BUUTv",
        "colab": {
          "base_uri": "https://localhost:8080/",
          "height": 284
        },
        "outputId": "f40dfda1-b6fa-488b-ee89-1750199b53ee"
      },
      "source": [
        "plt.plot(losses)\n",
        "plt.xlabel(\"Epochs\", fontsize=15)\n",
        "plt.ylabel(\"BCE Loss\", rotation=0, fontsize=15)\n",
        "plt.show()"
      ],
      "execution_count": 23,
      "outputs": [
        {
          "output_type": "display_data",
          "data": {
            "image/png": "[encoded data removed]",
            "text/plain": [
              "<Figure size 432x288 with 1 Axes>"
            ]
          },
          "metadata": {
            "tags": [],
            "needs_background": "light"
          }
        }
      ]
    },
    {
      "cell_type": "markdown",
      "metadata": {
        "id": "vMVzVbzUJSV1"
      },
      "source": [
        "As we can see, our results are rather satisfying, but we can definately try more, in order to create a better model."
      ]
    },
    {
      "cell_type": "markdown",
      "metadata": {
        "id": "hm5Cr6N9JbAE"
      },
      "source": [
        "### $2^{nd}$ Model"
      ]
    },
    {
      "cell_type": "markdown",
      "metadata": {
        "id": "jq6CPwRgJecZ"
      },
      "source": [
        "We are going to expirement with different hyperparameters this time, by increasing the learning rate a bit, and by adding more neurons to both of our layers."
      ]
    },
    {
      "cell_type": "markdown",
      "metadata": {
        "id": "wXrmcrewKtTT"
      },
      "source": [
        "#### Definitions"
      ]
    },
    {
      "cell_type": "code",
      "metadata": {
        "id": "57y6xUAYKWH2",
        "colab": {
          "base_uri": "https://localhost:8080/"
        },
        "outputId": "1aa7bc23-eb14-4516-a34c-39190ee477bd"
      },
      "source": [
        "epochs = 10\n",
        "learning_rate = 0.003\n",
        "\n",
        "input_shape = len(TEXT.vocab)\n",
        "\n",
        "embedding_neuros = 128\n",
        "hidden_neurons = 256\n",
        "\n",
        "loss = torch.nn.BCELoss()\n",
        "second_model = Sentiment_Model(input_shape, embedding_neuros, hidden_neurons)\n",
        "optimizer = torch.optim.Adam(second_model.parameters(), lr=learning_rate)\n",
        "\n",
        "# initialize the weights\n",
        "model.embedding.weight.data.copy_(TEXT.vocab.vectors)"
      ],
      "execution_count": 24,
      "outputs": [
        {
          "output_type": "execute_result",
          "data": {
            "text/plain": [
              "tensor([[ 1.4779,  0.9154, -0.0154,  ..., -1.5596,  0.7287,  0.4330],\n",
              "        [-0.4040, -0.2261, -0.7617,  ..., -0.5244, -0.5593,  1.0435],\n",
              "        [ 0.1189,  0.1525, -0.0821,  ..., -0.5751, -0.2667,  0.9212],\n",
              "        ...,\n",
              "        [ 0.0828, -1.1594,  0.5331,  ..., -0.5648,  0.0319, -0.5568],\n",
              "        [-0.0382, -0.4149,  0.8220,  ...,  0.2949, -0.0117, -0.1182],\n",
              "        [-0.1548,  1.0891, -0.3383,  ...,  0.6008, -1.5106,  0.5807]])"
            ]
          },
          "metadata": {
            "tags": []
          },
          "execution_count": 24
        }
      ]
    },
    {
      "cell_type": "markdown",
      "metadata": {
        "id": "58i5rxWrKvnE"
      },
      "source": [
        "#### Training"
      ]
    },
    {
      "cell_type": "code",
      "metadata": {
        "id": "qnwkY2JBKxFG",
        "colab": {
          "base_uri": "https://localhost:8080/"
        },
        "outputId": "6c448212-712a-44de-e4c3-dedefb625fd7"
      },
      "source": [
        "losses = train(second_model, epochs, optimizer, train_iterator, loss)"
      ],
      "execution_count": 25,
      "outputs": [
        {
          "output_type": "stream",
          "text": [
            "Epoch:  0  loss:  0.8018  accuracy:  0.7458\n",
            "Epoch:  1  loss:  0.4337  accuracy:  0.8005\n",
            "Epoch:  2  loss:  0.4162  accuracy:  0.8086\n",
            "Epoch:  3  loss:  0.4028  accuracy:  0.8147\n",
            "Epoch:  4  loss:  0.39  accuracy:  0.8207\n",
            "Epoch:  5  loss:  0.3768  accuracy:  0.8268\n",
            "Epoch:  6  loss:  0.3643  accuracy:  0.8332\n",
            "Epoch:  7  loss:  0.3509  accuracy:  0.8392\n",
            "Epoch:  8  loss:  0.336  accuracy:  0.8467\n",
            "Epoch:  9  loss:  0.3227  accuracy:  0.8531\n"
          ],
          "name": "stdout"
        }
      ]
    },
    {
      "cell_type": "code",
      "metadata": {
        "id": "Ofuttf8LUaqa",
        "colab": {
          "base_uri": "https://localhost:8080/",
          "height": 279
        },
        "outputId": "51ef041b-d217-492c-9e34-f6d171e32274"
      },
      "source": [
        "plt.plot(losses)\n",
        "plt.xlabel(\"Epochs\")\n",
        "plt.ylabel(\"BCE Loss\", fontsize=15)\n",
        "plt.show()"
      ],
      "execution_count": 26,
      "outputs": [
        {
          "output_type": "display_data",
          "data": {
            "image/png": "[encoded data removed]",
            "text/plain": [
              "<Figure size 432x288 with 1 Axes>"
            ]
          },
          "metadata": {
            "tags": [],
            "needs_background": "light"
          }
        }
      ]
    },
    {
      "cell_type": "markdown",
      "metadata": {
        "id": "lG2P1zLtX3Fg"
      },
      "source": [
        "## Comparison to the Logistic Regression Model"
      ]
    },
    {
      "cell_type": "markdown",
      "metadata": {
        "id": "ecYg1xvXX8Dq"
      },
      "source": [
        "As we can see, the model that we developed using NNs with pre-trained vectors behave better than the LogReg model. That is mainly because of the pre-trained vector embeddings, as we saw that the TFIDF model behaved slightly worse than the LogReg.\n",
        "\n",
        "Sentiment analysis is a rather simple task, linearly seperable, that does not require complex networks in order to be predicted. This is why such networks are used for more complex tasks. However, we can achieve good reults, without overfitting, by using a simple Feed Forward NN model, with only one hidden layer.\n",
        "\n",
        "I did not experiment with more layers, as this would have made the model even more complex, and it most likely would have caused overfitting"
      ]
    }
  ]
}