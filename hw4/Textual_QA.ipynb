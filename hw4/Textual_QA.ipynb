{
  "nbformat": 4,
  "nbformat_minor": 0,
  "metadata": {
    "colab": {
      "name": "Textual_QA.ipynb",
      "provenance": [],
      "toc_visible": true
    },
    "kernelspec": {
      "name": "python3",
      "display_name": "Python 3"
    },
    "accelerator": "GPU",
    "widgets": {
      "application/vnd.jupyter.widget-state+json": {
        "20bb31e6f32848688dc3fdc2c92645ec": {
          "model_module": "@jupyter-widgets/controls",
          "model_name": "HBoxModel",
          "state": {
            "_view_name": "HBoxView",
            "_dom_classes": [],
            "_model_name": "HBoxModel",
            "_view_module": "@jupyter-widgets/controls",
            "_model_module_version": "1.5.0",
            "_view_count": null,
            "_view_module_version": "1.5.0",
            "box_style": "",
            "layout": "IPY_MODEL_ebd1213227a54b44b6a3cf9bdd62e5fa",
            "_model_module": "@jupyter-widgets/controls",
            "children": [
              "IPY_MODEL_ed8aa6e388cd49e8bb09ea7a45801ad3",
              "IPY_MODEL_0bf8af40be924f3e99ab485ec5f523c2"
            ]
          }
        },
        "ebd1213227a54b44b6a3cf9bdd62e5fa": {
          "model_module": "@jupyter-widgets/base",
          "model_name": "LayoutModel",
          "state": {
            "_view_name": "LayoutView",
            "grid_template_rows": null,
            "right": null,
            "justify_content": null,
            "_view_module": "@jupyter-widgets/base",
            "overflow": null,
            "_model_module_version": "1.2.0",
            "_view_count": null,
            "flex_flow": null,
            "width": null,
            "min_width": null,
            "border": null,
            "align_items": null,
            "bottom": null,
            "_model_module": "@jupyter-widgets/base",
            "top": null,
            "grid_column": null,
            "overflow_y": null,
            "overflow_x": null,
            "grid_auto_flow": null,
            "grid_area": null,
            "grid_template_columns": null,
            "flex": null,
            "_model_name": "LayoutModel",
            "justify_items": null,
            "grid_row": null,
            "max_height": null,
            "align_content": null,
            "visibility": null,
            "align_self": null,
            "height": null,
            "min_height": null,
            "padding": null,
            "grid_auto_rows": null,
            "grid_gap": null,
            "max_width": null,
            "order": null,
            "_view_module_version": "1.2.0",
            "grid_template_areas": null,
            "object_position": null,
            "object_fit": null,
            "grid_auto_columns": null,
            "margin": null,
            "display": null,
            "left": null
          }
        },
        "ed8aa6e388cd49e8bb09ea7a45801ad3": {
          "model_module": "@jupyter-widgets/controls",
          "model_name": "FloatProgressModel",
          "state": {
            "_view_name": "ProgressView",
            "style": "IPY_MODEL_14335e52fca84e1990deb0e54879fb9a",
            "_dom_classes": [],
            "description": "100%",
            "_model_name": "FloatProgressModel",
            "bar_style": "success",
            "max": 26247,
            "_view_module": "@jupyter-widgets/controls",
            "_model_module_version": "1.5.0",
            "value": 26247,
            "_view_count": null,
            "_view_module_version": "1.5.0",
            "orientation": "horizontal",
            "min": 0,
            "description_tooltip": null,
            "_model_module": "@jupyter-widgets/controls",
            "layout": "IPY_MODEL_7da74a0498ff4692ac08a6e02be6d64c"
          }
        },
        "0bf8af40be924f3e99ab485ec5f523c2": {
          "model_module": "@jupyter-widgets/controls",
          "model_name": "HTMLModel",
          "state": {
            "_view_name": "HTMLView",
            "style": "IPY_MODEL_16aee4a5b24b4b3eaf09ef70e0a595e2",
            "_dom_classes": [],
            "description": "",
            "_model_name": "HTMLModel",
            "placeholder": "​",
            "_view_module": "@jupyter-widgets/controls",
            "_model_module_version": "1.5.0",
            "value": " 26247/26247 [17:11&lt;00:00, 25.45it/s]",
            "_view_count": null,
            "_view_module_version": "1.5.0",
            "description_tooltip": null,
            "_model_module": "@jupyter-widgets/controls",
            "layout": "IPY_MODEL_cce71ec437a04b5ab34a24ae51b62c96"
          }
        },
        "14335e52fca84e1990deb0e54879fb9a": {
          "model_module": "@jupyter-widgets/controls",
          "model_name": "ProgressStyleModel",
          "state": {
            "_view_name": "StyleView",
            "_model_name": "ProgressStyleModel",
            "description_width": "initial",
            "_view_module": "@jupyter-widgets/base",
            "_model_module_version": "1.5.0",
            "_view_count": null,
            "_view_module_version": "1.2.0",
            "bar_color": null,
            "_model_module": "@jupyter-widgets/controls"
          }
        },
        "7da74a0498ff4692ac08a6e02be6d64c": {
          "model_module": "@jupyter-widgets/base",
          "model_name": "LayoutModel",
          "state": {
            "_view_name": "LayoutView",
            "grid_template_rows": null,
            "right": null,
            "justify_content": null,
            "_view_module": "@jupyter-widgets/base",
            "overflow": null,
            "_model_module_version": "1.2.0",
            "_view_count": null,
            "flex_flow": null,
            "width": null,
            "min_width": null,
            "border": null,
            "align_items": null,
            "bottom": null,
            "_model_module": "@jupyter-widgets/base",
            "top": null,
            "grid_column": null,
            "overflow_y": null,
            "overflow_x": null,
            "grid_auto_flow": null,
            "grid_area": null,
            "grid_template_columns": null,
            "flex": null,
            "_model_name": "LayoutModel",
            "justify_items": null,
            "grid_row": null,
            "max_height": null,
            "align_content": null,
            "visibility": null,
            "align_self": null,
            "height": null,
            "min_height": null,
            "padding": null,
            "grid_auto_rows": null,
            "grid_gap": null,
            "max_width": null,
            "order": null,
            "_view_module_version": "1.2.0",
            "grid_template_areas": null,
            "object_position": null,
            "object_fit": null,
            "grid_auto_columns": null,
            "margin": null,
            "display": null,
            "left": null
          }
        },
        "16aee4a5b24b4b3eaf09ef70e0a595e2": {
          "model_module": "@jupyter-widgets/controls",
          "model_name": "DescriptionStyleModel",
          "state": {
            "_view_name": "StyleView",
            "_model_name": "DescriptionStyleModel",
            "description_width": "",
            "_view_module": "@jupyter-widgets/base",
            "_model_module_version": "1.5.0",
            "_view_count": null,
            "_view_module_version": "1.2.0",
            "_model_module": "@jupyter-widgets/controls"
          }
        },
        "cce71ec437a04b5ab34a24ae51b62c96": {
          "model_module": "@jupyter-widgets/base",
          "model_name": "LayoutModel",
          "state": {
            "_view_name": "LayoutView",
            "grid_template_rows": null,
            "right": null,
            "justify_content": null,
            "_view_module": "@jupyter-widgets/base",
            "overflow": null,
            "_model_module_version": "1.2.0",
            "_view_count": null,
            "flex_flow": null,
            "width": null,
            "min_width": null,
            "border": null,
            "align_items": null,
            "bottom": null,
            "_model_module": "@jupyter-widgets/base",
            "top": null,
            "grid_column": null,
            "overflow_y": null,
            "overflow_x": null,
            "grid_auto_flow": null,
            "grid_area": null,
            "grid_template_columns": null,
            "flex": null,
            "_model_name": "LayoutModel",
            "justify_items": null,
            "grid_row": null,
            "max_height": null,
            "align_content": null,
            "visibility": null,
            "align_self": null,
            "height": null,
            "min_height": null,
            "padding": null,
            "grid_auto_rows": null,
            "grid_gap": null,
            "max_width": null,
            "order": null,
            "_view_module_version": "1.2.0",
            "grid_template_areas": null,
            "object_position": null,
            "object_fit": null,
            "grid_auto_columns": null,
            "margin": null,
            "display": null,
            "left": null
          }
        }
      }
    }
  },
  "cells": [
    {
      "cell_type": "markdown",
      "metadata": {
        "id": "0Wdtnxl870KG"
      },
      "source": [
        "# Textual Question Answering for the SQuAD dataset"
      ]
    },
    {
      "cell_type": "markdown",
      "metadata": {
        "id": "TVrjDedJ77Xr"
      },
      "source": [
        "The goal of this notebook is to build a BERT-based model which returns __an answer__, given a user question and a passage which includes the actual answer to the question. We are going to use the SQuAD 2.0 dataset, and begin our testings based on the bert-base-uncased model. We are going to fine-tune it, and evaluate its behaviour based on the dataset."
      ]
    },
    {
      "cell_type": "markdown",
      "metadata": {
        "id": "_l9X7yRk8dBA"
      },
      "source": [
        "## Import Libraries"
      ]
    },
    {
      "cell_type": "code",
      "metadata": {
        "colab": {
          "base_uri": "https://localhost:8080/"
        },
        "id": "CgTh18VR8fWc",
        "outputId": "9726188a-71e2-4059-ed6d-e97b72a899b6"
      },
      "source": [
        "!pip3 install transformers\n",
        "\n",
        "from transformers import BertTokenizerFast\n",
        "\n",
        "from transformers import BertForQuestionAnswering\n",
        "from transformers import BertForQuestionAnswering\n",
        "from torch.utils.data import DataLoader\n",
        "from transformers import AdamW\n",
        "import tqdm.notebook as tq\n",
        "\n",
        "import torch\n",
        "# for json parsing\n",
        "import json\n",
        "# For data vizualization \n",
        "import matplotlib as mpl\n",
        "import matplotlib.pyplot as plt\n",
        "# For large and multi-dimensional arrays\n",
        "import numpy as np\n",
        "# For basic cleaning and data preprocessing \n",
        "import re\n",
        "# For data manipulation and analysis\n",
        "import pandas as pd\n",
        "import nltk\n",
        "nltk.download('punkt')\n",
        "# fancy progress bar\n",
        "from tqdm import tqdm \n",
        "# time measurements\n",
        "import time\n",
        "# some math\n",
        "import math"
      ],
      "execution_count": 1,
      "outputs": [
        {
          "output_type": "stream",
          "text": [
            "Requirement already satisfied: transformers in /usr/local/lib/python3.6/dist-packages (4.3.2)\n",
            "Requirement already satisfied: importlib-metadata; python_version < \"3.8\" in /usr/local/lib/python3.6/dist-packages (from transformers) (3.4.0)\n",
            "Requirement already satisfied: filelock in /usr/local/lib/python3.6/dist-packages (from transformers) (3.0.12)\n",
            "Requirement already satisfied: numpy>=1.17 in /usr/local/lib/python3.6/dist-packages (from transformers) (1.19.5)\n",
            "Requirement already satisfied: tokenizers<0.11,>=0.10.1 in /usr/local/lib/python3.6/dist-packages (from transformers) (0.10.1)\n",
            "Requirement already satisfied: regex!=2019.12.17 in /usr/local/lib/python3.6/dist-packages (from transformers) (2019.12.20)\n",
            "Requirement already satisfied: sacremoses in /usr/local/lib/python3.6/dist-packages (from transformers) (0.0.43)\n",
            "Requirement already satisfied: tqdm>=4.27 in /usr/local/lib/python3.6/dist-packages (from transformers) (4.41.1)\n",
            "Requirement already satisfied: requests in /usr/local/lib/python3.6/dist-packages (from transformers) (2.23.0)\n",
            "Requirement already satisfied: dataclasses; python_version < \"3.7\" in /usr/local/lib/python3.6/dist-packages (from transformers) (0.8)\n",
            "Requirement already satisfied: packaging in /usr/local/lib/python3.6/dist-packages (from transformers) (20.9)\n",
            "Requirement already satisfied: typing-extensions>=3.6.4; python_version < \"3.8\" in /usr/local/lib/python3.6/dist-packages (from importlib-metadata; python_version < \"3.8\"->transformers) (3.7.4.3)\n",
            "Requirement already satisfied: zipp>=0.5 in /usr/local/lib/python3.6/dist-packages (from importlib-metadata; python_version < \"3.8\"->transformers) (3.4.0)\n",
            "Requirement already satisfied: click in /usr/local/lib/python3.6/dist-packages (from sacremoses->transformers) (7.1.2)\n",
            "Requirement already satisfied: six in /usr/local/lib/python3.6/dist-packages (from sacremoses->transformers) (1.15.0)\n",
            "Requirement already satisfied: joblib in /usr/local/lib/python3.6/dist-packages (from sacremoses->transformers) (1.0.0)\n",
            "Requirement already satisfied: certifi>=2017.4.17 in /usr/local/lib/python3.6/dist-packages (from requests->transformers) (2020.12.5)\n",
            "Requirement already satisfied: chardet<4,>=3.0.2 in /usr/local/lib/python3.6/dist-packages (from requests->transformers) (3.0.4)\n",
            "Requirement already satisfied: urllib3!=1.25.0,!=1.25.1,<1.26,>=1.21.1 in /usr/local/lib/python3.6/dist-packages (from requests->transformers) (1.24.3)\n",
            "Requirement already satisfied: idna<3,>=2.5 in /usr/local/lib/python3.6/dist-packages (from requests->transformers) (2.10)\n",
            "Requirement already satisfied: pyparsing>=2.0.2 in /usr/local/lib/python3.6/dist-packages (from packaging->transformers) (2.4.7)\n",
            "[nltk_data] Downloading package punkt to /root/nltk_data...\n",
            "[nltk_data]   Package punkt is already up-to-date!\n"
          ],
          "name": "stdout"
        }
      ]
    },
    {
      "cell_type": "markdown",
      "metadata": {
        "id": "tGR1NKaQ8fn4"
      },
      "source": [
        "## The SQuAD 2.0 Dataset"
      ]
    },
    {
      "cell_type": "markdown",
      "metadata": {
        "id": "dYZ9etAk8iZ0"
      },
      "source": [
        "The SQuAD dataset contains several passages, questions upon them, and their respective answers. It is stored in JSON files, thus we will have to parse them and store them in a pandas dataframe."
      ]
    },
    {
      "cell_type": "markdown",
      "metadata": {
        "id": "aocSUiOz56Fe"
      },
      "source": [
        "The usefull info that we want to mine from the dataset is the following:\n",
        " - Each __question__ posed\n",
        " - Each __answer__ to the question (there might be more than one)\n",
        " - The __label__ of each answer, aka the start end the end point in the context\n",
        " - The information if the answer is __impossible__\n",
        " - Each __context__ a.k.a. the paragraphs that answer the questions\n",
        " - The __full text__ in the way that BERT wants it\n",
        "\n",
        "The SQuAD 2.0 dataset contains questions that can not be answered. If that is the case, we append an empty string as an answer, in order to encode this info that will be used for training.\n",
        "\n",
        "The function used in order to parse the SQuAD dataset is the following:"
      ]
    },
    {
      "cell_type": "code",
      "metadata": {
        "id": "Ckz6NZZZLh_c"
      },
      "source": [
        "# function to parse the squad dataset\n",
        "def parse_squad(filename):\n",
        "    # dict -> df\n",
        "    data = {'id': [], 'question': [], 'answer': [], 'context': [], 'label': [], 'impossible_answer': []}\n",
        "    # open the file\n",
        "    with open(filename) as f:\n",
        "        # and store its json values\n",
        "        dataset = json.load(f)\n",
        "        # for each article\n",
        "        for article in dataset['data']:\n",
        "            # for each paragraph\n",
        "            for par in article['paragraphs']:\n",
        "                # for each QA\n",
        "                for qa in par['qas']:\n",
        "                    # for each one of the gold answers\n",
        "                    if (qa['is_impossible']):\n",
        "                        data['id'].append(qa['id'])\n",
        "                        data['question'].append(qa['question'])\n",
        "                        data['answer'].append(\"\")\n",
        "                        data['context'].append(par['context'])\n",
        "                        data['label'].append((0,0))\n",
        "                        data['impossible_answer'].append(qa['is_impossible'])\n",
        "\n",
        "                    else:\n",
        "                        for ans in qa['answers']:\n",
        "                            # keep id, question, answer and context\n",
        "                            data['id'].append(qa['id'])\n",
        "                            data['question'].append(qa['question'])\n",
        "                            data['answer'].append(ans['text'])\n",
        "                            data['context'].append(par['context'])\n",
        "                            # we want to store the labels, aka the start and the end of the answer\n",
        "                            qstart = ans['answer_start']\n",
        "                            qend = qstart + len (ans['text'])\n",
        "                            data['label'].append((qstart, qend))\n",
        "                            # does the answer exist?\n",
        "                            data['impossible_answer'].append(qa['is_impossible'])\n",
        "    # create the df and return it\n",
        "    return pd.DataFrame(data)\n"
      ],
      "execution_count": 2,
      "outputs": []
    },
    {
      "cell_type": "markdown",
      "metadata": {
        "id": "8laCLZmz9tAj"
      },
      "source": [
        "If we load both of the datasets in the same time, memory crashes. Thus, we are going to load only the train dataframe, in order to fine-tune the model."
      ]
    },
    {
      "cell_type": "code",
      "metadata": {
        "id": "d57IatF_MJFh"
      },
      "source": [
        "# train_df = parse_squad(\"/content/drive/MyDrive/tn2/train-v2.0.json\")\n",
        "valid_df = parse_squad(\"/content/drive/MyDrive/tn2/dev-v2.0.json\")"
      ],
      "execution_count": 3,
      "outputs": []
    },
    {
      "cell_type": "markdown",
      "metadata": {
        "id": "HdUoZwFM9wJD"
      },
      "source": [
        "Let's take a look..."
      ]
    },
    {
      "cell_type": "code",
      "metadata": {
        "id": "E_A5uLUl1dnj"
      },
      "source": [
        "train_df.head()"
      ],
      "execution_count": 4,
      "outputs": []
    },
    {
      "cell_type": "markdown",
      "metadata": {
        "id": "qCXkF_2XvZd7"
      },
      "source": [
        "## Using pre-trained BERT models"
      ]
    },
    {
      "cell_type": "markdown",
      "metadata": {
        "id": "r2WbnFI8GyZZ"
      },
      "source": [
        "As mentioned in the instructions given, we are going to use the `bert-base-uncased` pre-trained model. We are going to feed it with our data, fine-tune it and then test it."
      ]
    },
    {
      "cell_type": "markdown",
      "metadata": {
        "id": "NZO6BI6HvbqT"
      },
      "source": [
        "### Creating the tokens"
      ]
    },
    {
      "cell_type": "markdown",
      "metadata": {
        "id": "nAQPSccTGNSK"
      },
      "source": [
        "The first order of business is to create the tokens to pass to the model. In order to do this, we must load the tokenizer for our model, and pass each row of our dataframe through it. The BERT models accept inputs that are in the form:\n",
        "\n",
        "                                `[CLS] + Question + [SEP] + passage + [SEP]`"
      ]
    },
    {
      "cell_type": "markdown",
      "metadata": {
        "id": "bmfWUo6pAWOy"
      },
      "source": [
        "Load the tokenizer from the model we are going to use, the `bert-base-uncased`."
      ]
    },
    {
      "cell_type": "code",
      "metadata": {
        "id": "664jf-jXvfuX"
      },
      "source": [
        "tokenizer = BertTokenizerFast.from_pretrained('bert-base-uncased')"
      ],
      "execution_count": 5,
      "outputs": []
    },
    {
      "cell_type": "markdown",
      "metadata": {
        "id": "wm25zOcVAeTD"
      },
      "source": [
        "Create the tokens for the train and validation datasets using the tokenizers that we have loaded."
      ]
    },
    {
      "cell_type": "code",
      "metadata": {
        "id": "KCwId7PBCPVO"
      },
      "source": [
        "# tokenize the datasets\n",
        "train_encoding = tokenizer(list(train_df['question'].values), list(train_df['context'].values), truncation=True, padding=True)"
      ],
      "execution_count": 6,
      "outputs": []
    },
    {
      "cell_type": "markdown",
      "metadata": {
        "id": "aSvssiuOULtA"
      },
      "source": [
        "Next up, in order to correctly predict the location of the answers, we must insert the labels to our encoded tokens. The labels are currently pointing to characters, thus we must change them in order to point to tokens. We are going to use the `char_to_token` function."
      ]
    },
    {
      "cell_type": "code",
      "metadata": {
        "id": "v4LhAgryUWzY"
      },
      "source": [
        "def add_labels(encoding, df):\n",
        "    # list to append the labels\n",
        "    token_labels = []\n",
        "    \n",
        "    for i in range(len(df)):\n",
        "        # start position of the answer\n",
        "        start = encoding.char_to_token(i, df.iloc[i]['label'][0], sequence_index=1)\n",
        "        # if it is None, set it to maximum length\n",
        "        if start is None:\n",
        "            start = tokenizer.model_max_length\n",
        "        # end position of the answer\n",
        "        end = encoding.char_to_token(i, df.iloc[i]['label'][1], sequence_index=1)\n",
        "        # if it is None, ajust it to match the start of the question\n",
        "        if end is None:\n",
        "            end = start + len(df.iloc[i]['answer'].split()) \n",
        "        # append to our list\n",
        "        token_labels.append((start, end))\n",
        "    # new column to the tokens\n",
        "    encoding.update({'labels': token_labels})"
      ],
      "execution_count": 7,
      "outputs": []
    },
    {
      "cell_type": "markdown",
      "metadata": {
        "id": "kNaG9ZQcWrsX"
      },
      "source": [
        "Apply the function to our dataframe."
      ]
    },
    {
      "cell_type": "code",
      "metadata": {
        "id": "IcYaP8gZVZjN"
      },
      "source": [
        "add_labels(train_encoding, train_df)"
      ],
      "execution_count": 8,
      "outputs": []
    },
    {
      "cell_type": "markdown",
      "metadata": {
        "id": "v23U2lViYV-E"
      },
      "source": [
        "We are going to use a batch size of `8` for the training. When I tested for bigger batch size, the program ran out of memory, so we are going to run it whith a small one, specifically 8."
      ]
    },
    {
      "cell_type": "code",
      "metadata": {
        "id": "chvnMYOyf86Z"
      },
      "source": [
        "class SquadDataset(torch.utils.data.Dataset):\n",
        "    def __init__(self, encodings):\n",
        "        self.encodings = encodings\n",
        "\n",
        "    def __getitem__(self, idx):\n",
        "        return {key: torch.tensor(val[idx]) for key, val in self.encodings.items()}\n",
        "\n",
        "    def __len__(self):\n",
        "        return len(self.encodings.input_ids)\n",
        "\n",
        "train_dataset = SquadDataset(train_encoding)"
      ],
      "execution_count": 9,
      "outputs": []
    },
    {
      "cell_type": "code",
      "metadata": {
        "id": "CCc9iupeYR-U"
      },
      "source": [
        "# create the dataloaders\n",
        "train_data = DataLoader(train_dataset, batch_size=8, shuffle=True)"
      ],
      "execution_count": 10,
      "outputs": []
    },
    {
      "cell_type": "markdown",
      "metadata": {
        "id": "nNNXNv2FC11l"
      },
      "source": [
        "### Loading the model"
      ]
    },
    {
      "cell_type": "markdown",
      "metadata": {
        "id": "-p5nwmKfC2_-"
      },
      "source": [
        "As we mentioned, we are going to use the `bert-base-uncased` model. This is a pre-trained model, but is not optimized for our dataset. Hence, some weights in the model exist, but we aim to make them better by fine-tunning the model."
      ]
    },
    {
      "cell_type": "markdown",
      "metadata": {
        "id": "Mb8BaHsKBgrs"
      },
      "source": [
        "For this purpose, we are going to need an __optimizer__ and a __loss_function__, in order to further train the model. The learning rate hyperparameter that we are going to use is $10^{-5}$. I experimented with different hyperparameters, and came to the conclusion that this produces the best results."
      ]
    },
    {
      "cell_type": "code",
      "metadata": {
        "id": "yYt77pHTxszW",
        "colab": {
          "base_uri": "https://localhost:8080/"
        },
        "outputId": "3b1327f5-5bd9-4fc4-da8b-84f0dbeccdf1"
      },
      "source": [
        "# define our model\n",
        "model = BertForQuestionAnswering.from_pretrained('bert-base-uncased')\n",
        "# use GPU if available\n",
        "device = torch.device('cuda') if torch.cuda.is_available() else torch.device('cpu')\n",
        "# learning rate\n",
        "lr = 0.00001\n",
        "# optimizer\n",
        "optimizer = AdamW(model.parameters(), lr=lr)"
      ],
      "execution_count": 11,
      "outputs": [
        {
          "output_type": "stream",
          "text": [
            "Some weights of the model checkpoint at bert-base-uncased were not used when initializing BertForQuestionAnswering: ['cls.predictions.bias', 'cls.predictions.transform.dense.weight', 'cls.predictions.transform.dense.bias', 'cls.predictions.decoder.weight', 'cls.seq_relationship.weight', 'cls.seq_relationship.bias', 'cls.predictions.transform.LayerNorm.weight', 'cls.predictions.transform.LayerNorm.bias']\n",
            "- This IS expected if you are initializing BertForQuestionAnswering from the checkpoint of a model trained on another task or with another architecture (e.g. initializing a BertForSequenceClassification model from a BertForPreTraining model).\n",
            "- This IS NOT expected if you are initializing BertForQuestionAnswering from the checkpoint of a model that you expect to be exactly identical (initializing a BertForSequenceClassification model from a BertForSequenceClassification model).\n",
            "Some weights of BertForQuestionAnswering were not initialized from the model checkpoint at bert-base-uncased and are newly initialized: ['qa_outputs.weight', 'qa_outputs.bias']\n",
            "You should probably TRAIN this model on a down-stream task to be able to use it for predictions and inference.\n"
          ],
          "name": "stderr"
        }
      ]
    },
    {
      "cell_type": "markdown",
      "metadata": {
        "id": "PXZJu9prNPmo"
      },
      "source": [
        "### Further training the model"
      ]
    },
    {
      "cell_type": "markdown",
      "metadata": {
        "id": "SCBA0CSoNTAP"
      },
      "source": [
        "In order to achieve our goal, we are going to feed all of our dataset to the model, in order to train in on the specific questions. We are going to do so, the traditional way: by turing on the train mode, and train for the hyperparameters that we are going to define up next."
      ]
    },
    {
      "cell_type": "code",
      "metadata": {
        "id": "EMb6GLTrNPWj"
      },
      "source": [
        "# transfer model to GPU for faster calculations\n",
        "model.to(device)\n",
        "# enable training mode\n",
        "model.train()\n",
        "\n",
        "# define the number of epochs\n",
        "epochs = 2\n",
        "\n",
        "loss_list = []\n",
        "# for each epoch\n",
        "for epoch in range(epochs):\n",
        "    # for each batch in our data loader\n",
        "    for i, batch in tq.tqdm(enumerate(train_data), total= epochs * len(train_data), position=0, leave=True):\n",
        "        if (i == 1):\n",
        "            break\n",
        "        # reset the gradients\n",
        "        optimizer.zero_grad()\n",
        "        \n",
        "        # get the info from the data loader\n",
        "        ids = batch['input_ids'].to(device)\n",
        "        mask = batch['attention_mask'].to(device)\n",
        "        token_type_ids = batch['token_type_ids'].to(device)\n",
        "        labels = batch['labels'].to(device)\n",
        "        \n",
        "        # forward to our model in order to train it.\n",
        "        res = model.forward(ids, attention_mask=mask, start_positions=labels[:,0], end_positions=labels[:,1], token_type_ids=token_type_ids)\n",
        "        \n",
        "        # the first tensor is the loss\n",
        "        loss = res[0]\n",
        "        if (i == 0):\n",
        "            sum = 0\n",
        "        if (i % 100 == 0 and i > 0):\n",
        "            loss_list.append(sum / 100)\n",
        "            sum = 0\n",
        "\n",
        "        sum += loss.item()\n",
        "        # backprobagate\n",
        "        loss.backward()\n",
        "\n",
        "        optimizer.step()"
      ],
<<<<<<< HEAD
      "execution_count": null,
=======
      "execution_count": 12,
>>>>>>> a4979f340c7e3f152e2a96507b2126c343ae8000
      "outputs": []
    },
    {
      "cell_type": "markdown",
      "metadata": {
        "id": "B_CUAR_yWVgq"
      },
      "source": [
        "#### Plotting the Loss Metric"
      ]
    },
    {
      "cell_type": "markdown",
      "metadata": {
        "id": "zlfqzXXMX21s"
      },
      "source": [
        "Let's now plot the loss curve of our model, in order to observe how training proceeded."
      ]
    },
    {
      "cell_type": "code",
      "metadata": {
<<<<<<< HEAD
        "id": "8OcEJl85X8RP"
=======
        "id": "8OcEJl85X8RP",
        "colab": {
          "base_uri": "https://localhost:8080/",
          "height": 284
        },
        "outputId": "fe35b4ba-9591-4b8e-b0d0-94e4e2137de0"
>>>>>>> a4979f340c7e3f152e2a96507b2126c343ae8000
      },
      "source": [
        "plt.plot(loss_list)\n",
        "plt.xlabel(\"Batch\", fontsize=15)\n",
        "plt.ylabel(\"Loss\", rotation=0, fontsize=15)\n",
        "plt.show()"
      ],
<<<<<<< HEAD
      "execution_count": null,
      "outputs": []
=======
      "execution_count": 13,
      "outputs": [
        {
          "output_type": "display_data",
          "data": {
            "image/png": "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\n",
            "text/plain": [
              "<Figure size 432x288 with 1 Axes>"
            ]
          },
          "metadata": {
            "tags": [],
            "needs_background": "light"
          }
        }
      ]
>>>>>>> a4979f340c7e3f152e2a96507b2126c343ae8000
    },
    {
      "cell_type": "markdown",
      "metadata": {
        "id": "300M39EUYMLg"
      },
      "source": [
        "As expected, the loss declines as the training proceeds."
      ]
    },
    {
      "cell_type": "markdown",
      "metadata": {
        "id": "JnzY03ok4lI2"
      },
      "source": [
        "We are going to save our model, because the training takes extremely long time, and we want to save each state of our model."
      ]
    },
    {
      "cell_type": "code",
      "metadata": {
        "id": "5TlWgfz_oRbi"
      },
      "source": [
        "torch.save(model.state_dict(), \"/content/drive/MyDrive/tn2/mondelo\")"
      ],
<<<<<<< HEAD
      "execution_count": 12,
=======
      "execution_count": 14,
>>>>>>> a4979f340c7e3f152e2a96507b2126c343ae8000
      "outputs": []
    },
    {
      "cell_type": "markdown",
      "metadata": {
        "id": "rEX6565nYYrp"
      },
      "source": [
        "Load a presaved model. My final model can be found [here](https://drive.google.com/file/d/1hqxek4ZbZavYMbtXSvpjzeAZZ73Ukakd/view?usp=sharing)"
      ]
    },
    {
      "cell_type": "code",
      "metadata": {
        "id": "r2PutAD1qOrs",
        "colab": {
          "base_uri": "https://localhost:8080/"
        },
        "outputId": "8060a59e-30c7-466f-da83-e909983dc6a9"
      },
      "source": [
        "model.load_state_dict(torch.load(\"/content/drive/MyDrive/tn2/mondelo\"))"
      ],
<<<<<<< HEAD
      "execution_count": 13,
=======
      "execution_count": 15,
>>>>>>> a4979f340c7e3f152e2a96507b2126c343ae8000
      "outputs": [
        {
          "output_type": "execute_result",
          "data": {
            "text/plain": [
              "<All keys matched successfully>"
            ]
          },
          "metadata": {
            "tags": []
          },
<<<<<<< HEAD
          "execution_count": 14
=======
          "execution_count": 16
>>>>>>> a4979f340c7e3f152e2a96507b2126c343ae8000
        }
      ]
    },
    {
      "cell_type": "markdown",
      "metadata": {
        "id": "fEuYLwtimY33"
      },
      "source": [
        "Now, we can delete the training data in order to save some space in our memory."
      ]
    },
    {
      "cell_type": "code",
      "metadata": {
        "id": "iWPn9EW1mfrR"
      },
      "source": [
        "del train_encoding\n",
        "del train_data"
      ],
<<<<<<< HEAD
      "execution_count": null,
=======
      "execution_count": 17,
>>>>>>> a4979f340c7e3f152e2a96507b2126c343ae8000
      "outputs": []
    },
    {
      "cell_type": "markdown",
      "metadata": {
        "id": "cGH5Gn2CREVD"
      },
      "source": [
        "### Evaluating the validation dataset"
      ]
    },
    {
      "cell_type": "markdown",
      "metadata": {
        "id": "cBCMDwiOXxn-"
      },
      "source": [
        "Finally, we are going to use the validation dataset in order to observe the difference made after fine-tunning."
      ]
    },
    {
      "cell_type": "code",
      "metadata": {
        "id": "ix6Zj1GaRyiw"
      },
      "source": [
        "# Function for producing the answer string (from the lectures, altered)\n",
        "def answer(input_ids, tokenizer, ans_start, ans_end):\n",
        "    # if starting and ending tokens are the same, that means that there is no answer to the question\n",
        "    if (ans_start == ans_end):\n",
        "        return ''\n",
        "    # convert the tokens to strings\n",
        "    token_ids = input_ids.tolist()\n",
        "    tokens = tokenizer.convert_ids_to_tokens(token_ids)\n",
        "    # avoid an overflow\n",
        "    if (ans_start >= len(tokens)):\n",
        "        return ''\n",
        "    # create the answer by appending the tokens\n",
        "    answer = tokens[ans_start]\n",
        "    for token_index in range(ans_start + 1, ans_end + 1):\n",
        "        if tokens[token_index][0:2] == '##':\n",
        "            answer += tokens[token_index][2:]\n",
        "        else:\n",
        "            answer += ' ' + tokens[token_index]\n",
        "    return answer"
      ],
<<<<<<< HEAD
      "execution_count": 15,
=======
      "execution_count": 18,
>>>>>>> a4979f340c7e3f152e2a96507b2126c343ae8000
      "outputs": []
    },
    {
      "cell_type": "markdown",
      "metadata": {
        "id": "5QPSeZILm7Ev"
      },
      "source": [
        "Now we are going define the evaluation function, that we are going to use."
      ]
    },
    {
      "cell_type": "code",
      "metadata": {
        "id": "OMLV3UyZZQNj"
      },
      "source": [
        "def evaluate(model, valid_data):\n",
        "    # evaluation mode\n",
        "    model.eval()\n",
        "    model.to(device)\n",
        "\n",
        "    # dictionary for the answers\n",
        "    answers = {}\n",
        "\n",
        "    # do not update the gradients\n",
        "    with torch.no_grad():\n",
        "        for i, batch in tq.tqdm(enumerate(valid_data), total= len(valid_data), position=0, leave=True):\n",
        "\n",
        "            # get the info from the data loader\n",
        "            id = batch['input_ids'].to(device)\n",
        "            mask = batch['attention_mask'].to(device)\n",
        "            token_type = batch['token_type_ids'].to(device)\n",
        "\n",
        "            # predict the label by forwarding the data to the model\n",
        "            res = model(id, attention_mask=mask, token_type_ids=token_type)\n",
        "            \n",
        "            # argmax to get the starting and ending positions\n",
        "            ans_start = torch.argmax(res.start_logits).item()\n",
        "            ans_end = torch.argmax(res.end_logits).item()\n",
        "            \n",
        "            # append the answer to the dict\n",
        "            answers[valid_df.iloc[i]['id']] = answer(id[0], tokenizer, ans_start, ans_end)\n",
        "\n",
        "    return answers\n",
        " "
      ],
<<<<<<< HEAD
      "execution_count": 16,
      "outputs": []
    },
    {
      "cell_type": "code",
      "metadata": {
        "id": "rEkfT8Ppkyb9"
      },
      "source": [
        "answers = evaluate(model, valid_data)"
      ],
      "execution_count": 17,
=======
      "execution_count": 19,
>>>>>>> a4979f340c7e3f152e2a96507b2126c343ae8000
      "outputs": []
    },
    {
      "cell_type": "markdown",
      "metadata": {
        "id": "L3Flvm4IiVpY"
      },
      "source": [
        "### Altered evaluation script"
      ]
    },
    {
      "cell_type": "markdown",
      "metadata": {
        "id": "Qu9OZxIXiYeQ"
      },
      "source": [
        "We are going to use the evaluation script provided by SQuAD, but we are going to alter it a bit in order to suite us."
      ]
    },
    {
      "cell_type": "code",
      "metadata": {
        "id": "22Ufp8DugJ5z"
      },
      "source": [
        "import string\n",
        "import collections\n",
        "def make_qid_to_has_ans(dataset):\n",
        "  qid_to_has_ans = {}\n",
        "  for article in dataset:\n",
        "    for p in article['paragraphs']:\n",
        "      for qa in p['qas']:\n",
        "        qid_to_has_ans[qa['id']] = bool(qa['answers'])\n",
        "  return qid_to_has_ans\n",
        "\n",
        "def normalize_answer(s):\n",
        "  \"\"\"Lower text and remove punctuation, articles and extra whitespace.\"\"\"\n",
        "  def remove_articles(text):\n",
        "    regex = re.compile(r'\\b(a|an|the)\\b', re.UNICODE)\n",
        "    return re.sub(regex, ' ', text)\n",
        "  def white_space_fix(text):\n",
        "    return ' '.join(text.split())\n",
        "  def remove_punc(text):\n",
        "    exclude = set(string.punctuation)\n",
        "    return ''.join(ch for ch in text if ch not in exclude)\n",
        "  def lower(text):\n",
        "    return text.lower()\n",
        "  return white_space_fix(remove_articles(remove_punc(lower(s))))\n",
        "\n",
        "def get_tokens(s):\n",
        "  if not s: return []\n",
        "  return normalize_answer(s).split()\n",
        "\n",
        "def compute_exact(a_gold, a_pred):\n",
        "  return int(normalize_answer(a_gold) == normalize_answer(a_pred))\n",
        "\n",
        "def compute_f1(a_gold, a_pred):\n",
        "  gold_toks = get_tokens(a_gold)\n",
        "  pred_toks = get_tokens(a_pred)\n",
        "  common = collections.Counter(gold_toks) & collections.Counter(pred_toks)\n",
        "  num_same = sum(common.values())\n",
        "  if len(gold_toks) == 0 or len(pred_toks) == 0:\n",
        "    # If either is no-answer, then F1 is 1 if they agree, 0 otherwise\n",
        "    return int(gold_toks == pred_toks)\n",
        "  if num_same == 0:\n",
        "    return 0\n",
        "  precision = 1.0 * num_same / len(pred_toks)\n",
        "  recall = 1.0 * num_same / len(gold_toks)\n",
        "  f1 = (2 * precision * recall) / (precision + recall)\n",
        "  return f1\n",
        "\n",
        "def get_raw_scores(dataset, preds):\n",
        "  exact_scores = {}\n",
        "  f1_scores = {}\n",
        "  for article in dataset:\n",
        "    for p in article['paragraphs']:\n",
        "      for qa in p['qas']:\n",
        "        qid = qa['id']\n",
        "        gold_answers = [a['text'] for a in qa['answers']\n",
        "                        if normalize_answer(a['text'])]\n",
        "        if not gold_answers:\n",
        "          # For unanswerable questions, only correct answer is empty string\n",
        "          gold_answers = ['']\n",
        "        if qid not in preds:\n",
        "          print('Missing prediction for %s' % qid)\n",
        "          continue\n",
        "        a_pred = preds[qid]\n",
        "        # Take max over all gold answers\n",
        "        exact_scores[qid] = max(compute_exact(a, a_pred) for a in gold_answers)\n",
        "        f1_scores[qid] = max(compute_f1(a, a_pred) for a in gold_answers)\n",
        "  return exact_scores, f1_scores\n",
        "\n",
        "def apply_no_ans_threshold(scores, na_probs, qid_to_has_ans, na_prob_thresh):\n",
        "  new_scores = {}\n",
        "  for qid, s in scores.items():\n",
        "    pred_na = na_probs[qid] > na_prob_thresh\n",
        "    if pred_na:\n",
        "      new_scores[qid] = float(not qid_to_has_ans[qid])\n",
        "    else:\n",
        "      new_scores[qid] = s\n",
        "  return new_scores\n",
        "\n",
        "def make_eval_dict(exact_scores, f1_scores, qid_list=None):\n",
        "  if not qid_list:\n",
        "    total = len(exact_scores)\n",
        "    return collections.OrderedDict([\n",
        "        ('exact', 100.0 * sum(exact_scores.values()) / total),\n",
        "        ('f1', 100.0 * sum(f1_scores.values()) / total),\n",
        "        ('total', total),\n",
        "    ])\n",
        "  else:\n",
        "    total = len(qid_list)\n",
        "    return collections.OrderedDict([\n",
        "        ('exact', 100.0 * sum(exact_scores[k] for k in qid_list) / total),\n",
        "        ('f1', 100.0 * sum(f1_scores[k] for k in qid_list) / total),\n",
        "        ('total', total),\n",
        "    ])\n",
        "\n",
        "def merge_eval(main_eval, new_eval, prefix):\n",
        "  for k in new_eval:\n",
        "    main_eval['%s_%s' % (prefix, k)] = new_eval[k]\n",
        "\n",
        "def plot_pr_curve(precisions, recalls, out_image, title):\n",
        "  plt.step(recalls, precisions, color='b', alpha=0.2, where='post')\n",
        "  plt.fill_between(recalls, precisions, step='post', alpha=0.2, color='b')\n",
        "  plt.xlabel('Recall')\n",
        "  plt.ylabel('Precision')\n",
        "  plt.xlim([0.0, 1.05])\n",
        "  plt.ylim([0.0, 1.05])\n",
        "  plt.title(title)\n",
        "  plt.savefig(out_image)\n",
        "  plt.clf()\n",
        "\n",
        "def make_precision_recall_eval(scores, na_probs, num_true_pos, qid_to_has_ans,\n",
        "                               out_image=None, title=None):\n",
        "  qid_list = sorted(na_probs, key=lambda k: na_probs[k])\n",
        "  true_pos = 0.0\n",
        "  cur_p = 1.0\n",
        "  cur_r = 0.0\n",
        "  precisions = [1.0]\n",
        "  recalls = [0.0]\n",
        "  avg_prec = 0.0\n",
        "  for i, qid in enumerate(qid_list):\n",
        "    if qid_to_has_ans[qid]:\n",
        "      true_pos += scores[qid]\n",
        "    cur_p = true_pos / float(i+1)\n",
        "    cur_r = true_pos / float(num_true_pos)\n",
        "    if i == len(qid_list) - 1 or na_probs[qid] != na_probs[qid_list[i+1]]:\n",
        "      # i.e., if we can put a threshold after this point\n",
        "      avg_prec += cur_p * (cur_r - recalls[-1])\n",
        "      precisions.append(cur_p)\n",
        "      recalls.append(cur_r)\n",
        "  if out_image:\n",
        "    plot_pr_curve(precisions, recalls, out_image, title)\n",
        "  return {'ap': 100.0 * avg_prec}\n",
        "\n",
        "def run_precision_recall_analysis(main_eval, exact_raw, f1_raw, na_probs, \n",
        "                                  qid_to_has_ans, out_image_dir):\n",
        "  if out_image_dir and not os.path.exists(out_image_dir):\n",
        "    os.makedirs(out_image_dir)\n",
        "  num_true_pos = sum(1 for v in qid_to_has_ans.values() if v)\n",
        "  if num_true_pos == 0:\n",
        "    return\n",
        "  pr_exact = make_precision_recall_eval(\n",
        "      exact_raw, na_probs, num_true_pos, qid_to_has_ans,\n",
        "      out_image=os.path.join(out_image_dir, 'pr_exact.png'),\n",
        "      title='Precision-Recall curve for Exact Match score')\n",
        "  pr_f1 = make_precision_recall_eval(\n",
        "      f1_raw, na_probs, num_true_pos, qid_to_has_ans,\n",
        "      out_image=os.path.join(out_image_dir, 'pr_f1.png'),\n",
        "      title='Precision-Recall curve for F1 score')\n",
        "  oracle_scores = {k: float(v) for k, v in qid_to_has_ans.items()}\n",
        "  pr_oracle = make_precision_recall_eval(\n",
        "      oracle_scores, na_probs, num_true_pos, qid_to_has_ans,\n",
        "      out_image=os.path.join(out_image_dir, 'pr_oracle.png'),\n",
        "      title='Oracle Precision-Recall curve (binary task of HasAns vs. NoAns)')\n",
        "  merge_eval(main_eval, pr_exact, 'pr_exact')\n",
        "  merge_eval(main_eval, pr_f1, 'pr_f1')\n",
        "  merge_eval(main_eval, pr_oracle, 'pr_oracle')\n",
        "\n",
        "def histogram_na_prob(na_probs, qid_list, image_dir, name):\n",
        "  if not qid_list:\n",
        "    return\n",
        "  x = [na_probs[k] for k in qid_list]\n",
        "  weights = np.ones_like(x) / float(len(x))\n",
        "  plt.hist(x, weights=weights, bins=20, range=(0.0, 1.0))\n",
        "  plt.xlabel('Model probability of no-answer')\n",
        "  plt.ylabel('Proportion of dataset')\n",
        "  plt.title('Histogram of no-answer probability: %s' % name)\n",
        "  plt.savefig(os.path.join(image_dir, 'na_prob_hist_%s.png' % name))\n",
        "  plt.clf()\n",
        "\n",
        "def find_best_thresh(preds, scores, na_probs, qid_to_has_ans):\n",
        "  num_no_ans = sum(1 for k in qid_to_has_ans if not qid_to_has_ans[k])\n",
        "  cur_score = num_no_ans\n",
        "  best_score = cur_score\n",
        "  best_thresh = 0.0\n",
        "  qid_list = sorted(na_probs, key=lambda k: na_probs[k])\n",
        "  for i, qid in enumerate(qid_list):\n",
        "    if qid not in scores: continue\n",
        "    if qid_to_has_ans[qid]:\n",
        "      diff = scores[qid]\n",
        "    else:\n",
        "      if preds[qid]:\n",
        "        diff = -1\n",
        "      else:\n",
        "        diff = 0\n",
        "    cur_score += diff\n",
        "    if cur_score > best_score:\n",
        "      best_score = cur_score\n",
        "      best_thresh = na_probs[qid]\n",
        "  return 100.0 * best_score / len(scores), best_thresh\n",
        "\n",
        "def find_all_best_thresh(main_eval, preds, exact_raw, f1_raw, na_probs, qid_to_has_ans):\n",
        "  best_exact, exact_thresh = find_best_thresh(preds, exact_raw, na_probs, qid_to_has_ans)\n",
        "  best_f1, f1_thresh = find_best_thresh(preds, f1_raw, na_probs, qid_to_has_ans)\n",
        "  main_eval['best_exact'] = best_exact\n",
        "  main_eval['best_exact_thresh'] = exact_thresh\n",
        "  main_eval['best_f1'] = best_f1\n",
        "  main_eval['best_f1_thresh'] = f1_thresh\n",
        "\n",
        "def compute_metrics(dataset, preds):\n",
        "  \n",
        "  na_probs = {k: 0.0 for k in preds}\n",
        "  qid_to_has_ans = make_qid_to_has_ans(dataset)  # maps qid to True/False\n",
        "  has_ans_qids = [k for k, v in qid_to_has_ans.items() if v]\n",
        "  no_ans_qids = [k for k, v in qid_to_has_ans.items() if not v]\n",
        "  exact_raw, f1_raw = get_raw_scores(dataset, preds)\n",
        "  exact_thresh = apply_no_ans_threshold(exact_raw, na_probs, qid_to_has_ans, 0)\n",
        "                                        # OPTS.na_prob_thresh)\n",
        "  f1_thresh = apply_no_ans_threshold(f1_raw, na_probs, qid_to_has_ans, 0)\n",
        "                                    #  OPTS.na_prob_thresh)\n",
        "  out_eval = make_eval_dict(exact_thresh, f1_thresh)\n",
        "  if has_ans_qids:\n",
        "    has_ans_eval = make_eval_dict(exact_thresh, f1_thresh, qid_list=has_ans_qids)\n",
        "    merge_eval(out_eval, has_ans_eval, 'HasAns')\n",
        "  if no_ans_qids:\n",
        "    no_ans_eval = make_eval_dict(exact_thresh, f1_thresh, qid_list=no_ans_qids)\n",
        "    merge_eval(out_eval, no_ans_eval, 'NoAns')\n",
        "    \n",
        "    \n",
        "  return out_eval\n"
      ],
<<<<<<< HEAD
      "execution_count": 18,
=======
      "execution_count": 20,
>>>>>>> a4979f340c7e3f152e2a96507b2126c343ae8000
      "outputs": []
    },
    {
      "cell_type": "markdown",
      "metadata": {
        "id": "JakYHWtzjVAk"
      },
      "source": [
        "### Evaluation Metrics"
      ]
    },
    {
      "cell_type": "markdown",
      "metadata": {
        "id": "YLFA1o5snrtC"
      },
      "source": [
        "Fiest up, we must process the validation dataset"
      ]
    },
    {
      "cell_type": "code",
      "metadata": {
        "id": "pColXxJtnhw5"
      },
      "source": [
        "# location of the validation dataset\n",
        "valid_file = \"/content/drive/MyDrive/tn2/dev-v2.0.json\"\n",
        "\n",
        "# open the dataset file\n",
        "with open(valid_file) as f:\n",
        "    # and store its json values\n",
        "    dataset = json.load(f)\n",
        "\n",
        "valid_df = parse_squad(valid_file)\n",
        "# tokenization and addition of labels\n",
        "valid_encoding = tokenizer(list(valid_df['question'].values), list(valid_df['context'].values), truncation=True, padding=True)\n",
        "add_labels(valid_encoding, valid_df)\n",
        "\n",
        "# creation of the data loader\n",
        "valid_dataset = SquadDataset(valid_encoding)\n",
        "valid_data = DataLoader(valid_dataset, batch_size=1, shuffle=False)"
      ],
<<<<<<< HEAD
      "execution_count": 19,
=======
      "execution_count": 21,
      "outputs": []
    },
    {
      "cell_type": "code",
      "metadata": {
        "id": "rEkfT8Ppkyb9"
      },
      "source": [
        "answers = evaluate(model, valid_data)"
      ],
      "execution_count": 22,
>>>>>>> a4979f340c7e3f152e2a96507b2126c343ae8000
      "outputs": []
    },
    {
      "cell_type": "markdown",
      "metadata": {
        "id": "qSz_RYDyn4NR"
      },
      "source": [
        "Compute the metrics based on the validation script."
      ]
    },
    {
      "cell_type": "code",
      "metadata": {
        "colab": {
          "base_uri": "https://localhost:8080/"
        },
        "id": "btV0VVC-ezVI",
        "outputId": "7368174c-0c30-4c51-b6a2-f31ed6622cf4"
      },
      "source": [
        "result = final(dataset['data'], answers)\n",
        "\n",
        "print(\"Exact matches: \", result['exact'])\n",
        "print(\"F1 score: \", result['f1'])"
      ],
<<<<<<< HEAD
      "execution_count": 20,
=======
      "execution_count": 23,
>>>>>>> a4979f340c7e3f152e2a96507b2126c343ae8000
      "outputs": [
        {
          "output_type": "stream",
          "text": [
            "Exact matches:  49.288301187568436\n",
            "F1 score:  61.47234198490996\n"
          ],
          "name": "stdout"
        }
      ]
    },
    {
      "cell_type": "markdown",
      "metadata": {
        "id": "Q5UjZsw0kVLb"
      },
      "source": [
        "### Comparison without fine-tuned model"
      ]
    },
    {
      "cell_type": "markdown",
      "metadata": {
        "id": "biUenlMXkYnc"
      },
      "source": [
        "Finally, we are going to see what difference our fine tunning made to the predictions. We are going to re-load the untrained model, and predict the dataset through it"
      ]
    },
    {
      "cell_type": "code",
      "metadata": {
        "colab": {
          "base_uri": "https://localhost:8080/",
          "height": 202,
          "referenced_widgets": [
            "20bb31e6f32848688dc3fdc2c92645ec",
            "ebd1213227a54b44b6a3cf9bdd62e5fa",
            "ed8aa6e388cd49e8bb09ea7a45801ad3",
            "0bf8af40be924f3e99ab485ec5f523c2",
            "14335e52fca84e1990deb0e54879fb9a",
            "7da74a0498ff4692ac08a6e02be6d64c",
            "16aee4a5b24b4b3eaf09ef70e0a595e2",
            "cce71ec437a04b5ab34a24ae51b62c96"
          ]
        },
        "id": "bt5HNQvRk1d1",
        "outputId": "f347d24e-32b7-4a78-b4dd-4f79b3b2a98f"
      },
      "source": [
        "base_model = BertForQuestionAnswering.from_pretrained('bert-base-uncased')\n",
        "\n",
        "answers = evaluate(base_model, valid_data)\n",
        "\n",
        "result = final(dataset['data'], answers)\n",
        "\n",
        "print(\"Exact matches: \", result['exact'])\n",
        "print(\"F1 score: \", result['f1'])"
      ],
<<<<<<< HEAD
      "execution_count": 21,
=======
      "execution_count": 24,
>>>>>>> a4979f340c7e3f152e2a96507b2126c343ae8000
      "outputs": [
        {
          "output_type": "stream",
          "text": [
            "Some weights of the model checkpoint at bert-base-uncased were not used when initializing BertForQuestionAnswering: ['cls.predictions.bias', 'cls.predictions.transform.dense.weight', 'cls.predictions.transform.dense.bias', 'cls.predictions.decoder.weight', 'cls.seq_relationship.weight', 'cls.seq_relationship.bias', 'cls.predictions.transform.LayerNorm.weight', 'cls.predictions.transform.LayerNorm.bias']\n",
            "- This IS expected if you are initializing BertForQuestionAnswering from the checkpoint of a model trained on another task or with another architecture (e.g. initializing a BertForSequenceClassification model from a BertForPreTraining model).\n",
            "- This IS NOT expected if you are initializing BertForQuestionAnswering from the checkpoint of a model that you expect to be exactly identical (initializing a BertForSequenceClassification model from a BertForSequenceClassification model).\n",
            "Some weights of BertForQuestionAnswering were not initialized from the model checkpoint at bert-base-uncased and are newly initialized: ['qa_outputs.weight', 'qa_outputs.bias']\n",
            "You should probably TRAIN this model on a down-stream task to be able to use it for predictions and inference.\n"
          ],
          "name": "stderr"
        },
        {
          "output_type": "display_data",
          "data": {
            "application/vnd.jupyter.widget-view+json": {
              "model_id": "20bb31e6f32848688dc3fdc2c92645ec",
              "version_minor": 0,
              "version_major": 2
            },
            "text/plain": [
              "HBox(children=(FloatProgress(value=0.0, max=26247.0), HTML(value='')))"
            ]
          },
          "metadata": {
            "tags": []
          }
        },
        {
          "output_type": "stream",
          "text": [
            "\n",
            "Exact matches:  0.6569527499368315\n",
            "F1 score:  3.3973115115380033\n"
          ],
          "name": "stdout"
        }
      ]
    },
    {
      "cell_type": "markdown",
      "metadata": {
        "id": "e5lE5pBVlQIp"
      },
      "source": [
        "As we can see, despite our scores not being exrtemely high, it definately beats the predictions without fine-tunning the model."
      ]
    }
  ]
}
