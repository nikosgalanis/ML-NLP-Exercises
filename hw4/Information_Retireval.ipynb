{
  "nbformat": 4,
  "nbformat_minor": 0,
  "metadata": {
    "colab": {
      "name": "Information_Retireval.ipynb",
      "provenance": [],
      "collapsed_sections": [],
      "toc_visible": true
    },
    "kernelspec": {
      "name": "python3",
      "display_name": "Python 3"
    },
    "accelerator": "GPU",
    "widgets": {
      "application/vnd.jupyter.widget-state+json": {
        "9799ef3a0f8d4faa8b6e7c7fe9f196a0": {
          "model_module": "@jupyter-widgets/controls",
          "model_name": "HBoxModel",
          "state": {
            "_view_name": "HBoxView",
            "_dom_classes": [],
            "_model_name": "HBoxModel",
            "_view_module": "@jupyter-widgets/controls",
            "_model_module_version": "1.5.0",
            "_view_count": null,
            "_view_module_version": "1.5.0",
            "box_style": "",
            "layout": "IPY_MODEL_8c3c796061c2476b82ef6bcfbacc274a",
            "_model_module": "@jupyter-widgets/controls",
            "children": [
              "IPY_MODEL_48924380188c4e9fa0dd310a9edcd0b1",
              "IPY_MODEL_2fd96a8d199a493783aa35401c96730f"
            ]
          }
        },
        "8c3c796061c2476b82ef6bcfbacc274a": {
          "model_module": "@jupyter-widgets/base",
          "model_name": "LayoutModel",
          "state": {
            "_view_name": "LayoutView",
            "grid_template_rows": null,
            "right": null,
            "justify_content": null,
            "_view_module": "@jupyter-widgets/base",
            "overflow": null,
            "_model_module_version": "1.2.0",
            "_view_count": null,
            "flex_flow": null,
            "width": null,
            "min_width": null,
            "border": null,
            "align_items": null,
            "bottom": null,
            "_model_module": "@jupyter-widgets/base",
            "top": null,
            "grid_column": null,
            "overflow_y": null,
            "overflow_x": null,
            "grid_auto_flow": null,
            "grid_area": null,
            "grid_template_columns": null,
            "flex": null,
            "_model_name": "LayoutModel",
            "justify_items": null,
            "grid_row": null,
            "max_height": null,
            "align_content": null,
            "visibility": null,
            "align_self": null,
            "height": null,
            "min_height": null,
            "padding": null,
            "grid_auto_rows": null,
            "grid_gap": null,
            "max_width": null,
            "order": null,
            "_view_module_version": "1.2.0",
            "grid_template_areas": null,
            "object_position": null,
            "object_fit": null,
            "grid_auto_columns": null,
            "margin": null,
            "display": null,
            "left": null
          }
        },
        "48924380188c4e9fa0dd310a9edcd0b1": {
          "model_module": "@jupyter-widgets/controls",
          "model_name": "FloatProgressModel",
          "state": {
            "_view_name": "ProgressView",
            "style": "IPY_MODEL_c2184da06dd94210bf2da74b6f83fe7a",
            "_dom_classes": [],
            "description": "Downloading: 100%",
            "_model_name": "FloatProgressModel",
            "bar_style": "success",
            "max": 481,
            "_view_module": "@jupyter-widgets/controls",
            "_model_module_version": "1.5.0",
            "value": 481,
            "_view_count": null,
            "_view_module_version": "1.5.0",
            "orientation": "horizontal",
            "min": 0,
            "description_tooltip": null,
            "_model_module": "@jupyter-widgets/controls",
            "layout": "IPY_MODEL_1251e7d2a2154befa9ee988f328e70bf"
          }
        },
        "2fd96a8d199a493783aa35401c96730f": {
          "model_module": "@jupyter-widgets/controls",
          "model_name": "HTMLModel",
          "state": {
            "_view_name": "HTMLView",
            "style": "IPY_MODEL_ac58e4e9081e43d0be82234ceb64d2bb",
            "_dom_classes": [],
            "description": "",
            "_model_name": "HTMLModel",
            "placeholder": "​",
            "_view_module": "@jupyter-widgets/controls",
            "_model_module_version": "1.5.0",
            "value": " 481/481 [00:07&lt;00:00, 62.8B/s]",
            "_view_count": null,
            "_view_module_version": "1.5.0",
            "description_tooltip": null,
            "_model_module": "@jupyter-widgets/controls",
            "layout": "IPY_MODEL_0de3cccb7f6d42fdbaa7ab607fd9f8b1"
          }
        },
        "c2184da06dd94210bf2da74b6f83fe7a": {
          "model_module": "@jupyter-widgets/controls",
          "model_name": "ProgressStyleModel",
          "state": {
            "_view_name": "StyleView",
            "_model_name": "ProgressStyleModel",
            "description_width": "initial",
            "_view_module": "@jupyter-widgets/base",
            "_model_module_version": "1.5.0",
            "_view_count": null,
            "_view_module_version": "1.2.0",
            "bar_color": null,
            "_model_module": "@jupyter-widgets/controls"
          }
        },
        "1251e7d2a2154befa9ee988f328e70bf": {
          "model_module": "@jupyter-widgets/base",
          "model_name": "LayoutModel",
          "state": {
            "_view_name": "LayoutView",
            "grid_template_rows": null,
            "right": null,
            "justify_content": null,
            "_view_module": "@jupyter-widgets/base",
            "overflow": null,
            "_model_module_version": "1.2.0",
            "_view_count": null,
            "flex_flow": null,
            "width": null,
            "min_width": null,
            "border": null,
            "align_items": null,
            "bottom": null,
            "_model_module": "@jupyter-widgets/base",
            "top": null,
            "grid_column": null,
            "overflow_y": null,
            "overflow_x": null,
            "grid_auto_flow": null,
            "grid_area": null,
            "grid_template_columns": null,
            "flex": null,
            "_model_name": "LayoutModel",
            "justify_items": null,
            "grid_row": null,
            "max_height": null,
            "align_content": null,
            "visibility": null,
            "align_self": null,
            "height": null,
            "min_height": null,
            "padding": null,
            "grid_auto_rows": null,
            "grid_gap": null,
            "max_width": null,
            "order": null,
            "_view_module_version": "1.2.0",
            "grid_template_areas": null,
            "object_position": null,
            "object_fit": null,
            "grid_auto_columns": null,
            "margin": null,
            "display": null,
            "left": null
          }
        },
        "ac58e4e9081e43d0be82234ceb64d2bb": {
          "model_module": "@jupyter-widgets/controls",
          "model_name": "DescriptionStyleModel",
          "state": {
            "_view_name": "StyleView",
            "_model_name": "DescriptionStyleModel",
            "description_width": "",
            "_view_module": "@jupyter-widgets/base",
            "_model_module_version": "1.5.0",
            "_view_count": null,
            "_view_module_version": "1.2.0",
            "_model_module": "@jupyter-widgets/controls"
          }
        },
        "0de3cccb7f6d42fdbaa7ab607fd9f8b1": {
          "model_module": "@jupyter-widgets/base",
          "model_name": "LayoutModel",
          "state": {
            "_view_name": "LayoutView",
            "grid_template_rows": null,
            "right": null,
            "justify_content": null,
            "_view_module": "@jupyter-widgets/base",
            "overflow": null,
            "_model_module_version": "1.2.0",
            "_view_count": null,
            "flex_flow": null,
            "width": null,
            "min_width": null,
            "border": null,
            "align_items": null,
            "bottom": null,
            "_model_module": "@jupyter-widgets/base",
            "top": null,
            "grid_column": null,
            "overflow_y": null,
            "overflow_x": null,
            "grid_auto_flow": null,
            "grid_area": null,
            "grid_template_columns": null,
            "flex": null,
            "_model_name": "LayoutModel",
            "justify_items": null,
            "grid_row": null,
            "max_height": null,
            "align_content": null,
            "visibility": null,
            "align_self": null,
            "height": null,
            "min_height": null,
            "padding": null,
            "grid_auto_rows": null,
            "grid_gap": null,
            "max_width": null,
            "order": null,
            "_view_module_version": "1.2.0",
            "grid_template_areas": null,
            "object_position": null,
            "object_fit": null,
            "grid_auto_columns": null,
            "margin": null,
            "display": null,
            "left": null
          }
        },
        "21802fbd96194562b0084bf565e4f5dc": {
          "model_module": "@jupyter-widgets/controls",
          "model_name": "HBoxModel",
          "state": {
            "_view_name": "HBoxView",
            "_dom_classes": [],
            "_model_name": "HBoxModel",
            "_view_module": "@jupyter-widgets/controls",
            "_model_module_version": "1.5.0",
            "_view_count": null,
            "_view_module_version": "1.5.0",
            "box_style": "",
            "layout": "IPY_MODEL_a81d8133775b4fb09abee36f285b0d84",
            "_model_module": "@jupyter-widgets/controls",
            "children": [
              "IPY_MODEL_4ded5e6c911b4dd2a27ff9f41753da64",
              "IPY_MODEL_e34823a2611a471bb36aebcd784f10f8"
            ]
          }
        },
        "a81d8133775b4fb09abee36f285b0d84": {
          "model_module": "@jupyter-widgets/base",
          "model_name": "LayoutModel",
          "state": {
            "_view_name": "LayoutView",
            "grid_template_rows": null,
            "right": null,
            "justify_content": null,
            "_view_module": "@jupyter-widgets/base",
            "overflow": null,
            "_model_module_version": "1.2.0",
            "_view_count": null,
            "flex_flow": null,
            "width": null,
            "min_width": null,
            "border": null,
            "align_items": null,
            "bottom": null,
            "_model_module": "@jupyter-widgets/base",
            "top": null,
            "grid_column": null,
            "overflow_y": null,
            "overflow_x": null,
            "grid_auto_flow": null,
            "grid_area": null,
            "grid_template_columns": null,
            "flex": null,
            "_model_name": "LayoutModel",
            "justify_items": null,
            "grid_row": null,
            "max_height": null,
            "align_content": null,
            "visibility": null,
            "align_self": null,
            "height": null,
            "min_height": null,
            "padding": null,
            "grid_auto_rows": null,
            "grid_gap": null,
            "max_width": null,
            "order": null,
            "_view_module_version": "1.2.0",
            "grid_template_areas": null,
            "object_position": null,
            "object_fit": null,
            "grid_auto_columns": null,
            "margin": null,
            "display": null,
            "left": null
          }
        },
        "4ded5e6c911b4dd2a27ff9f41753da64": {
          "model_module": "@jupyter-widgets/controls",
          "model_name": "FloatProgressModel",
          "state": {
            "_view_name": "ProgressView",
            "style": "IPY_MODEL_fa6534ba31934a7e96fcbf881b00b196",
            "_dom_classes": [],
            "description": "Downloading: 100%",
            "_model_name": "FloatProgressModel",
            "bar_style": "success",
            "max": 501200538,
            "_view_module": "@jupyter-widgets/controls",
            "_model_module_version": "1.5.0",
            "value": 501200538,
            "_view_count": null,
            "_view_module_version": "1.5.0",
            "orientation": "horizontal",
            "min": 0,
            "description_tooltip": null,
            "_model_module": "@jupyter-widgets/controls",
            "layout": "IPY_MODEL_80db26bf7a1744ae86728f48c18a15dc"
          }
        },
        "e34823a2611a471bb36aebcd784f10f8": {
          "model_module": "@jupyter-widgets/controls",
          "model_name": "HTMLModel",
          "state": {
            "_view_name": "HTMLView",
            "style": "IPY_MODEL_0164712d69bb476397ebf7ab84fff1b9",
            "_dom_classes": [],
            "description": "",
            "_model_name": "HTMLModel",
            "placeholder": "​",
            "_view_module": "@jupyter-widgets/controls",
            "_model_module_version": "1.5.0",
            "value": " 501M/501M [00:07&lt;00:00, 71.4MB/s]",
            "_view_count": null,
            "_view_module_version": "1.5.0",
            "description_tooltip": null,
            "_model_module": "@jupyter-widgets/controls",
            "layout": "IPY_MODEL_c5406543f3bd46c4b94f1f74f12ab2f4"
          }
        },
        "fa6534ba31934a7e96fcbf881b00b196": {
          "model_module": "@jupyter-widgets/controls",
          "model_name": "ProgressStyleModel",
          "state": {
            "_view_name": "StyleView",
            "_model_name": "ProgressStyleModel",
            "description_width": "initial",
            "_view_module": "@jupyter-widgets/base",
            "_model_module_version": "1.5.0",
            "_view_count": null,
            "_view_module_version": "1.2.0",
            "bar_color": null,
            "_model_module": "@jupyter-widgets/controls"
          }
        },
        "80db26bf7a1744ae86728f48c18a15dc": {
          "model_module": "@jupyter-widgets/base",
          "model_name": "LayoutModel",
          "state": {
            "_view_name": "LayoutView",
            "grid_template_rows": null,
            "right": null,
            "justify_content": null,
            "_view_module": "@jupyter-widgets/base",
            "overflow": null,
            "_model_module_version": "1.2.0",
            "_view_count": null,
            "flex_flow": null,
            "width": null,
            "min_width": null,
            "border": null,
            "align_items": null,
            "bottom": null,
            "_model_module": "@jupyter-widgets/base",
            "top": null,
            "grid_column": null,
            "overflow_y": null,
            "overflow_x": null,
            "grid_auto_flow": null,
            "grid_area": null,
            "grid_template_columns": null,
            "flex": null,
            "_model_name": "LayoutModel",
            "justify_items": null,
            "grid_row": null,
            "max_height": null,
            "align_content": null,
            "visibility": null,
            "align_self": null,
            "height": null,
            "min_height": null,
            "padding": null,
            "grid_auto_rows": null,
            "grid_gap": null,
            "max_width": null,
            "order": null,
            "_view_module_version": "1.2.0",
            "grid_template_areas": null,
            "object_position": null,
            "object_fit": null,
            "grid_auto_columns": null,
            "margin": null,
            "display": null,
            "left": null
          }
        },
        "0164712d69bb476397ebf7ab84fff1b9": {
          "model_module": "@jupyter-widgets/controls",
          "model_name": "DescriptionStyleModel",
          "state": {
            "_view_name": "StyleView",
            "_model_name": "DescriptionStyleModel",
            "description_width": "",
            "_view_module": "@jupyter-widgets/base",
            "_model_module_version": "1.5.0",
            "_view_count": null,
            "_view_module_version": "1.2.0",
            "_model_module": "@jupyter-widgets/controls"
          }
        },
        "c5406543f3bd46c4b94f1f74f12ab2f4": {
          "model_module": "@jupyter-widgets/base",
          "model_name": "LayoutModel",
          "state": {
            "_view_name": "LayoutView",
            "grid_template_rows": null,
            "right": null,
            "justify_content": null,
            "_view_module": "@jupyter-widgets/base",
            "overflow": null,
            "_model_module_version": "1.2.0",
            "_view_count": null,
            "flex_flow": null,
            "width": null,
            "min_width": null,
            "border": null,
            "align_items": null,
            "bottom": null,
            "_model_module": "@jupyter-widgets/base",
            "top": null,
            "grid_column": null,
            "overflow_y": null,
            "overflow_x": null,
            "grid_auto_flow": null,
            "grid_area": null,
            "grid_template_columns": null,
            "flex": null,
            "_model_name": "LayoutModel",
            "justify_items": null,
            "grid_row": null,
            "max_height": null,
            "align_content": null,
            "visibility": null,
            "align_self": null,
            "height": null,
            "min_height": null,
            "padding": null,
            "grid_auto_rows": null,
            "grid_gap": null,
            "max_width": null,
            "order": null,
            "_view_module_version": "1.2.0",
            "grid_template_areas": null,
            "object_position": null,
            "object_fit": null,
            "grid_auto_columns": null,
            "margin": null,
            "display": null,
            "left": null
          }
        },
        "30bb022632744f989b9dc3bf56714923": {
          "model_module": "@jupyter-widgets/controls",
          "model_name": "HBoxModel",
          "state": {
            "_view_name": "HBoxView",
            "_dom_classes": [],
            "_model_name": "HBoxModel",
            "_view_module": "@jupyter-widgets/controls",
            "_model_module_version": "1.5.0",
            "_view_count": null,
            "_view_module_version": "1.5.0",
            "box_style": "",
            "layout": "IPY_MODEL_28de2a53067e47779614d155322548a7",
            "_model_module": "@jupyter-widgets/controls",
            "children": [
              "IPY_MODEL_9559d368cf7347a4851925eb71891f63",
              "IPY_MODEL_4d9a0ed113b04676a90c58bd9187ceff"
            ]
          }
        },
        "28de2a53067e47779614d155322548a7": {
          "model_module": "@jupyter-widgets/base",
          "model_name": "LayoutModel",
          "state": {
            "_view_name": "LayoutView",
            "grid_template_rows": null,
            "right": null,
            "justify_content": null,
            "_view_module": "@jupyter-widgets/base",
            "overflow": null,
            "_model_module_version": "1.2.0",
            "_view_count": null,
            "flex_flow": null,
            "width": null,
            "min_width": null,
            "border": null,
            "align_items": null,
            "bottom": null,
            "_model_module": "@jupyter-widgets/base",
            "top": null,
            "grid_column": null,
            "overflow_y": null,
            "overflow_x": null,
            "grid_auto_flow": null,
            "grid_area": null,
            "grid_template_columns": null,
            "flex": null,
            "_model_name": "LayoutModel",
            "justify_items": null,
            "grid_row": null,
            "max_height": null,
            "align_content": null,
            "visibility": null,
            "align_self": null,
            "height": null,
            "min_height": null,
            "padding": null,
            "grid_auto_rows": null,
            "grid_gap": null,
            "max_width": null,
            "order": null,
            "_view_module_version": "1.2.0",
            "grid_template_areas": null,
            "object_position": null,
            "object_fit": null,
            "grid_auto_columns": null,
            "margin": null,
            "display": null,
            "left": null
          }
        },
        "9559d368cf7347a4851925eb71891f63": {
          "model_module": "@jupyter-widgets/controls",
          "model_name": "FloatProgressModel",
          "state": {
            "_view_name": "ProgressView",
            "style": "IPY_MODEL_677f3e6f46ea4f07824ba2f7d1e39ffa",
            "_dom_classes": [],
            "description": "Downloading: 100%",
            "_model_name": "FloatProgressModel",
            "bar_style": "success",
            "max": 898823,
            "_view_module": "@jupyter-widgets/controls",
            "_model_module_version": "1.5.0",
            "value": 898823,
            "_view_count": null,
            "_view_module_version": "1.5.0",
            "orientation": "horizontal",
            "min": 0,
            "description_tooltip": null,
            "_model_module": "@jupyter-widgets/controls",
            "layout": "IPY_MODEL_8d8e7249faaf40b5adea4d2e1132420d"
          }
        },
        "4d9a0ed113b04676a90c58bd9187ceff": {
          "model_module": "@jupyter-widgets/controls",
          "model_name": "HTMLModel",
          "state": {
            "_view_name": "HTMLView",
            "style": "IPY_MODEL_dc4cc722f358493aaf15a7d1c567bb1f",
            "_dom_classes": [],
            "description": "",
            "_model_name": "HTMLModel",
            "placeholder": "​",
            "_view_module": "@jupyter-widgets/controls",
            "_model_module_version": "1.5.0",
            "value": " 899k/899k [00:00&lt;00:00, 1.13MB/s]",
            "_view_count": null,
            "_view_module_version": "1.5.0",
            "description_tooltip": null,
            "_model_module": "@jupyter-widgets/controls",
            "layout": "IPY_MODEL_4ea144f0a47d47e59432839bf87cebb4"
          }
        },
        "677f3e6f46ea4f07824ba2f7d1e39ffa": {
          "model_module": "@jupyter-widgets/controls",
          "model_name": "ProgressStyleModel",
          "state": {
            "_view_name": "StyleView",
            "_model_name": "ProgressStyleModel",
            "description_width": "initial",
            "_view_module": "@jupyter-widgets/base",
            "_model_module_version": "1.5.0",
            "_view_count": null,
            "_view_module_version": "1.2.0",
            "bar_color": null,
            "_model_module": "@jupyter-widgets/controls"
          }
        },
        "8d8e7249faaf40b5adea4d2e1132420d": {
          "model_module": "@jupyter-widgets/base",
          "model_name": "LayoutModel",
          "state": {
            "_view_name": "LayoutView",
            "grid_template_rows": null,
            "right": null,
            "justify_content": null,
            "_view_module": "@jupyter-widgets/base",
            "overflow": null,
            "_model_module_version": "1.2.0",
            "_view_count": null,
            "flex_flow": null,
            "width": null,
            "min_width": null,
            "border": null,
            "align_items": null,
            "bottom": null,
            "_model_module": "@jupyter-widgets/base",
            "top": null,
            "grid_column": null,
            "overflow_y": null,
            "overflow_x": null,
            "grid_auto_flow": null,
            "grid_area": null,
            "grid_template_columns": null,
            "flex": null,
            "_model_name": "LayoutModel",
            "justify_items": null,
            "grid_row": null,
            "max_height": null,
            "align_content": null,
            "visibility": null,
            "align_self": null,
            "height": null,
            "min_height": null,
            "padding": null,
            "grid_auto_rows": null,
            "grid_gap": null,
            "max_width": null,
            "order": null,
            "_view_module_version": "1.2.0",
            "grid_template_areas": null,
            "object_position": null,
            "object_fit": null,
            "grid_auto_columns": null,
            "margin": null,
            "display": null,
            "left": null
          }
        },
        "dc4cc722f358493aaf15a7d1c567bb1f": {
          "model_module": "@jupyter-widgets/controls",
          "model_name": "DescriptionStyleModel",
          "state": {
            "_view_name": "StyleView",
            "_model_name": "DescriptionStyleModel",
            "description_width": "",
            "_view_module": "@jupyter-widgets/base",
            "_model_module_version": "1.5.0",
            "_view_count": null,
            "_view_module_version": "1.2.0",
            "_model_module": "@jupyter-widgets/controls"
          }
        },
        "4ea144f0a47d47e59432839bf87cebb4": {
          "model_module": "@jupyter-widgets/base",
          "model_name": "LayoutModel",
          "state": {
            "_view_name": "LayoutView",
            "grid_template_rows": null,
            "right": null,
            "justify_content": null,
            "_view_module": "@jupyter-widgets/base",
            "overflow": null,
            "_model_module_version": "1.2.0",
            "_view_count": null,
            "flex_flow": null,
            "width": null,
            "min_width": null,
            "border": null,
            "align_items": null,
            "bottom": null,
            "_model_module": "@jupyter-widgets/base",
            "top": null,
            "grid_column": null,
            "overflow_y": null,
            "overflow_x": null,
            "grid_auto_flow": null,
            "grid_area": null,
            "grid_template_columns": null,
            "flex": null,
            "_model_name": "LayoutModel",
            "justify_items": null,
            "grid_row": null,
            "max_height": null,
            "align_content": null,
            "visibility": null,
            "align_self": null,
            "height": null,
            "min_height": null,
            "padding": null,
            "grid_auto_rows": null,
            "grid_gap": null,
            "max_width": null,
            "order": null,
            "_view_module_version": "1.2.0",
            "grid_template_areas": null,
            "object_position": null,
            "object_fit": null,
            "grid_auto_columns": null,
            "margin": null,
            "display": null,
            "left": null
          }
        },
        "f0f46c679ee8424081740e6bcd9a75eb": {
          "model_module": "@jupyter-widgets/controls",
          "model_name": "HBoxModel",
          "state": {
            "_view_name": "HBoxView",
            "_dom_classes": [],
            "_model_name": "HBoxModel",
            "_view_module": "@jupyter-widgets/controls",
            "_model_module_version": "1.5.0",
            "_view_count": null,
            "_view_module_version": "1.5.0",
            "box_style": "",
            "layout": "IPY_MODEL_489425767dc44cb5a1445078b510f168",
            "_model_module": "@jupyter-widgets/controls",
            "children": [
              "IPY_MODEL_dab4829d316c4ab1904e90cbe175c156",
              "IPY_MODEL_c2a62453f2944920b51e39c917ed910b"
            ]
          }
        },
        "489425767dc44cb5a1445078b510f168": {
          "model_module": "@jupyter-widgets/base",
          "model_name": "LayoutModel",
          "state": {
            "_view_name": "LayoutView",
            "grid_template_rows": null,
            "right": null,
            "justify_content": null,
            "_view_module": "@jupyter-widgets/base",
            "overflow": null,
            "_model_module_version": "1.2.0",
            "_view_count": null,
            "flex_flow": null,
            "width": null,
            "min_width": null,
            "border": null,
            "align_items": null,
            "bottom": null,
            "_model_module": "@jupyter-widgets/base",
            "top": null,
            "grid_column": null,
            "overflow_y": null,
            "overflow_x": null,
            "grid_auto_flow": null,
            "grid_area": null,
            "grid_template_columns": null,
            "flex": null,
            "_model_name": "LayoutModel",
            "justify_items": null,
            "grid_row": null,
            "max_height": null,
            "align_content": null,
            "visibility": null,
            "align_self": null,
            "height": null,
            "min_height": null,
            "padding": null,
            "grid_auto_rows": null,
            "grid_gap": null,
            "max_width": null,
            "order": null,
            "_view_module_version": "1.2.0",
            "grid_template_areas": null,
            "object_position": null,
            "object_fit": null,
            "grid_auto_columns": null,
            "margin": null,
            "display": null,
            "left": null
          }
        },
        "dab4829d316c4ab1904e90cbe175c156": {
          "model_module": "@jupyter-widgets/controls",
          "model_name": "FloatProgressModel",
          "state": {
            "_view_name": "ProgressView",
            "style": "IPY_MODEL_b96e8a7d0a0f4a1e86b0aa6a178eb8a7",
            "_dom_classes": [],
            "description": "Downloading: 100%",
            "_model_name": "FloatProgressModel",
            "bar_style": "success",
            "max": 456318,
            "_view_module": "@jupyter-widgets/controls",
            "_model_module_version": "1.5.0",
            "value": 456318,
            "_view_count": null,
            "_view_module_version": "1.5.0",
            "orientation": "horizontal",
            "min": 0,
            "description_tooltip": null,
            "_model_module": "@jupyter-widgets/controls",
            "layout": "IPY_MODEL_de57c05f3dcd4dfba7e770707603a516"
          }
        },
        "c2a62453f2944920b51e39c917ed910b": {
          "model_module": "@jupyter-widgets/controls",
          "model_name": "HTMLModel",
          "state": {
            "_view_name": "HTMLView",
            "style": "IPY_MODEL_4f4c8984e1e748688120211483b4b7a6",
            "_dom_classes": [],
            "description": "",
            "_model_name": "HTMLModel",
            "placeholder": "​",
            "_view_module": "@jupyter-widgets/controls",
            "_model_module_version": "1.5.0",
            "value": " 456k/456k [00:26&lt;00:00, 17.4kB/s]",
            "_view_count": null,
            "_view_module_version": "1.5.0",
            "description_tooltip": null,
            "_model_module": "@jupyter-widgets/controls",
            "layout": "IPY_MODEL_f6e5f214883f4cb4a79e286fdc932122"
          }
        },
        "b96e8a7d0a0f4a1e86b0aa6a178eb8a7": {
          "model_module": "@jupyter-widgets/controls",
          "model_name": "ProgressStyleModel",
          "state": {
            "_view_name": "StyleView",
            "_model_name": "ProgressStyleModel",
            "description_width": "initial",
            "_view_module": "@jupyter-widgets/base",
            "_model_module_version": "1.5.0",
            "_view_count": null,
            "_view_module_version": "1.2.0",
            "bar_color": null,
            "_model_module": "@jupyter-widgets/controls"
          }
        },
        "de57c05f3dcd4dfba7e770707603a516": {
          "model_module": "@jupyter-widgets/base",
          "model_name": "LayoutModel",
          "state": {
            "_view_name": "LayoutView",
            "grid_template_rows": null,
            "right": null,
            "justify_content": null,
            "_view_module": "@jupyter-widgets/base",
            "overflow": null,
            "_model_module_version": "1.2.0",
            "_view_count": null,
            "flex_flow": null,
            "width": null,
            "min_width": null,
            "border": null,
            "align_items": null,
            "bottom": null,
            "_model_module": "@jupyter-widgets/base",
            "top": null,
            "grid_column": null,
            "overflow_y": null,
            "overflow_x": null,
            "grid_auto_flow": null,
            "grid_area": null,
            "grid_template_columns": null,
            "flex": null,
            "_model_name": "LayoutModel",
            "justify_items": null,
            "grid_row": null,
            "max_height": null,
            "align_content": null,
            "visibility": null,
            "align_self": null,
            "height": null,
            "min_height": null,
            "padding": null,
            "grid_auto_rows": null,
            "grid_gap": null,
            "max_width": null,
            "order": null,
            "_view_module_version": "1.2.0",
            "grid_template_areas": null,
            "object_position": null,
            "object_fit": null,
            "grid_auto_columns": null,
            "margin": null,
            "display": null,
            "left": null
          }
        },
        "4f4c8984e1e748688120211483b4b7a6": {
          "model_module": "@jupyter-widgets/controls",
          "model_name": "DescriptionStyleModel",
          "state": {
            "_view_name": "StyleView",
            "_model_name": "DescriptionStyleModel",
            "description_width": "",
            "_view_module": "@jupyter-widgets/base",
            "_model_module_version": "1.5.0",
            "_view_count": null,
            "_view_module_version": "1.2.0",
            "_model_module": "@jupyter-widgets/controls"
          }
        },
        "f6e5f214883f4cb4a79e286fdc932122": {
          "model_module": "@jupyter-widgets/base",
          "model_name": "LayoutModel",
          "state": {
            "_view_name": "LayoutView",
            "grid_template_rows": null,
            "right": null,
            "justify_content": null,
            "_view_module": "@jupyter-widgets/base",
            "overflow": null,
            "_model_module_version": "1.2.0",
            "_view_count": null,
            "flex_flow": null,
            "width": null,
            "min_width": null,
            "border": null,
            "align_items": null,
            "bottom": null,
            "_model_module": "@jupyter-widgets/base",
            "top": null,
            "grid_column": null,
            "overflow_y": null,
            "overflow_x": null,
            "grid_auto_flow": null,
            "grid_area": null,
            "grid_template_columns": null,
            "flex": null,
            "_model_name": "LayoutModel",
            "justify_items": null,
            "grid_row": null,
            "max_height": null,
            "align_content": null,
            "visibility": null,
            "align_self": null,
            "height": null,
            "min_height": null,
            "padding": null,
            "grid_auto_rows": null,
            "grid_gap": null,
            "max_width": null,
            "order": null,
            "_view_module_version": "1.2.0",
            "grid_template_areas": null,
            "object_position": null,
            "object_fit": null,
            "grid_auto_columns": null,
            "margin": null,
            "display": null,
            "left": null
          }
        },
        "76884b7316764124b257eeb63f1137b3": {
          "model_module": "@jupyter-widgets/controls",
          "model_name": "HBoxModel",
          "state": {
            "_view_name": "HBoxView",
            "_dom_classes": [],
            "_model_name": "HBoxModel",
            "_view_module": "@jupyter-widgets/controls",
            "_model_module_version": "1.5.0",
            "_view_count": null,
            "_view_module_version": "1.5.0",
            "box_style": "",
            "layout": "IPY_MODEL_8c650a308e1846b584d01641b130c74f",
            "_model_module": "@jupyter-widgets/controls",
            "children": [
              "IPY_MODEL_c171f2372ed546dc8dd0009a2f8f26f0",
              "IPY_MODEL_cd29dc4811934c42bd39ecacc8104bba"
            ]
          }
        },
        "8c650a308e1846b584d01641b130c74f": {
          "model_module": "@jupyter-widgets/base",
          "model_name": "LayoutModel",
          "state": {
            "_view_name": "LayoutView",
            "grid_template_rows": null,
            "right": null,
            "justify_content": null,
            "_view_module": "@jupyter-widgets/base",
            "overflow": null,
            "_model_module_version": "1.2.0",
            "_view_count": null,
            "flex_flow": null,
            "width": null,
            "min_width": null,
            "border": null,
            "align_items": null,
            "bottom": null,
            "_model_module": "@jupyter-widgets/base",
            "top": null,
            "grid_column": null,
            "overflow_y": null,
            "overflow_x": null,
            "grid_auto_flow": null,
            "grid_area": null,
            "grid_template_columns": null,
            "flex": null,
            "_model_name": "LayoutModel",
            "justify_items": null,
            "grid_row": null,
            "max_height": null,
            "align_content": null,
            "visibility": null,
            "align_self": null,
            "height": null,
            "min_height": null,
            "padding": null,
            "grid_auto_rows": null,
            "grid_gap": null,
            "max_width": null,
            "order": null,
            "_view_module_version": "1.2.0",
            "grid_template_areas": null,
            "object_position": null,
            "object_fit": null,
            "grid_auto_columns": null,
            "margin": null,
            "display": null,
            "left": null
          }
        },
        "c171f2372ed546dc8dd0009a2f8f26f0": {
          "model_module": "@jupyter-widgets/controls",
          "model_name": "FloatProgressModel",
          "state": {
            "_view_name": "ProgressView",
            "style": "IPY_MODEL_c885d97a73eb4080bdf2a010bf682b91",
            "_dom_classes": [],
            "description": "Downloading: 100%",
            "_model_name": "FloatProgressModel",
            "bar_style": "success",
            "max": 1355863,
            "_view_module": "@jupyter-widgets/controls",
            "_model_module_version": "1.5.0",
            "value": 1355863,
            "_view_count": null,
            "_view_module_version": "1.5.0",
            "orientation": "horizontal",
            "min": 0,
            "description_tooltip": null,
            "_model_module": "@jupyter-widgets/controls",
            "layout": "IPY_MODEL_adc01356f23043cd861f85d449e6ce7b"
          }
        },
        "cd29dc4811934c42bd39ecacc8104bba": {
          "model_module": "@jupyter-widgets/controls",
          "model_name": "HTMLModel",
          "state": {
            "_view_name": "HTMLView",
            "style": "IPY_MODEL_5391fdc00b5a41f49e8f37eb274b3f86",
            "_dom_classes": [],
            "description": "",
            "_model_name": "HTMLModel",
            "placeholder": "​",
            "_view_module": "@jupyter-widgets/controls",
            "_model_module_version": "1.5.0",
            "value": " 1.36M/1.36M [00:24&lt;00:00, 56.2kB/s]",
            "_view_count": null,
            "_view_module_version": "1.5.0",
            "description_tooltip": null,
            "_model_module": "@jupyter-widgets/controls",
            "layout": "IPY_MODEL_ccc7f0d4947a446e8bba1fef5e10630e"
          }
        },
        "c885d97a73eb4080bdf2a010bf682b91": {
          "model_module": "@jupyter-widgets/controls",
          "model_name": "ProgressStyleModel",
          "state": {
            "_view_name": "StyleView",
            "_model_name": "ProgressStyleModel",
            "description_width": "initial",
            "_view_module": "@jupyter-widgets/base",
            "_model_module_version": "1.5.0",
            "_view_count": null,
            "_view_module_version": "1.2.0",
            "bar_color": null,
            "_model_module": "@jupyter-widgets/controls"
          }
        },
        "adc01356f23043cd861f85d449e6ce7b": {
          "model_module": "@jupyter-widgets/base",
          "model_name": "LayoutModel",
          "state": {
            "_view_name": "LayoutView",
            "grid_template_rows": null,
            "right": null,
            "justify_content": null,
            "_view_module": "@jupyter-widgets/base",
            "overflow": null,
            "_model_module_version": "1.2.0",
            "_view_count": null,
            "flex_flow": null,
            "width": null,
            "min_width": null,
            "border": null,
            "align_items": null,
            "bottom": null,
            "_model_module": "@jupyter-widgets/base",
            "top": null,
            "grid_column": null,
            "overflow_y": null,
            "overflow_x": null,
            "grid_auto_flow": null,
            "grid_area": null,
            "grid_template_columns": null,
            "flex": null,
            "_model_name": "LayoutModel",
            "justify_items": null,
            "grid_row": null,
            "max_height": null,
            "align_content": null,
            "visibility": null,
            "align_self": null,
            "height": null,
            "min_height": null,
            "padding": null,
            "grid_auto_rows": null,
            "grid_gap": null,
            "max_width": null,
            "order": null,
            "_view_module_version": "1.2.0",
            "grid_template_areas": null,
            "object_position": null,
            "object_fit": null,
            "grid_auto_columns": null,
            "margin": null,
            "display": null,
            "left": null
          }
        },
        "5391fdc00b5a41f49e8f37eb274b3f86": {
          "model_module": "@jupyter-widgets/controls",
          "model_name": "DescriptionStyleModel",
          "state": {
            "_view_name": "StyleView",
            "_model_name": "DescriptionStyleModel",
            "description_width": "",
            "_view_module": "@jupyter-widgets/base",
            "_model_module_version": "1.5.0",
            "_view_count": null,
            "_view_module_version": "1.2.0",
            "_model_module": "@jupyter-widgets/controls"
          }
        },
        "ccc7f0d4947a446e8bba1fef5e10630e": {
          "model_module": "@jupyter-widgets/base",
          "model_name": "LayoutModel",
          "state": {
            "_view_name": "LayoutView",
            "grid_template_rows": null,
            "right": null,
            "justify_content": null,
            "_view_module": "@jupyter-widgets/base",
            "overflow": null,
            "_model_module_version": "1.2.0",
            "_view_count": null,
            "flex_flow": null,
            "width": null,
            "min_width": null,
            "border": null,
            "align_items": null,
            "bottom": null,
            "_model_module": "@jupyter-widgets/base",
            "top": null,
            "grid_column": null,
            "overflow_y": null,
            "overflow_x": null,
            "grid_auto_flow": null,
            "grid_area": null,
            "grid_template_columns": null,
            "flex": null,
            "_model_name": "LayoutModel",
            "justify_items": null,
            "grid_row": null,
            "max_height": null,
            "align_content": null,
            "visibility": null,
            "align_self": null,
            "height": null,
            "min_height": null,
            "padding": null,
            "grid_auto_rows": null,
            "grid_gap": null,
            "max_width": null,
            "order": null,
            "_view_module_version": "1.2.0",
            "grid_template_areas": null,
            "object_position": null,
            "object_fit": null,
            "grid_auto_columns": null,
            "margin": null,
            "display": null,
            "left": null
          }
        }
      }
    }
  },
  "cells": [
    {
      "cell_type": "markdown",
      "metadata": {
        "id": "2tQs6NlpReGQ"
      },
      "source": [
        "# Information Retrieval System using BERT-Networks"
      ]
    },
    {
      "cell_type": "markdown",
      "metadata": {
        "id": "Tfm-GfcKRmBa"
      },
      "source": [
        "The goal of this notebook is to develop a document retrieval system, in order to return titles of scientific papers containing the answer to a given user question. \n",
        "\n",
        "We are going to use the _COVID-19 Open Research Dataset_, and answer questions regarding COVID-19. "
      ]
    },
    {
      "cell_type": "markdown",
      "metadata": {
        "id": "B8F6nDAERics"
      },
      "source": [
        "## Import Libraries"
      ]
    },
    {
      "cell_type": "code",
      "metadata": {
        "id": "XYqgaKz4Rhf8",
        "colab": {
          "base_uri": "https://localhost:8080/"
        },
        "outputId": "fa0f4e4b-6cc6-4e6f-d98c-67c1591833a3"
      },
      "source": [
        "# Pre-trained models from SBERT\n",
        "!pip install -U sentence-transformers\n",
        "from sentence_transformers import SentenceTransformer, util\n",
        "# For data vizualization \n",
        "import matplotlib as mpl\n",
        "import matplotlib.pyplot as plt\n",
        "# For large and multi-dimensional arrays\n",
        "import numpy as np\n",
        "# For basic cleaning and data preprocessing \n",
        "import re\n",
        "# For data manipulation and analysis\n",
        "import pandas as pd\n",
        "import nltk\n",
        "nltk.download('punkt')\n",
        "# fancy progress bar\n",
        "from tqdm import tqdm \n",
        "# time measurements\n",
        "import time\n",
        "# some math\n",
        "import math\n",
        "import copy\n",
        "# metrics\n",
        "from collections import Counter\n",
        "from sklearn.feature_extraction.text import CountVectorizer\n",
        "from sklearn.metrics.pairwise import cosine_similarity"
      ],
      "execution_count": 1,
      "outputs": [
        {
          "output_type": "stream",
          "text": [
            "Requirement already up-to-date: sentence-transformers in /usr/local/lib/python3.6/dist-packages (0.4.1.2)\n",
            "Requirement already satisfied, skipping upgrade: scipy in /usr/local/lib/python3.6/dist-packages (from sentence-transformers) (1.4.1)\n",
            "Requirement already satisfied, skipping upgrade: sentencepiece in /usr/local/lib/python3.6/dist-packages (from sentence-transformers) (0.1.95)\n",
            "Requirement already satisfied, skipping upgrade: numpy in /usr/local/lib/python3.6/dist-packages (from sentence-transformers) (1.19.5)\n",
            "Requirement already satisfied, skipping upgrade: nltk in /usr/local/lib/python3.6/dist-packages (from sentence-transformers) (3.2.5)\n",
            "Requirement already satisfied, skipping upgrade: transformers<5.0.0,>=3.1.0 in /usr/local/lib/python3.6/dist-packages (from sentence-transformers) (4.2.2)\n",
            "Requirement already satisfied, skipping upgrade: scikit-learn in /usr/local/lib/python3.6/dist-packages (from sentence-transformers) (0.22.2.post1)\n",
            "Requirement already satisfied, skipping upgrade: tqdm in /usr/local/lib/python3.6/dist-packages (from sentence-transformers) (4.41.1)\n",
            "Requirement already satisfied, skipping upgrade: torch>=1.6.0 in /usr/local/lib/python3.6/dist-packages (from sentence-transformers) (1.7.0+cu101)\n",
            "Requirement already satisfied, skipping upgrade: six in /usr/local/lib/python3.6/dist-packages (from nltk->sentence-transformers) (1.15.0)\n",
            "Requirement already satisfied, skipping upgrade: tokenizers==0.9.4 in /usr/local/lib/python3.6/dist-packages (from transformers<5.0.0,>=3.1.0->sentence-transformers) (0.9.4)\n",
            "Requirement already satisfied, skipping upgrade: filelock in /usr/local/lib/python3.6/dist-packages (from transformers<5.0.0,>=3.1.0->sentence-transformers) (3.0.12)\n",
            "Requirement already satisfied, skipping upgrade: packaging in /usr/local/lib/python3.6/dist-packages (from transformers<5.0.0,>=3.1.0->sentence-transformers) (20.8)\n",
            "Requirement already satisfied, skipping upgrade: sacremoses in /usr/local/lib/python3.6/dist-packages (from transformers<5.0.0,>=3.1.0->sentence-transformers) (0.0.43)\n",
            "Requirement already satisfied, skipping upgrade: dataclasses; python_version < \"3.7\" in /usr/local/lib/python3.6/dist-packages (from transformers<5.0.0,>=3.1.0->sentence-transformers) (0.8)\n",
            "Requirement already satisfied, skipping upgrade: requests in /usr/local/lib/python3.6/dist-packages (from transformers<5.0.0,>=3.1.0->sentence-transformers) (2.23.0)\n",
            "Requirement already satisfied, skipping upgrade: regex!=2019.12.17 in /usr/local/lib/python3.6/dist-packages (from transformers<5.0.0,>=3.1.0->sentence-transformers) (2019.12.20)\n",
            "Requirement already satisfied, skipping upgrade: importlib-metadata; python_version < \"3.8\" in /usr/local/lib/python3.6/dist-packages (from transformers<5.0.0,>=3.1.0->sentence-transformers) (3.4.0)\n",
            "Requirement already satisfied, skipping upgrade: joblib>=0.11 in /usr/local/lib/python3.6/dist-packages (from scikit-learn->sentence-transformers) (1.0.0)\n",
            "Requirement already satisfied, skipping upgrade: typing-extensions in /usr/local/lib/python3.6/dist-packages (from torch>=1.6.0->sentence-transformers) (3.7.4.3)\n",
            "Requirement already satisfied, skipping upgrade: future in /usr/local/lib/python3.6/dist-packages (from torch>=1.6.0->sentence-transformers) (0.16.0)\n",
            "Requirement already satisfied, skipping upgrade: pyparsing>=2.0.2 in /usr/local/lib/python3.6/dist-packages (from packaging->transformers<5.0.0,>=3.1.0->sentence-transformers) (2.4.7)\n",
            "Requirement already satisfied, skipping upgrade: click in /usr/local/lib/python3.6/dist-packages (from sacremoses->transformers<5.0.0,>=3.1.0->sentence-transformers) (7.1.2)\n",
            "Requirement already satisfied, skipping upgrade: chardet<4,>=3.0.2 in /usr/local/lib/python3.6/dist-packages (from requests->transformers<5.0.0,>=3.1.0->sentence-transformers) (3.0.4)\n",
            "Requirement already satisfied, skipping upgrade: urllib3!=1.25.0,!=1.25.1,<1.26,>=1.21.1 in /usr/local/lib/python3.6/dist-packages (from requests->transformers<5.0.0,>=3.1.0->sentence-transformers) (1.24.3)\n",
            "Requirement already satisfied, skipping upgrade: certifi>=2017.4.17 in /usr/local/lib/python3.6/dist-packages (from requests->transformers<5.0.0,>=3.1.0->sentence-transformers) (2020.12.5)\n",
            "Requirement already satisfied, skipping upgrade: idna<3,>=2.5 in /usr/local/lib/python3.6/dist-packages (from requests->transformers<5.0.0,>=3.1.0->sentence-transformers) (2.10)\n",
            "Requirement already satisfied, skipping upgrade: zipp>=0.5 in /usr/local/lib/python3.6/dist-packages (from importlib-metadata; python_version < \"3.8\"->transformers<5.0.0,>=3.1.0->sentence-transformers) (3.4.0)\n",
            "[nltk_data] Downloading package punkt to /root/nltk_data...\n",
            "[nltk_data]   Package punkt is already up-to-date!\n"
          ],
          "name": "stdout"
        }
      ]
    },
    {
      "cell_type": "markdown",
      "metadata": {
        "id": "R2CgtZAKSSk9"
      },
      "source": [
        "## CORD-19 Dataset"
      ]
    },
    {
      "cell_type": "markdown",
      "metadata": {
        "id": "tdjE4eT9SV6s"
      },
      "source": [
        "The dataset is given to us as many different `JSON` files, each one containing one unique paper. In order to get the information and the text of each paper, we must parse akk the files. "
      ]
    },
    {
      "cell_type": "markdown",
      "metadata": {
        "id": "Gs0m7hnrSlc4"
      },
      "source": [
        "### Parsing the Dataset"
      ]
    },
    {
      "cell_type": "markdown",
      "metadata": {
        "id": "krH1d72pPzGL"
      },
      "source": [
        "First up, we are going to gather the details of each paper from the json files. This code will be executed only once, and then the data will be saved to a csv file, because the parsing of all the papers takes extreme amount of time. The fields of the dataframe that we are going to generate are:\n",
        " - __ID__: ID of the paper, given in hex\n",
        " - __Title__: The title of the paper, if available\n",
        " - __Abstract__: The abstract of the paper, if available\n",
        " - __Sections__: The different sections of the paper\n",
        " - __Text__:The full text of the paper.\n",
        "\n",
        "Initially, we are going to keep all this info, as it will be usefull in the creation of the embeddings. We will later narrow down the creation of embeddings, as it takes hours to build them for the full info of each paper.\n",
        "\n",
        "When it comes down to different containings of the papers (references, authors, schemas), we will completely ignore them, as the are highly unlikely to answer to any question at all."
      ]
    },
    {
      "cell_type": "code",
      "metadata": {
        "id": "n2i8n9leTOqm"
      },
      "source": [
        "import os\n",
        "import json\n",
        "import pandas as pd \n",
        "\n",
        "# keep only the unique elements of a list\n",
        "def unique_list(l):\n",
        "    ulist = []\n",
        "    [ulist.append(x) for x in l if x not in ulist]\n",
        "    return ulist\n",
        "\n",
        "# the files are stored here\n",
        "dir_name = \"/content/drive/MyDrive/tn2/comm_use_subset\"\n",
        "\n",
        "# lists to hold each paper's info\n",
        "ids = []\n",
        "titles = []\n",
        "abstracts = []\n",
        "texts = []\n",
        "sections = []\n",
        "\n",
        "# parse each file in the directory\n",
        "for i,filename in enumerate(os.listdir(dir_name)):\n",
        "    if i % 100 == 0:\n",
        "        print(i, \"/\", 9000)\n",
        "    # open the file\n",
        "    with open(os.path.join(dir_name, filename), 'r') as f:\n",
        "        # load the json values\n",
        "        values = json.load(f)\n",
        "        # id of the paper\n",
        "        ids.append(values['paper_id'])\n",
        "        # title of the paper\n",
        "        titles.append(values['metadata']['title'])\n",
        "        # there might, and might not be an abstract\n",
        "        if (values['abstract']):\n",
        "            abstracts.append(values['abstract'][0]['text'])\n",
        "        else:\n",
        "            abstracts.append(\"\")\n",
        "        # a string that will store each text field of the body_text\n",
        "        text = \"\"\n",
        "        section = \"\"\n",
        "        # parse the first body_Text values, and append to the original string\n",
        "        for i, l in enumerate(values['body_text']):\n",
        "            text = text + l['text']\n",
        "            section = section + l['section'] + '. '\n",
        "        # simple form of preprocessing: I noticed that many papers have this string in their text, thus we remove it\n",
        "        text = text.replace(\"a1111111111\", \"\")\n",
        "        texts.append(text)\n",
        "        \n",
        "        section = ' '.join(unique_list(section.split()))\n",
        "        sections.append(section)\n",
        "\n",
        "\n",
        "# create a dict of the info that we gathered\n",
        "data = {'id':ids, 'title':titles, 'abstract':abstracts, 'text':texts, 'sections':sections}\n",
        "# create a dataframe from it\n",
        "df = pd.DataFrame(data)\n",
        "# and save it to a csv form for later use\n",
        "df.to_csv(\"/content/drive/MyDrive/tn2/new_dataset.csv\")\n",
        "# print the head to check (althoufh google has an awful way of printing dfs)\n",
        "# df.head"
      ],
      "execution_count": null,
      "outputs": []
    },
    {
      "cell_type": "markdown",
      "metadata": {
        "id": "ChaXcfvZOfwX"
      },
      "source": [
        "Each time, this cell will be executed in order to load the dataset from the csv file that we saved it to using the above function."
      ]
    },
    {
      "cell_type": "code",
      "metadata": {
        "colab": {
          "base_uri": "https://localhost:8080/"
        },
        "id": "QyusDF4QijkW",
        "outputId": "0209fe2f-953e-4347-e0a1-3cf8880a411a"
      },
      "source": [
        "import pandas as pd \n",
        "\n",
        "df = pd.read_csv('/content/drive/MyDrive/tn2/new_dataset.csv')\n",
        "df.info"
      ],
      "execution_count": 2,
      "outputs": [
        {
          "output_type": "execute_result",
          "data": {
            "text/plain": [
              "<bound method DataFrame.info of       Unnamed: 0  ...                                           sections\n",
              "0              0  ...  . Appendix Supplementary Methods. Human primer...\n",
              "1              1  ...  Introduction. Approximate Bayesian Computation...\n",
              "2              2  ...  INTRODUCTION. THE MAIN METHODS USED TO PRODUCE...\n",
              "3              3  ...  Introduction. Methods. Amino acid composition ...\n",
              "4              4  ...  . RESULTS. DISCUSSION. Role of Unfolded-Protei...\n",
              "...          ...  ...                                                ...\n",
              "8995        8995  ...  Introduction. Epidemiological Data. Statistica...\n",
              "8996        8996  ...  Introduction. Population health. Globalisation...\n",
              "8997        8997  ...  Background. Cohort study population and enroll...\n",
              "8998        8998  ...  Background. General expression levels of candi...\n",
              "8999        8999  ...  Background. (Non-) synonymous substitutions in...\n",
              "\n",
              "[9000 rows x 6 columns]>"
            ]
          },
          "metadata": {
            "tags": []
          },
          "execution_count": 2
        }
      ]
    },
    {
      "cell_type": "markdown",
      "metadata": {
        "id": "KX4dtIuXOom8"
      },
      "source": [
        "Let's take a look at some elements of the dataset."
      ]
    },
    {
      "cell_type": "code",
      "metadata": {
        "colab": {
          "base_uri": "https://localhost:8080/",
          "height": 297
        },
        "id": "XamoGG4uiuC-",
        "outputId": "aabbe752-ce21-4e56-e30e-f7453d6d28d3"
      },
      "source": [
        "df.head()"
      ],
      "execution_count": 3,
      "outputs": [
        {
          "output_type": "execute_result",
          "data": {
            "text/html": [
              "<div>\n",
              "<style scoped>\n",
              "    .dataframe tbody tr th:only-of-type {\n",
              "        vertical-align: middle;\n",
              "    }\n",
              "\n",
              "    .dataframe tbody tr th {\n",
              "        vertical-align: top;\n",
              "    }\n",
              "\n",
              "    .dataframe thead th {\n",
              "        text-align: right;\n",
              "    }\n",
              "</style>\n",
              "<table border=\"1\" class=\"dataframe\">\n",
              "  <thead>\n",
              "    <tr style=\"text-align: right;\">\n",
              "      <th></th>\n",
              "      <th>Unnamed: 0</th>\n",
              "      <th>id</th>\n",
              "      <th>title</th>\n",
              "      <th>abstract</th>\n",
              "      <th>text</th>\n",
              "      <th>sections</th>\n",
              "    </tr>\n",
              "  </thead>\n",
              "  <tbody>\n",
              "    <tr>\n",
              "      <th>0</th>\n",
              "      <td>0</td>\n",
              "      <td>2ec6a171036b53b0c21a39abdfd12756fd02ace6</td>\n",
              "      <td>NaN</td>\n",
              "      <td>NaN</td>\n",
              "      <td>.Appendix Table S1 . Primer sequences for dete...</td>\n",
              "      <td>. Appendix Supplementary Methods. Human primer...</td>\n",
              "    </tr>\n",
              "    <tr>\n",
              "      <th>1</th>\n",
              "      <td>1</td>\n",
              "      <td>69ef51ebe3e2ce0b8d6fc292b06b293ba2942bd7</td>\n",
              "      <td>Phylodynamic Inference and Model Assessment wi...</td>\n",
              "      <td>A key priority in infectious disease research ...</td>\n",
              "      <td>Many infectious pathogens, most notably RNA vi...</td>\n",
              "      <td>Introduction. Approximate Bayesian Computation...</td>\n",
              "    </tr>\n",
              "    <tr>\n",
              "      <th>2</th>\n",
              "      <td>2</td>\n",
              "      <td>7722e2866e2b7849cc2f3175430a1048d97b71d9</td>\n",
              "      <td>Use of Transgenic Animals in Biotechnology: Pr...</td>\n",
              "      <td>During the past two decades, there have been n...</td>\n",
              "      <td>After the successful expression of the first r...</td>\n",
              "      <td>INTRODUCTION. THE MAIN METHODS USED TO PRODUCE...</td>\n",
              "    </tr>\n",
              "    <tr>\n",
              "      <th>3</th>\n",
              "      <td>3</td>\n",
              "      <td>31b6292728805572de28133c6eb02ed1d44ef211</td>\n",
              "      <td>Bioinformatics and Biology Insights o r I g I ...</td>\n",
              "      <td>Background: Precise determination of conformat...</td>\n",
              "      <td>The identification of conformational epitopes ...</td>\n",
              "      <td>Introduction. Methods. Amino acid composition ...</td>\n",
              "    </tr>\n",
              "    <tr>\n",
              "      <th>4</th>\n",
              "      <td>4</td>\n",
              "      <td>8812b0579ea75d59a8dca6407431a3f716728556</td>\n",
              "      <td>Quantitative Proteomic Analysis Reveals Unfold...</td>\n",
              "      <td>Severe fever with thrombocytopenia syndrome (S...</td>\n",
              "      <td>S evere fever with thrombocytopenia syndrome v...</td>\n",
              "      <td>. RESULTS. DISCUSSION. Role of Unfolded-Protei...</td>\n",
              "    </tr>\n",
              "  </tbody>\n",
              "</table>\n",
              "</div>"
            ],
            "text/plain": [
              "   Unnamed: 0  ...                                           sections\n",
              "0           0  ...  . Appendix Supplementary Methods. Human primer...\n",
              "1           1  ...  Introduction. Approximate Bayesian Computation...\n",
              "2           2  ...  INTRODUCTION. THE MAIN METHODS USED TO PRODUCE...\n",
              "3           3  ...  Introduction. Methods. Amino acid composition ...\n",
              "4           4  ...  . RESULTS. DISCUSSION. Role of Unfolded-Protei...\n",
              "\n",
              "[5 rows x 6 columns]"
            ]
          },
          "metadata": {
            "tags": []
          },
          "execution_count": 3
        }
      ]
    },
    {
      "cell_type": "markdown",
      "metadata": {
        "id": "oed1YAIMPltz"
      },
      "source": [
        "### Preprocessing"
      ]
    },
    {
      "cell_type": "markdown",
      "metadata": {
        "id": "HmjUSTdrPnbH"
      },
      "source": [
        "Given the nature of this task, we are not going to apply the amount of preprocessing that we did in the previous assingments. \n",
        "\n",
        "If we attempt to lemmatize the sentences, it will be a complete disaster, as the user wants answers to questions, thus the strings return would not be readable.\n",
        "\n",
        "The only preprocessing methods that are applicable in this purpose, is eliminating capital letters, and removing web links from the text."
      ]
    },
    {
      "cell_type": "code",
      "metadata": {
        "id": "GHSjG6FpPlS2"
      },
      "source": [
        "def text_normalization(x):\n",
        "    # convert to lowercase\n",
        "    x = x.lower()\n",
        "    # remove links\n",
        "    x = re.sub(r'^www?.*[\\r\\n]*.com', '', x)\n",
        "\n",
        "    return x"
      ],
      "execution_count": 4,
      "outputs": []
    },
    {
      "cell_type": "code",
      "metadata": {
        "id": "pVlEfPGFQrPa"
      },
      "source": [
        "def preprocess(input_df):\n",
        "     # Remove rows with missing values in column col\n",
        "    input_df.dropna(inplace=True)\n",
        "\n",
        "    # apply the normalization techniques\n",
        "    input_df.abstract = df.abstract.apply(lambda x: text_normalization(x))\n",
        "    input_df.text = df.text.apply(lambda x: text_normalization(x))\n",
        "    input_df.sections = df.sections.apply(lambda x: text_normalization(x))\n",
        "    \n",
        "    # return processed input_df\n",
        "    return input_df   "
      ],
      "execution_count": 5,
      "outputs": []
    },
    {
      "cell_type": "markdown",
      "metadata": {
        "id": "FkjCIcL5Q1zQ"
      },
      "source": [
        "Let's now apply those techniques in our dataset.\n"
      ]
    },
    {
      "cell_type": "code",
      "metadata": {
        "colab": {
          "base_uri": "https://localhost:8080/",
          "height": 297
        },
        "id": "DCo9RbJeQ6iz",
        "outputId": "5da9e912-7e84-44f9-8c59-070c97f8db08"
      },
      "source": [
        "df = preprocess(df)\n",
        "df.head()"
      ],
      "execution_count": 6,
      "outputs": [
        {
          "output_type": "execute_result",
          "data": {
            "text/html": [
              "<div>\n",
              "<style scoped>\n",
              "    .dataframe tbody tr th:only-of-type {\n",
              "        vertical-align: middle;\n",
              "    }\n",
              "\n",
              "    .dataframe tbody tr th {\n",
              "        vertical-align: top;\n",
              "    }\n",
              "\n",
              "    .dataframe thead th {\n",
              "        text-align: right;\n",
              "    }\n",
              "</style>\n",
              "<table border=\"1\" class=\"dataframe\">\n",
              "  <thead>\n",
              "    <tr style=\"text-align: right;\">\n",
              "      <th></th>\n",
              "      <th>Unnamed: 0</th>\n",
              "      <th>id</th>\n",
              "      <th>title</th>\n",
              "      <th>abstract</th>\n",
              "      <th>text</th>\n",
              "      <th>sections</th>\n",
              "    </tr>\n",
              "  </thead>\n",
              "  <tbody>\n",
              "    <tr>\n",
              "      <th>1</th>\n",
              "      <td>1</td>\n",
              "      <td>69ef51ebe3e2ce0b8d6fc292b06b293ba2942bd7</td>\n",
              "      <td>Phylodynamic Inference and Model Assessment wi...</td>\n",
              "      <td>a key priority in infectious disease research ...</td>\n",
              "      <td>many infectious pathogens, most notably rna vi...</td>\n",
              "      <td>introduction. approximate bayesian computation...</td>\n",
              "    </tr>\n",
              "    <tr>\n",
              "      <th>2</th>\n",
              "      <td>2</td>\n",
              "      <td>7722e2866e2b7849cc2f3175430a1048d97b71d9</td>\n",
              "      <td>Use of Transgenic Animals in Biotechnology: Pr...</td>\n",
              "      <td>during the past two decades, there have been n...</td>\n",
              "      <td>after the successful expression of the first r...</td>\n",
              "      <td>introduction. the main methods used to produce...</td>\n",
              "    </tr>\n",
              "    <tr>\n",
              "      <th>3</th>\n",
              "      <td>3</td>\n",
              "      <td>31b6292728805572de28133c6eb02ed1d44ef211</td>\n",
              "      <td>Bioinformatics and Biology Insights o r I g I ...</td>\n",
              "      <td>background: precise determination of conformat...</td>\n",
              "      <td>the identification of conformational epitopes ...</td>\n",
              "      <td>introduction. methods. amino acid composition ...</td>\n",
              "    </tr>\n",
              "    <tr>\n",
              "      <th>4</th>\n",
              "      <td>4</td>\n",
              "      <td>8812b0579ea75d59a8dca6407431a3f716728556</td>\n",
              "      <td>Quantitative Proteomic Analysis Reveals Unfold...</td>\n",
              "      <td>severe fever with thrombocytopenia syndrome (s...</td>\n",
              "      <td>s evere fever with thrombocytopenia syndrome v...</td>\n",
              "      <td>. results. discussion. role of unfolded-protei...</td>\n",
              "    </tr>\n",
              "    <tr>\n",
              "      <th>5</th>\n",
              "      <td>5</td>\n",
              "      <td>1c7d1097a0fc23516fc084e127333ec4bbf9ca94</td>\n",
              "      <td>viruses Ebola Virus Entry: From Molecular Char...</td>\n",
              "      <td>ebola virus disease (evd) is one of the most l...</td>\n",
              "      <td>the genus ebolavirus of the filoviridae family...</td>\n",
              "      <td>introduction. viral models for drug discovery ...</td>\n",
              "    </tr>\n",
              "  </tbody>\n",
              "</table>\n",
              "</div>"
            ],
            "text/plain": [
              "   Unnamed: 0  ...                                           sections\n",
              "1           1  ...  introduction. approximate bayesian computation...\n",
              "2           2  ...  introduction. the main methods used to produce...\n",
              "3           3  ...  introduction. methods. amino acid composition ...\n",
              "4           4  ...  . results. discussion. role of unfolded-protei...\n",
              "5           5  ...  introduction. viral models for drug discovery ...\n",
              "\n",
              "[5 rows x 6 columns]"
            ]
          },
          "metadata": {
            "tags": []
          },
          "execution_count": 6
        }
      ]
    },
    {
      "cell_type": "markdown",
      "metadata": {
        "id": "Pa8EIBaIsXzl"
      },
      "source": [
        "## Question Answering Mechanism"
      ]
    },
    {
      "cell_type": "markdown",
      "metadata": {
        "id": "qTa0y2hgvpkh"
      },
      "source": [
        "In order to answer the questions, the general idea is to create embeddings for each sentence of each paper, and then return the most similar to the query asked, as well as the paper that contains it. \n",
        "\n",
        "However, it is rather slow to create embeddings for the full text of each paper, thus I came down to an idea in order to narrow-down the search for a paper containing an appropriate answer.\n",
        "\n",
        "Initially, embeddings are created only for the __abstract__ and the __sections__ of each paper. We then keep the __k most similar__ regarding this info, and we fully expand the embeddings only for those k. \n",
        "\n",
        "This will reduce the runtime by a lot: the calculation of the embeddings for the top k papers (usually with k = 100), takes about 10 mins, as well as the creation of the embeddings of the abstract for all the papers.\n",
        "\n",
        "It is quite clear that the embeddings of the abstract need to be created only one time, and thus I created a class, who's constructor is creating those embeddings, and then for each questions computes the embeddings of the full text of the initially most similar papers, given of course the model that the user wants to use"
      ]
    },
    {
      "cell_type": "markdown",
      "metadata": {
        "id": "EGZuvacjlZuN"
      },
      "source": [
        "#### Class for Information Retrieval"
      ]
    },
    {
      "cell_type": "code",
      "metadata": {
        "id": "2dBxC7wp9ZdD"
      },
      "source": [
        "class Query_Answering():\n",
        "    # init function of the class: create the general embeddings, same for every question\n",
        "    def __init__(self, model, df, narrowed):\n",
        "        # start counting the time\n",
        "        start_time = time.time()\n",
        "\n",
        "        # keep usefull info\n",
        "        self.model = model\n",
        "        self.narrowed = narrowed\n",
        "        self.df = df\n",
        "        # keep track of the metrics\n",
        "        self.time_elapsed = 0\n",
        "        self.title_accuracy = 0\n",
        "        self.passage_accuracy = 0\n",
        "        self.questions_asked = 0\n",
        "\n",
        "        papers_tokenized = []\n",
        "        # parse the df to tokenize each sentence\n",
        "        for i in range(len(self.df)):\n",
        "            # ge the abstract\n",
        "            abstract = nltk.tokenize.sent_tokenize(self.df.iloc[i].abstract)\n",
        "            # and the sections of the paper\n",
        "            sections =  nltk.tokenize.sent_tokenize(self.df.iloc[i].sections)\n",
        "            # concat to retrieve all the sentences\n",
        "            sentences = abstract + sections\n",
        "            # append to the papers list\n",
        "            papers_tokenized.append(sentences)\n",
        "\n",
        "        # list to store all the general embeddings\n",
        "        self.general_embeddings = []\n",
        "        # create embeddings for each sentence that we tokenized\n",
        "  \n",
        "        for i in tqdm(range(len(papers_tokenized)), desc=\"Creating the embeddings...\", position=0, leave=True): \n",
        "            self.general_embeddings.append(model.encode(papers_tokenized[i], convert_to_tensor=True))\n",
        "\n",
        "        self.time_elapsed = time.time() - start_time\n",
        "\n",
        "\n",
        "    def initially_most_similar(self, question_emb):\n",
        "\n",
        "        # a numpy array to store the similarities of the sentence with each paper, while considering only the abstract and the sections\n",
        "        general_similarities = []\n",
        "        # itterate through all the embeddings\n",
        "        for i, x in enumerate(self.general_embeddings):\n",
        "            # create a list with the cosine similarities of each sentence of the paper with the question\n",
        "            cosines = util.pytorch_cos_sim(question_emb, x).max()\n",
        "            # and store the max of them\n",
        "            general_similarities.append((i, cosines))\n",
        "\n",
        "        # the most similar papers are those with the grater similarities among all in the df\n",
        "        most_similar = [element[0] for element in sorted(general_similarities, key=lambda x: x[1], reverse=True)[:self.narrowed]]\n",
        "        # for those papers, tokenize them again, but this time, add their body texts\n",
        "        narrowed_tokenized = []\n",
        "\n",
        "        for paper in most_similar:\n",
        "            # include the abstract\n",
        "            abstract = nltk.tokenize.sent_tokenize(self.df.iloc[paper].abstract)\n",
        "            # and the bodytexts\n",
        "            texts =  nltk.tokenize.sent_tokenize(self.df.iloc[paper].text)\n",
        "\n",
        "            sentences = abstract + texts\n",
        "            # append to the tokenized list\n",
        "            narrowed_tokenized.append(sentences)\n",
        "\n",
        "        # compute the embeddings once again\n",
        "        narrowed_embeddings = []\n",
        "\n",
        "        for i in tqdm(range(len(narrowed_tokenized)), desc=\"Creating the narrowed-down embeddings...\", position=0, leave=True): \n",
        "            # create embeddings for each sentence\n",
        "            narrowed_embeddings.append(self.model.encode(narrowed_tokenized[i], convert_to_tensor=True))\n",
        "\n",
        "        return (narrowed_embeddings, most_similar)\n",
        "\n",
        "    def ask_for_title(self, question):\n",
        "        # start counting the time\n",
        "        start_time = time.time()\n",
        "        \n",
        "        # one more question!\n",
        "        self.questions_asked += 1\n",
        "\n",
        "        # compute the embedding of the question\n",
        "        question_emb = self.model.encode(question, convert_to_tensor=True)\n",
        "\n",
        "        narrowed_embeddings, most_similar = self.initially_most_similar(question_emb)\n",
        "        \n",
        "        # final array to store the similarities of the question with each paper\n",
        "        similarities = np.zeros(len(narrowed_embeddings))\n",
        "\n",
        "        # itterate through the most similar papers\n",
        "        for i, x in enumerate(narrowed_embeddings):\n",
        "            # and compute the similarity of each sentence with the question\n",
        "            res = util.pytorch_cos_sim(question_emb, x).max()\n",
        "            # the similarity of each paper is the max of the list\n",
        "            similarities[i] = res\n",
        "\n",
        "        # the paper with the answer is the one containing the most similar answer in it\n",
        "        goal = most_similar[np.argmax(similarities)]\n",
        "        # print the title of the most relevant paper\n",
        "        # if the title is not \"nan\"\n",
        "        if (len(str(self.df.iloc[goal].title)) > 3):\n",
        "            print(\"\\nMost relevant paper: \", self.df.iloc[goal].title)\n",
        "        else:\n",
        "            print(\"\\nMost relevant paper: \", self.df.iloc[goal].id)\n",
        "    \n",
        "        # compute the title embedding in order to compute the accuracy\n",
        "        title_emb = self.model.encode(self.df.iloc[goal].title, convert_to_tensor=True)\n",
        "        \n",
        "        # accuracy is increased by the eucledian distance of the 2 embeddings\n",
        "        self.title_accuracy += np.dot(title_emb, question_emb) / title_emb.shape[0]\n",
        "\n",
        "        self.time_elapsed += time.time() - start_time\n",
        "\n",
        "\n",
        "    def ask_for_passages(self, question, k):\n",
        "\n",
        "        # start counting the time\n",
        "        start_time = time.time()\n",
        "        \n",
        "        # one more question!\n",
        "        self.questions_asked += 1\n",
        "\n",
        "        # compute the embedding of the question\n",
        "        question_emb = self.model.encode(question, convert_to_tensor=True)\n",
        "\n",
        "       \n",
        "        narrowed_embeddings, most_similar = self.initially_most_similar(question_emb)\n",
        "\n",
        "        print(\"\\n\")\n",
        "        # final array to store the similarities of the question with each paper\n",
        "        similarities = []\n",
        "        # itterate through the most similar papers\n",
        "        for i, x in enumerate(narrowed_embeddings):\n",
        "            # and compute the similarity of each sentence with the question\n",
        "            res = [util.pytorch_cos_sim(question_emb, small_x).item() for small_x in x]\n",
        "            res.sort(reverse=True)\n",
        "            # append the similarities of the K most similar passages, along with the paper that they are included in\n",
        "            for j in range(k):\n",
        "                if j == len(res):\n",
        "                    break\n",
        "                similarities.append((most_similar[i], res[j]))\n",
        "\n",
        "        # sort the list to keep the similarities of the 3 most similar passages, along with the paper that they are in\n",
        "        most_similar = [element for element in sorted(similarities, key=lambda x: x[1], reverse=True)[:k]]\n",
        "        # itterate throuth that list\n",
        "        for (paper, similarity) in most_similar:\n",
        "            goal_tokenized = []\n",
        "            # tokenize once again everything from the goal paper\n",
        "            abstract = nltk.tokenize.sent_tokenize(self.df.iloc[paper].abstract)\n",
        "            texts =  nltk.tokenize.sent_tokenize(self.df.iloc[paper].text)\n",
        "            goal_tokenized = abstract + texts\n",
        "            # and create the embeddings\n",
        "            goal_embeddings = self.model.encode(goal_tokenized)\n",
        "            # compute the similarities\n",
        "            new_lis = [util.pytorch_cos_sim(question_emb, small_x).item() for small_x in goal_embeddings]\n",
        "            # print only the passage that its similarity is in the most similar list\n",
        "            if (similarity in new_lis):\n",
        "                # if the title is not \"nan\"\n",
        "                if (len(str( self.df.iloc[paper].title)) > 3):\n",
        "                    print(\"\\nPaper title: \", self.df.iloc[paper].title)\n",
        "                else:\n",
        "                    print(\"\\nPaper ID: \", self.df.iloc[paper].id)\n",
        "\n",
        "                print(\"Similar passage: \", goal_tokenized[new_lis.index(similarity)], \"\\n\")\n",
        "\n",
        "                # compute one final time this specific embedding\n",
        "                res_emb = self.model.encode(goal_tokenized[new_lis.index(similarity)], convert_to_tensor=True)\n",
        "                # compute and append the accuracy\n",
        "                self.passage_accuracy += np.dot(res_emb, question_emb) / res_emb.shape[0]\n",
        "      \n",
        "\n",
        "    # get the execution time in minutes\n",
        "    def get_exec_time(self):\n",
        "        return self.time_elapsed / 60\n",
        "\n",
        "    # get the mean accuracy for Q1\n",
        "    def get_title_acc(self):\n",
        "        return self.title_accuracy / self.questions_asked\n",
        "\n",
        "    # get the mean accuracy for Q2 (3 passages for each question)\n",
        "    def get_passage_acc(self, k):\n",
        "        return self.passage_accuracy / (self.questions_asked * k)"
      ],
      "execution_count": 7,
      "outputs": []
    },
    {
      "cell_type": "markdown",
      "metadata": {
        "id": "Y_4P4lkdlSAj"
      },
      "source": [
        "## Using Pre-Trained SBERT Models"
      ]
    },
    {
      "cell_type": "markdown",
      "metadata": {
        "id": "MbWVwZiWlXIk"
      },
      "source": [
        "We are going to use 4 different models from the __S-BERT__ paper, and compare their behaviour. We will provide to them many questions, and observe the results."
      ]
    },
    {
      "cell_type": "markdown",
      "metadata": {
        "id": "HT8AkqyPEGQE"
      },
      "source": [
        "### Chosen Models"
      ]
    },
    {
      "cell_type": "markdown",
      "metadata": {
        "id": "mBuIaHF_EKrG"
      },
      "source": [
        "By reading the paper, it is made clear that BERT is not suitable for our tasks, thus we are going to use S-BERT model. In the paper many models are analyzed, as well as at their website. I opted to use 4 different pre-trained models, with different types of embeddings, in order to check their behaviour. From the number of different models trained, I opted to use the some that are specifically trained for __information retrieval__, and some other simple models, in order to compare them.\n",
        "\n",
        "The models that I chose for the specific tasks are:\n",
        "\n",
        " - __roberta-base__: A simple BERT-base model, that uses mean pooling.\n",
        " - __msmarco-distilroberta-base-v2__: An information retireval specific model, that was trained explicitly for our task\n",
        " - __msmarco-roberta-base-v2__: Another model that was trained for information retrieving tasks.\n",
        " - __average_word_embeddings_glove.6B.300d__: A glove-based model, that according to the paper should not produce optimal results.\n",
        "\n",
        "It is clear that I have not chosen all the models in order to produce great results: I chose them so I can compare them, and determine if the paper theory stands, when tested in our dataset."
      ]
    },
    {
      "cell_type": "markdown",
      "metadata": {
        "id": "zF53POzmmIE6"
      },
      "source": [
        "### Initialization"
      ]
    },
    {
      "cell_type": "markdown",
      "metadata": {
        "id": "nXYGD59dmPb9"
      },
      "source": [
        "First, let's initialize the classes, in order for the embeddings to be computed."
      ]
    },
    {
      "cell_type": "code",
      "metadata": {
        "colab": {
          "base_uri": "https://localhost:8080/",
          "height": 426,
          "referenced_widgets": [
            "9799ef3a0f8d4faa8b6e7c7fe9f196a0",
            "8c3c796061c2476b82ef6bcfbacc274a",
            "48924380188c4e9fa0dd310a9edcd0b1",
            "2fd96a8d199a493783aa35401c96730f",
            "c2184da06dd94210bf2da74b6f83fe7a",
            "1251e7d2a2154befa9ee988f328e70bf",
            "ac58e4e9081e43d0be82234ceb64d2bb",
            "0de3cccb7f6d42fdbaa7ab607fd9f8b1",
            "21802fbd96194562b0084bf565e4f5dc",
            "a81d8133775b4fb09abee36f285b0d84",
            "4ded5e6c911b4dd2a27ff9f41753da64",
            "e34823a2611a471bb36aebcd784f10f8",
            "fa6534ba31934a7e96fcbf881b00b196",
            "80db26bf7a1744ae86728f48c18a15dc",
            "0164712d69bb476397ebf7ab84fff1b9",
            "c5406543f3bd46c4b94f1f74f12ab2f4",
            "30bb022632744f989b9dc3bf56714923",
            "28de2a53067e47779614d155322548a7",
            "9559d368cf7347a4851925eb71891f63",
            "4d9a0ed113b04676a90c58bd9187ceff",
            "677f3e6f46ea4f07824ba2f7d1e39ffa",
            "8d8e7249faaf40b5adea4d2e1132420d",
            "dc4cc722f358493aaf15a7d1c567bb1f",
            "4ea144f0a47d47e59432839bf87cebb4",
            "f0f46c679ee8424081740e6bcd9a75eb",
            "489425767dc44cb5a1445078b510f168",
            "dab4829d316c4ab1904e90cbe175c156",
            "c2a62453f2944920b51e39c917ed910b",
            "b96e8a7d0a0f4a1e86b0aa6a178eb8a7",
            "de57c05f3dcd4dfba7e770707603a516",
            "4f4c8984e1e748688120211483b4b7a6",
            "f6e5f214883f4cb4a79e286fdc932122",
            "76884b7316764124b257eeb63f1137b3",
            "8c650a308e1846b584d01641b130c74f",
            "c171f2372ed546dc8dd0009a2f8f26f0",
            "cd29dc4811934c42bd39ecacc8104bba",
            "c885d97a73eb4080bdf2a010bf682b91",
            "adc01356f23043cd861f85d449e6ce7b",
            "5391fdc00b5a41f49e8f37eb274b3f86",
            "ccc7f0d4947a446e8bba1fef5e10630e"
          ]
        },
        "id": "sLMFrupYBUYf",
        "outputId": "d3055ef8-fb00-440d-c8da-f6880b61adf9"
      },
      "source": [
        "model1 = SentenceTransformer('roberta-base')\n",
        "model2 = SentenceTransformer('msmarco-distilroberta-base-v2')\n",
        "model3 = SentenceTransformer('msmarco-roberta-base-v2')\n",
        "model4 = SentenceTransformer('average_word_embeddings_glove.6B.300d')\n",
        "\n",
        "instance_1 = Query_Answering(model1, df, 100)\n",
        "instance_2 = Query_Answering(model2, df, 100)\n",
        "instance_3 = Query_Answering(model3, df, 100)\n",
        "instance_4 = Query_Answering(model4, df, 100)"
      ],
      "execution_count": 8,
      "outputs": [
        {
          "output_type": "stream",
          "text": [
            "Exception when trying to download https://sbert.net/models/roberta-base.zip. Response 404\n",
            "SentenceTransformer-Model https://sbert.net/models/roberta-base.zip not found. Try to create it from scratch\n",
            "Try to create Transformer Model roberta-base with mean pooling\n"
          ],
          "name": "stderr"
        },
        {
          "output_type": "display_data",
          "data": {
            "application/vnd.jupyter.widget-view+json": {
              "model_id": "9799ef3a0f8d4faa8b6e7c7fe9f196a0",
              "version_minor": 0,
              "version_major": 2
            },
            "text/plain": [
              "HBox(children=(FloatProgress(value=0.0, description='Downloading', max=481.0, style=ProgressStyle(description_…"
            ]
          },
          "metadata": {
            "tags": []
          }
        },
        {
          "output_type": "stream",
          "text": [
            "\n"
          ],
          "name": "stdout"
        },
        {
          "output_type": "display_data",
          "data": {
            "application/vnd.jupyter.widget-view+json": {
              "model_id": "21802fbd96194562b0084bf565e4f5dc",
              "version_minor": 0,
              "version_major": 2
            },
            "text/plain": [
              "HBox(children=(FloatProgress(value=0.0, description='Downloading', max=501200538.0, style=ProgressStyle(descri…"
            ]
          },
          "metadata": {
            "tags": []
          }
        },
        {
          "output_type": "stream",
          "text": [
            "\n"
          ],
          "name": "stdout"
        },
        {
          "output_type": "display_data",
          "data": {
            "application/vnd.jupyter.widget-view+json": {
              "model_id": "30bb022632744f989b9dc3bf56714923",
              "version_minor": 0,
              "version_major": 2
            },
            "text/plain": [
              "HBox(children=(FloatProgress(value=0.0, description='Downloading', max=898823.0, style=ProgressStyle(descripti…"
            ]
          },
          "metadata": {
            "tags": []
          }
        },
        {
          "output_type": "stream",
          "text": [
            "\n"
          ],
          "name": "stdout"
        },
        {
          "output_type": "display_data",
          "data": {
            "application/vnd.jupyter.widget-view+json": {
              "model_id": "f0f46c679ee8424081740e6bcd9a75eb",
              "version_minor": 0,
              "version_major": 2
            },
            "text/plain": [
              "HBox(children=(FloatProgress(value=0.0, description='Downloading', max=456318.0, style=ProgressStyle(descripti…"
            ]
          },
          "metadata": {
            "tags": []
          }
        },
        {
          "output_type": "stream",
          "text": [
            "\n"
          ],
          "name": "stdout"
        },
        {
          "output_type": "display_data",
          "data": {
            "application/vnd.jupyter.widget-view+json": {
              "model_id": "76884b7316764124b257eeb63f1137b3",
              "version_minor": 0,
              "version_major": 2
            },
            "text/plain": [
              "HBox(children=(FloatProgress(value=0.0, description='Downloading', max=1355863.0, style=ProgressStyle(descript…"
            ]
          },
          "metadata": {
            "tags": []
          }
        },
        {
          "output_type": "stream",
          "text": [
            "\n"
          ],
          "name": "stdout"
        },
        {
          "output_type": "stream",
          "text": [
            "100%|██████████| 305M/305M [00:19<00:00, 15.9MB/s]\n",
            "100%|██████████| 463M/463M [00:26<00:00, 17.4MB/s]\n",
            "100%|██████████| 441M/441M [00:25<00:00, 17.5MB/s]\n",
            "Creating the embeddings...: 100%|██████████| 7983/7983 [05:57<00:00, 22.35it/s]\n",
            "Creating the embeddings...: 100%|██████████| 7983/7983 [03:12<00:00, 41.54it/s]\n",
            "Creating the embeddings...: 100%|██████████| 7983/7983 [05:54<00:00, 22.49it/s]\n",
            "Creating the embeddings...: 100%|██████████| 7983/7983 [00:07<00:00, 1066.44it/s]\n"
          ],
          "name": "stderr"
        }
      ]
    },
    {
      "cell_type": "markdown",
      "metadata": {
        "id": "y7v2wT_FmLfj"
      },
      "source": [
        "### Query Answering"
      ]
    },
    {
      "cell_type": "markdown",
      "metadata": {
        "id": "XJ9arv_hmOU9"
      },
      "source": [
        "Now we are going to pose questions for the papers. Those questions are found in the file `questions.txt`, and are those proposed to us, along with some others. The file is available in the zip file that is delivered."
      ]
    },
    {
      "cell_type": "markdown",
      "metadata": {
        "id": "67oayhqm9fnC"
      },
      "source": [
        "#### Asking for Paper Titles"
      ]
    },
    {
      "cell_type": "markdown",
      "metadata": {
        "id": "KCIE7QDg9ijq"
      },
      "source": [
        "As part of Q1, we must return the paper which contains the best answer to the question that was posed. Let's take a look on the answers that our models return"
      ]
    },
    {
      "cell_type": "code",
      "metadata": {
        "colab": {
          "base_uri": "https://localhost:8080/"
        },
        "id": "ErDHHZF6F4GJ",
        "outputId": "275e5c95-9696-4034-e22e-b3bef4a21c8a"
      },
      "source": [
        "# open the question file\n",
        "q_file = open(\"/content/drive/MyDrive/tn2/questions.txt\", 'r')\n",
        "questions = q_file.readlines()\n",
        "\n",
        "# ask all the questions\n",
        "for question in questions:\n",
        "    question = text_normalization(question)\n",
        "    print(\"\\nQuestion: \", question, \"\\n\")\n",
        "    print(\"Model 1:\\n\")\n",
        "    instance_1.ask_for_title(question)\n",
        "    print(\"Model 2:\\n\")\n",
        "    instance_2.ask_for_title(question)\n",
        "    print(\"Model 3:\\n\")\n",
        "    instance_3.ask_for_title(question)\n",
        "    print(\"Model 4:\\n\")\n",
        "    instance_4.ask_for_title(question)\n",
        "    print(\"_________________________________________________________________\")"
      ],
      "execution_count": 9,
      "outputs": [
        {
          "output_type": "stream",
          "text": [
            "\n",
            "Question:  what are the coronoviruses?\n",
            " \n",
            "\n",
            "Model 1:\n",
            "\n"
          ],
          "name": "stdout"
        },
        {
          "output_type": "stream",
          "text": [
            "Creating the narrowed-down embeddings...: 100%|██████████| 100/100 [00:43<00:00,  2.29it/s]\n"
          ],
          "name": "stderr"
        },
        {
          "output_type": "stream",
          "text": [
            "\n",
            "Most relevant paper:  viruses Ebola Virus Maintenance: If Not (Only) Bats, What Else?\n",
            "Model 2:\n",
            "\n"
          ],
          "name": "stdout"
        },
        {
          "output_type": "stream",
          "text": [
            "Creating the narrowed-down embeddings...: 100%|██████████| 100/100 [00:24<00:00,  4.01it/s]\n"
          ],
          "name": "stderr"
        },
        {
          "output_type": "stream",
          "text": [
            "\n",
            "Most relevant paper:  Differential Sensitivity of Bat Cells to Infection by Enveloped RNA Viruses: Coronaviruses, Paramyxoviruses, Filoviruses, and Influenza Viruses\n",
            "Model 3:\n",
            "\n"
          ],
          "name": "stdout"
        },
        {
          "output_type": "stream",
          "text": [
            "Creating the narrowed-down embeddings...: 100%|██████████| 100/100 [00:45<00:00,  2.22it/s]\n"
          ],
          "name": "stderr"
        },
        {
          "output_type": "stream",
          "text": [
            "\n",
            "Most relevant paper:  Differential Sensitivity of Bat Cells to Infection by Enveloped RNA Viruses: Coronaviruses, Paramyxoviruses, Filoviruses, and Influenza Viruses\n",
            "Model 4:\n",
            "\n"
          ],
          "name": "stdout"
        },
        {
          "output_type": "stream",
          "text": [
            "Creating the narrowed-down embeddings...: 100%|██████████| 100/100 [00:00<00:00, 125.81it/s]\n"
          ],
          "name": "stderr"
        },
        {
          "output_type": "stream",
          "text": [
            "\n",
            "Most relevant paper:  Phylodynamic Inference and Model Assessment with Approximate Bayesian Computation: Influenza as a Case Study\n",
            "_________________________________________________________________\n",
            "\n",
            "Question:  what was discovered in wuhuan in december 2019?\n",
            " \n",
            "\n",
            "Model 1:\n",
            "\n"
          ],
          "name": "stdout"
        },
        {
          "output_type": "stream",
          "text": [
            "Creating the narrowed-down embeddings...: 100%|██████████| 100/100 [00:32<00:00,  3.09it/s]\n"
          ],
          "name": "stderr"
        },
        {
          "output_type": "stream",
          "text": [
            "\n",
            "Most relevant paper:  The threat of climate change to non- dengue-endemic countries: increasing risk of dengue transmission potential using climate and non-climate datasets\n",
            "Model 2:\n",
            "\n"
          ],
          "name": "stdout"
        },
        {
          "output_type": "stream",
          "text": [
            "Creating the narrowed-down embeddings...: 100%|██████████| 100/100 [00:19<00:00,  5.10it/s]\n"
          ],
          "name": "stderr"
        },
        {
          "output_type": "stream",
          "text": [
            "\n",
            "Most relevant paper:  Emerging Microbes & Infections (2017) 6, e74\n",
            "Model 3:\n",
            "\n"
          ],
          "name": "stdout"
        },
        {
          "output_type": "stream",
          "text": [
            "Creating the narrowed-down embeddings...: 100%|██████████| 100/100 [00:28<00:00,  3.49it/s]\n"
          ],
          "name": "stderr"
        },
        {
          "output_type": "stream",
          "text": [
            "\n",
            "Most relevant paper:  The novel coronavirus outbreak in Wuhan, China\n",
            "Model 4:\n",
            "\n"
          ],
          "name": "stdout"
        },
        {
          "output_type": "stream",
          "text": [
            "Creating the narrowed-down embeddings...: 100%|██████████| 100/100 [00:00<00:00, 147.01it/s]\n"
          ],
          "name": "stderr"
        },
        {
          "output_type": "stream",
          "text": [
            "\n",
            "Most relevant paper:  Clinical Medicine Characteristics of and Public Health Responses to the Coronavirus Disease 2019 Outbreak in China\n",
            "_________________________________________________________________\n",
            "\n",
            "Question:  what is coronovirus disease 2019?\n",
            " \n",
            "\n",
            "Model 1:\n",
            "\n"
          ],
          "name": "stdout"
        },
        {
          "output_type": "stream",
          "text": [
            "Creating the narrowed-down embeddings...: 100%|██████████| 100/100 [00:41<00:00,  2.43it/s]\n"
          ],
          "name": "stderr"
        },
        {
          "output_type": "stream",
          "text": [
            "\n",
            "Most relevant paper:  A highly conserved WDYPKCDRA epitope in the RNA directed RNA polymerase of human coronaviruses can be used as epitope-based universal vaccine design\n",
            "Model 2:\n",
            "\n"
          ],
          "name": "stdout"
        },
        {
          "output_type": "stream",
          "text": [
            "Creating the narrowed-down embeddings...: 100%|██████████| 100/100 [00:20<00:00,  4.92it/s]\n"
          ],
          "name": "stderr"
        },
        {
          "output_type": "stream",
          "text": [
            "\n",
            "Most relevant paper:  Structure analysis of the receptor binding of 2019-nCoV\n",
            "Model 3:\n",
            "\n"
          ],
          "name": "stdout"
        },
        {
          "output_type": "stream",
          "text": [
            "Creating the narrowed-down embeddings...: 100%|██████████| 100/100 [00:40<00:00,  2.45it/s]\n"
          ],
          "name": "stderr"
        },
        {
          "output_type": "stream",
          "text": [
            "\n",
            "Most relevant paper:  Consensus statement The species Severe acute respiratory syndrome- related coronavirus: classifying 2019-nCoV and naming it SARS-CoV-2 Coronaviridae Study Group of the International Committee on Taxonomy of Viruses*\n",
            "Model 4:\n",
            "\n"
          ],
          "name": "stdout"
        },
        {
          "output_type": "stream",
          "text": [
            "Creating the narrowed-down embeddings...: 100%|██████████| 100/100 [00:00<00:00, 106.19it/s]\n"
          ],
          "name": "stderr"
        },
        {
          "output_type": "stream",
          "text": [
            "\n",
            "Most relevant paper:  Systematic Comparison of Two Animal-to-Human Transmitted Human Coronaviruses: SARS-CoV-2 and SARS-CoV\n",
            "_________________________________________________________________\n",
            "\n",
            "Question:  what is covid-19?\n",
            " \n",
            "\n",
            "Model 1:\n",
            "\n"
          ],
          "name": "stdout"
        },
        {
          "output_type": "stream",
          "text": [
            "Creating the narrowed-down embeddings...: 100%|██████████| 100/100 [00:43<00:00,  2.28it/s]\n"
          ],
          "name": "stderr"
        },
        {
          "output_type": "stream",
          "text": [
            "\n",
            "Most relevant paper:  Systematic Comparison of Two Animal-to-Human Transmitted Human Coronaviruses: SARS-CoV-2 and SARS-CoV\n",
            "Model 2:\n",
            "\n"
          ],
          "name": "stdout"
        },
        {
          "output_type": "stream",
          "text": [
            "Creating the narrowed-down embeddings...: 100%|██████████| 100/100 [00:30<00:00,  3.26it/s]\n"
          ],
          "name": "stderr"
        },
        {
          "output_type": "stream",
          "text": [
            "\n",
            "Most relevant paper:  First two months of the 2019 Coronavirus Disease (COVID-19) epidemic in China: real- time surveillance and evaluation with a second derivative model\n",
            "Model 3:\n",
            "\n"
          ],
          "name": "stdout"
        },
        {
          "output_type": "stream",
          "text": [
            "Creating the narrowed-down embeddings...: 100%|██████████| 100/100 [00:44<00:00,  2.25it/s]\n"
          ],
          "name": "stderr"
        },
        {
          "output_type": "stream",
          "text": [
            "\n",
            "Most relevant paper:  First two months of the 2019 Coronavirus Disease (COVID-19) epidemic in China: real- time surveillance and evaluation with a second derivative model\n",
            "Model 4:\n",
            "\n"
          ],
          "name": "stdout"
        },
        {
          "output_type": "stream",
          "text": [
            "Creating the narrowed-down embeddings...: 100%|██████████| 100/100 [00:00<00:00, 132.79it/s]\n"
          ],
          "name": "stderr"
        },
        {
          "output_type": "stream",
          "text": [
            "\n",
            "Most relevant paper:  Phylodynamic Inference and Model Assessment with Approximate Bayesian Computation: Influenza as a Case Study\n",
            "_________________________________________________________________\n",
            "\n",
            "Question:  what is caused by sars-cov2?\n",
            " \n",
            "\n",
            "Model 1:\n",
            "\n"
          ],
          "name": "stdout"
        },
        {
          "output_type": "stream",
          "text": [
            "Creating the narrowed-down embeddings...: 100%|██████████| 100/100 [00:43<00:00,  2.27it/s]\n"
          ],
          "name": "stderr"
        },
        {
          "output_type": "stream",
          "text": [
            "\n",
            "Most relevant paper:  Analysis of Intraviral Protein-Protein Interactions of the SARS Coronavirus ORFeome\n",
            "Model 2:\n",
            "\n"
          ],
          "name": "stdout"
        },
        {
          "output_type": "stream",
          "text": [
            "Creating the narrowed-down embeddings...: 100%|██████████| 100/100 [00:22<00:00,  4.38it/s]\n"
          ],
          "name": "stderr"
        },
        {
          "output_type": "stream",
          "text": [
            "\n",
            "Most relevant paper:  Immunization with SARS Coronavirus Vaccines Leads to Pulmonary Immunopathology on Challenge with the SARS Virus\n",
            "Model 3:\n",
            "\n"
          ],
          "name": "stdout"
        },
        {
          "output_type": "stream",
          "text": [
            "Creating the narrowed-down embeddings...: 100%|██████████| 100/100 [00:44<00:00,  2.26it/s]\n"
          ],
          "name": "stderr"
        },
        {
          "output_type": "stream",
          "text": [
            "\n",
            "Most relevant paper:  The SARS-Coronavirus-Host Interactome: Identification of Cyclophilins as Target for Pan-Coronavirus Inhibitors\n",
            "Model 4:\n",
            "\n"
          ],
          "name": "stdout"
        },
        {
          "output_type": "stream",
          "text": [
            "Creating the narrowed-down embeddings...: 100%|██████████| 100/100 [00:00<00:00, 126.70it/s]\n"
          ],
          "name": "stderr"
        },
        {
          "output_type": "stream",
          "text": [
            "\n",
            "Most relevant paper:  Sustained Viremia and High Viral Load in Respiratory Tract Secretions Are Predictors for Death in Immunocompetent Adults with Adenovirus Pneumonia\n",
            "_________________________________________________________________\n",
            "\n",
            "Question:  how is covid-19 spread?\n",
            " \n",
            "\n",
            "Model 1:\n",
            "\n"
          ],
          "name": "stdout"
        },
        {
          "output_type": "stream",
          "text": [
            "Creating the narrowed-down embeddings...: 100%|██████████| 100/100 [00:40<00:00,  2.46it/s]\n"
          ],
          "name": "stderr"
        },
        {
          "output_type": "stream",
          "text": [
            "\n",
            "Most relevant paper:  First two months of the 2019 Coronavirus Disease (COVID-19) epidemic in China: real- time surveillance and evaluation with a second derivative model\n",
            "Model 2:\n",
            "\n"
          ],
          "name": "stdout"
        },
        {
          "output_type": "stream",
          "text": [
            "Creating the narrowed-down embeddings...: 100%|██████████| 100/100 [00:24<00:00,  4.16it/s]\n"
          ],
          "name": "stderr"
        },
        {
          "output_type": "stream",
          "text": [
            "\n",
            "Most relevant paper:  Estimated effectiveness of symptom and risk screening to prevent the spread of COVID-19\n",
            "Model 3:\n",
            "\n"
          ],
          "name": "stdout"
        },
        {
          "output_type": "stream",
          "text": [
            "Creating the narrowed-down embeddings...: 100%|██████████| 100/100 [00:43<00:00,  2.32it/s]\n"
          ],
          "name": "stderr"
        },
        {
          "output_type": "stream",
          "text": [
            "\n",
            "Most relevant paper:  The novel coronavirus outbreak in Wuhan, China\n",
            "Model 4:\n",
            "\n"
          ],
          "name": "stdout"
        },
        {
          "output_type": "stream",
          "text": [
            "Creating the narrowed-down embeddings...: 100%|██████████| 100/100 [00:00<00:00, 134.17it/s]\n"
          ],
          "name": "stderr"
        },
        {
          "output_type": "stream",
          "text": [
            "\n",
            "Most relevant paper:  A Porcine Epidemic Diarrhea Virus Outbreak in One Geographic Region of the United States: Descriptive Epidemiology and Investigation of the Possibility of Airborne Virus Spread\n",
            "_________________________________________________________________\n",
            "\n",
            "Question:  where was covid-19 discovered?\n",
            " \n",
            "\n",
            "Model 1:\n",
            "\n"
          ],
          "name": "stdout"
        },
        {
          "output_type": "stream",
          "text": [
            "Creating the narrowed-down embeddings...: 100%|██████████| 100/100 [00:46<00:00,  2.15it/s]\n"
          ],
          "name": "stderr"
        },
        {
          "output_type": "stream",
          "text": [
            "\n",
            "Most relevant paper:  BMC Infectious Diseases A novel pancoronavirus RT-PCR assay: frequent detection of human coronavirus NL63 in children hospitalized with respiratory tract infections in Belgium\n",
            "Model 2:\n",
            "\n"
          ],
          "name": "stdout"
        },
        {
          "output_type": "stream",
          "text": [
            "Creating the narrowed-down embeddings...: 100%|██████████| 100/100 [00:21<00:00,  4.74it/s]\n"
          ],
          "name": "stderr"
        },
        {
          "output_type": "stream",
          "text": [
            "\n",
            "Most relevant paper:  Clinical Medicine Optimization Method for Forecasting Confirmed Cases of COVID-19 in China\n",
            "Model 3:\n",
            "\n"
          ],
          "name": "stdout"
        },
        {
          "output_type": "stream",
          "text": [
            "Creating the narrowed-down embeddings...: 100%|██████████| 100/100 [00:35<00:00,  2.79it/s]\n"
          ],
          "name": "stderr"
        },
        {
          "output_type": "stream",
          "text": [
            "\n",
            "Most relevant paper:  Clinical Medicine Optimization Method for Forecasting Confirmed Cases of COVID-19 in China\n",
            "Model 4:\n",
            "\n"
          ],
          "name": "stdout"
        },
        {
          "output_type": "stream",
          "text": [
            "Creating the narrowed-down embeddings...: 100%|██████████| 100/100 [00:00<00:00, 123.36it/s]\n"
          ],
          "name": "stderr"
        },
        {
          "output_type": "stream",
          "text": [
            "\n",
            "Most relevant paper:  A viral metagenomic survey identifies known and novel mammalian viruses in bats from Saudi Arabia\n",
            "_________________________________________________________________\n",
            "\n",
            "Question:  how does coronavirus spread?\n",
            " \n",
            "\n",
            "Model 1:\n",
            "\n"
          ],
          "name": "stdout"
        },
        {
          "output_type": "stream",
          "text": [
            "Creating the narrowed-down embeddings...: 100%|██████████| 100/100 [00:40<00:00,  2.48it/s]\n"
          ],
          "name": "stderr"
        },
        {
          "output_type": "stream",
          "text": [
            "\n",
            "Most relevant paper:  Discovery of a polyomavirus in European badgers (Meles meles) and the evolution of host range in the family Polyomaviridae\n",
            "Model 2:\n",
            "\n"
          ],
          "name": "stdout"
        },
        {
          "output_type": "stream",
          "text": [
            "Creating the narrowed-down embeddings...: 100%|██████████| 100/100 [00:20<00:00,  4.80it/s]\n"
          ],
          "name": "stderr"
        },
        {
          "output_type": "stream",
          "text": [
            "\n",
            "Most relevant paper:  On the Coronavirus (COVID-19) Outbreak and the Smart City Network: Universal Data Sharing Standards Coupled with Artificial Intelligence (AI) to Benefit Urban Health Monitoring and Management\n",
            "Model 3:\n",
            "\n"
          ],
          "name": "stdout"
        },
        {
          "output_type": "stream",
          "text": [
            "Creating the narrowed-down embeddings...: 100%|██████████| 100/100 [00:42<00:00,  2.34it/s]\n"
          ],
          "name": "stderr"
        },
        {
          "output_type": "stream",
          "text": [
            "\n",
            "Most relevant paper:  Role of fomites in SARS transmission during the largest hospital outbreak in Hong Kong\n",
            "Model 4:\n",
            "\n"
          ],
          "name": "stdout"
        },
        {
          "output_type": "stream",
          "text": [
            "Creating the narrowed-down embeddings...: 100%|██████████| 100/100 [00:00<00:00, 134.24it/s]\n"
          ],
          "name": "stderr"
        },
        {
          "output_type": "stream",
          "text": [
            "\n",
            "Most relevant paper:  Bioinformatics and evolutionary insight on the spike glycoprotein gene of QX-like and Massachusetts strains of infectious bronchitis virus\n",
            "_________________________________________________________________\n",
            "\n",
            "Question:  what are the symptoms of covid-19?\n",
            " \n",
            "\n",
            "Model 1:\n",
            "\n"
          ],
          "name": "stdout"
        },
        {
          "output_type": "stream",
          "text": [
            "Creating the narrowed-down embeddings...: 100%|██████████| 100/100 [00:41<00:00,  2.43it/s]\n"
          ],
          "name": "stderr"
        },
        {
          "output_type": "stream",
          "text": [
            "\n",
            "Most relevant paper:  IFNΛ3/4 locus polymorphisms and IFNΛ3 circulating levels are associated with COPD severity and outcomes\n",
            "Model 2:\n",
            "\n"
          ],
          "name": "stdout"
        },
        {
          "output_type": "stream",
          "text": [
            "Creating the narrowed-down embeddings...: 100%|██████████| 100/100 [00:20<00:00,  4.96it/s]\n"
          ],
          "name": "stderr"
        },
        {
          "output_type": "stream",
          "text": [
            "\n",
            "Most relevant paper:  First two months of the 2019 Coronavirus Disease (COVID-19) epidemic in China: real- time surveillance and evaluation with a second derivative model\n",
            "Model 3:\n",
            "\n"
          ],
          "name": "stdout"
        },
        {
          "output_type": "stream",
          "text": [
            "Creating the narrowed-down embeddings...: 100%|██████████| 100/100 [00:36<00:00,  2.72it/s]\n"
          ],
          "name": "stderr"
        },
        {
          "output_type": "stream",
          "text": [
            "\n",
            "Most relevant paper:  Early epidemiological analysis of the coronavirus disease 2019 outbreak based on crowdsourced data: a population- level observational study\n",
            "Model 4:\n",
            "\n"
          ],
          "name": "stdout"
        },
        {
          "output_type": "stream",
          "text": [
            "Creating the narrowed-down embeddings...: 100%|██████████| 100/100 [00:00<00:00, 151.75it/s]\n"
          ],
          "name": "stderr"
        },
        {
          "output_type": "stream",
          "text": [
            "\n",
            "Most relevant paper:  Respiratory virus associated with surgery in children patients\n",
            "_________________________________________________________________\n",
            "\n",
            "Question:  is there a treatment for covid-19?\n",
            " \n",
            "\n",
            "Model 1:\n",
            "\n"
          ],
          "name": "stdout"
        },
        {
          "output_type": "stream",
          "text": [
            "Creating the narrowed-down embeddings...: 100%|██████████| 100/100 [00:41<00:00,  2.39it/s]\n"
          ],
          "name": "stderr"
        },
        {
          "output_type": "stream",
          "text": [
            "\n",
            "Most relevant paper:  STUDY PROTOCOL Feasibility, safety, clinical, and laboratory effects of convalescent plasma therapy for patients with Middle East respiratory syndrome coronavirus infection: a study protocol Open Access\n",
            "Model 2:\n",
            "\n"
          ],
          "name": "stdout"
        },
        {
          "output_type": "stream",
          "text": [
            "Creating the narrowed-down embeddings...: 100%|██████████| 100/100 [00:23<00:00,  4.19it/s]\n"
          ],
          "name": "stderr"
        },
        {
          "output_type": "stream",
          "text": [
            "\n",
            "Most relevant paper:  Structure of Main Protease from Human Coronavirus NL63: Insights for Wide Spectrum Anti- Coronavirus Drug Design OPEN\n",
            "Model 3:\n",
            "\n"
          ],
          "name": "stdout"
        },
        {
          "output_type": "stream",
          "text": [
            "Creating the narrowed-down embeddings...: 100%|██████████| 100/100 [00:43<00:00,  2.29it/s]\n"
          ],
          "name": "stderr"
        },
        {
          "output_type": "stream",
          "text": [
            "\n",
            "Most relevant paper:  Clinical Medicine Communicating the Risk of Death from Novel Coronavirus Disease (COVID-19)\n",
            "Model 4:\n",
            "\n"
          ],
          "name": "stdout"
        },
        {
          "output_type": "stream",
          "text": [
            "Creating the narrowed-down embeddings...: 100%|██████████| 100/100 [00:00<00:00, 121.71it/s]\n"
          ],
          "name": "stderr"
        },
        {
          "output_type": "stream",
          "text": [
            "\n",
            "Most relevant paper:  Respiratory syncytial virus (RSV) entry is inhibited by serine protease inhibitor AEBSF when present during an early stage of infection\n",
            "_________________________________________________________________\n",
            "\n",
            "Question:  what is the infection fatality risk for the new coronavirus?\n",
            " \n",
            "\n",
            "Model 1:\n",
            "\n"
          ],
          "name": "stdout"
        },
        {
          "output_type": "stream",
          "text": [
            "Creating the narrowed-down embeddings...: 100%|██████████| 100/100 [00:33<00:00,  3.00it/s]\n"
          ],
          "name": "stderr"
        },
        {
          "output_type": "stream",
          "text": [
            "\n",
            "Most relevant paper:  interferon-induced Transmembrane Protein 3 inhibits hantaan Virus infection, and its single nucleotide Polymorphism rs12252 influences the severity of hemorrhagic Fever with renal syndrome\n",
            "Model 2:\n",
            "\n"
          ],
          "name": "stdout"
        },
        {
          "output_type": "stream",
          "text": [
            "Creating the narrowed-down embeddings...: 100%|██████████| 100/100 [00:21<00:00,  4.73it/s]\n"
          ],
          "name": "stderr"
        },
        {
          "output_type": "stream",
          "text": [
            "\n",
            "Most relevant paper:  Crystal structure of the post-fusion core of the Human coronavirus 229E spike protein at 1.86 Å resolution\n",
            "Model 3:\n",
            "\n"
          ],
          "name": "stdout"
        },
        {
          "output_type": "stream",
          "text": [
            "Creating the narrowed-down embeddings...: 100%|██████████| 100/100 [00:37<00:00,  2.70it/s]\n"
          ],
          "name": "stderr"
        },
        {
          "output_type": "stream",
          "text": [
            "\n",
            "Most relevant paper:  Identification of New Respiratory Viruses in the New Millennium\n",
            "Model 4:\n",
            "\n"
          ],
          "name": "stdout"
        },
        {
          "output_type": "stream",
          "text": [
            "Creating the narrowed-down embeddings...: 100%|██████████| 100/100 [00:00<00:00, 143.79it/s]\n"
          ],
          "name": "stderr"
        },
        {
          "output_type": "stream",
          "text": [
            "\n",
            "Most relevant paper:  Protective efficacy of a novel simian adenovirus vaccine against lethal MERS-CoV challenge in a transgenic human DPP4 mouse model\n",
            "_________________________________________________________________\n",
            "\n",
            "Question:  can a coronavirus infect animals?\n",
            " \n",
            "\n",
            "Model 1:\n",
            "\n"
          ],
          "name": "stdout"
        },
        {
          "output_type": "stream",
          "text": [
            "Creating the narrowed-down embeddings...: 100%|██████████| 100/100 [00:36<00:00,  2.72it/s]\n"
          ],
          "name": "stderr"
        },
        {
          "output_type": "stream",
          "text": [
            "\n",
            "Most relevant paper:  Single detection of human bocavirus 1 with a high viral load in severe respiratory tract infections in previously healthy children\n",
            "Model 2:\n",
            "\n"
          ],
          "name": "stdout"
        },
        {
          "output_type": "stream",
          "text": [
            "Creating the narrowed-down embeddings...: 100%|██████████| 100/100 [00:22<00:00,  4.41it/s]\n"
          ],
          "name": "stderr"
        },
        {
          "output_type": "stream",
          "text": [
            "\n",
            "Most relevant paper:  Viral Metagenomics Revealed Sendai Virus and Coronavirus Infection of Malayan Pangolins (Manis javanica)\n",
            "Model 3:\n",
            "\n"
          ],
          "name": "stdout"
        },
        {
          "output_type": "stream",
          "text": [
            "Creating the narrowed-down embeddings...: 100%|██████████| 100/100 [00:41<00:00,  2.41it/s]\n"
          ],
          "name": "stderr"
        },
        {
          "output_type": "stream",
          "text": [
            "\n",
            "Most relevant paper:  Serological Screening for Coronavirus Infections in Cats\n",
            "Model 4:\n",
            "\n"
          ],
          "name": "stdout"
        },
        {
          "output_type": "stream",
          "text": [
            "Creating the narrowed-down embeddings...: 100%|██████████| 100/100 [00:00<00:00, 130.02it/s]\n"
          ],
          "name": "stderr"
        },
        {
          "output_type": "stream",
          "text": [
            "\n",
            "Most relevant paper:  Viral Metagenomics Revealed Sendai Virus and Coronavirus Infection of Malayan Pangolins (Manis javanica)\n",
            "_________________________________________________________________\n",
            "\n",
            "Question:  can we prevent the infection from coronavirus?\n",
            " \n",
            "\n",
            "Model 1:\n",
            "\n"
          ],
          "name": "stdout"
        },
        {
          "output_type": "stream",
          "text": [
            "Creating the narrowed-down embeddings...: 100%|██████████| 100/100 [00:42<00:00,  2.38it/s]\n"
          ],
          "name": "stderr"
        },
        {
          "output_type": "stream",
          "text": [
            "\n",
            "Most relevant paper:  A Novel Bacterium-Like Particle-Based Vaccine Displaying the SUDV Glycoprotein Induces Potent Humoral and Cellular Immune Responses in Mice\n",
            "Model 2:\n",
            "\n"
          ],
          "name": "stdout"
        },
        {
          "output_type": "stream",
          "text": [
            "Creating the narrowed-down embeddings...: 100%|██████████| 100/100 [00:23<00:00,  4.31it/s]\n"
          ],
          "name": "stderr"
        },
        {
          "output_type": "stream",
          "text": [
            "\n",
            "Most relevant paper:  Reversal of the Progression of Fatal Coronavirus Infection in Cats by a Broad- Spectrum Coronavirus Protease Inhibitor\n",
            "Model 3:\n",
            "\n"
          ],
          "name": "stdout"
        },
        {
          "output_type": "stream",
          "text": [
            "Creating the narrowed-down embeddings...: 100%|██████████| 100/100 [00:42<00:00,  2.35it/s]\n"
          ],
          "name": "stderr"
        },
        {
          "output_type": "stream",
          "text": [
            "\n",
            "Most relevant paper:  A highly conserved WDYPKCDRA epitope in the RNA directed RNA polymerase of human coronaviruses can be used as epitope-based universal vaccine design\n",
            "Model 4:\n",
            "\n"
          ],
          "name": "stdout"
        },
        {
          "output_type": "stream",
          "text": [
            "Creating the narrowed-down embeddings...: 100%|██████████| 100/100 [00:00<00:00, 124.54it/s]\n"
          ],
          "name": "stderr"
        },
        {
          "output_type": "stream",
          "text": [
            "\n",
            "Most relevant paper:  Emerging Microbes & Infections (2017) 6, e53\n",
            "_________________________________________________________________\n",
            "\n",
            "Question:  how many days does the infection from coronavirus last?\n",
            " \n",
            "\n",
            "Model 1:\n",
            "\n"
          ],
          "name": "stdout"
        },
        {
          "output_type": "stream",
          "text": [
            "Creating the narrowed-down embeddings...: 100%|██████████| 100/100 [00:29<00:00,  3.35it/s]\n"
          ],
          "name": "stderr"
        },
        {
          "output_type": "stream",
          "text": [
            "\n",
            "Most relevant paper:  Relationship between asymptomatic rotavirus infection and jaundice in neonates: a retrospective study\n",
            "Model 2:\n",
            "\n"
          ],
          "name": "stdout"
        },
        {
          "output_type": "stream",
          "text": [
            "Creating the narrowed-down embeddings...: 100%|██████████| 100/100 [00:22<00:00,  4.51it/s]\n"
          ],
          "name": "stderr"
        },
        {
          "output_type": "stream",
          "text": [
            "\n",
            "Most relevant paper:  Carrageenan nasal spray in virus confirmed common cold: individual patient data analysis of two randomized controlled trials\n",
            "Model 3:\n",
            "\n"
          ],
          "name": "stdout"
        },
        {
          "output_type": "stream",
          "text": [
            "Creating the narrowed-down embeddings...: 100%|██████████| 100/100 [00:39<00:00,  2.53it/s]\n"
          ],
          "name": "stderr"
        },
        {
          "output_type": "stream",
          "text": [
            "\n",
            "Most relevant paper:  Clinical Medicine Incubation Period and Other Epidemiological Characteristics of 2019 Novel Coronavirus Infections with Right Truncation: A Statistical Analysis of Publicly Available Case Data\n",
            "Model 4:\n",
            "\n"
          ],
          "name": "stdout"
        },
        {
          "output_type": "stream",
          "text": [
            "Creating the narrowed-down embeddings...: 100%|██████████| 100/100 [00:00<00:00, 134.40it/s]\n"
          ],
          "name": "stderr"
        },
        {
          "output_type": "stream",
          "text": [
            "\n",
            "Most relevant paper:  Emerging Microbes & Infections (2017) 6, e53\n",
            "_________________________________________________________________\n",
            "\n",
            "Question:  what percentange of the population will be infected from coronavirus?\n",
            " \n",
            "\n",
            "Model 1:\n",
            "\n"
          ],
          "name": "stdout"
        },
        {
          "output_type": "stream",
          "text": [
            "Creating the narrowed-down embeddings...: 100%|██████████| 100/100 [00:31<00:00,  3.14it/s]\n"
          ],
          "name": "stderr"
        },
        {
          "output_type": "stream",
          "text": [
            "\n",
            "Most relevant paper:  An assessment of the level of concern among hospital-based health-care workers regarding MERS outbreaks in Saudi Arabia\n",
            "Model 2:\n",
            "\n"
          ],
          "name": "stdout"
        },
        {
          "output_type": "stream",
          "text": [
            "Creating the narrowed-down embeddings...: 100%|██████████| 100/100 [00:20<00:00,  4.95it/s]\n"
          ],
          "name": "stderr"
        },
        {
          "output_type": "stream",
          "text": [
            "\n",
            "Most relevant paper:  First two months of the 2019 Coronavirus Disease (COVID-19) epidemic in China: real- time surveillance and evaluation with a second derivative model\n",
            "Model 3:\n",
            "\n"
          ],
          "name": "stdout"
        },
        {
          "output_type": "stream",
          "text": [
            "Creating the narrowed-down embeddings...: 100%|██████████| 100/100 [00:39<00:00,  2.55it/s]\n"
          ],
          "name": "stderr"
        },
        {
          "output_type": "stream",
          "text": [
            "\n",
            "Most relevant paper:  Hepatitis C Virus and Cellular Stress Response: Implications to Molecular Pathogenesis of Liver Diseases\n",
            "Model 4:\n",
            "\n"
          ],
          "name": "stdout"
        },
        {
          "output_type": "stream",
          "text": [
            "Creating the narrowed-down embeddings...: 100%|██████████| 100/100 [00:00<00:00, 126.31it/s]\n"
          ],
          "name": "stderr"
        },
        {
          "output_type": "stream",
          "text": [
            "\n",
            "Most relevant paper:  Canine respiratory coronavirus employs caveolin-1-mediated pathway for internalization to HRT-18G cells\n",
            "_________________________________________________________________\n",
            "\n",
            "Question:  does social distancing helps for preventing coronavirus?\n",
            " \n",
            "\n",
            "Model 1:\n",
            "\n"
          ],
          "name": "stdout"
        },
        {
          "output_type": "stream",
          "text": [
            "Creating the narrowed-down embeddings...: 100%|██████████| 100/100 [00:39<00:00,  2.56it/s]\n"
          ],
          "name": "stderr"
        },
        {
          "output_type": "stream",
          "text": [
            "\n",
            "Most relevant paper:  pathogens Host Single Nucleotide Polymorphisms Modulating Influenza A Virus Disease in Humans\n",
            "Model 2:\n",
            "\n"
          ],
          "name": "stdout"
        },
        {
          "output_type": "stream",
          "text": [
            "Creating the narrowed-down embeddings...: 100%|██████████| 100/100 [00:26<00:00,  3.84it/s]\n"
          ],
          "name": "stderr"
        },
        {
          "output_type": "stream",
          "text": [
            "\n",
            "Most relevant paper:  Get the News Out Loudly and Quickly: The Influence of the Media on Limiting Emerging Infectious Disease Outbreaks\n",
            "Model 3:\n",
            "\n"
          ],
          "name": "stdout"
        },
        {
          "output_type": "stream",
          "text": [
            "Creating the narrowed-down embeddings...: 100%|██████████| 100/100 [00:42<00:00,  2.33it/s]\n"
          ],
          "name": "stderr"
        },
        {
          "output_type": "stream",
          "text": [
            "\n",
            "Most relevant paper:  Get the News Out Loudly and Quickly: The Influence of the Media on Limiting Emerging Infectious Disease Outbreaks\n",
            "Model 4:\n",
            "\n"
          ],
          "name": "stdout"
        },
        {
          "output_type": "stream",
          "text": [
            "Creating the narrowed-down embeddings...: 100%|██████████| 100/100 [00:00<00:00, 117.15it/s]"
          ],
          "name": "stderr"
        },
        {
          "output_type": "stream",
          "text": [
            "\n",
            "Most relevant paper:  A highly conserved WDYPKCDRA epitope in the RNA directed RNA polymerase of human coronaviruses can be used as epitope-based universal vaccine design\n",
            "_________________________________________________________________\n"
          ],
          "name": "stdout"
        },
        {
          "output_type": "stream",
          "text": [
            "\n"
          ],
          "name": "stderr"
        }
      ]
    },
    {
      "cell_type": "markdown",
      "metadata": {
        "id": "-9vEvoHb-oKe"
      },
      "source": [
        "#### Asking for passages"
      ]
    },
    {
      "cell_type": "markdown",
      "metadata": {
        "id": "RkylBuFh-qP9"
      },
      "source": [
        "As a part of Q2, the program must return the most similar passages, as well as the papers that they were found in. There is an option to pass a `k` argument, in order for the class to return the k most similar passages in all of the papers"
      ]
    },
    {
      "cell_type": "code",
      "metadata": {
        "colab": {
          "base_uri": "https://localhost:8080/"
        },
        "id": "z6Vvk7KpwQN5",
        "outputId": "91ff313d-0bf1-468f-d7a8-07ea1b38cbf6"
      },
      "source": [
        "k = 5\n",
        "# ask all the questions\n",
        "for question in questions:\n",
        "    question = text_normalization(question)\n",
        "    print(\"\\n Question: \", question, \"\\n\")\n",
        "    print(\"Model 1:\\n\")\n",
        "    instance_1.ask_for_passages(question, k)\n",
        "    print(\"Model 2:\\n\")\n",
        "    instance_2.ask_for_passages(question, k)\n",
        "    print(\"Model 3:\\n\")\n",
        "    instance_3.ask_for_passages(question, k)\n",
        "    print(\"Model 4:\\n\")\n",
        "    instance_4.ask_for_passages(question, k)\n",
        "    print(\"_________________________________________________________________\")"
      ],
      "execution_count": 10,
      "outputs": [
        {
          "output_type": "stream",
          "text": [
            "\n",
            " Question:  what are the coronoviruses?\n",
            " \n",
            "\n",
            "Model 1:\n",
            "\n"
          ],
          "name": "stdout"
        },
        {
          "output_type": "stream",
          "text": [
            "Creating the narrowed-down embeddings...: 100%|██████████| 100/100 [00:43<00:00,  2.29it/s]\n"
          ],
          "name": "stderr"
        },
        {
          "output_type": "stream",
          "text": [
            "\n",
            "\n",
            "\n",
            "Paper title:  viruses Ebola Virus Maintenance: If Not (Only) Bats, What Else?\n",
            "Similar passage:  this does not mean that they can automatically inform on \"what maintains ebolaviruses\". \n",
            "\n",
            "\n",
            "Paper title:  Systematic Comparison of Two Animal-to-Human Transmitted Human Coronaviruses: SARS-CoV-2 and SARS-CoV\n",
            "Similar passage:  the latest one is sars-cov-2. \n",
            "\n",
            "\n",
            "Paper title:  Detection of human bocavirus-1 in both nasal and stool specimens from children under 5 years old with influenza-like illnesses or diarrhea in Gabon\n",
            "Similar passage:  there is little information on hbov in gabon. \n",
            "\n",
            "\n",
            "Paper title:  Development and Application of an ELISA for the Detection of Porcine Deltacoronavirus IgG Antibodies\n",
            "Similar passage:  there was no cross-reactivity with any of the other coronaviruses. \n",
            "\n",
            "\n",
            "Paper title:  CSV2018: The 2nd Symposium of the Canadian Society for Virology\n",
            "Similar passage:  the podcast was entitled \"good virologists go to halifax\" [50] . \n",
            "\n",
            "Model 2:\n",
            "\n"
          ],
          "name": "stdout"
        },
        {
          "output_type": "stream",
          "text": [
            "Creating the narrowed-down embeddings...: 100%|██████████| 100/100 [00:25<00:00,  3.97it/s]\n"
          ],
          "name": "stderr"
        },
        {
          "output_type": "stream",
          "text": [
            "\n",
            "\n",
            "\n",
            "Paper title:  Differential Sensitivity of Bat Cells to Infection by Enveloped RNA Viruses: Coronaviruses, Paramyxoviruses, Filoviruses, and Influenza Viruses\n",
            "Similar passage:  other coronaviruses, e.g. \n",
            "\n",
            "\n",
            "Paper title:  Subunit Vaccines Against Emerging Pathogenic Human Coronaviruses\n",
            "Similar passage:  coronaviruses (covs) belong to the subfamily othocoronavirinae, in the family coronaviridae of the order nidovirales. \n",
            "\n",
            "\n",
            "Paper title:  Coronavirus envelope protein: current knowledge\n",
            "Similar passage:  coronaviruses (covs) (order nidovirales, family coronaviridae, subfamily coronavirinae) are enveloped viruses with a positive sense, single-stranded rna genome. \n",
            "\n",
            "\n",
            "Paper title:  An Opportunistic Pathogen Afforded Ample Opportunities: Middle East Respiratory Syndrome Coronavirus\n",
            "Similar passage:  the human coronaviruses (cov) include hcov-229e, hcov-oc43, hcov-nl63, and hcov-hku1, some of which have been known for decades. \n",
            "\n",
            "\n",
            "Paper title:  Prevalence and genetic diversity of coronaviruses in wild birds, Finland\n",
            "Similar passage:  coronaviruses (covs) comprise a family under the order nidovirales (family coronaviridae) and infect a wide variety of mammals and birds. \n",
            "\n",
            "Model 3:\n",
            "\n"
          ],
          "name": "stdout"
        },
        {
          "output_type": "stream",
          "text": [
            "Creating the narrowed-down embeddings...: 100%|██████████| 100/100 [00:45<00:00,  2.20it/s]\n"
          ],
          "name": "stderr"
        },
        {
          "output_type": "stream",
          "text": [
            "\n",
            "\n",
            "\n",
            "Paper title:  Differential Sensitivity of Bat Cells to Infection by Enveloped RNA Viruses: Coronaviruses, Paramyxoviruses, Filoviruses, and Influenza Viruses\n",
            "Similar passage:  with some coronaviruses, e.g. \n",
            "\n",
            "\n",
            "Paper title:  Differential Sensitivity of Bat Cells to Infection by Enveloped RNA Viruses: Coronaviruses, Paramyxoviruses, Filoviruses, and Influenza Viruses\n",
            "Similar passage:  other coronaviruses, e.g. \n",
            "\n",
            "\n",
            "Paper title:  An Opportunistic Pathogen Afforded Ample Opportunities: Middle East Respiratory Syndrome Coronavirus\n",
            "Similar passage:  the human coronaviruses (cov) include hcov-229e, hcov-oc43, hcov-nl63, and hcov-hku1, some of which have been known for decades. \n",
            "\n",
            "\n",
            "Paper title:  Consensus statement The species Severe acute respiratory syndrome- related coronavirus: classifying 2019-nCoV and naming it SARS-CoV-2 Coronaviridae Study Group of the International Committee on Taxonomy of Viruses*\n",
            "Similar passage:  2 | phylogeny of coronaviruses. \n",
            "\n",
            "\n",
            "Paper title:  Subunit Vaccines Against Emerging Pathogenic Human Coronaviruses\n",
            "Similar passage:  coronaviruses (covs) belong to the subfamily othocoronavirinae, in the family coronaviridae of the order nidovirales. \n",
            "\n",
            "Model 4:\n",
            "\n"
          ],
          "name": "stdout"
        },
        {
          "output_type": "stream",
          "text": [
            "Creating the narrowed-down embeddings...: 100%|██████████| 100/100 [00:00<00:00, 123.29it/s]\n"
          ],
          "name": "stderr"
        },
        {
          "output_type": "stream",
          "text": [
            "\n",
            "\n",
            "\n",
            "Paper title:  Phylodynamic Inference and Model Assessment with Approximate Bayesian Computation: Influenza as a Case Study\n",
            "Similar passage:  a key priority in infectious disease research is to understand the ecological and evolutionary drivers of viral diseases from data on disease incidence as well as viral genetic and antigenic variation. \n",
            "\n",
            "\n",
            "Paper title:  Phylodynamic Inference and Model Assessment with Approximate Bayesian Computation: Influenza as a Case Study\n",
            "Similar passage:  a key priority in infectious disease research is to understand the ecological and evolutionary drivers of viral diseases from data on disease incidence as well as viral genetic and antigenic variation. \n",
            "\n",
            "\n",
            "Paper title:  Phylodynamic Inference and Model Assessment with Approximate Bayesian Computation: Influenza as a Case Study\n",
            "Similar passage:  a key priority in infectious disease research is to understand the ecological and evolutionary drivers of viral diseases from data on disease incidence as well as viral genetic and antigenic variation. \n",
            "\n",
            "\n",
            "Paper title:  Phylodynamic Inference and Model Assessment with Approximate Bayesian Computation: Influenza as a Case Study\n",
            "Similar passage:  a key priority in infectious disease research is to understand the ecological and evolutionary drivers of viral diseases from data on disease incidence as well as viral genetic and antigenic variation. \n",
            "\n",
            "\n",
            "Paper title:  Phylodynamic Inference and Model Assessment with Approximate Bayesian Computation: Influenza as a Case Study\n",
            "Similar passage:  a key priority in infectious disease research is to understand the ecological and evolutionary drivers of viral diseases from data on disease incidence as well as viral genetic and antigenic variation. \n",
            "\n",
            "_________________________________________________________________\n",
            "\n",
            " Question:  what was discovered in wuhuan in december 2019?\n",
            " \n",
            "\n",
            "Model 1:\n",
            "\n"
          ],
          "name": "stdout"
        },
        {
          "output_type": "stream",
          "text": [
            "Creating the narrowed-down embeddings...: 100%|██████████| 100/100 [00:32<00:00,  3.06it/s]\n"
          ],
          "name": "stderr"
        },
        {
          "output_type": "stream",
          "text": [
            "\n",
            "\n",
            "\n",
            "Paper title:  The threat of climate change to non- dengue-endemic countries: increasing risk of dengue transmission potential using climate and non-climate datasets\n",
            "Similar passage:  however, an unexpected dengue outbreak occurred in 2014 in japan. \n",
            "\n",
            "\n",
            "Paper title:  A novel coronavirus capable of lethal human infections: an emerging picture\n",
            "Similar passage:  then in early november, the saudi ministry of health reported the 3rd case [19] . \n",
            "\n",
            "\n",
            "Paper title:  Outbreak 2019-nCoV (Wuhan virus), a novel Coronavirus: human-to-human transmission, travel-related cases, and vaccine readiness\n",
            "Similar passage:  on 13 january 2020, a single case of 2019-ncov was reported in thailand of a person who had travelled from wuhan [10] . \n",
            "\n",
            "\n",
            "Paper title:  A Soluble Version of Nipah Virus Glycoprotein G Delivered by Vaccinia Virus MVA Activates Specific CD8 and CD4 T Cells in Mice\n",
            "Similar passage:  the first time niv emerged in southern india [2] . \n",
            "\n",
            "\n",
            "Paper title:  A novel coronavirus capable of lethal human infections: an emerging picture\n",
            "Similar passage:  no new case was reported during october. \n",
            "\n",
            "Model 2:\n",
            "\n"
          ],
          "name": "stdout"
        },
        {
          "output_type": "stream",
          "text": [
            "Creating the narrowed-down embeddings...: 100%|██████████| 100/100 [00:19<00:00,  5.01it/s]\n"
          ],
          "name": "stderr"
        },
        {
          "output_type": "stream",
          "text": [
            "\n",
            "\n",
            "\n",
            "Paper title:  Emerging Microbes & Infections (2017) 6, e74\n",
            "Similar passage:  dq443743) was isolated from sichuan qionglai in china. \n",
            "\n",
            "\n",
            "Paper title:  Outbreak 2019-nCoV (Wuhan virus), a novel Coronavirus: human-to-human transmission, travel-related cases, and vaccine readiness\n",
            "Similar passage:  on 20 january 2020, a chinese national, who had travelled from wuhan, was identified as having 2019-ncov upon arrival in south korea and was quarantined [13] . \n",
            "\n",
            "\n",
            "Paper title:  Emerging Microbes & Infections (2017) 6, e74\n",
            "Similar passage:  fj755618) 19 was isolated from shanghai in china. \n",
            "\n",
            "\n",
            "Paper title:  On the Emergence of Cryptococcus gattii in the Pacific Northwest: Ballast Tanks, Tsunamis, and Black Swans\n",
            "Similar passage:  furthermore, we posit that transport to land in 1964 was followed by a period of soil and tree colonization where c. gattii was exposed to biological and physical selection that possibly increased its infectiousness and virulence for animals, leading to the pnw outbreak 3 decades later.multiple pieces of evidence support the ocean-first/tsunami dispersal hypothesis, including (i) evidence of phylogenetic diversification about 50 years ago; (ii) the prevalence of environmental c. gattii predominantly only in coastal forests, rather than further inland, suggesting a connection to the shoreline; (iii) the presence of c. gattii in soils on the gulf islands between vancouver island and mainland british columbia; (iv) the presence of c. gattii in humans, mammals, and the forested environment near port alberni in central vancouver island, an area of the island that was greatly affected by the 1964 tsunami; and (v) the fact that the earliest known case of pnw c. gattii occurred nearly 30 years prior to the 1999 pnw outbreak, establishing a historical record in the region that matches a terrestrial emergence in the 1960s. \n",
            "\n",
            "\n",
            "Paper title:  Molecular characterization of human coronaviruses and their circulation dynamics in Kenya\n",
            "Similar passage:  hcov-nl63 predominated from february to june 2009, then disappeared and resurfaced in september 2012.hcov-hku1 was detected all over kenya, but mostly in the warmer western and coastal regions, with peaks observed in june 2009, november 2010, february 2011 and december 2012 ( figs. \n",
            "\n",
            "Model 3:\n",
            "\n"
          ],
          "name": "stdout"
        },
        {
          "output_type": "stream",
          "text": [
            "Creating the narrowed-down embeddings...: 100%|██████████| 100/100 [00:29<00:00,  3.45it/s]\n"
          ],
          "name": "stderr"
        },
        {
          "output_type": "stream",
          "text": [
            "\n",
            "\n",
            "\n",
            "Paper title:  The novel coronavirus outbreak in Wuhan, China\n",
            "Similar passage:  since december 2019, a new type of coronavirus called novel coronavirus (2019-ncov, or covid-19) was identified in wuhan, china. \n",
            "\n",
            "\n",
            "Paper title:  Occurrence and sequence analysis of porcine deltacoronaviruses in southern China\n",
            "Similar passage:  [24] study, 2 of 6 samples collected from anhui province of china in 2004 were positive for pdcov, up to now, it was the most ancient time for the detection of pdcov in china. \n",
            "\n",
            "\n",
            "Paper title:  pathogens Emergence of Novel Coronavirus 2019-nCoV: Need for Rapid Vaccine and Biologics Development\n",
            "Similar passage:  most of the confirmed cases were from the wuhan city in hubei province. \n",
            "\n",
            "\n",
            "Paper title:  Clinical Medicine The Extent of Transmission of Novel Coronavirus in\n",
            "Similar passage:  since the announcement of a cluster of pneumonia cases of unknown etiology in wuhan, hubei province, china, was made on 31 december 2019, many rapid virological, clinical, and epidemiological research responses have taken place [1, 2] . \n",
            "\n",
            "\n",
            "Paper title:  The novel coronavirus outbreak in Wuhan, China\n",
            "Similar passage:  on december 31, 2019, delegates of the chinese center for disease control and prevention (cdc) went to wuhan for field investigations, and the sample of new virus was isolated and further identified as a pathogen of unexplained pneumonia on january 6, 2020. the genome-wide sequence of the virus was decoded in the next few days [3] .population mobility to other cities from wuhan was restricted on january 23, 2020, and all the inhabitants have been affected to either go out or come back to the city ever since. \n",
            "\n",
            "Model 4:\n",
            "\n"
          ],
          "name": "stdout"
        },
        {
          "output_type": "stream",
          "text": [
            "Creating the narrowed-down embeddings...: 100%|██████████| 100/100 [00:00<00:00, 139.51it/s]\n"
          ],
          "name": "stderr"
        },
        {
          "output_type": "stream",
          "text": [
            "\n",
            "\n",
            "\n",
            "Paper title:  Clinical Medicine Characteristics of and Public Health Responses to the Coronavirus Disease 2019 Outbreak in China\n",
            "Similar passage:  in december 2019 \n",
            "\n",
            "\n",
            "Paper title:  The Emerging Role of Rhinoviruses in Lower Respiratory Tract Infections in Children -Clinical and Molecular Epidemiological Study From Croatia\n",
            "Similar passage:  most rv cases were detected from september to december, and all three species co-circulated during the analyzed period (2017) (2018) (2019) . \n",
            "\n",
            "\n",
            "Paper title:  viruses Perspective Potential Maternal and Infant Outcomes from Coronavirus 2019-nCoV (SARS-CoV-2) Infecting Pregnant Women: Lessons from SARS, MERS, and Other Human Coronavirus Infections\n",
            "Similar passage:  during the period from 31 december 2019 to 3 january 2020, 44 patients with pneumonia of unknown etiology were reported by the chinese authorities to the who. \n",
            "\n",
            "\n",
            "Paper title:  Epidemiology of Enterovirus D68 in Ontario\n",
            "Similar passage:  testing of specimens submitted prior to september 2014 and after october 2014 did not identify ev-d68. \n",
            "\n",
            "\n",
            "Paper title:  The Emerging Role of Rhinoviruses in Lower Respiratory Tract Infections in Children -Clinical and Molecular Epidemiological Study From Croatia\n",
            "Similar passage:  frontiers in microbiology | www.frontiersin.org december 2019 | volume 10 | article 2737 \n",
            "\n",
            "_________________________________________________________________\n",
            "\n",
            " Question:  what is coronovirus disease 2019?\n",
            " \n",
            "\n",
            "Model 1:\n",
            "\n"
          ],
          "name": "stdout"
        },
        {
          "output_type": "stream",
          "text": [
            "Creating the narrowed-down embeddings...: 100%|██████████| 100/100 [00:41<00:00,  2.40it/s]\n"
          ],
          "name": "stderr"
        },
        {
          "output_type": "stream",
          "text": [
            "\n",
            "\n",
            "\n",
            "Paper title:  A highly conserved WDYPKCDRA epitope in the RNA directed RNA polymerase of human coronaviruses can be used as epitope-based universal vaccine design\n",
            "Similar passage:  after sars outbreak, a new coronavirus strain called mers-cov is now going to cause another outbreak [4] . \n",
            "\n",
            "\n",
            "Paper title:  Suppression subtractive hybridization method for the identification of a new strain of murine hepatitis virus from xenografted SCID mice\n",
            "Similar passage:  the new strain of coronavirus was named mhv-mi. \n",
            "\n",
            "\n",
            "Paper title:  viruses Parechovirus A Pathogenesis and the Enigma of Genotype A-3\n",
            "Similar passage:  finally, a brief outlook on parechovirus a research is provided. \n",
            "\n",
            "\n",
            "Paper title:  Experimental Zika virus infection of Jamaican fruit bats (Artibeus jamaicensis) and possible entry of virus into brain via activated microglial cells\n",
            "Similar passage:  the emergence of zika virus (zikv) \n",
            "\n",
            "\n",
            "Paper title:  Single detection of human bocavirus 1 with a high viral load in severe respiratory tract infections in previously healthy children\n",
            "Similar passage:  background: human bocavirus is a newly discovered parvovirus. \n",
            "\n",
            "Model 2:\n",
            "\n"
          ],
          "name": "stdout"
        },
        {
          "output_type": "stream",
          "text": [
            "Creating the narrowed-down embeddings...: 100%|██████████| 100/100 [00:20<00:00,  4.82it/s]\n"
          ],
          "name": "stderr"
        },
        {
          "output_type": "stream",
          "text": [
            "\n",
            "\n",
            "\n",
            "Paper title:  Structure analysis of the receptor binding of 2019-nCoV\n",
            "Similar passage:  2019-ncov is a newly identified coronavirus with high similarity to sars-cov. \n",
            "\n",
            "\n",
            "Paper title:  Early epidemiological analysis of the coronavirus disease 2019 outbreak based on crowdsourced data: a population- level observational study\n",
            "Similar passage:  as the outbreak of coronavirus disease 2019 (covid- 19) is rapidly expanding in china and beyond, with the potential to become a worldwide pandemic, 1 real-time analyses of epidemiological data are needed to increase situational awareness and inform interventions. \n",
            "\n",
            "\n",
            "Paper title:  viruses Perspective Potential Maternal and Infant Outcomes from Coronavirus 2019-nCoV (SARS-CoV-2) Infecting Pregnant Women: Lessons from SARS, MERS, and Other Human Coronavirus Infections\n",
            "Similar passage:  further investigation revealed these cases to result from infection with a newly identified coronavirus, initially termed 2019-ncov and subsequently sars-cov-2. \n",
            "\n",
            "\n",
            "Paper title:  Consensus statement The species Severe acute respiratory syndrome- related coronavirus: classifying 2019-nCoV and naming it SARS-CoV-2 Coronaviridae Study Group of the International Committee on Taxonomy of Viruses*\n",
            "Similar passage:  the present outbreak of a coronavirus-associated acute respiratory disease called coronavirus disease 19 (covid-19) is the third documented spillover of an animal coronavirus to humans in only two decades that has resulted in a major epidemic. \n",
            "\n",
            "\n",
            "Paper title:  Peptide-Based Membrane Fusion Inhibitors Targeting HCoV-229E Spike Protein HR1 and HR2 Domains\n",
            "Similar passage:  human coronavirus 229e (hcov-229e) infection in infants, elderly people, and immunocompromised patients can cause severe disease, thus calling for the development of effective and safe therapeutics to treat it. \n",
            "\n",
            "Model 3:\n",
            "\n"
          ],
          "name": "stdout"
        },
        {
          "output_type": "stream",
          "text": [
            "Creating the narrowed-down embeddings...: 100%|██████████| 100/100 [00:41<00:00,  2.42it/s]\n"
          ],
          "name": "stderr"
        },
        {
          "output_type": "stream",
          "text": [
            "\n",
            "\n",
            "\n",
            "Paper title:  Consensus statement The species Severe acute respiratory syndrome- related coronavirus: classifying 2019-nCoV and naming it SARS-CoV-2 Coronaviridae Study Group of the International Committee on Taxonomy of Viruses*\n",
            "Similar passage:  the present outbreak of a coronavirus-associated acute respiratory disease called coronavirus disease 19 (covid-19) is the third documented spillover of an animal coronavirus to humans in only two decades that has resulted in a major epidemic. \n",
            "\n",
            "\n",
            "Paper title:  Early epidemiological analysis of the coronavirus disease 2019 outbreak based on crowdsourced data: a population- level observational study\n",
            "Similar passage:  as the outbreak of coronavirus disease 2019 (covid- 19) is rapidly expanding in china and beyond, with the potential to become a worldwide pandemic, 1 real-time analyses of epidemiological data are needed to increase situational awareness and inform interventions. \n",
            "\n",
            "\n",
            "Paper title:  Systematic Comparison of Two Animal-to-Human Transmitted Human Coronaviruses: SARS-CoV-2 and SARS-CoV\n",
            "Similar passage:  this virus causes acute lung symptoms, leading to a condition that has been named as \"coronavirus disease 2019\" (covid-19). \n",
            "\n",
            "\n",
            "Paper title:  First two months of the 2019 Coronavirus Disease (COVID-19) epidemic in China: real- time surveillance and evaluation with a second derivative model\n",
            "Similar passage:  background: similar to outbreaks of many other infectious diseases, success in controlling the novel 2019 coronavirus infection requires a timely and accurate monitoring of the epidemic, particularly during its early period with rather limited data while the need for information increases explosively. \n",
            "\n",
            "\n",
            "Paper title:  On the Coronavirus (COVID-19) Outbreak and the Smart City Network: Universal Data Sharing Standards Coupled with Artificial Intelligence (AI) to Benefit Urban Health Monitoring and Management\n",
            "Similar passage:  the novel coronavirus outbreak, (previously known as the 2019-ncov and later renamed covid-19 during the writing of this manuscript) is leading to the closure of entire cities in china, and causing stringent measures to be taken in others. \n",
            "\n",
            "Model 4:\n",
            "\n"
          ],
          "name": "stdout"
        },
        {
          "output_type": "stream",
          "text": [
            "Creating the narrowed-down embeddings...: 100%|██████████| 100/100 [00:00<00:00, 102.39it/s]\n"
          ],
          "name": "stderr"
        },
        {
          "output_type": "stream",
          "text": [
            "\n",
            "\n",
            "\n",
            "Paper title:  Systematic Comparison of Two Animal-to-Human Transmitted Human Coronaviruses: SARS-CoV-2 and SARS-CoV\n",
            "Similar passage:  the disease caused by sars-cov-2 was called \"coronavirus disease 2019\" (covid-19) [7] . \n",
            "\n",
            "\n",
            "Paper title:  Scientific RepoRts | 6:18825 | of Korea. 12 The MERS Task Force of the\n",
            "Similar passage:  disease. \n",
            "\n",
            "\n",
            "Paper title:  Systematic Comparison of Two Animal-to-Human Transmitted Human Coronaviruses: SARS-CoV-2 and SARS-CoV\n",
            "Similar passage:  this virus causes acute lung symptoms, leading to a condition that has been named as \"coronavirus disease 2019\" (covid-19). \n",
            "\n",
            "\n",
            "Paper title:  Major medical causes by breed and life stage for dogs presented at veterinary clinics in the Republic of Korea: a survey of electronic medical records\n",
            "Similar passage:  however, as the dog lifespan has increased, chronic and degenerative diseases have become more prevalent bonnett & egenvall, 2010; fleming, creevy & promislow, 2011) .previous survey studies focused on investigating the prevalence of specific diseases, such as human-animal interaction diseases, infectious diseases, or individual disease processes, such as neoplasms (balcha & abdela, 2017; miller et al., 2016) . \n",
            "\n",
            "\n",
            "Paper title:  The double burden of diabetes and global infection in low and middle- income countries\n",
            "Similar passage:  1, 2 diabetes increases susceptibility to infection and worsens outcomes for diseases such as tuberculosis (tb), 3 and the under-recognised tropical disease melioidosis. \n",
            "\n",
            "_________________________________________________________________\n",
            "\n",
            " Question:  what is covid-19?\n",
            " \n",
            "\n",
            "Model 1:\n",
            "\n"
          ],
          "name": "stdout"
        },
        {
          "output_type": "stream",
          "text": [
            "Creating the narrowed-down embeddings...: 100%|██████████| 100/100 [00:44<00:00,  2.24it/s]\n"
          ],
          "name": "stderr"
        },
        {
          "output_type": "stream",
          "text": [
            "\n",
            "\n",
            "\n",
            "Paper title:  Systematic Comparison of Two Animal-to-Human Transmitted Human Coronaviruses: SARS-CoV-2 and SARS-CoV\n",
            "Similar passage:  the latest one is sars-cov-2. \n",
            "\n",
            "\n",
            "Paper title:  Doxycycline Induces Mitophagy and Suppresses Production of Interferon-β in IPEC-J2 Cells\n",
            "Similar passage:  poly (i: c) was purchased from invivogen. \n",
            "\n",
            "\n",
            "Paper title:  BMC Infectious Diseases A novel pancoronavirus RT-PCR assay: frequent detection of human coronavirus NL63 in children hospitalized with respiratory tract infections in Belgium\n",
            "Similar passage:  hcov-229e was used as an outgroup. \n",
            "\n",
            "\n",
            "Paper title:  Binding of HIV-1 gp120 to DC-SIGN Promotes ASK-1-Dependent Activation-Induced Apoptosis of Human Dendritic Cells\n",
            "Similar passage:  s3 ) by the dc-sign-transfectants. \n",
            "\n",
            "\n",
            "Paper title:  Integrated Disease Surveillance and Response (IDSR) in Malawi: Implementation gaps and challenges for timely alert\n",
            "Similar passage:  ed, #moh01financial, capacity and infrastructure. \n",
            "\n",
            "Model 2:\n",
            "\n"
          ],
          "name": "stdout"
        },
        {
          "output_type": "stream",
          "text": [
            "Creating the narrowed-down embeddings...: 100%|██████████| 100/100 [00:31<00:00,  3.19it/s]\n"
          ],
          "name": "stderr"
        },
        {
          "output_type": "stream",
          "text": [
            "\n",
            "\n",
            "\n",
            "Paper title:  First two months of the 2019 Coronavirus Disease (COVID-19) epidemic in China: real- time surveillance and evaluation with a second derivative model\n",
            "Similar passage:  this is particularly true for the covid-19. \n",
            "\n",
            "\n",
            "Paper title:  First two months of the 2019 Coronavirus Disease (COVID-19) epidemic in China: real- time surveillance and evaluation with a second derivative model\n",
            "Similar passage:  these findings suggest the nonlinear and chaotic character of the covid-19 outbreak.after declaring the outbreak on january 20, information revealed by f ′ ′ (x) differed much from f ′ (x). \n",
            "\n",
            "\n",
            "Paper title:  First two months of the 2019 Coronavirus Disease (COVID-19) epidemic in China: real- time surveillance and evaluation with a second derivative model\n",
            "Similar passage:  outbreak of the covid-19 started with the report of a first suspected case on december 8, 2019 in wuhan. \n",
            "\n",
            "\n",
            "Paper title:  Estimated effectiveness of symptom and risk screening to prevent the spread of COVID-19\n",
            "Similar passage:  (hcov-19 has been proposed as an alternate name for the virus; jiang et al., 2020) . \n",
            "\n",
            "\n",
            "Paper title:  Estimated effectiveness of symptom and risk screening to prevent the spread of COVID-19\n",
            "Similar passage:  we hope that these insights may help to mitigate the global impacts of covid-19 by guiding effective decision-making in both high-and low-resource countries, and may contribute to prospective improvements in screening policy for future emerging infections.the model's structure is summarized above (figure 1) , and detailed methods have been described previously (gostic et al., 2015) . \n",
            "\n",
            "Model 3:\n",
            "\n"
          ],
          "name": "stdout"
        },
        {
          "output_type": "stream",
          "text": [
            "Creating the narrowed-down embeddings...: 100%|██████████| 100/100 [00:45<00:00,  2.22it/s]\n"
          ],
          "name": "stderr"
        },
        {
          "output_type": "stream",
          "text": [
            "\n",
            "\n",
            "\n",
            "Paper title:  First two months of the 2019 Coronavirus Disease (COVID-19) epidemic in China: real- time surveillance and evaluation with a second derivative model\n",
            "Similar passage:  this is particularly true for the covid-19. \n",
            "\n",
            "\n",
            "Paper title:  Clinical Medicine Incubation Period and Other Epidemiological Characteristics of 2019 Novel Coronavirus Infections with Right Truncation: A Statistical Analysis of Publicly Available Case Data\n",
            "Similar passage:  it remains to be seen if this will be the case for covid-19 as well. \n",
            "\n",
            "\n",
            "Paper title:  Clinical Medicine Optimization Method for Forecasting Confirmed Cases of COVID-19 in China\n",
            "Similar passage:  however, the source of the covid-19 is not confirmed yet, and it communities, hong kong and toronto, were 1.2 and 1.32, respectively. \n",
            "\n",
            "\n",
            "Paper title:  Systematic Comparison of Two Animal-to-Human Transmitted Human Coronaviruses: SARS-CoV-2 and SARS-CoV\n",
            "Similar passage:  among the 8,866 patients who have been confirmed with covid-19, nearly half of the patients have been aged 50 years or older (47.7%) [36] . \n",
            "\n",
            "\n",
            "Paper title:  Systematic Comparison of Two Animal-to-Human Transmitted Human Coronaviruses: SARS-CoV-2 and SARS-CoV\n",
            "Similar passage:  among the 8,866 patients who have been confirmed with covid-19, nearly half of the patients have been aged 50 years or older (47.7%) [36] . \n",
            "\n",
            "Model 4:\n",
            "\n"
          ],
          "name": "stdout"
        },
        {
          "output_type": "stream",
          "text": [
            "Creating the narrowed-down embeddings...: 100%|██████████| 100/100 [00:00<00:00, 119.07it/s]\n"
          ],
          "name": "stderr"
        },
        {
          "output_type": "stream",
          "text": [
            "\n",
            "\n",
            "\n",
            "Paper title:  Phylodynamic Inference and Model Assessment with Approximate Bayesian Computation: Influenza as a Case Study\n",
            "Similar passage:  a key priority in infectious disease research is to understand the ecological and evolutionary drivers of viral diseases from data on disease incidence as well as viral genetic and antigenic variation. \n",
            "\n",
            "\n",
            "Paper title:  Phylodynamic Inference and Model Assessment with Approximate Bayesian Computation: Influenza as a Case Study\n",
            "Similar passage:  a key priority in infectious disease research is to understand the ecological and evolutionary drivers of viral diseases from data on disease incidence as well as viral genetic and antigenic variation. \n",
            "\n",
            "\n",
            "Paper title:  Phylodynamic Inference and Model Assessment with Approximate Bayesian Computation: Influenza as a Case Study\n",
            "Similar passage:  a key priority in infectious disease research is to understand the ecological and evolutionary drivers of viral diseases from data on disease incidence as well as viral genetic and antigenic variation. \n",
            "\n",
            "\n",
            "Paper title:  Phylodynamic Inference and Model Assessment with Approximate Bayesian Computation: Influenza as a Case Study\n",
            "Similar passage:  a key priority in infectious disease research is to understand the ecological and evolutionary drivers of viral diseases from data on disease incidence as well as viral genetic and antigenic variation. \n",
            "\n",
            "\n",
            "Paper title:  Phylodynamic Inference and Model Assessment with Approximate Bayesian Computation: Influenza as a Case Study\n",
            "Similar passage:  a key priority in infectious disease research is to understand the ecological and evolutionary drivers of viral diseases from data on disease incidence as well as viral genetic and antigenic variation. \n",
            "\n",
            "_________________________________________________________________\n",
            "\n",
            " Question:  what is caused by sars-cov2?\n",
            " \n",
            "\n",
            "Model 1:\n",
            "\n"
          ],
          "name": "stdout"
        },
        {
          "output_type": "stream",
          "text": [
            "Creating the narrowed-down embeddings...: 100%|██████████| 100/100 [00:44<00:00,  2.24it/s]\n"
          ],
          "name": "stderr"
        },
        {
          "output_type": "stream",
          "text": [
            "\n",
            "\n",
            "\n",
            "Paper title:  Analysis of Intraviral Protein-Protein Interactions of the SARS Coronavirus ORFeome\n",
            "Similar passage:  a very recent report described nsp8 as a second rdrp of sars-cov. \n",
            "\n",
            "\n",
            "Paper title:  Systematic Comparison of Two Animal-to-Human Transmitted Human Coronaviruses: SARS-CoV-2 and SARS-CoV\n",
            "Similar passage:  the latest one is sars-cov-2. \n",
            "\n",
            "\n",
            "Paper title:  Discovery of a subgenotype of human coronavirus NL63 associated with severe lower respiratory tract infection in China, 2018\n",
            "Similar passage:  outbreaks caused by hcov-nl63 are rare. \n",
            "\n",
            "\n",
            "Paper title:  The papain-like protease determines a virulence trait that varies among members of the SARS-coronavirus species\n",
            "Similar passage:  sars-cov nsp2/3-gfp was cotransfected simultaneously. \n",
            "\n",
            "\n",
            "Paper title:  Severe Acute Respiratory Syndrome Coronavirus Viroporin 3a Activates the NLRP3 Inflammasome\n",
            "Similar passage:  sars-cov 3a was sufficient to cause the nlrp3 inflammasome activation. \n",
            "\n",
            "Model 2:\n",
            "\n"
          ],
          "name": "stdout"
        },
        {
          "output_type": "stream",
          "text": [
            "Creating the narrowed-down embeddings...: 100%|██████████| 100/100 [00:23<00:00,  4.28it/s]\n"
          ],
          "name": "stderr"
        },
        {
          "output_type": "stream",
          "text": [
            "\n",
            "\n",
            "\n",
            "Paper title:  Immunization with SARS Coronavirus Vaccines Leads to Pulmonary Immunopathology on Challenge with the SARS Virus\n",
            "Similar passage:  sars is caused by a coronavirus (sars-cov) [8, 9] . \n",
            "\n",
            "\n",
            "Paper title:  The SARS-Coronavirus-Host Interactome: Identification of Cyclophilins as Target for Pan-Coronavirus Inhibitors\n",
            "Similar passage:  in summary, sars-cov caused relevant and specific induction of il-2 by activating the nfat pathway via nsp1.cspa is a highly efficient antagonist of nfat activation, interacting with cyclophilins. \n",
            "\n",
            "\n",
            "Paper title:  Respiratory Research Molecular mechanisms of severe acute respiratory syndrome (SARS)\n",
            "Similar passage:  soon after the fast establishment of the international who laboratory network, rapid progress was made in the identification process of the causative agent, and it was reported that sars is most probably caused by a novel strain of the family of coronaviruses [4] [5] [6] . \n",
            "\n",
            "\n",
            "Paper title:  Respiratory Research Molecular mechanisms of severe acute respiratory syndrome (SARS)\n",
            "Similar passage:  the disease poses a new threat for respiratory medicine and rep-resents a challenge for antiviral drug development and administration [2, 3] .sars is caused by a novel, sars-associated coronavirus (sars-cov) [4] [5] [6] which has been identified by a world health organization (who)-led global laboratory network. \n",
            "\n",
            "\n",
            "Paper title:  BMC Immunology Expression profile of immune response genes in patients with Severe Acute Respiratory Syndrome\n",
            "Similar passage:  sars has been shown to be caused by a novel coronavirus; sars-cov, with genome sequences recently published [3] [4] [5] [6] [7] . \n",
            "\n",
            "Model 3:\n",
            "\n"
          ],
          "name": "stdout"
        },
        {
          "output_type": "stream",
          "text": [
            "Creating the narrowed-down embeddings...: 100%|██████████| 100/100 [00:44<00:00,  2.24it/s]\n"
          ],
          "name": "stderr"
        },
        {
          "output_type": "stream",
          "text": [
            "\n",
            "\n",
            "\n",
            "Paper title:  The SARS-Coronavirus-Host Interactome: Identification of Cyclophilins as Target for Pan-Coronavirus Inhibitors\n",
            "Similar passage:  in summary, sars-cov caused relevant and specific induction of il-2 by activating the nfat pathway via nsp1.cspa is a highly efficient antagonist of nfat activation, interacting with cyclophilins. \n",
            "\n",
            "\n",
            "Paper title:  Respiratory Research Molecular mechanisms of severe acute respiratory syndrome (SARS)\n",
            "Similar passage:  parallel to results on other coronaviruses, sars-cov has been shown to cause cytopathic effects in vero cells and the formation of syncytia in lung tissues. \n",
            "\n",
            "\n",
            "Paper title:  Exacerbated Innate Host Response to SARS-CoV in Aged Non-Human Primates\n",
            "Similar passage:  sars-cov infection causes acute lung injury (ali) that may develop into life-threatening acute respiratory distress syndrome (ards) with advanced age correlating positively with adverse disease outcome. \n",
            "\n",
            "\n",
            "Paper title:  SARS-Coronavirus Open Reading Frame-8b triggers intracellular stress pathways and activates NLRP3 inflammasomes\n",
            "Similar passage:  in 2002-2003 the sars-cov caused a severe respiratory illness affecting more than 8000 individuals with a mortality rate near 10% 1,2 . \n",
            "\n",
            "\n",
            "Paper title:  SARS-Coronavirus Open Reading Frame-8b triggers intracellular stress pathways and activates NLRP3 inflammasomes\n",
            "Similar passage:  the sars (severe acute respiratory syndrome) outbreak was caused by a coronavirus (cov) named the sars-cov. \n",
            "\n",
            "Model 4:\n",
            "\n"
          ],
          "name": "stdout"
        },
        {
          "output_type": "stream",
          "text": [
            "Creating the narrowed-down embeddings...: 100%|██████████| 100/100 [00:00<00:00, 120.37it/s]\n"
          ],
          "name": "stderr"
        },
        {
          "output_type": "stream",
          "text": [
            "\n",
            "\n",
            "\n",
            "Paper title:  Sustained Viremia and High Viral Load in Respiratory Tract Secretions Are Predictors for Death in Immunocompetent Adults with Adenovirus Pneumonia\n",
            "Similar passage:  ten cases were caused by adv-55, three by adv-7 and one by adv-3. \n",
            "\n",
            "\n",
            "Paper title:  a section of the journal Frontiers in Bioengineering and Biotechnology The Quest for Anti-inflammatory and Anti-infective Biomaterials in Clinical Translation\n",
            "Similar passage:  however, infections caused by viruses and bacteria can cause uncontrolled damage leading to organ failure. \n",
            "\n",
            "\n",
            "Paper title:  Molecular characterization of US-like and Asian non-S INDEL strains of porcine epidemic diarrhea virus (PEDV) that circulated in Japan during 2013-2016 and PEDVs collected from recurrent outbreaks\n",
            "Similar passage:  subsequently, the persisted pedvs caused the secondary epidemic. \n",
            "\n",
            "\n",
            "Paper title:  Discovery of a subgenotype of human coronavirus NL63 associated with severe lower respiratory tract infection in China, 2018\n",
            "Similar passage:  outbreaks caused by hcov-nl63 are rare. \n",
            "\n",
            "\n",
            "Paper title:  The highly conserved 5' untranslated region as an effective target towards the inhibition of Enterovirus 71 replication by unmodified and appropriate 2'-modified siRNAs\n",
            "Similar passage:  it is associated with severe neurological complications and has caused significant mortalities in recent large-scale outbreaks. \n",
            "\n",
            "_________________________________________________________________\n",
            "\n",
            " Question:  how is covid-19 spread?\n",
            " \n",
            "\n",
            "Model 1:\n",
            "\n"
          ],
          "name": "stdout"
        },
        {
          "output_type": "stream",
          "text": [
            "Creating the narrowed-down embeddings...: 100%|██████████| 100/100 [00:40<00:00,  2.45it/s]\n"
          ],
          "name": "stderr"
        },
        {
          "output_type": "stream",
          "text": [
            "\n",
            "\n",
            "\n",
            "Paper title:  First two months of the 2019 Coronavirus Disease (COVID-19) epidemic in China: real- time surveillance and evaluation with a second derivative model\n",
            "Similar passage:  this is particularly true for the covid-19. \n",
            "\n",
            "\n",
            "Paper title:  IFNΛ3/4 locus polymorphisms and IFNΛ3 circulating levels are associated with COPD severity and outcomes\n",
            "Similar passage:  how do ifnls impact copd and its exacerbations? \n",
            "\n",
            "\n",
            "Paper title:  Identification of a Novel Linear B-Cell Epitope on the Nucleocapsid Protein of Porcine Deltacoronavirus\n",
            "Similar passage:  top five final models predicted by i-tasser and its c-score. \n",
            "\n",
            "\n",
            "Paper title:  Identification of a Novel Linear B-Cell Epitope on the Nucleocapsid Protein of Porcine Deltacoronavirus\n",
            "Similar passage:  top five final models predicted by i-tasser and its c-score. \n",
            "\n",
            "\n",
            "Paper title:  Identification of a Novel Linear B-Cell Epitope on the Nucleocapsid Protein of Porcine Deltacoronavirus\n",
            "Similar passage:  top five final models predicted by i-tasser and its c-score. \n",
            "\n",
            "Model 2:\n",
            "\n"
          ],
          "name": "stdout"
        },
        {
          "output_type": "stream",
          "text": [
            "Creating the narrowed-down embeddings...: 100%|██████████| 100/100 [00:24<00:00,  4.11it/s]\n"
          ],
          "name": "stderr"
        },
        {
          "output_type": "stream",
          "text": [
            "\n",
            "\n",
            "\n",
            "Paper title:  Estimated effectiveness of symptom and risk screening to prevent the spread of COVID-19\n",
            "Similar passage:  at the same time, there is great concern about potential public health consequences if covid-19 spreads to developing countries that lack health infrastructure and resources to combat it effectively (de salazar et al., 2020) . \n",
            "\n",
            "\n",
            "Paper title:  First two months of the 2019 Coronavirus Disease (COVID-19) epidemic in China: real- time surveillance and evaluation with a second derivative model\n",
            "Similar passage:  this is particularly true for the covid-19. \n",
            "\n",
            "\n",
            "Paper title:  First two months of the 2019 Coronavirus Disease (COVID-19) epidemic in China: real- time surveillance and evaluation with a second derivative model\n",
            "Similar passage:  these findings suggest the nonlinear and chaotic character of the covid-19 outbreak.after declaring the outbreak on january 20, information revealed by f ′ ′ (x) differed much from f ′ (x). \n",
            "\n",
            "\n",
            "Paper title:  Estimated effectiveness of symptom and risk screening to prevent the spread of COVID-19\n",
            "Similar passage:  we hope that these insights may help to mitigate the global impacts of covid-19 by guiding effective decision-making in both high-and low-resource countries, and may contribute to prospective improvements in screening policy for future emerging infections.the model's structure is summarized above (figure 1) , and detailed methods have been described previously (gostic et al., 2015) . \n",
            "\n",
            "\n",
            "Paper title:  Early epidemiological analysis of the coronavirus disease 2019 outbreak based on crowdsourced data: a population- level observational study\n",
            "Similar passage:  the infection has spread locally in wuhan and elsewhere in china, despite strict intervention measures implemented in the region where the infection originated on jan 23, 2020. more than 500 patients infected with covid-19 outside of mainland china have been reported between jan 1 and feb 14, 2020. although laboratory testing for covid-19 quickly ramped up in china and elsewhere, information on individual patients remains scarce and official datasets have not been made publicly available. \n",
            "\n",
            "Model 3:\n",
            "\n"
          ],
          "name": "stdout"
        },
        {
          "output_type": "stream",
          "text": [
            "Creating the narrowed-down embeddings...: 100%|██████████| 100/100 [00:43<00:00,  2.30it/s]\n"
          ],
          "name": "stderr"
        },
        {
          "output_type": "stream",
          "text": [
            "\n",
            "\n",
            "\n",
            "Paper title:  The novel coronavirus outbreak in Wuhan, China\n",
            "Similar passage:  it is found that the covid-19 can be transmitted through droplets, contact, aerosol, etc. \n",
            "\n",
            "\n",
            "Paper title:  First two months of the 2019 Coronavirus Disease (COVID-19) epidemic in China: real- time surveillance and evaluation with a second derivative model\n",
            "Similar passage:  this is particularly true for the covid-19. \n",
            "\n",
            "\n",
            "Paper title:  The novel coronavirus outbreak in Wuhan, China\n",
            "Similar passage:  the covid-19 has then rapidly spread to all over china and the world. \n",
            "\n",
            "\n",
            "Paper title:  Clinical Medicine Incubation Period and Other Epidemiological Characteristics of 2019 Novel Coronavirus Infections with Right Truncation: A Statistical Analysis of Publicly Available Case Data\n",
            "Similar passage:  it remains to be seen if this will be the case for covid-19 as well. \n",
            "\n",
            "\n",
            "Paper title:  Estimated effectiveness of symptom and risk screening to prevent the spread of COVID-19\n",
            "Similar passage:  we hope that these insights may help to mitigate the global impacts of covid-19 by guiding effective decision-making in both high-and low-resource countries, and may contribute to prospective improvements in screening policy for future emerging infections.the model's structure is summarized above (figure 1) , and detailed methods have been described previously (gostic et al., 2015) . \n",
            "\n",
            "Model 4:\n",
            "\n"
          ],
          "name": "stdout"
        },
        {
          "output_type": "stream",
          "text": [
            "Creating the narrowed-down embeddings...: 100%|██████████| 100/100 [00:00<00:00, 120.53it/s]\n"
          ],
          "name": "stderr"
        },
        {
          "output_type": "stream",
          "text": [
            "\n",
            "\n",
            "\n",
            "Paper title:  A Porcine Epidemic Diarrhea Virus Outbreak in One Geographic Region of the United States: Descriptive Epidemiology and Investigation of the Possibility of Airborne Virus Spread\n",
            "Similar passage:  pedv may spread more slowly than tgev. \n",
            "\n",
            "\n",
            "Paper title:  Asymmetrically interacting spreading dynamics on complex layered networks\n",
            "Similar passage:  for example, the spread of a disease can result in elevated crisis awareness and thus facilitate the spread of the information about the disease 17 , but the spread of the information promotes more people to take preventive measures and consequently suppresses the epidemic spreading 26 . \n",
            "\n",
            "\n",
            "Paper title:  Disease dynamics in a stochastic network game: a little empathy goes a long way in averting outbreaks\n",
            "Similar passage:  these reactions influence disease spread. \n",
            "\n",
            "\n",
            "Paper title:  Disease dynamics in a stochastic network game: a little empathy goes a long way in averting outbreaks\n",
            "Similar passage:  disease spread over a contact network. \n",
            "\n",
            "\n",
            "Paper title:  The Influence of Meteorology on the Spread of Influenza: Survival Analysis of an Equine Influenza (A/H3N8) Outbreak\n",
            "Similar passage:  in any cluster in which an overall direction of spread is detected, an important further research question remains: what proportion of this anisotropic spread is directly attributable to windborne disease spread? \n",
            "\n",
            "_________________________________________________________________\n",
            "\n",
            " Question:  where was covid-19 discovered?\n",
            " \n",
            "\n",
            "Model 1:\n",
            "\n"
          ],
          "name": "stdout"
        },
        {
          "output_type": "stream",
          "text": [
            "Creating the narrowed-down embeddings...: 100%|██████████| 100/100 [00:46<00:00,  2.14it/s]\n"
          ],
          "name": "stderr"
        },
        {
          "output_type": "stream",
          "text": [
            "\n",
            "\n",
            "\n",
            "Paper title:  BMC Infectious Diseases A novel pancoronavirus RT-PCR assay: frequent detection of human coronavirus NL63 in children hospitalized with respiratory tract infections in Belgium\n",
            "Similar passage:  hcov-229e was used as an outgroup. \n",
            "\n",
            "\n",
            "Paper title:  Three asymptomatic animal infection models of hemorrhagic fever with renal syndrome caused by hantaviruses\n",
            "Similar passage:  even less virus was detected in the puuv i.n. \n",
            "\n",
            "\n",
            "Paper title:  Systematic Comparison of Two Animal-to-Human Transmitted Human Coronaviruses: SARS-CoV-2 and SARS-CoV\n",
            "Similar passage:  the latest one is sars-cov-2. \n",
            "\n",
            "\n",
            "Paper title:  Suppression subtractive hybridization method for the identification of a new strain of murine hepatitis virus from xenografted SCID mice\n",
            "Similar passage:  the virus strain was named mhv-mi. \n",
            "\n",
            "\n",
            "Paper title:  Comparative Serological Study for the Prevalence of Anti-MERS Coronavirus Antibodies in High-and Low-Risk Groups in Qatar\n",
            "Similar passage:  the reactive sample from cc was also confirmed by ppnt. \n",
            "\n",
            "Model 2:\n",
            "\n"
          ],
          "name": "stdout"
        },
        {
          "output_type": "stream",
          "text": [
            "Creating the narrowed-down embeddings...: 100%|██████████| 100/100 [00:21<00:00,  4.63it/s]\n"
          ],
          "name": "stderr"
        },
        {
          "output_type": "stream",
          "text": [
            "\n",
            "\n",
            "\n",
            "Paper title:  Clinical Medicine Optimization Method for Forecasting Confirmed Cases of COVID-19 in China\n",
            "Similar passage:  however, the source of the covid-19 is not confirmed yet, and it communities, hong kong and toronto, were 1.2 and 1.32, respectively. \n",
            "\n",
            "\n",
            "Paper title:  First two months of the 2019 Coronavirus Disease (COVID-19) epidemic in China: real- time surveillance and evaluation with a second derivative model\n",
            "Similar passage:  these findings suggest the nonlinear and chaotic character of the covid-19 outbreak.after declaring the outbreak on january 20, information revealed by f ′ ′ (x) differed much from f ′ (x). \n",
            "\n",
            "\n",
            "Paper title:  Clinical Medicine Optimization Method for Forecasting Confirmed Cases of COVID-19 in China\n",
            "Similar passage:  in [6] , the authors concluded that covid-19 likely originated in bats, because it is more similar to two bat-derived coronavirus strains. \n",
            "\n",
            "\n",
            "Paper title:  Clinical Medicine Characteristics of and Public Health Responses to the Coronavirus Disease 2019 Outbreak in China\n",
            "Similar passage:  thus, when covid-19 appeared, the whole country quickly entered a state of fighting against the new infectious disease. \n",
            "\n",
            "\n",
            "Paper title:  Complete Genome Sequence of Human Coronavirus NL63 CN0601/14, First Isolated in South Korea\n",
            "Similar passage:  hcov nl63 was discovered in the netherlands in 2004 (2), has spread worldwide, and is detected frequently in the winter (5, 6) . \n",
            "\n",
            "Model 3:\n",
            "\n"
          ],
          "name": "stdout"
        },
        {
          "output_type": "stream",
          "text": [
            "Creating the narrowed-down embeddings...: 100%|██████████| 100/100 [00:36<00:00,  2.76it/s]\n"
          ],
          "name": "stderr"
        },
        {
          "output_type": "stream",
          "text": [
            "\n",
            "\n",
            "\n",
            "Paper title:  Clinical Medicine Optimization Method for Forecasting Confirmed Cases of COVID-19 in China\n",
            "Similar passage:  in december 2019, a novel coronavirus, called covid-19, was discovered in wuhan, china, and has spread to different cities in china as well as to 24 other countries. \n",
            "\n",
            "\n",
            "Paper title:  The novel coronavirus outbreak in Wuhan, China\n",
            "Similar passage:  the covid-19 has then rapidly spread to all over china and the world. \n",
            "\n",
            "\n",
            "Paper title:  First two months of the 2019 Coronavirus Disease (COVID-19) epidemic in China: real- time surveillance and evaluation with a second derivative model\n",
            "Similar passage:  this is particularly true for the covid-19. \n",
            "\n",
            "\n",
            "Paper title:  First two months of the 2019 Coronavirus Disease (COVID-19) epidemic in China: real- time surveillance and evaluation with a second derivative model\n",
            "Similar passage:  the epidemic of covid-19 is caused by a novel virus first detected in wuhan, china. \n",
            "\n",
            "\n",
            "Paper title:  First two months of the 2019 Coronavirus Disease (COVID-19) epidemic in China: real- time surveillance and evaluation with a second derivative model\n",
            "Similar passage:  based on the findings from our analysis, the covid-19 in china may end up soon. \n",
            "\n",
            "Model 4:\n",
            "\n"
          ],
          "name": "stdout"
        },
        {
          "output_type": "stream",
          "text": [
            "Creating the narrowed-down embeddings...: 100%|██████████| 100/100 [00:00<00:00, 116.57it/s]\n"
          ],
          "name": "stderr"
        },
        {
          "output_type": "stream",
          "text": [
            "\n",
            "\n",
            "\n",
            "Paper title:  A viral metagenomic survey identifies known and novel mammalian viruses in bats from Saudi Arabia\n",
            "Similar passage:  we also discovered five bat astroviruses. \n",
            "\n",
            "\n",
            "Paper title:  A viral metagenomic survey identifies known and novel mammalian viruses in bats from Saudi Arabia\n",
            "Similar passage:  similar rvs were recently discovered in cameroonian e. helvum bats (bat-wt/cmr/batly03/2014/g25p43). \n",
            "\n",
            "\n",
            "Paper title:  Genomic Characterization of a Circovirus Associated with Fatal Hemorrhagic Enteritis in Dog\n",
            "Similar passage:  however, analysis of archival samples has revealed that this novel virus has been circulating in dogs for at least 5 years before being discovered [13] . \n",
            "\n",
            "\n",
            "Paper title:  Characterization of the Viral Microbiome in Patients with Severe Lower Respiratory Tract Infections, Using Metagenomic Sequencing\n",
            "Similar passage:  the samples from which human bocavirus was originally discovered were included in the studied sample pools [5] . \n",
            "\n",
            "\n",
            "Paper title:  Discovery and Prevalence of Divergent RNA Viruses in European Field Voles and Rabbits\n",
            "Similar passage:  these newly discovered viruses were often divergent from those previously described. \n",
            "\n",
            "_________________________________________________________________\n",
            "\n",
            " Question:  how does coronavirus spread?\n",
            " \n",
            "\n",
            "Model 1:\n",
            "\n"
          ],
          "name": "stdout"
        },
        {
          "output_type": "stream",
          "text": [
            "Creating the narrowed-down embeddings...: 100%|██████████| 100/100 [00:40<00:00,  2.45it/s]\n"
          ],
          "name": "stderr"
        },
        {
          "output_type": "stream",
          "text": [
            "\n",
            "\n",
            "\n",
            "Paper title:  Discovery of a polyomavirus in European badgers (Meles meles) and the evolution of host range in the family Polyomaviridae\n",
            "Similar passage:  second, bk polyomavirus is not closely fig. \n",
            "\n",
            "\n",
            "Paper title:  Analysis of Determinants in Filovirus Glycoproteins Required for Tetherin Antagonism\n",
            "Similar passage:  here, we show that filovirus gps depend on the presence of their authentic \n",
            "\n",
            "\n",
            "Paper title:  Viral deep sequencing needs an adaptive approach: IRMA, the iterative refinement meta-assembler\n",
            "Similar passage:  we have built modules for influenza and ebolavirus. \n",
            "\n",
            "\n",
            "Paper title:  Suppression subtractive hybridization method for the identification of a new strain of murine hepatitis virus from xenografted SCID mice\n",
            "Similar passage:  the new strain of coronavirus was named mhv-mi. \n",
            "\n",
            "\n",
            "Paper title:  IFNΛ3/4 locus polymorphisms and IFNΛ3 circulating levels are associated with COPD severity and outcomes\n",
            "Similar passage:  how do ifnls impact copd and its exacerbations? \n",
            "\n",
            "Model 2:\n",
            "\n"
          ],
          "name": "stdout"
        },
        {
          "output_type": "stream",
          "text": [
            "Creating the narrowed-down embeddings...: 100%|██████████| 100/100 [00:21<00:00,  4.74it/s]\n"
          ],
          "name": "stderr"
        },
        {
          "output_type": "stream",
          "text": [
            "\n",
            "\n",
            "\n",
            "Paper title:  On the Coronavirus (COVID-19) Outbreak and the Smart City Network: Universal Data Sharing Standards Coupled with Artificial Intelligence (AI) to Benefit Urban Health Monitoring and Management\n",
            "Similar passage:  as the coronavirus (covid-19) expands its impact from china, expanding its catchment into surrounding regions and other countries, increased national and international measures are being taken to contain the outbreak. \n",
            "\n",
            "\n",
            "Paper title:  viruses Perspective Potential Maternal and Infant Outcomes from Coronavirus 2019-nCoV (SARS-CoV-2) Infecting Pregnant Women: Lessons from SARS, MERS, and Other Human Coronavirus Infections\n",
            "Similar passage:  this newly recognized coronavirus, producing a disease that has been termed covid-19, is rapidly spreading throughout china, has crossed international borders to infect persons in neighboring countries, and humans infected by the virus are travelling via commercial airlines to other continents. \n",
            "\n",
            "\n",
            "Paper title:  viruses Perspective Potential Maternal and Infant Outcomes from Coronavirus 2019-nCoV (SARS-CoV-2) Infecting Pregnant Women: Lessons from SARS, MERS, and Other Human Coronavirus Infections\n",
            "Similar passage:  like other coronaviruses, mers-cov can be spread through person-to-person contact, likely via infected respiratory secretions [48] . \n",
            "\n",
            "\n",
            "Paper title:  viruses Perspective Potential Maternal and Infant Outcomes from Coronavirus 2019-nCoV (SARS-CoV-2) Infecting Pregnant Women: Lessons from SARS, MERS, and Other Human Coronavirus Infections\n",
            "Similar passage:  similar to such other coronaviruses as those causing the middle east respiratory syndrome (mers) and severe acute respiratory syndrome (sars), the new coronavirus was reported to spread via natural aerosols from human-to-human. \n",
            "\n",
            "\n",
            "Paper title:  Clinical Medicine Optimization Method for Forecasting Confirmed Cases of COVID-19 in China\n",
            "Similar passage:  in december 2019, a novel coronavirus, called covid-19, was discovered in wuhan, china, and has spread to different cities in china as well as to 24 other countries. \n",
            "\n"
          ],
          "name": "stdout"
        },
        {
          "output_type": "stream",
          "text": [
            "Creating the narrowed-down embeddings...: 100%|██████████| 100/100 [00:42<00:00,  2.34it/s]\n"
          ],
          "name": "stderr"
        },
        {
          "output_type": "stream",
          "text": [
            "Model 3:\n",
            "\n",
            "\n",
            "\n",
            "\n",
            "Paper title:  Role of fomites in SARS transmission during the largest hospital outbreak in Hong Kong\n",
            "Similar passage:  our results reveal that under the assumed conditions, the sars coronavirus was most possible to have spread via the combined long-range airborne and fomite routes, and that the fomite route played a non-negligible role in the transmission. \n",
            "\n",
            "\n",
            "Paper title:  Use of Toll-Like Receptor 3 Agonists Against Respiratory Viral Infections\n",
            "Similar passage:  coronaviruses are transmitted by aerosols of respiratory secretions, the fecaloral route and mechanical transmission. \n",
            "\n",
            "\n",
            "Paper title:  viruses Perspective Potential Maternal and Infant Outcomes from Coronavirus 2019-nCoV (SARS-CoV-2) Infecting Pregnant Women: Lessons from SARS, MERS, and Other Human Coronavirus Infections\n",
            "Similar passage:  like other coronaviruses, mers-cov can be spread through person-to-person contact, likely via infected respiratory secretions [48] . \n",
            "\n",
            "\n",
            "Paper title:  Depletion of Alveolar Macrophages Ameliorates Virus- Induced Disease following a Pulmonary Coronavirus Infection\n",
            "Similar passage:  however, the pathogenesis of pulmonary coronavirus infections is poorly understood. \n",
            "\n",
            "\n",
            "Paper title:  Clinical Medicine Intense Surveillance Is Vital for Preventing Sustained Transmission in New Locations\n",
            "Similar passage:  here, we assess the risk of sustained transmission whenever the coronavirus arrives in other countries. \n",
            "\n",
            "Model 4:\n",
            "\n"
          ],
          "name": "stdout"
        },
        {
          "output_type": "stream",
          "text": [
            "Creating the narrowed-down embeddings...: 100%|██████████| 100/100 [00:00<00:00, 130.07it/s]\n"
          ],
          "name": "stderr"
        },
        {
          "output_type": "stream",
          "text": [
            "\n",
            "\n",
            "\n",
            "Paper title:  Bioinformatics and evolutionary insight on the spike glycoprotein gene of QX-like and Massachusetts strains of infectious bronchitis virus\n",
            "Similar passage:  the sequences included ibv massachusetts type, m41, h120, baudette, arkansas, qx like strains and other sequences of turkey coronavirus (tcov), thrush coronavirus (thcov), munia coronavirus (mucov), human coronavirus (hcov), sars (severe acute respiratory syndrome) coronavirus, bovine coronavirus (bcov), equine coronavirus (ecov), mouse hepatitis virus (mhv), murine coronavirus (murcov), feline coronavirus (fcov), porcine epidemic diarrhea virus (pedv), porcine respiratory coronavirus (prcv), porcine hamagglutinating encephalalomylitis virus (phev), bat coronavirus and beluga whale coronavirus sequences (additional file 3: table s3 ; additional file 4: table s4 ). \n",
            "\n",
            "\n",
            "Paper title:  Canine respiratory coronavirus employs caveolin-1-mediated pathway for internalization to HRT-18G cells\n",
            "Similar passage:  the virus is a betacoronavirus and a close relative of human coronavirus oc43 and bovine coronavirus. \n",
            "\n",
            "\n",
            "Paper title:  VIGOR, an annotation program for small viral genomes\n",
            "Similar passage:  these included influenza virus, rotavirus, coronavirus, sars coronavirus and rhinovirus. \n",
            "\n",
            "\n",
            "Paper title:  Case Report A Rare Case of Human Coronavirus 229E Associated with Acute Respiratory Distress Syndrome in a Healthy Adult\n",
            "Similar passage:  human coronavirus 229e (hcov-229e) is one of the first coronavirus strains being described. \n",
            "\n",
            "\n",
            "Paper title:  The Evolutionary Processes of Canine Coronaviruses\n",
            "Similar passage:  subgroup 2a includes bovine coronavirus (bcov), murine hepatitis virus (mhv), sialodacryoadenitis virus (sdav) found in rats, porcine haemagglutinating encephalomyelitis virus (phev), human coronaviruses (hcov-oc43 and hcov-hku1), human enteric coronavirus (hecv-4408), and the newly recognized equine coronavirus (ecov) [11] and canine respiratory coronavirus (crcov) [12] . \n",
            "\n",
            "_________________________________________________________________\n",
            "\n",
            " Question:  what are the symptoms of covid-19?\n",
            " \n",
            "\n",
            "Model 1:\n",
            "\n"
          ],
          "name": "stdout"
        },
        {
          "output_type": "stream",
          "text": [
            "Creating the narrowed-down embeddings...: 100%|██████████| 100/100 [00:41<00:00,  2.42it/s]\n"
          ],
          "name": "stderr"
        },
        {
          "output_type": "stream",
          "text": [
            "\n",
            "\n",
            "\n",
            "Paper title:  IFNΛ3/4 locus polymorphisms and IFNΛ3 circulating levels are associated with COPD severity and outcomes\n",
            "Similar passage:  how do ifnls impact copd and its exacerbations? \n",
            "\n",
            "\n",
            "Paper title:  pathogens Host Single Nucleotide Polymorphisms Modulating Influenza A Virus Disease in Humans\n",
            "Similar passage:  we also discuss the importance of snps for iav vaccine effectiveness. \n",
            "\n",
            "\n",
            "Paper title:  Antibody response of definitive hosts against antigens of two life stages of the neuropathogenic schistosome Trichobilharzia regenti\n",
            "Similar passage:  results: in elisa, the levels of anti-cercarial igm peaked on day 15 pi. \n",
            "\n",
            "\n",
            "Paper title:  AGING NEUROSCIENCE REVIEW ARTICLE Herpes simplex virus type 1 and Alzheimer's disease: increasing evidence for a major role of the virus\n",
            "Similar passage:  the first study on anti-hsv igm, by letenneur et al. \n",
            "\n",
            "\n",
            "Paper title:  interferon-induced Transmembrane Protein 3 inhibits hantaan Virus infection, and its single nucleotide Polymorphism rs12252 influences the severity of hemorrhagic Fever with renal syndrome\n",
            "Similar passage:  however, the role of ifitms in htnv infection is unclear. \n",
            "\n",
            "Model 2:\n",
            "\n"
          ],
          "name": "stdout"
        },
        {
          "output_type": "stream",
          "text": [
            "Creating the narrowed-down embeddings...: 100%|██████████| 100/100 [00:20<00:00,  4.93it/s]\n"
          ],
          "name": "stderr"
        },
        {
          "output_type": "stream",
          "text": [
            "\n",
            "\n",
            "\n",
            "Paper title:  First two months of the 2019 Coronavirus Disease (COVID-19) epidemic in China: real- time surveillance and evaluation with a second derivative model\n",
            "Similar passage:  this is particularly true for the covid-19. \n",
            "\n",
            "\n",
            "Paper title:  Crystal structure of the post-fusion core of the Human coronavirus 229E spike protein at 1.86 Å resolution\n",
            "Similar passage:  in healthy adults, hcov-229e infection usually causes mild symptoms, including headache, cough, fever and rhinitis (greenberg, 2016) , but can lead to compromised productivity in infected individuals and result in a large impact on the economy. \n",
            "\n",
            "\n",
            "Paper title:  Structure of Main Protease from Human Coronavirus NL63: Insights for Wide Spectrum Anti- Coronavirus Drug Design OPEN\n",
            "Similar passage:  patients infected by hcov-nl63 are typically young children with upper and lower respiratory tract infection, presenting with symptoms including croup, bronchiolitis, and pneumonia. \n",
            "\n",
            "\n",
            "Paper title:  Human Coronaviruses HCoV-NL63 and HCoV-HKU1 in Hospitalized Children with Acute Respiratory Infections in Beijing, China\n",
            "Similar passage:  in hcov-hku1-infected patients, the predominant clinical symptoms were cough, fever, and expectoration. \n",
            "\n",
            "\n",
            "Paper title:  Systematic Comparison of Two Animal-to-Human Transmitted Human Coronaviruses: SARS-CoV-2 and SARS-CoV\n",
            "Similar passage:  beijing centers for diseases control and prevention indicated that the typical case of covid-19 has a progressive aggravation process. \n",
            "\n",
            "Model 3:\n",
            "\n"
          ],
          "name": "stdout"
        },
        {
          "output_type": "stream",
          "text": [
            "Creating the narrowed-down embeddings...: 100%|██████████| 100/100 [00:36<00:00,  2.71it/s]\n"
          ],
          "name": "stderr"
        },
        {
          "output_type": "stream",
          "text": [
            "\n",
            "\n",
            "\n",
            "Paper title:  Early epidemiological analysis of the coronavirus disease 2019 outbreak based on crowdsourced data: a population- level observational study\n",
            "Similar passage:  clinical reports have shown that severity of covid-19 is associated with the presence of chronic conditions, 16, 17 which are more frequent in older age groups. \n",
            "\n",
            "\n",
            "Paper title:  First two months of the 2019 Coronavirus Disease (COVID-19) epidemic in China: real- time surveillance and evaluation with a second derivative model\n",
            "Similar passage:  this is particularly true for the covid-19. \n",
            "\n",
            "\n",
            "Paper title:  Systematic Comparison of Two Animal-to-Human Transmitted Human Coronaviruses: SARS-CoV-2 and SARS-CoV\n",
            "Similar passage:  beijing centers for diseases control and prevention indicated that the typical case of covid-19 has a progressive aggravation process. \n",
            "\n",
            "\n",
            "Paper title:  Systematic Comparison of Two Animal-to-Human Transmitted Human Coronaviruses: SARS-CoV-2 and SARS-CoV\n",
            "Similar passage:  beijing centers for diseases control and prevention indicated that the typical case of covid-19 has a progressive aggravation process. \n",
            "\n",
            "\n",
            "Paper title:  First two months of the 2019 Coronavirus Disease (COVID-19) epidemic in China: real- time surveillance and evaluation with a second derivative model\n",
            "Similar passage:  of the diagnosed covid-19 cases, less than 20% are severe. \n",
            "\n",
            "Model 4:\n",
            "\n"
          ],
          "name": "stdout"
        },
        {
          "output_type": "stream",
          "text": [
            "Creating the narrowed-down embeddings...: 100%|██████████| 100/100 [00:00<00:00, 146.42it/s]\n"
          ],
          "name": "stderr"
        },
        {
          "output_type": "stream",
          "text": [
            "\n",
            "\n",
            "\n",
            "Paper title:  Respiratory virus associated with surgery in children patients\n",
            "Similar passage:  mild symptoms refer to the subjects who had at least one of the above respiratory symptoms that were not severe. \n",
            "\n",
            "\n",
            "Paper title:  Epidemiologic investigation of a family cluster of imported ZIKV cases in Guangdong, China: probable human-to-human transmission\n",
            "Similar passage:  20 in general, symptoms of zikv infection (mild flu-like symptoms) are milder than those of dengue virus (denv) infection; the latter often include high-grade fever with myalgia, headache, arthralgia and nausea. \n",
            "\n",
            "\n",
            "Paper title:  Carrageenan nasal spray in virus confirmed common cold: individual patient data analysis of two randomized controlled trials\n",
            "Similar passage:  relapses were defined as re-occurrence of symptoms when the patient reported having common cold symptoms again after having reported at least one day without symptoms. \n",
            "\n",
            "\n",
            "Paper title:  Respiratory tract virus infections in the elderly with pneumonia\n",
            "Similar passage:  due to many chronic diseases in the elderly, virus-induced respiratory symptoms may be difficult to distinguish from other symptoms. \n",
            "\n",
            "\n",
            "Paper title:  Human Coronavirus Infections in Israel: Epidemiology, Clinical Symptoms and Summer Seasonality of HCoV-HKU1\n",
            "Similar passage:  hcov clinical symptoms were more severe than those of rsv infections but milder than influenza symptoms. \n",
            "\n",
            "_________________________________________________________________\n",
            "\n",
            " Question:  is there a treatment for covid-19?\n",
            " \n",
            "\n",
            "Model 1:\n",
            "\n"
          ],
          "name": "stdout"
        },
        {
          "output_type": "stream",
          "text": [
            "Creating the narrowed-down embeddings...: 100%|██████████| 100/100 [00:41<00:00,  2.39it/s]\n"
          ],
          "name": "stderr"
        },
        {
          "output_type": "stream",
          "text": [
            "\n",
            "\n",
            "\n",
            "Paper title:  STUDY PROTOCOL Feasibility, safety, clinical, and laboratory effects of convalescent plasma therapy for patients with Middle East respiratory syndrome coronavirus infection: a study protocol Open Access\n",
            "Similar passage:  at present there is no effective specific therapy against mers-cov. \n",
            "\n",
            "\n",
            "Paper title:  Potent MERS-CoV Fusion Inhibitory Peptides Identified from HR2 Domain in Spike Protein of Bat Coronavirus HKU4\n",
            "Similar passage:  however, no effective anti-mers-cov drug is currently available. \n",
            "\n",
            "\n",
            "Paper title:  Inhibition of enterovirus 71 replication and viral 3C protease by quercetin\n",
            "Similar passage:  there is currently no specific medication for ev71 infection. \n",
            "\n",
            "\n",
            "Paper title:  Oblongifolin M, an active compound isolated from a Chinese medical herb Garcinia oblongifolia, potently inhibits enterovirus 71 reproduction through downregulation of ERp57\n",
            "Similar passage:  there is no effective drug to treat ev71 infection yet. \n",
            "\n",
            "\n",
            "Paper title:  Identification of Three Antiviral Inhibitors against Japanese Encephalitis Virus from Library of Pharmacologically Active Compounds 1280\n",
            "Similar passage:  there is no antiviral drug available for jev-specific treatment. \n",
            "\n",
            "Model 2:\n",
            "\n"
          ],
          "name": "stdout"
        },
        {
          "output_type": "stream",
          "text": [
            "Creating the narrowed-down embeddings...: 100%|██████████| 100/100 [00:23<00:00,  4.18it/s]\n"
          ],
          "name": "stderr"
        },
        {
          "output_type": "stream",
          "text": [
            "\n",
            "\n",
            "\n",
            "Paper title:  Structure of Main Protease from Human Coronavirus NL63: Insights for Wide Spectrum Anti- Coronavirus Drug Design OPEN\n",
            "Similar passage:  unfortunately, there are currently no effective antiviral therapy to contain hcov-nl63 infection. \n",
            "\n",
            "\n",
            "Paper title:  Open Peer Review Therapeutic strategies in an outbreak scenario to treat the novel coronavirus originating in Wuhan, China [version 2; peer review: 2 approved] , Cepheid, Danaher Diagnostic\n",
            "Similar passage:  thus, 2019-ncov could be presented with an evolutionary trap when faced with potential ace2-fc therapy, leading toward a more benign clinical course.to give some additional support to the potential of a receptorimmunoadhesin being a potential antiviral strategy, it should be noted that cd4-fc or cd4-igg was one of the early agents developed as a potential hiv medication 67 . \n",
            "\n",
            "\n",
            "Paper title:  Open Peer Review Therapeutic strategies in an outbreak scenario to treat the novel coronavirus originating in Wuhan, China [version 2; peer review: 2 approved] , Cepheid, Danaher Diagnostic\n",
            "Similar passage:  thus, 2019-ncov could be presented with an evolutionary trap when faced with potential ace2-fc therapy, leading toward a more benign clinical course.to give some additional support to the potential of a receptorimmunoadhesin being a potential antiviral strategy, it should be noted that cd4-fc or cd4-igg was one of the early agents developed as a potential hiv medication 67 . \n",
            "\n",
            "\n",
            "Paper title:  Clinical Medicine Communicating the Risk of Death from Novel Coronavirus Disease (COVID-19)\n",
            "Similar passage:  in the ongoing covid-19 epidemic, health authorities must cope with the uncertainty in the risk of death from covid-19, and high-risk individuals should be identified using approaches that can address the abovementioned three problems. \n",
            "\n",
            "\n",
            "Paper title:  Estimated effectiveness of symptom and risk screening to prevent the spread of COVID-19\n",
            "Similar passage:  at the same time, there is great concern about potential public health consequences if covid-19 spreads to developing countries that lack health infrastructure and resources to combat it effectively (de salazar et al., 2020) . \n",
            "\n",
            "Model 3:\n",
            "\n"
          ],
          "name": "stdout"
        },
        {
          "output_type": "stream",
          "text": [
            "Creating the narrowed-down embeddings...: 100%|██████████| 100/100 [00:43<00:00,  2.27it/s]\n"
          ],
          "name": "stderr"
        },
        {
          "output_type": "stream",
          "text": [
            "\n",
            "\n",
            "\n",
            "Paper title:  Clinical Medicine Communicating the Risk of Death from Novel Coronavirus Disease (COVID-19)\n",
            "Similar passage:  even with an outpatient visit, physicians may not suspect covid-19 (there are many reports of cases seeking healthcare multiple times after illness onset and before being recognized and isolated as a suspect case in the current epidemic), because they are unable to distinguish it from other viral respiratory infections based on clinical signs and symptoms alone. \n",
            "\n",
            "\n",
            "Paper title:  Comparative therapeutic efficacy of remdesivir and combination lopinavir, ritonavir, and interferon beta against MERS-CoV\n",
            "Similar passage:  currently, there are no fda-approved treatments for any human cov infection. \n",
            "\n",
            "\n",
            "Paper title:  Estimated effectiveness of symptom and risk screening to prevent the spread of COVID-19\n",
            "Similar passage:  quantitative estimates of screening effectiveness for covid-19 will improve as more is learned about this recently-emerged virus, and will vary with the precise design of screening programs. \n",
            "\n",
            "\n",
            "Paper title:  Potential Therapeutic Agents for Feline Calicivirus Infection\n",
            "Similar passage:  currently, there are no direct-acting antivirals approved for the treatment of fcv infection. \n",
            "\n",
            "\n",
            "Paper title:  Comparative therapeutic efficacy of remdesivir and combination lopinavir, ritonavir, and interferon beta against MERS-CoV\n",
            "Similar passage:  presently, there are no approved treatments for mers-cov or any other human cov.emerging viral diseases typically have very few if any effective treatment options. \n",
            "\n",
            "Model 4:\n",
            "\n"
          ],
          "name": "stdout"
        },
        {
          "output_type": "stream",
          "text": [
            "Creating the narrowed-down embeddings...: 100%|██████████| 100/100 [00:00<00:00, 119.57it/s]\n"
          ],
          "name": "stderr"
        },
        {
          "output_type": "stream",
          "text": [
            "\n",
            "\n",
            "\n",
            "Paper title:  Respiratory syncytial virus (RSV) entry is inhibited by serine protease inhibitor AEBSF when present during an early stage of infection\n",
            "Similar passage:  minor, but significant decreases were observed in the peri-inoculation only treatment, and the post-inoculation treatment only, as well as the combined treatment comprised of pre-and peri-inoculation treatment. \n",
            "\n",
            "\n",
            "Paper title:  Systematic Comparison of Two Animal-to-Human Transmitted Human Coronaviruses: SARS-CoV-2 and SARS-CoV\n",
            "Similar passage:  now, isolation, antiviral, and symptomatic treatments are still mainly adopted for covid-19 treatment. \n",
            "\n",
            "\n",
            "Paper title:  Procalcitonin guidance for reduction of antibiotic use in patients hospitalized with severe acute exacerbations of asthma: a randomized controlled study with 12-month follow-up\n",
            "Similar passage:  antibiotic use during treatment of asthma exacerbation remains controversial, and few patients are estimated to benefit from this type of antibiotic treatment. \n",
            "\n",
            "\n",
            "Paper title:  Mechanisms and impact of the frequent exacerbator phenotype in chronic obstructive pulmonary disease\n",
            "Similar passage:  these patients are therefore a priority for research and treatment. \n",
            "\n",
            "\n",
            "Paper title:  Outcomes of Early Administration of Cidofovir in Non-Immunocompromised Patients with Severe Adenovirus Pneumonia\n",
            "Similar passage:  we described the clinical characteristics and treatment outcomes of early cidofovir treatment of severe adv pneumonia in non-immunocompromised patients. \n",
            "\n",
            "_________________________________________________________________\n",
            "\n",
            " Question:  what is the infection fatality risk for the new coronavirus?\n",
            " \n",
            "\n",
            "Model 1:\n",
            "\n"
          ],
          "name": "stdout"
        },
        {
          "output_type": "stream",
          "text": [
            "Creating the narrowed-down embeddings...: 100%|██████████| 100/100 [00:33<00:00,  2.99it/s]\n"
          ],
          "name": "stderr"
        },
        {
          "output_type": "stream",
          "text": [
            "\n",
            "\n",
            "\n",
            "Paper title:  interferon-induced Transmembrane Protein 3 inhibits hantaan Virus infection, and its single nucleotide Polymorphism rs12252 influences the severity of hemorrhagic Fever with renal syndrome\n",
            "Similar passage:  however, the role of ifitms in htnv infection is unclear. \n",
            "\n",
            "\n",
            "Paper title:  WU Polyomavirus (WUPyV): A Recently Detected Virus Causing Respiratory Disease?\n",
            "Similar passage:  the incubation period of wupyv infections is unknown. \n",
            "\n",
            "\n",
            "Paper title:  Detection of infectious bronchitis virus serotypes by reverse transcription polymerase chain reaction in broiler chickens\n",
            "Similar passage:  there is no report about the serotypes and molecular detection of ibv in zabol in the southeast of iran. \n",
            "\n",
            "\n",
            "Paper title:  Estimation of basic reproduction number of the Middle East respiratory syndrome coronavirus (MERS-CoV) during the outbreak in South Korea, 2015\n",
            "Similar passage:  this paper estimates the basic reproduction number of the mers coronavirus (cov), using data on the spread of mers in south korea. \n",
            "\n",
            "\n",
            "Paper title:  A Preliminary Study of Viral Metagenomics of French Bat Species in Contact with Humans: Identification of New Mammalian Viruses\n",
            "Similar passage:  the name of the bat nairovirus is indicated in bold. \n",
            "\n",
            "Model 2:\n",
            "\n"
          ],
          "name": "stdout"
        },
        {
          "output_type": "stream",
          "text": [
            "Creating the narrowed-down embeddings...: 100%|██████████| 100/100 [00:21<00:00,  4.70it/s]\n"
          ],
          "name": "stderr"
        },
        {
          "output_type": "stream",
          "text": [
            "\n",
            "\n",
            "\n",
            "Paper title:  Crystal structure of the post-fusion core of the Human coronavirus 229E spike protein at 1.86 Å resolution\n",
            "Similar passage:  human coronavirus 229e (hcov-229e) usually causes mild upper respiratory infections in heathy adults, but may lead to severe complications or mortality in individuals with weakened immune systems. \n",
            "\n",
            "\n",
            "Paper title:  Peptide-Based Membrane Fusion Inhibitors Targeting HCoV-229E Spike Protein HR1 and HR2 Domains\n",
            "Similar passage:  human coronavirus 229e (hcov-229e) infection in infants, elderly people, and immunocompromised patients can cause severe disease, thus calling for the development of effective and safe therapeutics to treat it. \n",
            "\n",
            "\n",
            "Paper title:  Identification of New Respiratory Viruses in the New Millennium\n",
            "Similar passage:  in humans coronavirus infection results in respiratory tract complications with varying degree of severity and have been associated with gastroenteritis. \n",
            "\n",
            "\n",
            "Paper title:  Potential Broad Spectrum Inhibitors of the Coronavirus 3CL pro : A Virtual Screening and Structure-Based Drug Design Study\n",
            "Similar passage:  in humans, coronavirus infection results in respiratory tract complications with varying degree of severity and has been associated with gastroenteritis. \n",
            "\n",
            "\n",
            "Paper title:  Clinical Medicine Real-Time Estimation of the Risk of Death from Novel Coronavirus (COVID-19) Infection: Inference Using Exported Cases\n",
            "Similar passage:  the exported cases of 2019 novel coronavirus infection that were confirmed outside china provide an opportunity to estimate the cumulative incidence and confirmed case fatality risk (ccfr) in mainland china. \n",
            "\n",
            "Model 3:\n",
            "\n"
          ],
          "name": "stdout"
        },
        {
          "output_type": "stream",
          "text": [
            "Creating the narrowed-down embeddings...: 100%|██████████| 100/100 [00:37<00:00,  2.69it/s]\n"
          ],
          "name": "stderr"
        },
        {
          "output_type": "stream",
          "text": [
            "\n",
            "\n",
            "\n",
            "Paper title:  Identification of New Respiratory Viruses in the New Millennium\n",
            "Similar passage:  the high fatality rates associated with these infections is not reflected in the remaining four human coronaviruses, hcov-229e, hcov-oc43, hcov-nl63 and hcov-hku1. \n",
            "\n",
            "\n",
            "Paper title:  Identification of New Respiratory Viruses in the New Millennium\n",
            "Similar passage:  reports on the prevalence of human coronaviruses and their association with upper and lower respiratory tract disease vary but range between 3.3% and 16% [85, 86, 95, 97] . \n",
            "\n",
            "\n",
            "Paper title:  Coronaviruses and the human airway: a universal system for virus-host interaction studies\n",
            "Similar passage:  currently, 6 coronaviruses that cause disease in humans have been discovered. \n",
            "\n",
            "\n",
            "Paper title:  HTCC: Broad Range Inhibitor of Coronavirus Entry\n",
            "Similar passage:  to date, six human coronaviruses have been known, all of which are associated with respiratory infections in humans. \n",
            "\n",
            "\n",
            "Paper title:  Identification of New Respiratory Viruses in the New Millennium\n",
            "Similar passage:  the fatality rate of 30% is also substantially increased in patients with comorbidities, with a large number of reported cases being identified in immunocompromised patients or those with underlying disease [68, 71] and a severe threat of nosocomial transmission has been demonstrated [72] . \n",
            "\n",
            "Model 4:\n",
            "\n"
          ],
          "name": "stdout"
        },
        {
          "output_type": "stream",
          "text": [
            "Creating the narrowed-down embeddings...: 100%|██████████| 100/100 [00:00<00:00, 141.91it/s]\n"
          ],
          "name": "stderr"
        },
        {
          "output_type": "stream",
          "text": [
            "\n",
            "\n",
            "\n",
            "Paper title:  Protective efficacy of a novel simian adenovirus vaccine against lethal MERS-CoV challenge in a transgenic human DPP4 mouse model\n",
            "Similar passage:  middle east respiratory syndrome coronavirus (mers-cov) is a novel zoonotic virus that causes severe respiratory disease in humans with a case fatality rate close to 40%, but for which no vaccines are available. \n",
            "\n",
            "\n",
            "Paper title:  Emerging Microbes & Infections (2017) 6, e53\n",
            "Similar passage:  19 it has recently been confirmed that coronavirus hku15 is able to cause swine enteric infections by infecting gnotobiotic and conventional pigs with coronavirus hku15. \n",
            "\n",
            "\n",
            "Paper title:  Epidemiology and Infection Prevalence of comorbidities in cases of Middle East respiratory syndrome coronavirus: a retrospective study\n",
            "Similar passage:  the middle east respiratory syndrome coronavirus (mers-cov) is a life-threatening respiratory disease with a high case fatality rate; however, its risk factors remain unclear. \n",
            "\n",
            "\n",
            "Paper title:  Structural basis for the neutralization of MERS-CoV by a human monoclonal antibody MERS-27\n",
            "Similar passage:  in this way, mers-27 disrupts both the protein-protein and mers-cov is the second reported example of a zoonotic coronavirus that results in severe respiratory infection with high mortality rate in humans after sars-cov. \n",
            "\n",
            "\n",
            "Paper title:  High-Resolution Analysis of Coronavirus Gene Expression by RNA Sequencing and Ribosome Profiling\n",
            "Similar passage:  several coronaviruses, such as severe acute respiratory syndrome-related coronavirus (sars-cov) and middle east respiratory syndrome-related coronavirus (mers-cov), are of medical importance, with high mortality rates and, in the case of sars-cov, significant pandemic potential. \n",
            "\n",
            "_________________________________________________________________\n",
            "\n",
            " Question:  can a coronavirus infect animals?\n",
            " \n",
            "\n",
            "Model 1:\n",
            "\n"
          ],
          "name": "stdout"
        },
        {
          "output_type": "stream",
          "text": [
            "Creating the narrowed-down embeddings...: 100%|██████████| 100/100 [00:36<00:00,  2.71it/s]\n"
          ],
          "name": "stderr"
        },
        {
          "output_type": "stream",
          "text": [
            "\n",
            "\n",
            "\n",
            "Paper title:  Single detection of human bocavirus 1 with a high viral load in severe respiratory tract infections in previously healthy children\n",
            "Similar passage:  background: human bocavirus is a newly discovered parvovirus. \n",
            "\n",
            "\n",
            "Paper title:  Inferring the hosts of coronavirus using dual statistical models based on nucleotide composition OPEN\n",
            "Similar passage:  many coronaviruses are capable of interspecies transmission. \n",
            "\n",
            "\n",
            "Paper title:  Serological Screening for Coronavirus Infections in Cats\n",
            "Similar passage:  hence cats are an interesting species to study for infections with coronaviruses. \n",
            "\n",
            "\n",
            "Paper title:  San Antonio Military Health System\n",
            "Similar passage:  conclusions adenovirus is frequently detected with other respiratory viruses. \n",
            "\n",
            "\n",
            "Paper title:  Acute human bocavirus 1 infection in child with life-threatening bilateral bronchiolitis and right-sided pneumonia: a case report\n",
            "Similar passage:  background: human bocavirus 1 is a commonly detected human parvovirus. \n",
            "\n",
            "Model 2:\n",
            "\n"
          ],
          "name": "stdout"
        },
        {
          "output_type": "stream",
          "text": [
            "Creating the narrowed-down embeddings...: 100%|██████████| 100/100 [00:22<00:00,  4.40it/s]\n"
          ],
          "name": "stderr"
        },
        {
          "output_type": "stream",
          "text": [
            "\n",
            "\n",
            "\n",
            "Paper title:  Viral Metagenomics Revealed Sendai Virus and Coronavirus Infection of Malayan Pangolins (Manis javanica)\n",
            "Similar passage:  sometimes, but not often, a coronavirus can infect both animals and humans. \n",
            "\n",
            "\n",
            "Paper title:  Detection of alpha-and betacoronaviruses in rodents from Yunnan, China\n",
            "Similar passage:  coronaviruses infect various animals, but to date, relatively few coronaviruses have been identified in rodents worldwide. \n",
            "\n",
            "\n",
            "Paper title:  High-Resolution Analysis of Coronavirus Gene Expression by RNA Sequencing and Ribosome Profiling\n",
            "Similar passage:  coronavirus infections are frequent in bats and other mammals [1] and interactions between humans and non-human animal populations presents a constant risk of new zoonotic outbreaks [2] . \n",
            "\n",
            "\n",
            "Paper title:  BMC Infectious Diseases A novel pancoronavirus RT-PCR assay: frequent detection of human coronavirus NL63 in children hospitalized with respiratory tract infections in Belgium\n",
            "Similar passage:  coronaviruses can infect humans and a variety of domestic animals and can cause highly prevalent diseases such as respiratory, enteric, cardiovascular and neurologic disorders [2, 3] .until recently only three human coronaviruses were thoroughly studied. \n",
            "\n",
            "\n",
            "Paper title:  Human Coronavirus NL63 Molecular Epidemiology and Evolutionary Patterns in Rural Coastal Kenya\n",
            "Similar passage:  six coronavirus species are known to infect humans: severe acute respiratory syndrome coronavirus (sars-cov) and middle east respiratory syndrome coronavirus (mers-cov), associated with zoonosis and high mortality [8] [9] [10] [11] , and human coronavirus (hcov)-nl63, -oc43, -229e, and -hku1, with higher prevalence but reduced mortality [12] [13] [14] [15] .human coronaviruses can infect all age groups [13, 16, 17] . \n",
            "\n",
            "Model 3:\n",
            "\n"
          ],
          "name": "stdout"
        },
        {
          "output_type": "stream",
          "text": [
            "Creating the narrowed-down embeddings...: 100%|██████████| 100/100 [00:41<00:00,  2.40it/s]\n"
          ],
          "name": "stderr"
        },
        {
          "output_type": "stream",
          "text": [
            "\n",
            "\n",
            "\n",
            "Paper title:  Serological Screening for Coronavirus Infections in Cats\n",
            "Similar passage:  several non-feline coronaviruses have been reported to infect feline cells as well as cats after experimental infection, supported by their ability to engage the feline receptor ortholog for cell entry. \n",
            "\n",
            "\n",
            "Paper title:  Detection of alpha-and betacoronaviruses in rodents from Yunnan, China\n",
            "Similar passage:  coronaviruses infect various animals, but to date, relatively few coronaviruses have been identified in rodents worldwide. \n",
            "\n",
            "\n",
            "Paper title:  Recent Progress in Studies of Arterivirus-and Coronavirus-Host Interactions\n",
            "Similar passage:  domestic animals such as cats and dogs are also susceptible to coronaviruses. \n",
            "\n",
            "\n",
            "Paper title:  Isolation and characterization of avian coronavirus from healthy Eclectus parrots (Eclectus roratus) from Indonesia\n",
            "Similar passage:  at present, there has been limited information about avian coronavirus infection among birds. \n",
            "\n",
            "\n",
            "Paper title:  Feline and Canine Coronaviruses: Common Genetic and Pathobiological Features\n",
            "Similar passage:  however, nonfeline coronaviruses have never been formally reported in naturally infected cats. \n",
            "\n",
            "Model 4:\n",
            "\n"
          ],
          "name": "stdout"
        },
        {
          "output_type": "stream",
          "text": [
            "Creating the narrowed-down embeddings...: 100%|██████████| 100/100 [00:00<00:00, 124.55it/s]\n"
          ],
          "name": "stderr"
        },
        {
          "output_type": "stream",
          "text": [
            "\n",
            "\n",
            "\n",
            "Paper title:  Viral Metagenomics Revealed Sendai Virus and Coronavirus Infection of Malayan Pangolins (Manis javanica)\n",
            "Similar passage:  sometimes, but not often, a coronavirus can infect both animals and humans. \n",
            "\n",
            "\n",
            "Paper title:  The Evolutionary Processes of Canine Coronaviruses\n",
            "Similar passage:  subgroup 2a includes bovine coronavirus (bcov), murine hepatitis virus (mhv), sialodacryoadenitis virus (sdav) found in rats, porcine haemagglutinating encephalomyelitis virus (phev), human coronaviruses (hcov-oc43 and hcov-hku1), human enteric coronavirus (hecv-4408), and the newly recognized equine coronavirus (ecov) [11] and canine respiratory coronavirus (crcov) [12] . \n",
            "\n",
            "\n",
            "Paper title:  Canine Respiratory Coronavirus, Bovine Coronavirus, and Human Coronavirus OC43: Receptors and Attachment Factors\n",
            "Similar passage:  despite high similarity of canine respiratory coronavirus (crcov), bovine coronavirus, (bcov) and human coronavirus oc43 (hcov-oc43), these viruses differ in species specificity. \n",
            "\n",
            "\n",
            "Paper title:  Clinical Medicine Characteristics of and Public Health Responses to the Coronavirus Disease 2019 Outbreak in China\n",
            "Similar passage:  sars-cov-2 is different from the zoonotic mersr-cov and sarsr-cov and becomes the seventh coronavirus to infect humans [5] . \n",
            "\n",
            "\n",
            "Paper title:  Canine respiratory coronavirus employs caveolin-1-mediated pathway for internalization to HRT-18G cells\n",
            "Similar passage:  the virus is a betacoronavirus and a close relative of human coronavirus oc43 and bovine coronavirus. \n",
            "\n",
            "_________________________________________________________________\n",
            "\n",
            " Question:  can we prevent the infection from coronavirus?\n",
            " \n",
            "\n",
            "Model 1:\n",
            "\n"
          ],
          "name": "stdout"
        },
        {
          "output_type": "stream",
          "text": [
            "Creating the narrowed-down embeddings...: 100%|██████████| 100/100 [00:42<00:00,  2.37it/s]\n"
          ],
          "name": "stderr"
        },
        {
          "output_type": "stream",
          "text": [
            "\n",
            "\n",
            "\n",
            "Paper title:  A Novel Bacterium-Like Particle-Based Vaccine Displaying the SUDV Glycoprotein Induces Potent Humoral and Cellular Immune Responses in Mice\n",
            "Similar passage:  however, there are no licensed vaccines to prevent sudv infections. \n",
            "\n",
            "\n",
            "Paper title:  Analysis of Determinants in Filovirus Glycoproteins Required for Tetherin Antagonism\n",
            "Similar passage:  here, we show that filovirus gps depend on the presence of their authentic \n",
            "\n",
            "\n",
            "Paper title:  Lack of transmission among healthcare workers in contact with a case of Middle East respiratory syndrome coronavirus infection in Thailand\n",
            "Similar passage:  the best protective strategy against mers-cov should further be assessed. \n",
            "\n",
            "\n",
            "Paper title:  pathogens Host Single Nucleotide Polymorphisms Modulating Influenza A Virus Disease in Humans\n",
            "Similar passage:  we also discuss the importance of snps for iav vaccine effectiveness. \n",
            "\n",
            "\n",
            "Paper title:  Lack of transmission among healthcare workers in contact with a case of Middle East respiratory syndrome coronavirus infection in Thailand\n",
            "Similar passage:  strict infection control precautions can protect hcws. \n",
            "\n",
            "Model 2:\n",
            "\n"
          ],
          "name": "stdout"
        },
        {
          "output_type": "stream",
          "text": [
            "Creating the narrowed-down embeddings...: 100%|██████████| 100/100 [00:23<00:00,  4.26it/s]\n"
          ],
          "name": "stderr"
        },
        {
          "output_type": "stream",
          "text": [
            "\n",
            "\n",
            "\n",
            "Paper title:  Reversal of the Progression of Fatal Coronavirus Infection in Cats by a Broad- Spectrum Coronavirus Protease Inhibitor\n",
            "Similar passage:  this finding may have important implication in devising effective therapeutic strategies for other coronavirus infections. \n",
            "\n",
            "\n",
            "Paper title:  Subunit Vaccines Against Emerging Pathogenic Human Coronaviruses\n",
            "Similar passage:  it is critical to rapidly design and develop effective vaccines to prevent infection of this new coronavirus. \n",
            "\n",
            "\n",
            "Paper title:  Antibody-dependent infection of human macrophages by severe acute respiratory syndrome coronavirus\n",
            "Similar passage:  background: public health risks associated to infection by human coronaviruses remain considerable and vaccination is a key option for preventing the resurgence of severe acute respiratory syndrome coronavirus (sars-cov). \n",
            "\n",
            "\n",
            "Paper title:  Reversal of the Progression of Fatal Coronavirus Infection in Cats by a Broad- Spectrum Coronavirus Protease Inhibitor\n",
            "Similar passage:  the increasing risks of highly virulent coronavirus infections in humans or animals call for effective antiviral drugs, but no such measures are yet available. \n",
            "\n",
            "\n",
            "Paper title:  Significant Interference with Porcine Epidemic Diarrhea Virus Pandemic and Classical Strain Replication in Small-Intestine Epithelial Cells Using an shRNA Expression Vector\n",
            "Similar passage:  the control of coronavirus diseases is important for human public health security. \n",
            "\n",
            "Model 3:\n",
            "\n"
          ],
          "name": "stdout"
        },
        {
          "output_type": "stream",
          "text": [
            "Creating the narrowed-down embeddings...: 100%|██████████| 100/100 [00:42<00:00,  2.35it/s]\n"
          ],
          "name": "stderr"
        },
        {
          "output_type": "stream",
          "text": [
            "\n",
            "\n",
            "\n",
            "Paper title:  A highly conserved WDYPKCDRA epitope in the RNA directed RNA polymerase of human coronaviruses can be used as epitope-based universal vaccine design\n",
            "Similar passage:  there is no recommended vaccine for coronaviruses which is necessary to prevent. \n",
            "\n",
            "\n",
            "Paper title:  pathogens Emergence of Novel Coronavirus 2019-nCoV: Need for Rapid Vaccine and Biologics Development\n",
            "Similar passage:  as a newly emerging viral infection, there is no vaccine or anti-viral therapeutics to treat human coronavirus infection till now. \n",
            "\n",
            "\n",
            "Paper title:  Coronaviruses and the human airway: a universal system for virus-host interaction studies\n",
            "Similar passage:  furthermore, no commercial vaccine is available leaving the human population vulnerable to emerging coronavirus infections. \n",
            "\n",
            "\n",
            "Paper title:  Coronavirus Susceptibility to the Antiviral Remdesivir (GS- 5734) Is Mediated by the Viral Polymerase and the Proofreading Exoribonuclease\n",
            "Similar passage:  importance coronaviruses (covs) cause severe human infections, but there are no approved antivirals to treat these infections. \n",
            "\n",
            "\n",
            "Paper title:  A highly conserved WDYPKCDRA epitope in the RNA directed RNA polymerase of human coronaviruses can be used as epitope-based universal vaccine design\n",
            "Similar passage:  therefore, it is important to take preventing measures not only to prevent this new strain of coronavirus, also against all the strain of coronavirus. \n",
            "\n",
            "Model 4:\n",
            "\n"
          ],
          "name": "stdout"
        },
        {
          "output_type": "stream",
          "text": [
            "Creating the narrowed-down embeddings...: 100%|██████████| 100/100 [00:00<00:00, 123.08it/s]\n"
          ],
          "name": "stderr"
        },
        {
          "output_type": "stream",
          "text": [
            "\n",
            "\n",
            "\n",
            "Paper title:  Emerging Microbes & Infections (2017) 6, e53\n",
            "Similar passage:  the detection of coronavirus hku15 in respiratory tracts of pigs implies that in addition to enteric infections, coronavirus hku15 may be able to cause respiratory infections in pigs and that in addition to fecal-oral transmission, the virus could possibly spread through the respiratory route. \n",
            "\n",
            "\n",
            "Paper title:  Emerging Microbes & Infections (2017) 6, e53\n",
            "Similar passage:  19 it has recently been confirmed that coronavirus hku15 is able to cause swine enteric infections by infecting gnotobiotic and conventional pigs with coronavirus hku15. \n",
            "\n",
            "\n",
            "Paper title:  Emerging Microbes & Infections (2017) 6, e53\n",
            "Similar passage:  15 the detection of coronavirus hku15 in respiratory tracts of pigs has the following implications.first, in addition to enteric infections, coronavirus hku15 may be able to cause respiratory infections in pigs. \n",
            "\n",
            "\n",
            "Paper title:  Molecular epidemiology and characterization of human coronavirus\n",
            "Similar passage:  background: coronavirus causes respiratory infections in humans. \n",
            "\n",
            "\n",
            "Paper title:  Towards a solution to MERS: protective human monoclonal antibodies targeting different domains and functions of the MERS-coronavirus spike glycoprotein\n",
            "Similar passage:  the middle-east respiratory syndrome coronavirus (mers-cov) is a zoonotic virus that causes severe and often fatal respiratory disease in humans. \n",
            "\n",
            "_________________________________________________________________\n",
            "\n",
            " Question:  how many days does the infection from coronavirus last?\n",
            " \n",
            "\n",
            "Model 1:\n",
            "\n"
          ],
          "name": "stdout"
        },
        {
          "output_type": "stream",
          "text": [
            "Creating the narrowed-down embeddings...: 100%|██████████| 100/100 [00:29<00:00,  3.35it/s]\n"
          ],
          "name": "stderr"
        },
        {
          "output_type": "stream",
          "text": [
            "\n",
            "\n",
            "\n",
            "Paper title:  Relationship between asymptomatic rotavirus infection and jaundice in neonates: a retrospective study\n",
            "Similar passage:  in addition, rotavirus infection is diagnosed early in the disease because it can be screened before other causes. \n",
            "\n",
            "\n",
            "Paper title:  Case report: a fatal case of disseminated adenovirus infection in a non-transplant adult haematology patient\n",
            "Similar passage:  however, he died soon after this with a final adenovirus load of 20 million copies/ml in his blood. \n",
            "\n",
            "\n",
            "Paper title:  WU Polyomavirus (WUPyV): A Recently Detected Virus Causing Respiratory Disease?\n",
            "Similar passage:  the incubation period of wupyv infections is unknown. \n",
            "\n",
            "\n",
            "Paper title:  Case report: a fatal case of disseminated adenovirus infection in a non-transplant adult haematology patient\n",
            "Similar passage:  the last adenovirus dna level, three days before death was 20 million copies/ml.no post-mortem investigations were performed. \n",
            "\n",
            "\n",
            "Paper title:  First Isolation and Rapid Identification of Newcastle Disease Virus from Aborted Fetus of Dromedary Camel Using Next-Generation Sequencing\n",
            "Similar passage:  ndv is basically an avian virus which has caused numerous outbreaks of devastating disease in poultries. \n",
            "\n",
            "Model 2:\n",
            "\n"
          ],
          "name": "stdout"
        },
        {
          "output_type": "stream",
          "text": [
            "Creating the narrowed-down embeddings...: 100%|██████████| 100/100 [00:22<00:00,  4.51it/s]\n"
          ],
          "name": "stderr"
        },
        {
          "output_type": "stream",
          "text": [
            "\n",
            "\n",
            "\n",
            "Paper title:  Carrageenan nasal spray in virus confirmed common cold: individual patient data analysis of two randomized controlled trials\n",
            "Similar passage:  the decrease in duration of disease varied between 1.9 days for rhinovirus up to 3.9 days for coronavirus with infa lying in between with a reduction of 3.3 days ( table 6 ). \n",
            "\n",
            "\n",
            "Paper title:  Human Coronavirus NL63 Molecular Epidemiology and Evolutionary Patterns in Rural Coastal Kenya\n",
            "Similar passage:  if there were at least 2 coronavirus-positive samples and the time between the first and last positive sample was ≥14 days and there were 4 intervening nl6-negative samples, the subject was considered to have a repeat (type 2) infection. \n",
            "\n",
            "\n",
            "Paper title:  Clinical Medicine Estimation of the Transmission Risk of the 2019-nCoV and Its Implication for Public Health Interventions\n",
            "Similar passage:  according to the current report, the incubation period of wuhan patients with coronavirus pneumonia is about 2 to 15 days. \n",
            "\n",
            "\n",
            "Paper title:  The novel coronavirus outbreak in Wuhan, China\n",
            "Similar passage:  it just took 1 month for china to recognize the existence of a novel coronavirus after the first case was reported, followed with a series mandatory actions in both wuhan and all over china. \n",
            "\n",
            "\n",
            "Paper title:  Genomic Analysis of 15 Human Coronaviruses OC43 (HCoV-OC43s) Circulating in France from 2001 to 2013 Reveals a High Intra-Specific Diversity with New Recombinant Genotypes\n",
            "Similar passage:  they estimate the tmrca of coronaviruses infecting mammalian species (alpha-and betacoronavirus genus) and avian species (gamma-and deltacoronavirus genus) at about 293 million years, as opposed to 10,000 years as previously estimated [5] . \n",
            "\n",
            "Model 3:\n",
            "\n"
          ],
          "name": "stdout"
        },
        {
          "output_type": "stream",
          "text": [
            "Creating the narrowed-down embeddings...: 100%|██████████| 100/100 [00:39<00:00,  2.55it/s]\n"
          ],
          "name": "stderr"
        },
        {
          "output_type": "stream",
          "text": [
            "\n",
            "\n",
            "\n",
            "Paper title:  Clinical Medicine Incubation Period and Other Epidemiological Characteristics of 2019 Novel Coronavirus Infections with Right Truncation: A Statistical Analysis of Publicly Available Case Data\n",
            "Similar passage:  in addition to empirically showing the comparability of covid-19 to other disease-causing coronaviruses, the present study has also shown that the 95th percentile of the incubation period is around 10-14 days, indicating that a 14-day quarantine period would largely ensure the absence of disease among healthy exposed individuals.wuhan residents have a less precisely defined exposure period compared to travelers and secondary cases from known human to human transmission events. \n",
            "\n",
            "\n",
            "Paper title:  Clinical Medicine Incubation Period and Other Epidemiological Characteristics of 2019 Novel Coronavirus Infections with Right Truncation: A Statistical Analysis of Publicly Available Case Data\n",
            "Similar passage:  in addition to empirically showing the comparability of covid-19 to other disease-causing coronaviruses, the present study has also shown that the 95th percentile of the incubation period is around 10-14 days, indicating that a 14-day quarantine period would largely ensure the absence of disease among healthy exposed individuals.wuhan residents have a less precisely defined exposure period compared to travelers and secondary cases from known human to human transmission events. \n",
            "\n",
            "\n",
            "Paper title:  Clinical Medicine Incubation Period and Other Epidemiological Characteristics of 2019 Novel Coronavirus Infections with Right Truncation: A Statistical Analysis of Publicly Available Case Data\n",
            "Similar passage:  in addition to empirically showing the comparability of covid-19 to other disease-causing coronaviruses, the present study has also shown that the 95th percentile of the incubation period is around 10-14 days, indicating that a 14-day quarantine period would largely ensure the absence of disease among healthy exposed individuals.wuhan residents have a less precisely defined exposure period compared to travelers and secondary cases from known human to human transmission events. \n",
            "\n",
            "\n",
            "Paper title:  viruses Perspective Potential Maternal and Infant Outcomes from Coronavirus 2019-nCoV (SARS-CoV-2) Infecting Pregnant Women: Lessons from SARS, MERS, and Other Human Coronavirus Infections\n",
            "Similar passage:  following a 21-day stay in the hospital, during which she did not require ventilatory support, her convalescent antibody titers were positive for coronavirus infection. \n",
            "\n",
            "\n",
            "Paper title:  Human Coronavirus NL63 Molecular Epidemiology and Evolutionary Patterns in Rural Coastal Kenya\n",
            "Similar passage:  type 1 pattern: if the total amount of time a subject showed coronavirus-positive samples <14 days or if the subject had only a single coronavirus-positive sample the subject was considered to have a single infection. \n",
            "\n",
            "Model 4:\n",
            "\n"
          ],
          "name": "stdout"
        },
        {
          "output_type": "stream",
          "text": [
            "Creating the narrowed-down embeddings...: 100%|██████████| 100/100 [00:00<00:00, 133.48it/s]\n"
          ],
          "name": "stderr"
        },
        {
          "output_type": "stream",
          "text": [
            "\n",
            "\n",
            "\n",
            "Paper title:  Emerging Microbes & Infections (2017) 6, e53\n",
            "Similar passage:  19 it has recently been confirmed that coronavirus hku15 is able to cause swine enteric infections by infecting gnotobiotic and conventional pigs with coronavirus hku15. \n",
            "\n",
            "\n",
            "Paper title:  Emerging Microbes & Infections (2017) 6, e53\n",
            "Similar passage:  15 the detection of coronavirus hku15 in respiratory tracts of pigs has the following implications.first, in addition to enteric infections, coronavirus hku15 may be able to cause respiratory infections in pigs. \n",
            "\n",
            "\n",
            "Paper title:  Canine respiratory coronavirus employs caveolin-1-mediated pathway for internalization to HRT-18G cells\n",
            "Similar passage:  the virus is a betacoronavirus and a close relative of human coronavirus oc43 and bovine coronavirus. \n",
            "\n",
            "\n",
            "Paper title:  Cross-sectional survey of selected enteric viruses in Polish turkey flocks between 2008 and 2011\n",
            "Similar passage:  turkey coronavirus and infectious bronchitis virus [7] . \n",
            "\n",
            "\n",
            "Paper title:  Middle East Respiratory Syndrome Coronavirus Intra-Host Populations Are Characterized by Numerous High Frequency Variants\n",
            "Similar passage:  middle east respiratory syndrome coronavirus (mers-cov) is an emergent beta coronavirus related to sars virus, and is capable of causing severe respiratory symptoms in humans. \n",
            "\n",
            "_________________________________________________________________\n",
            "\n",
            " Question:  what percentange of the population will be infected from coronavirus?\n",
            " \n",
            "\n",
            "Model 1:\n",
            "\n"
          ],
          "name": "stdout"
        },
        {
          "output_type": "stream",
          "text": [
            "Creating the narrowed-down embeddings...: 100%|██████████| 100/100 [00:31<00:00,  3.17it/s]\n"
          ],
          "name": "stderr"
        },
        {
          "output_type": "stream",
          "text": [
            "\n",
            "\n",
            "\n",
            "Paper title:  An assessment of the level of concern among hospital-based health-care workers regarding MERS outbreaks in Saudi Arabia\n",
            "Similar passage:  moreover, the majority feel at risk of contracting a mers-cov infection at work. \n",
            "\n",
            "\n",
            "Paper title:  Molecular and clinical study on prevalence of feline herpesvirus type 1 and calicivirus in correlation with feline leukemia and immunodeficiency viruses Key words: Corneal ulcers Feline calicivirus Feline herpesvirus type 1 Feline retroviruses Respiratory disease ‫گربه‬ ‫لوسمی‬ ‫و‬ ‫ایدز‬ ‫ویروسهای‬ ‫با‬ ‫آنها‬ ‫ارتباط‬ ‫و‬ ‫گربه‬ ‫ویروس‬ ‫کلسی‬ ‫و‬ ‫یک‬ ‫تیپ‬ ‫ویروس‬ ‫هرپس‬ ‫شیوع‬ ‫بالینی‬ ‫و‬ ‫ملکولی‬ ‫مطالعه‬ ‫چکیده‬ ‫وی‬ ‫کلسی‬ ‫و‬ ‫یک‬ ‫تیپ‬ ‫ویروس‬ ‫هرپس‬ ‫عامل،‬ ‫اصلی‬ ‫پاتوژنهای‬ ‫است.‬ ‫جهان‬ ‫سراسر‬ ‫در‬ ‫ها‬ ‫گربه‬ ‫بالینی‬ ‫شایع‬ ‫مشکل‬ ‫یک‬ ‫تنفس‬ ‫دستگاه‬ ‫فوقانی‬ ‫بخش‬ ‫بیماری‬ ‫هم‬ ‫است.‬ ‫گربه‬ ‫روس‬ ‫ویروسهای‬ ‫چنین‬ ‫میشوند‬ ‫ایمنی‬ ‫دستگاه‬ ‫تضعیف‬ ‫باعث‬ ‫که‬ ‫گربه‬ ‫ایمنی‬ ‫نقص‬ ‫و‬ ‫لوسمی‬ ‫از‬ ‫از‬ ‫خون‬ ‫نمونه‬ ‫نیز‬ ‫و‬ ‫چشم‬ ‫ملتحمه‬ ‫و‬ ‫حلقی‬ ‫دهانی‬ ‫محوطه‬ ‫از‬ ‫سواب‬ ‫نمونه‬ ‫میباشند.‬ ‫ها‬ ‫گربه‬ ‫در‬ ‫بیماریزا‬ ‫عوامل‬ ‫شایعترین‬ 61 ‫گربه‬ ‫و‬ ‫تنفسی‬ ‫بیماری‬ ‫بالینی‬ ‫عالئم‬ ‫دارای‬ 61 ‫ب‬ ‫گردید.‬ ‫اخذ‬ ‫سالم‬ ‫ظاهر‬ ‫به‬ ‫گربه‬ ‫روش‬ ‫از‬ ‫گربه‬ ‫ایدز‬ ‫ویروس‬ ‫و‬ ‫ویروس‬ ‫هرپس‬ ‫ردیابی‬ ‫منظور‬ ‫ه‬ PCR ‫روش‬ ‫از‬ ‫لوسمی‬ ‫ویروس‬ ‫و‬ ‫ویروس‬ ‫،کلسی‬ ‫می‬ ‫قرنیه‬ ‫زخمهای‬ ‫اصلی‬ ‫عامل‬ ‫را‬ ‫ویروس‬ ‫هرپس‬ ‫اینکه‬ ‫با‬ ‫شد.‬ ‫دیده‬ ‫بیمار‬ ‫در‬ ‫اما‬ ‫دانند‬ 0 / 00 ‫ویروس‬ ‫کلسی‬ ‫جدید‬ ‫واریانتهای‬ ‫رسد‬ ‫می‬ ‫نظر‬ ‫به‬ ‫شد.‬ ‫ردیابی‬ ‫ویروس‬ ‫کلسی‬ ‫فقط‬ ‫قرنیه‬ ‫زخم‬ ‫به‬ ‫ازمبتالیان‬ ‫درصد‬ ‫شیو‬ ‫باشند.‬ ‫متنوع‬ ‫بالینی‬ ‫عالئم‬ ‫این‬ ‫ایجاد‬ ‫زمینه‬ ‫رتروویروسی‬ ‫عفونتهای‬ ‫شاید‬ ‫یا‬ ‫باشند،‬ ‫قرنیه‬ ‫مانند‬ ‫غیرمعمول‬ ‫بافتهای‬ ‫به‬ ‫حمله‬ ‫به‬ ‫قادر‬ ‫عفونتهای‬ ‫باالی‬ ‫ع‬ ‫های‬ ‫گربه‬ ‫زیاد‬ ‫جمعیت‬ ‫دلیل‬ ‫به‬ ‫احتماال‬ ‫رتروویروسی‬ ‫با‬ ‫مبتال‬ ‫غیر‬ ‫های‬ ‫گربه‬ ‫به‬ ‫نسبت‬ ‫رتروویروسها‬ ‫به‬ ‫مبتال‬ ‫های‬ ‫گربه‬ ‫در‬ ‫ویروس‬ ‫کلسی‬ ‫و‬ ‫ویروس‬ ‫هرپس‬ ‫شیوع‬ ‫رسد‬ ‫می‬ ‫نظر‬ ‫به‬ ‫است.‬ ‫تهران‬ ‫در‬ ‫ولگرد‬ ‫باشد.‬ ‫التر‬ ‫کلیدی:‬ ‫های‬ ‫واژه‬ ‫گ‬ ‫ویروس‬ ‫کلسی‬ ‫قرنیه،‬ ‫زخم‬ ‫گربه،‬ ‫های‬ ‫رتروویروس‬ ‫تنفسی،‬ ‫بیماری‬ ‫گربه‬ ‫یک‬ ‫تیپ‬ ‫ویروس‬ ‫هرپس‬ ‫ربه،‬\n",
            "Similar passage:  feline herpesvirus rate of infection was 43.00% in sick cats. \n",
            "\n",
            "\n",
            "Paper title:  San Antonio Military Health System\n",
            "Similar passage:  the proportion of ili attributable to adenovirus is not known. \n",
            "\n",
            "\n",
            "Paper title:  Effect of Information Disclosure Policy on Control of Infectious Disease: MERS-CoV Outbreak in South Korea\n",
            "Similar passage:  the spread of the disease ceased because potential mers-cov patients were screened. \n",
            "\n",
            "\n",
            "Paper title:  A Novel Bacterium-Like Particle-Based Vaccine Displaying the SUDV Glycoprotein Induces Potent Humoral and Cellular Immune Responses in Mice\n",
            "Similar passage:  however, there are no licensed vaccines to prevent sudv infections. \n",
            "\n",
            "Model 2:\n",
            "\n"
          ],
          "name": "stdout"
        },
        {
          "output_type": "stream",
          "text": [
            "Creating the narrowed-down embeddings...: 100%|██████████| 100/100 [00:19<00:00,  5.01it/s]\n"
          ],
          "name": "stderr"
        },
        {
          "output_type": "stream",
          "text": [
            "\n",
            "\n",
            "\n",
            "Paper title:  First two months of the 2019 Coronavirus Disease (COVID-19) epidemic in China: real- time surveillance and evaluation with a second derivative model\n",
            "Similar passage:  up to february 8, 2020, the total cases diagnosed were 37,552 worldwide (worldometer on coronavirus) with 37,198 in china, which accounted for 99.1% of the total number of the world. \n",
            "\n",
            "\n",
            "Paper title:  Cross-sectional survey of selected enteric viruses in Polish turkey flocks between 2008 and 2011\n",
            "Similar passage:  the prevalence of astrovirus infection was 44.9% (95% ci: 38.0-52.0), parvovirus 27.5% (95% ci: 21.6-34.2), rotavirus 18.8% (95% ci: 13.8-24.8), and coronavirus 9.7% (95% ci: 6.0-14.5). \n",
            "\n",
            "\n",
            "Paper title:  Patterns of Human Respiratory Viruses and Lack of MERS-Coronavirus in Patients with Acute Upper Respiratory Tract Infections in Southwestern Province of Saudi Arabia\n",
            "Similar passage:  nonetheless, children in our study represented the largest proportion (34.7%) of all infected patients compared to other age groups.human rv accounted for more than 40.9% of the pathogens identified, followed by non-mers-cov human coronaviruses (19.3%), flu viruses (15.9%), and hrsv (13.6%). \n",
            "\n",
            "\n",
            "Paper title:  Hepatitis C Virus and Cellular Stress Response: Implications to Molecular Pathogenesis of Liver Diseases\n",
            "Similar passage:  approximately 3% of the population has been infected with hcv worldwide. \n",
            "\n",
            "\n",
            "Paper title:  Coronavirus infections in hospitalized pediatric patients with acute respiratory tract disease\n",
            "Similar passage:  the aim of this study was to estimate the prevalence of human coronavirus infections in a series of children hospitalized with symptoms of acute respiratory tract disease in a one-year period in slovenia. \n",
            "\n",
            "Model 3:\n",
            "\n"
          ],
          "name": "stdout"
        },
        {
          "output_type": "stream",
          "text": [
            "Creating the narrowed-down embeddings...: 100%|██████████| 100/100 [00:38<00:00,  2.57it/s]\n"
          ],
          "name": "stderr"
        },
        {
          "output_type": "stream",
          "text": [
            "\n",
            "\n",
            "\n",
            "Paper title:  Hepatitis C Virus and Cellular Stress Response: Implications to Molecular Pathogenesis of Liver Diseases\n",
            "Similar passage:  approximately 3% of the population has been infected with hcv worldwide. \n",
            "\n",
            "\n",
            "Paper title:  Identification of New Respiratory Viruses in the New Millennium\n",
            "Similar passage:  reports on the prevalence of human coronaviruses and their association with upper and lower respiratory tract disease vary but range between 3.3% and 16% [85, 86, 95, 97] . \n",
            "\n",
            "\n",
            "Paper title:  Identification of New Respiratory Viruses in the New Millennium\n",
            "Similar passage:  over 70% of the general public has seroconverted towards all four non-severe human coronaviruses with primary infection shown to occur in childhood [98] and reinfection occurring throughout life [95] . \n",
            "\n",
            "\n",
            "Paper title:  Natural reservoirs for homologs of hepatitis C virus\n",
            "Similar passage:  currently, about 160 million individuals are persistently infected with hcv. \n",
            "\n",
            "\n",
            "Paper title:  pathogens Emergence of Novel Coronavirus 2019-nCoV: Need for Rapid Vaccine and Biologics Development\n",
            "Similar passage:  nearly 35,000 cases were reported and at least 24 other countries or territories have reported coronavirus cases as early on as february. \n",
            "\n",
            "Model 4:\n",
            "\n"
          ],
          "name": "stdout"
        },
        {
          "output_type": "stream",
          "text": [
            "Creating the narrowed-down embeddings...: 100%|██████████| 100/100 [00:00<00:00, 133.32it/s]\n"
          ],
          "name": "stderr"
        },
        {
          "output_type": "stream",
          "text": [
            "\n",
            "\n",
            "\n",
            "Paper title:  Canine respiratory coronavirus employs caveolin-1-mediated pathway for internalization to HRT-18G cells\n",
            "Similar passage:  the virus is a betacoronavirus and a close relative of human coronavirus oc43 and bovine coronavirus. \n",
            "\n",
            "\n",
            "Paper title:  Emerging Microbes & Infections (2017) 6, e53\n",
            "Similar passage:  19 it has recently been confirmed that coronavirus hku15 is able to cause swine enteric infections by infecting gnotobiotic and conventional pigs with coronavirus hku15. \n",
            "\n",
            "\n",
            "Paper title:  Long-Term Persistence of Robust Antibody and Cytotoxic T Cell Responses in Recovered Patients Infected with SARS Coronavirus\n",
            "Similar passage:  most of the individuals infected with sars coronavirus (sars-cov) spontaneously recovered without clinical intervention. \n",
            "\n",
            "\n",
            "Paper title:  Isolation and characterization of avian coronavirus from healthy Eclectus parrots (Eclectus roratus) from Indonesia\n",
            "Similar passage:  ib-like coronavirus was isolated from healthy parrots, indicating that this bird might act as a reservoir for coronavirus. \n",
            "\n",
            "\n",
            "Paper title:  Vomiting and wasting disease associated with Hemagglutinating Encephalomyelitis Viruses infection in piglets in Jilin, China\n",
            "Similar passage:  hev, togather with murine hepatitis virus (mhv), bovine coronavirus (bcov), human coronavirus oc43 (hcov-oc43), rat coronavirus (rcov), belongs to group 2 [8] .in this report, the clinical and neuropathologic feathers of spontaneous phev infection had been reported. \n",
            "\n",
            "_________________________________________________________________\n",
            "\n",
            " Question:  does social distancing helps for preventing coronavirus?\n",
            " \n",
            "\n",
            "Model 1:\n",
            "\n"
          ],
          "name": "stdout"
        },
        {
          "output_type": "stream",
          "text": [
            "Creating the narrowed-down embeddings...: 100%|██████████| 100/100 [00:38<00:00,  2.57it/s]\n"
          ],
          "name": "stderr"
        },
        {
          "output_type": "stream",
          "text": [
            "\n",
            "\n",
            "\n",
            "Paper title:  pathogens Host Single Nucleotide Polymorphisms Modulating Influenza A Virus Disease in Humans\n",
            "Similar passage:  we also discuss the importance of snps for iav vaccine effectiveness. \n",
            "\n",
            "\n",
            "Paper title:  interferon-induced Transmembrane Protein 3 inhibits hantaan Virus infection, and its single nucleotide Polymorphism rs12252 influences the severity of hemorrhagic Fever with renal syndrome\n",
            "Similar passage:  however, the role of ifitms in htnv infection is unclear. \n",
            "\n",
            "\n",
            "Paper title:  The Ebola epidemic is ongoing in West Africa and responses from China are positive\n",
            "Similar passage:  positive anti-ebola response and action plans from china have been proven effective. \n",
            "\n",
            "\n",
            "Paper title:  San Antonio Military Health System\n",
            "Similar passage:  conclusions adenovirus is frequently detected with other respiratory viruses. \n",
            "\n",
            "\n",
            "Paper title:  A Novel Bacterium-Like Particle-Based Vaccine Displaying the SUDV Glycoprotein Induces Potent Humoral and Cellular Immune Responses in Mice\n",
            "Similar passage:  however, there are no licensed vaccines to prevent sudv infections. \n",
            "\n",
            "Model 2:\n",
            "\n"
          ],
          "name": "stdout"
        },
        {
          "output_type": "stream",
          "text": [
            "Creating the narrowed-down embeddings...: 100%|██████████| 100/100 [00:25<00:00,  3.88it/s]\n"
          ],
          "name": "stderr"
        },
        {
          "output_type": "stream",
          "text": [
            "\n",
            "\n",
            "\n",
            "Paper title:  Get the News Out Loudly and Quickly: The Influence of the Media on Limiting Emerging Infectious Disease Outbreaks\n",
            "Similar passage:  social distancing for sexually transmitted diseases typically includes using barrier protections [2] . \n",
            "\n",
            "\n",
            "Paper title:  Controlling epidemic spread by social distancing: Do it well or not at all\n",
            "Similar passage:  social distancing is introduced by allowing susceptible individuals to temporarily reduce the number of contacts they make in response to the presence of nearby infection. \n",
            "\n",
            "\n",
            "Paper title:  653-662 Lor et al\n",
            "Similar passage:  the importance of social distancing as a tool to limit disease transmission was also recognized, but the difficulties associated with this measure were acknowledged. \n",
            "\n",
            "\n",
            "Paper title:  Complement Activation Contributes to Severe Acute Respiratory Syndrome Coronavirus Pathogenesis\n",
            "Similar passage:  these data suggest that inhibition of complement signaling might be an effective treatment option following coronavirus infection. \n",
            "\n",
            "\n",
            "Paper title:  653-662 Lor et al\n",
            "Similar passage:  • although meeting participants acknowledged the importance of social distancing as a tool to limit disease transmission, they also recognized the difficulties associated with this measure. \n",
            "\n",
            "Model 3:\n",
            "\n"
          ],
          "name": "stdout"
        },
        {
          "output_type": "stream",
          "text": [
            "Creating the narrowed-down embeddings...: 100%|██████████| 100/100 [00:42<00:00,  2.33it/s]\n"
          ],
          "name": "stderr"
        },
        {
          "output_type": "stream",
          "text": [
            "\n",
            "\n",
            "\n",
            "Paper title:  Get the News Out Loudly and Quickly: The Influence of the Media on Limiting Emerging Infectious Disease Outbreaks\n",
            "Similar passage:  social distancing for sexually transmitted diseases typically includes using barrier protections [2] . \n",
            "\n",
            "\n",
            "Paper title:  Controlling epidemic spread by social distancing: Do it well or not at all\n",
            "Similar passage:  if a disease is very highly infectious, social distancing may have no effect, or may require an unfeasibly high degree of caution in order to be effective. \n",
            "\n",
            "\n",
            "Paper title:  653-662 Lor et al\n",
            "Similar passage:  the importance of social distancing as a tool to limit disease transmission was also recognized, but the difficulties associated with this measure were acknowledged. \n",
            "\n",
            "\n",
            "Paper title:  653-662 Lor et al\n",
            "Similar passage:  • although meeting participants acknowledged the importance of social distancing as a tool to limit disease transmission, they also recognized the difficulties associated with this measure. \n",
            "\n",
            "\n",
            "Paper title:  Controlling epidemic spread by social distancing: Do it well or not at all\n",
            "Similar passage:  such models have shown that social distancing can be effective at reducing the attack rate of an epidemic [28, 32] and that it is a plausible explanation for certain phenomena arising in real epidemics, such as multiple outbreaks or waves of infection [32, 33] .existing studies have, however, tended to neglect the associated cost to both society and individuals resulting from the actions of individuals leading to severing social links. \n",
            "\n",
            "Model 4:\n",
            "\n"
          ],
          "name": "stdout"
        },
        {
          "output_type": "stream",
          "text": [
            "Creating the narrowed-down embeddings...: 100%|██████████| 100/100 [00:00<00:00, 113.76it/s]\n"
          ],
          "name": "stderr"
        },
        {
          "output_type": "stream",
          "text": [
            "\n",
            "\n",
            "\n",
            "Paper title:  A highly conserved WDYPKCDRA epitope in the RNA directed RNA polymerase of human coronaviruses can be used as epitope-based universal vaccine design\n",
            "Similar passage:  therefore, it is important to take preventing measures not only to prevent this new strain of coronavirus, also against all the strain of coronavirus. \n",
            "\n",
            "\n",
            "Paper title:  Bat origin of human coronaviruses\n",
            "Similar passage:  to better prepare ourselves in predicting and preventing the next emergence of a coronavirus disease, it is necessary to maintain our vigilance in long-term coronavirus surveillance studies in bats as well as in other wildlife and livestock. \n",
            "\n",
            "\n",
            "Paper title:  A highly conserved WDYPKCDRA epitope in the RNA directed RNA polymerase of human coronaviruses can be used as epitope-based universal vaccine design\n",
            "Similar passage:  for coronavirus, this vaccine approach is hindered by the fact that human coronavirus strains are not structurally related and they are changing rapidly by recombination [21] . \n",
            "\n",
            "\n",
            "Paper title:  Reversal of the Progression of Fatal Coronavirus Infection in Cats by a Broad- Spectrum Coronavirus Protease Inhibitor\n",
            "Similar passage:  this finding may have important implication in devising effective therapeutic strategies for other coronavirus infections. \n",
            "\n",
            "\n",
            "Paper title:  Early events during human coronavirus OC43 entry to the cell OPEN\n",
            "Similar passage:  the aim of this study was to determine how human coronavirus oc43 enters the susceptible cell. \n",
            "\n",
            "_________________________________________________________________\n"
          ],
          "name": "stdout"
        }
      ]
    },
    {
      "cell_type": "markdown",
      "metadata": {
        "id": "hGbaHzjw5Lgo"
      },
      "source": [
        "#### First Impression"
      ]
    },
    {
      "cell_type": "markdown",
      "metadata": {
        "id": "FXbqvit35OqQ"
      },
      "source": [
        "In first sight, the second model seems to answer the queries as well as the third, while both giving mostly correct answers. The first one, does a slightly worse job, while the 4th is fast, but not accurate at all."
      ]
    },
    {
      "cell_type": "markdown",
      "metadata": {
        "id": "a5vCMdw9nAo8"
      },
      "source": [
        "### Evaluating the Models"
      ]
    },
    {
      "cell_type": "markdown",
      "metadata": {
        "id": "FXnRuoIEnFMu"
      },
      "source": [
        "This problem, is an unsupervied one, thus we can not compute accuracy and other known metrics; we must find other criteria to compare our models.\n",
        "\n",
        "In order to determine which model that we used is the best, we are going to use 2 different criteria:\n",
        " - Execution time\n",
        " - Embeddings' similarity\n",
        "\n",
        "The __execution time__ is the sum of the time used for creating the embeddings, and answering to all of the questions posed. Each class keeps track of that, thus after the execution of many questions we can refer to that by calling the appropriate function. This metric is usefull, because the user wants their questions to be answered in a relative small amount of time.\n",
        "\n",
        "The __embeddings' similarity__ is the dot product of the question embedding from the most similar answer, devided by the vectors' length. We are going to use the dot product function to do this computation. The class, once again, keeps track of the distance, and thus we can retrieve this info by a class function. Despite each model having its own embeddings, this metric is a good way to compute the accuracy of each answer: we suppose that the most similar passage found is close to the best by each model, thus the product of each embedding with the questions' one, should be relatively large if the model has done a good job.\n",
        "\n",
        "To sum up: We want __small numbers in execution time__, and __big numbers in distance__."
      ]
    },
    {
      "cell_type": "markdown",
      "metadata": {
        "id": "-pVX2FFPqzI8"
      },
      "source": [
        "#### Execution Time"
      ]
    },
    {
      "cell_type": "code",
      "metadata": {
        "colab": {
          "base_uri": "https://localhost:8080/",
          "height": 518
        },
        "id": "zYqhNj4vpfpD",
        "outputId": "6372521c-2cbf-47d5-c64a-c163e0690fd9"
      },
      "source": [
        "models = ['roberta-base', 'msmarco-distilroberta-base-v2', 'msmarco-roberta-base-v2', 'average_word_embeddings_glove']\n",
        "results = [instance_1.get_exec_time(), instance_2.get_exec_time(), instance_3.get_exec_time(), instance_4.get_exec_time()]\n",
        "# leeets go lakers\n",
        "plt.figure(figsize = (12,8))\n",
        "plt.bar(models, results, color = ['tab:cyan', 'tab:olive', 'tab:purple', 'tab:orange'])\n",
        "plt.title('Execution time for each model', fontsize=14)\n",
        "plt.xlabel('Models', fontsize=14)\n",
        "plt.ylabel('Exec Time (mins)', fontsize=14)\n",
        "plt.show()"
      ],
      "execution_count": 11,
      "outputs": [
        {
          "output_type": "display_data",
          "data": {
            "image/png": "[encoded data removed]",
            "text/plain": [
              "<Figure size 864x576 with 1 Axes>"
            ]
          },
          "metadata": {
            "tags": [],
            "needs_background": "light"
          }
        }
      ]
    },
    {
      "cell_type": "markdown",
      "metadata": {
        "id": "mQludAGJERlA"
      },
      "source": [
        "As we can see, the best model regarding the time metric is the one that uses glove embeddings, and this makes absolute sense, because of the nature of those embeddings, that was examined in previous assignments.\n",
        "\n",
        "The next best is the `msmarco-distilroberta-base-v2`, which is proposed by the SBERT team as the best for information retrieval. This is good news, as we also expect this model to behave well in the other metrics, so it is satisfying to see that it also does not take an extreme amount of time for its execution.\n",
        "\n",
        "The 2 worst models are the `roberta-base` and the `msmacro-roberta-base-v2`. The one thing that they have in common is that they are RoBERTa based models, so we can assume that this type of models takes more time to execute than the other ones.\n",
        "\n",
        "To sum up, regarding the time metric, we have a clear winner: the __glove based__ model, who's execution for all of the queries, as well as the construction of the initial embeddings was almost a minute. However, the __distiloberta__ based model does not behave terribly, as the sum of the time of execution is under 20 minutes."
      ]
    },
    {
      "cell_type": "markdown",
      "metadata": {
        "id": "bVz9RCwf39IC"
      },
      "source": [
        "#### Distance for titles"
      ]
    },
    {
      "cell_type": "code",
      "metadata": {
        "colab": {
          "base_uri": "https://localhost:8080/",
          "height": 518
        },
        "id": "urNYsun-4AC7",
        "outputId": "ff6472db-6060-444a-8bae-8aa0639efc28"
      },
      "source": [
        "models = ['roberta-base', 'msmarco-distilroberta-base-v2', 'msmarco-roberta-base-v2', 'average_word_embeddings_glove']\n",
        "results = [instance_1.get_title_acc(), instance_2.get_title_acc(), instance_3.get_title_acc(), instance_4.get_title_acc()]\n",
        "plt.figure(figsize = (12,8))\n",
        "plt.bar(models, results, color = ['tab:cyan', 'tab:olive', 'tab:purple', 'tab:orange'])\n",
        "plt.title('Accuracy results for each model for title queries', fontsize=14)\n",
        "plt.xlabel('Models', fontsize=14)\n",
        "plt.ylabel('Dot product of embeddings', fontsize=14)\n",
        "plt.show()"
      ],
      "execution_count": 12,
      "outputs": [
        {
          "output_type": "display_data",
          "data": {
            "image/png": "[encoded data removed]",
            "text/plain": [
              "<Figure size 864x576 with 1 Axes>"
            ]
          },
          "metadata": {
            "tags": [],
            "needs_background": "light"
          }
        }
      ]
    },
    {
      "cell_type": "markdown",
      "metadata": {
        "id": "Sa17p9scNSJ8"
      },
      "source": [
        "By observing the similarity when it comes down to titles, it is clear that the simple roberta based model behaves the best. The msmacro models do not behave as well, while the glove model is the worst.\n",
        "\n",
        "This can be explained because of the comparison of the question to the __title__ of the passage, and not the actual answer. It seems that, for the purpose of returning the best paper containing the answer, the simple roberta-based model is the best."
      ]
    },
    {
      "cell_type": "markdown",
      "metadata": {
        "id": "Geffm4Z05zE7"
      },
      "source": [
        "#### Dstance for passages"
      ]
    },
    {
      "cell_type": "code",
      "metadata": {
        "colab": {
          "base_uri": "https://localhost:8080/",
          "height": 518
        },
        "id": "4b983sI651Uo",
        "outputId": "31c97ed9-0824-4526-ac4b-b661413e9a1d"
      },
      "source": [
        "# the k value that was used for queries\n",
        "k = 5\n",
        "models = ['roberta-base', 'msmarco-distilroberta-base-v2', 'msmarco-roberta-base-v2', 'average_word_embeddings_glove']\n",
        "results = [instance_1.get_passage_acc(k), instance_2.get_passage_acc(k), instance_3.get_passage_acc(k), instance_4.get_passage_acc(k)]\n",
        "plt.figure(figsize = (12,8))\n",
        "# go lakers go\n",
        "plt.bar(models, results, color = ['tab:cyan', 'tab:olive', 'tab:purple', 'tab:orange'])\n",
        "plt.title('Accuracy results for each model for passage queries', fontsize=14)\n",
        "plt.xlabel('Models', fontsize=14)\n",
        "plt.ylabel('Dot product of embeddings', fontsize=14)\n",
        "plt.show()"
      ],
      "execution_count": 13,
      "outputs": [
        {
          "output_type": "display_data",
          "data": {
            "image/png": "[encoded data removed]",
            "text/plain": [
              "<Figure size 864x576 with 1 Axes>"
            ]
          },
          "metadata": {
            "tags": [],
            "needs_background": "light"
          }
        }
      ]
    },
    {
      "cell_type": "markdown",
      "metadata": {
        "id": "uMQbVpAG3OFd"
      },
      "source": [
        "By observing the results of the dot product similarity, it is clear that the seocnd model (distiloberta based, trained for IR), has the besh behaviour. By taking into account its performance on the time metric, we can safely conclude that this is the overall best model that we used. \n",
        "\n",
        "The GLOVE-based model has the worst results, despite being executed fast. Thus, this is a model that we should not consider while running queries.\n",
        "\n",
        "The other 2 models pose similar behaviour, but slightly worse than the second one. This is an acceptable accuracy, as we also saw during the query answering.\n",
        "\n",
        "To conclude, the best overall model that we tested is the __distiloberta msmacro__ model."
      ]
    }
  ]
}