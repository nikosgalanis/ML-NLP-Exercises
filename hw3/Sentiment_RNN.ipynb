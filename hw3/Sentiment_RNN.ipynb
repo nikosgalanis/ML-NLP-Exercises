{
  "nbformat": 4,
  "nbformat_minor": 0,
  "metadata": {
    "accelerator": "GPU",
    "colab": {
      "name": "Sentiment_RNN.ipynb",
      "provenance": [],
      "collapsed_sections": [],
      "toc_visible": true
    },
    "kernelspec": {
      "display_name": "Python 3",
      "name": "python3"
    }
  },
  "cells": [
    {
      "cell_type": "markdown",
      "metadata": {
        "id": "ELEGwjhjHQCv"
      },
      "source": [
        "#Sentiment Classifier using Recurrent NNs"
      ]
    },
    {
      "cell_type": "markdown",
      "metadata": {
        "id": "39vcJQ24H7m-"
      },
      "source": [
        "The goal of this notebook is to develop a sentiment classifier using a bidirectional stacked RNN with LSTM or GRU cells for the Twitter sentiment analysis dataset. We are going to experiment with a plethora of hyperparameters, aiming to find the best possible RNN model, in order to compare it to those of the previous assignments (Simple NNs, LogReg). In order to produce the features for our NN, we are going to used pre-trained word embedings by GloVe, just like in the previous assignment. \n",
        "\n",
        "We going to experiment with the following parameters and techniques, which will be analyzed later on:\n",
        " - Type of cells (LSTM/GRU)\n",
        " - Number of layers of the RNN\n",
        " - Skipping connections\n",
        " - Clipping gradients\n",
        " - Dropout whithin the RNN.\n",
        "\n",
        " Also, as a part of the bonus of the assignment, I will introduce an attention layer to the RNN.\n",
        "\n",
        " But, first up, let's define our data and preprocess it in order to create a handy input for our RNN."
      ]
    },
    {
      "cell_type": "markdown",
      "metadata": {
        "id": "VRC8v8OuJky7"
      },
      "source": [
        "## Import libraries"
      ]
    },
    {
      "cell_type": "code",
      "metadata": {
        "colab": {
          "base_uri": "https://localhost:8080/"
        },
        "id": "E7a_jsDxHOVx",
        "outputId": "cf78fcae-1c37-4fbc-c16e-98b23f6a475b"
      },
      "source": [
        "!python -m textblob.download_corpora\n",
        "# For NN models\n",
        "import torch.nn as nn\n",
        "import torch\n",
        "# For data vizualization \n",
        "import matplotlib as mpl\n",
        "import matplotlib.pyplot as plt\n",
        "# For large and multi-dimensional arrays\n",
        "import numpy as np\n",
        "# For basic cleaning and data preprocessing \n",
        "import re\n",
        "# For data manipulation and analysis\n",
        "import pandas as pd\n",
        "# Stop words\n",
        "import nltk \n",
        "nltk.download('stopwords')  \n",
        "# Data manipulation\n",
        "import torchtext\n",
        "from torchtext import data\n",
        "from torchtext.data import Field\n",
        "import torch.nn.functional as F\n",
        "# Data Preprocessing and Feature Engineering\n",
        "from textblob import TextBlob\n",
        "import scipy\n",
        "from nltk.corpus import stopwords\n",
        "from nltk.stem.wordnet import WordNetLemmatizer\n",
        "# Necessary for data format\n",
        "from sklearn.feature_extraction.text import CountVectorizer\n",
        "# Word embedings\n",
        "from sklearn.feature_extraction.text import TfidfVectorizer  \n",
        "# Machine learning model\n",
        "from sklearn.linear_model import LogisticRegression\n",
        "# Metrics\n",
        "from sklearn.metrics import accuracy_score\n",
        "from sklearn.metrics import classification_report,confusion_matrix\n",
        "from sklearn.metrics import precision_recall_fscore_support \n",
        "from sklearn.metrics import roc_curve\n",
        "from sklearn.metrics import roc_auc_score\n",
        "# Best parameters during classification\n",
        "from sklearn.model_selection import GridSearchCV\n",
        "# Data preprocessing\n",
        "from sklearn.model_selection import train_test_split\n",
        "# Validation of the model\n",
        "from sklearn.model_selection import KFold\n",
        "from sklearn.model_selection import cross_val_score\n",
        "from sklearn.model_selection import cross_validate"
      ],
      "execution_count": 1,
      "outputs": [
        {
          "output_type": "stream",
          "text": [
            "[nltk_data] Downloading package brown to /root/nltk_data...\n",
            "[nltk_data]   Package brown is already up-to-date!\n",
            "[nltk_data] Downloading package punkt to /root/nltk_data...\n",
            "[nltk_data]   Package punkt is already up-to-date!\n",
            "[nltk_data] Downloading package wordnet to /root/nltk_data...\n",
            "[nltk_data]   Package wordnet is already up-to-date!\n",
            "[nltk_data] Downloading package averaged_perceptron_tagger to\n",
            "[nltk_data]     /root/nltk_data...\n",
            "[nltk_data]   Package averaged_perceptron_tagger is already up-to-\n",
            "[nltk_data]       date!\n",
            "[nltk_data] Downloading package conll2000 to /root/nltk_data...\n",
            "[nltk_data]   Package conll2000 is already up-to-date!\n",
            "[nltk_data] Downloading package movie_reviews to /root/nltk_data...\n",
            "[nltk_data]   Package movie_reviews is already up-to-date!\n",
            "Finished.\n",
            "[nltk_data] Downloading package stopwords to /root/nltk_data...\n",
            "[nltk_data]   Package stopwords is already up-to-date!\n"
          ],
          "name": "stdout"
        }
      ]
    },
    {
      "cell_type": "markdown",
      "metadata": {
        "id": "vT29fxIRJsli"
      },
      "source": [
        "## Dataset Configuration"
      ]
    },
    {
      "cell_type": "markdown",
      "metadata": {
        "id": "1taT1fvivGpL"
      },
      "source": [
        "We are going to import the dataset..."
      ]
    },
    {
      "cell_type": "code",
      "metadata": {
        "colab": {
          "base_uri": "https://localhost:8080/"
        },
        "id": "VUHm2nQQKXRn",
        "outputId": "95b05dc2-532c-4459-a3d5-07327eb6161e"
      },
      "source": [
        "df = pd.read_csv(\"/content/drive/MyDrive/tn2/SentimentTweets.csv\")\n",
        "df.info()"
      ],
      "execution_count": 2,
      "outputs": [
        {
          "output_type": "stream",
          "text": [
            "<class 'pandas.core.frame.DataFrame'>\n",
            "RangeIndex: 1280000 entries, 0 to 1279999\n",
            "Data columns (total 7 columns):\n",
            " #   Column      Non-Null Count    Dtype \n",
            "---  ------      --------------    ----- \n",
            " 0   Unnamed: 0  1280000 non-null  int64 \n",
            " 1   target      1280000 non-null  int64 \n",
            " 2   id          1280000 non-null  int64 \n",
            " 3   date        1280000 non-null  object\n",
            " 4   flag        1280000 non-null  object\n",
            " 5   user        1280000 non-null  object\n",
            " 6   text        1280000 non-null  object\n",
            "dtypes: int64(3), object(4)\n",
            "memory usage: 68.4+ MB\n"
          ],
          "name": "stdout"
        }
      ]
    },
    {
      "cell_type": "markdown",
      "metadata": {
        "id": "j_YVqs04vOjA"
      },
      "source": [
        "...and take a look at its columns"
      ]
    },
    {
      "cell_type": "code",
      "metadata": {
        "colab": {
          "base_uri": "https://localhost:8080/",
          "height": 197
        },
        "id": "8Sg1lVk4Kas1",
        "outputId": "746ba61c-f837-466f-efbb-225e78ca3842"
      },
      "source": [
        "df.head()"
      ],
      "execution_count": 3,
      "outputs": [
        {
          "output_type": "execute_result",
          "data": {
            "text/html": [
              "<div>\n",
              "<style scoped>\n",
              "    .dataframe tbody tr th:only-of-type {\n",
              "        vertical-align: middle;\n",
              "    }\n",
              "\n",
              "    .dataframe tbody tr th {\n",
              "        vertical-align: top;\n",
              "    }\n",
              "\n",
              "    .dataframe thead th {\n",
              "        text-align: right;\n",
              "    }\n",
              "</style>\n",
              "<table border=\"1\" class=\"dataframe\">\n",
              "  <thead>\n",
              "    <tr style=\"text-align: right;\">\n",
              "      <th></th>\n",
              "      <th>Unnamed: 0</th>\n",
              "      <th>target</th>\n",
              "      <th>id</th>\n",
              "      <th>date</th>\n",
              "      <th>flag</th>\n",
              "      <th>user</th>\n",
              "      <th>text</th>\n",
              "    </tr>\n",
              "  </thead>\n",
              "  <tbody>\n",
              "    <tr>\n",
              "      <th>0</th>\n",
              "      <td>680949</td>\n",
              "      <td>0</td>\n",
              "      <td>2249621587</td>\n",
              "      <td>Fri Jun 19 22:41:08 PDT 2009</td>\n",
              "      <td>NO_QUERY</td>\n",
              "      <td>sukumarpant</td>\n",
              "      <td>#brokenpromises...</td>\n",
              "    </tr>\n",
              "    <tr>\n",
              "      <th>1</th>\n",
              "      <td>406741</td>\n",
              "      <td>0</td>\n",
              "      <td>2059003515</td>\n",
              "      <td>Sat Jun 06 16:03:21 PDT 2009</td>\n",
              "      <td>NO_QUERY</td>\n",
              "      <td>MTMSparrow</td>\n",
              "      <td>David Carradine  so sad. Thai's law not sure i...</td>\n",
              "    </tr>\n",
              "    <tr>\n",
              "      <th>2</th>\n",
              "      <td>1337108</td>\n",
              "      <td>4</td>\n",
              "      <td>2017466467</td>\n",
              "      <td>Wed Jun 03 08:26:14 PDT 2009</td>\n",
              "      <td>NO_QUERY</td>\n",
              "      <td>itsmemcee</td>\n",
              "      <td>A @ 415 B @ 425. Tell your bro i say congrats!</td>\n",
              "    </tr>\n",
              "    <tr>\n",
              "      <th>3</th>\n",
              "      <td>1560887</td>\n",
              "      <td>4</td>\n",
              "      <td>2186457254</td>\n",
              "      <td>Mon Jun 15 18:52:04 PDT 2009</td>\n",
              "      <td>NO_QUERY</td>\n",
              "      <td>jdfreivald</td>\n",
              "      <td>@littlefluffycat  Indeed.</td>\n",
              "    </tr>\n",
              "    <tr>\n",
              "      <th>4</th>\n",
              "      <td>1466295</td>\n",
              "      <td>4</td>\n",
              "      <td>2064458395</td>\n",
              "      <td>Sun Jun 07 06:19:20 PDT 2009</td>\n",
              "      <td>NO_QUERY</td>\n",
              "      <td>CrazyHan</td>\n",
              "      <td>Completed Race 4 Life in 58mins with girlies f...</td>\n",
              "    </tr>\n",
              "  </tbody>\n",
              "</table>\n",
              "</div>"
            ],
            "text/plain": [
              "   Unnamed: 0  ...                                               text\n",
              "0      680949  ...                                #brokenpromises... \n",
              "1      406741  ...  David Carradine  so sad. Thai's law not sure i...\n",
              "2     1337108  ...    A @ 415 B @ 425. Tell your bro i say congrats! \n",
              "3     1560887  ...                          @littlefluffycat  Indeed.\n",
              "4     1466295  ...  Completed Race 4 Life in 58mins with girlies f...\n",
              "\n",
              "[5 rows x 7 columns]"
            ]
          },
          "metadata": {
            "tags": []
          },
          "execution_count": 3
        }
      ]
    },
    {
      "cell_type": "markdown",
      "metadata": {
        "id": "xc4u-vp1KlXL"
      },
      "source": [
        "## Data Preprocessing"
      ]
    },
    {
      "cell_type": "markdown",
      "metadata": {
        "id": "cT_CFJhVvsCT"
      },
      "source": [
        "Like the other notebook that we made,we have to preprocess our data set. We are going to convert everything to lowercase, and remove any punctuation points, weird characters and links.\n",
        "\n",
        "We are going to classify tweets. As we all know, twitter users use the symbols `#` and `@` a lot. This may cause problem to the classifier, thus we are going to remove them, using `TextBlob`. We are also going to lemmatize the data in order to avoid multiple representations of the same word"
      ]
    },
    {
      "cell_type": "code",
      "metadata": {
        "id": "F1seNOqLvQUY"
      },
      "source": [
        "def text_normalization(text):\n",
        "    # convert text to lowercase\n",
        "    text = text.lower()\n",
        "    # remove non alphanumeric character\n",
        "    text = re.sub(r'[^A-Za-z0-9]+', ' ', text)\n",
        "    # remove links\n",
        "    text = re.sub(r'https?:/\\/\\S+', ' ', text)\n",
        "   \n",
        "    return text"
      ],
      "execution_count": 4,
      "outputs": []
    },
    {
      "cell_type": "code",
      "metadata": {
        "id": "F6IW2Ma3vzbY"
      },
      "source": [
        "def preprocess(input_df):\n",
        "    # Remove rows with missing values in column col\n",
        "    input_df.dropna(inplace=True)\n",
        "    # Speed up code using numpy vectorization\n",
        "    vfunc = np.vectorize(text_normalization)\n",
        "    input_df.text = vfunc(input_df.text.values)\n",
        "    # return processed input_df\n",
        "    return input_df"
      ],
      "execution_count": 5,
      "outputs": []
    },
    {
      "cell_type": "markdown",
      "metadata": {
        "id": "JBWYVeryvzLW"
      },
      "source": [
        "Let's now apply those techniques in our dataset."
      ]
    },
    {
      "cell_type": "code",
      "metadata": {
        "colab": {
          "base_uri": "https://localhost:8080/",
          "height": 197
        },
        "id": "A_0FN1riv2tH",
        "outputId": "165c9fe2-c70e-4a50-ab48-fcb7cc331de7"
      },
      "source": [
        "df = preprocess(df)\n",
        "df.head()"
      ],
      "execution_count": 6,
      "outputs": [
        {
          "output_type": "execute_result",
          "data": {
            "text/html": [
              "<div>\n",
              "<style scoped>\n",
              "    .dataframe tbody tr th:only-of-type {\n",
              "        vertical-align: middle;\n",
              "    }\n",
              "\n",
              "    .dataframe tbody tr th {\n",
              "        vertical-align: top;\n",
              "    }\n",
              "\n",
              "    .dataframe thead th {\n",
              "        text-align: right;\n",
              "    }\n",
              "</style>\n",
              "<table border=\"1\" class=\"dataframe\">\n",
              "  <thead>\n",
              "    <tr style=\"text-align: right;\">\n",
              "      <th></th>\n",
              "      <th>Unnamed: 0</th>\n",
              "      <th>target</th>\n",
              "      <th>id</th>\n",
              "      <th>date</th>\n",
              "      <th>flag</th>\n",
              "      <th>user</th>\n",
              "      <th>text</th>\n",
              "    </tr>\n",
              "  </thead>\n",
              "  <tbody>\n",
              "    <tr>\n",
              "      <th>0</th>\n",
              "      <td>680949</td>\n",
              "      <td>0</td>\n",
              "      <td>2249621587</td>\n",
              "      <td>Fri Jun 19 22:41:08 PDT 2009</td>\n",
              "      <td>NO_QUERY</td>\n",
              "      <td>sukumarpant</td>\n",
              "      <td>brokenpromises</td>\n",
              "    </tr>\n",
              "    <tr>\n",
              "      <th>1</th>\n",
              "      <td>406741</td>\n",
              "      <td>0</td>\n",
              "      <td>2059003515</td>\n",
              "      <td>Sat Jun 06 16:03:21 PDT 2009</td>\n",
              "      <td>NO_QUERY</td>\n",
              "      <td>MTMSparrow</td>\n",
              "      <td>david carradine so sad thai s law not sure if ...</td>\n",
              "    </tr>\n",
              "    <tr>\n",
              "      <th>2</th>\n",
              "      <td>1337108</td>\n",
              "      <td>4</td>\n",
              "      <td>2017466467</td>\n",
              "      <td>Wed Jun 03 08:26:14 PDT 2009</td>\n",
              "      <td>NO_QUERY</td>\n",
              "      <td>itsmemcee</td>\n",
              "      <td>a 415 b 425 tell your bro i say congrats</td>\n",
              "    </tr>\n",
              "    <tr>\n",
              "      <th>3</th>\n",
              "      <td>1560887</td>\n",
              "      <td>4</td>\n",
              "      <td>2186457254</td>\n",
              "      <td>Mon Jun 15 18:52:04 PDT 2009</td>\n",
              "      <td>NO_QUERY</td>\n",
              "      <td>jdfreivald</td>\n",
              "      <td>littlefluffycat indeed</td>\n",
              "    </tr>\n",
              "    <tr>\n",
              "      <th>4</th>\n",
              "      <td>1466295</td>\n",
              "      <td>4</td>\n",
              "      <td>2064458395</td>\n",
              "      <td>Sun Jun 07 06:19:20 PDT 2009</td>\n",
              "      <td>NO_QUERY</td>\n",
              "      <td>CrazyHan</td>\n",
              "      <td>completed race 4 life in 58mins with girlies f...</td>\n",
              "    </tr>\n",
              "  </tbody>\n",
              "</table>\n",
              "</div>"
            ],
            "text/plain": [
              "   Unnamed: 0  ...                                               text\n",
              "0      680949  ...                                    brokenpromises \n",
              "1      406741  ...  david carradine so sad thai s law not sure if ...\n",
              "2     1337108  ...          a 415 b 425 tell your bro i say congrats \n",
              "3     1560887  ...                            littlefluffycat indeed \n",
              "4     1466295  ...  completed race 4 life in 58mins with girlies f...\n",
              "\n",
              "[5 rows x 7 columns]"
            ]
          },
          "metadata": {
            "tags": []
          },
          "execution_count": 6
        }
      ]
    },
    {
      "cell_type": "markdown",
      "metadata": {
        "id": "XsUXX4s1v5ex"
      },
      "source": [
        "We are going to convert the target value to 1 instead of 4, in order to be more convenient."
      ]
    },
    {
      "cell_type": "code",
      "metadata": {
        "id": "aVwHcn1pv6Za"
      },
      "source": [
        "def change_to_1(x):\n",
        "    if (x == 4):\n",
        "        return 1\n",
        "    else:\n",
        "        return x"
      ],
      "execution_count": 7,
      "outputs": []
    },
    {
      "cell_type": "code",
      "metadata": {
        "colab": {
          "base_uri": "https://localhost:8080/",
          "height": 197
        },
        "id": "gxJ3Z3BXv8KD",
        "outputId": "77948dfe-a24f-4bef-f2f3-e3e03d669c18"
      },
      "source": [
        "df['target'] = df['target'].apply(change_to_1)\n",
        "df.head()"
      ],
      "execution_count": 8,
      "outputs": [
        {
          "output_type": "execute_result",
          "data": {
            "text/html": [
              "<div>\n",
              "<style scoped>\n",
              "    .dataframe tbody tr th:only-of-type {\n",
              "        vertical-align: middle;\n",
              "    }\n",
              "\n",
              "    .dataframe tbody tr th {\n",
              "        vertical-align: top;\n",
              "    }\n",
              "\n",
              "    .dataframe thead th {\n",
              "        text-align: right;\n",
              "    }\n",
              "</style>\n",
              "<table border=\"1\" class=\"dataframe\">\n",
              "  <thead>\n",
              "    <tr style=\"text-align: right;\">\n",
              "      <th></th>\n",
              "      <th>Unnamed: 0</th>\n",
              "      <th>target</th>\n",
              "      <th>id</th>\n",
              "      <th>date</th>\n",
              "      <th>flag</th>\n",
              "      <th>user</th>\n",
              "      <th>text</th>\n",
              "    </tr>\n",
              "  </thead>\n",
              "  <tbody>\n",
              "    <tr>\n",
              "      <th>0</th>\n",
              "      <td>680949</td>\n",
              "      <td>0</td>\n",
              "      <td>2249621587</td>\n",
              "      <td>Fri Jun 19 22:41:08 PDT 2009</td>\n",
              "      <td>NO_QUERY</td>\n",
              "      <td>sukumarpant</td>\n",
              "      <td>brokenpromises</td>\n",
              "    </tr>\n",
              "    <tr>\n",
              "      <th>1</th>\n",
              "      <td>406741</td>\n",
              "      <td>0</td>\n",
              "      <td>2059003515</td>\n",
              "      <td>Sat Jun 06 16:03:21 PDT 2009</td>\n",
              "      <td>NO_QUERY</td>\n",
              "      <td>MTMSparrow</td>\n",
              "      <td>david carradine so sad thai s law not sure if ...</td>\n",
              "    </tr>\n",
              "    <tr>\n",
              "      <th>2</th>\n",
              "      <td>1337108</td>\n",
              "      <td>1</td>\n",
              "      <td>2017466467</td>\n",
              "      <td>Wed Jun 03 08:26:14 PDT 2009</td>\n",
              "      <td>NO_QUERY</td>\n",
              "      <td>itsmemcee</td>\n",
              "      <td>a 415 b 425 tell your bro i say congrats</td>\n",
              "    </tr>\n",
              "    <tr>\n",
              "      <th>3</th>\n",
              "      <td>1560887</td>\n",
              "      <td>1</td>\n",
              "      <td>2186457254</td>\n",
              "      <td>Mon Jun 15 18:52:04 PDT 2009</td>\n",
              "      <td>NO_QUERY</td>\n",
              "      <td>jdfreivald</td>\n",
              "      <td>littlefluffycat indeed</td>\n",
              "    </tr>\n",
              "    <tr>\n",
              "      <th>4</th>\n",
              "      <td>1466295</td>\n",
              "      <td>1</td>\n",
              "      <td>2064458395</td>\n",
              "      <td>Sun Jun 07 06:19:20 PDT 2009</td>\n",
              "      <td>NO_QUERY</td>\n",
              "      <td>CrazyHan</td>\n",
              "      <td>completed race 4 life in 58mins with girlies f...</td>\n",
              "    </tr>\n",
              "  </tbody>\n",
              "</table>\n",
              "</div>"
            ],
            "text/plain": [
              "   Unnamed: 0  ...                                               text\n",
              "0      680949  ...                                    brokenpromises \n",
              "1      406741  ...  david carradine so sad thai s law not sure if ...\n",
              "2     1337108  ...          a 415 b 425 tell your bro i say congrats \n",
              "3     1560887  ...                            littlefluffycat indeed \n",
              "4     1466295  ...  completed race 4 life in 58mins with girlies f...\n",
              "\n",
              "[5 rows x 7 columns]"
            ]
          },
          "metadata": {
            "tags": []
          },
          "execution_count": 8
        }
      ]
    },
    {
      "cell_type": "markdown",
      "metadata": {
        "id": "0FFkdcgNysPB"
      },
      "source": [
        "We are now going to drop the columns we do not need, in order to save memory"
      ]
    },
    {
      "cell_type": "code",
      "metadata": {
        "id": "K3tVa2o6ywru"
      },
      "source": [
        "df = df.drop(['Unnamed: 0', 'id', 'date', 'flag', 'user'], axis=1)"
      ],
      "execution_count": 9,
      "outputs": []
    },
    {
      "cell_type": "markdown",
      "metadata": {
        "id": "mkOOw64a5seX"
      },
      "source": [
        "### Splitting the dataset"
      ]
    },
    {
      "cell_type": "markdown",
      "metadata": {
        "id": "bzzkJJHa5sZo"
      },
      "source": [
        "We are now going to split the dataset in order to have a dataset for training, one for validating, and one for testing our models"
      ]
    },
    {
      "cell_type": "code",
      "metadata": {
        "colab": {
          "base_uri": "https://localhost:8080/"
        },
        "id": "EAmyUD6h53wN",
        "outputId": "30a15dca-1b09-434a-c414-d496b56b3f47"
      },
      "source": [
        "train_df, valid_df = train_test_split(df, train_size = .9, random_state = 42)\n",
        "test_df, train_df = train_test_split(df, train_size = .1, random_state = 42)\n",
        "\n",
        "train_df.to_csv('train.csv', index=False)\n",
        "train_df.to_csv('valid.csv', index=False)\n",
        "train_df.to_csv('test.csv', index=False)\n",
        "\n",
        "print(f'Number of training examples: {len(train_df)}')\n",
        "print(f'Number of validation examples: {len(valid_df)}')\n",
        "print(f'Number of testing examples: {len(test_df)}')"
      ],
      "execution_count": 10,
      "outputs": [
        {
          "output_type": "stream",
          "text": [
            "Number of training examples: 1152000\n",
            "Number of validation examples: 128000\n",
            "Number of testing examples: 128000\n"
          ],
          "name": "stdout"
        }
      ]
    },
    {
      "cell_type": "markdown",
      "metadata": {
        "id": "F-w5-Whyv-8U"
      },
      "source": [
        "## Feature extractions: Pre-Trained word vectors using `TorchText`"
      ]
    },
    {
      "cell_type": "markdown",
      "metadata": {
        "id": "Sj8hkgMAwGxw"
      },
      "source": [
        "TorchText provides a handy API that allows as to handle a dataset in a way that PyTorch networks understand, while being able to apply techniques such as loading pretrained vectors, which is the goal of this notebook."
      ]
    },
    {
      "cell_type": "markdown",
      "metadata": {
        "id": "W99rWQBDwwnC"
      },
      "source": [
        "### Definition of dataset processing"
      ]
    },
    {
      "cell_type": "markdown",
      "metadata": {
        "id": "iQcwEXlox8JP"
      },
      "source": [
        "We are going to define the columns that we want to process"
      ]
    },
    {
      "cell_type": "code",
      "metadata": {
        "id": "Zj6e29JQyE-r"
      },
      "source": [
        "TEXT = data.Field(tokenize = 'spacy', include_lengths=True)\n",
        "\n",
        "LABEL = data.LabelField(dtype = torch.float)\n",
        "\n",
        "# define which fiels we are going to process\n",
        "train_val_fields = [\n",
        "  ('text', TEXT), # process it as text\n",
        "  ('target', LABEL) # process it as label\n",
        "]"
      ],
      "execution_count": 11,
      "outputs": []
    },
    {
      "cell_type": "markdown",
      "metadata": {
        "id": "BIOLB2z6Ex2-"
      },
      "source": [
        "Now, we are going to use the class we created in order to convert our dataset in the appropriate type."
      ]
    },
    {
      "cell_type": "code",
      "metadata": {
        "id": "p11W8QWyE_-l"
      },
      "source": [
        "TEXT = data.Field(tokenize = 'spacy', include_lengths=True)\n",
        "LABEL = data.LabelField(dtype = torch.float)\n",
        "\n",
        "fields = {'text': ('text', TEXT), 'target': ('target', LABEL)}\n",
        "\n",
        "train_ds, val_ds, test_ds = data.TabularDataset.splits(path='/content/', train='train.csv', validation='valid.csv', test='test.csv', format='csv', fields=fields)"
      ],
      "execution_count": 12,
      "outputs": []
    },
    {
      "cell_type": "markdown",
      "metadata": {
        "id": "N7mMy_K26Fa2"
      },
      "source": [
        "Let's print an item from the dataset, in order to observe its form"
      ]
    },
    {
      "cell_type": "code",
      "metadata": {
        "colab": {
          "base_uri": "https://localhost:8080/"
        },
        "id": "J0QlbL2jIuAs",
        "outputId": "dabe186f-de38-4301-8f37-004d77f1f2f2"
      },
      "source": [
        "print(vars(train_ds[0]))"
      ],
      "execution_count": 13,
      "outputs": [
        {
          "output_type": "stream",
          "text": [
            "{'text': ['no', 'way', 'in', 'all', 'of', 'the', 'craziness', 'of', 'today', 'i', 'forgot', 'that', 'my', 'song', 'quot', 'people', 'quot', 'was', 'played', 'on', 'mtv', 's', 'quot', 'college', 'life', 'quot', 'tonight', 'noooooooo'], 'target': '0'}\n"
          ],
          "name": "stdout"
        }
      ]
    },
    {
      "cell_type": "markdown",
      "metadata": {
        "id": "rr9z7xnDGioI"
      },
      "source": [
        "### Loading Pre-Trained vector embeddings"
      ]
    },
    {
      "cell_type": "markdown",
      "metadata": {
        "id": "PfJjqF4AGmfp"
      },
      "source": [
        "Next up, we are going to load the glove vectors in order to build our vocabulary that will be used in our model. We are going to define the maximum vocabulary size, getting the info from the TFIDF notebook, where our vocabulary length was 2000.\n",
        "\n",
        "For every word that is not int the pretrained vectors' map, we are going to use values that are randomly distributed."
      ]
    },
    {
      "cell_type": "code",
      "metadata": {
        "colab": {
          "base_uri": "https://localhost:8080/"
        },
        "id": "G0F4T6BOG-Td",
        "outputId": "2cbf5e27-74c3-46b3-ab5a-470a243148b7"
      },
      "source": [
        "vocab_size = 20000\n",
        "# build the vocabulary for both of the fields\n",
        "TEXT.build_vocab(train_ds,  max_size = vocab_size, vectors = 'glove.6B.50d', unk_init=torch.Tensor.normal_)\n",
        "LABEL.build_vocab(train_ds)"
      ],
      "execution_count": 14,
      "outputs": [
        {
          "output_type": "stream",
          "text": [
            ".vector_cache/glove.6B.zip: 862MB [06:28, 2.22MB/s]                           \n",
            "100%|█████████▉| 399411/400000 [00:11<00:00, 37156.26it/s]"
          ],
          "name": "stderr"
        }
      ]
    },
    {
      "cell_type": "markdown",
      "metadata": {
        "id": "Yg3cnMnMJs8F"
      },
      "source": [
        "Another method to help as achieve our goal faster, is `BucketIterator`, a method that defines an iterator that batches examples of similar lenths together, in roder to minimise the necessary amount of padding during training"
      ]
    },
    {
      "cell_type": "code",
      "metadata": {
        "id": "GIbrU4djJ7hs"
      },
      "source": [
        "# preferebly use gpu\n",
        "device = torch.device('cuda' if torch.cuda.is_available() else 'cpu')\n",
        "\n",
        "# create the 2 iterators\n",
        "train_iterator, valid_iterator, test_iterator = data.BucketIterator.splits((train_ds, val_ds, test_ds), \n",
        "    batch_size = 128, device = device, sort_within_batch = True, sort_key = lambda x: len(x.text,))"
      ],
      "execution_count": 15,
      "outputs": []
    },
    {
      "cell_type": "markdown",
      "metadata": {
        "id": "UO7US6HQK9e1"
      },
      "source": [
        "We are now all set in order to define our neural networks that will try to classify the available tweets as negative or positive. We will construct different models, that differ when it comes down to hyperparameters, and then evaluate them so we can conclude which is best."
      ]
    },
    {
      "cell_type": "markdown",
      "metadata": {
        "id": "y5Nd-XW1NBxh"
      },
      "source": [
        "## Model Definition"
      ]
    },
    {
      "cell_type": "markdown",
      "metadata": {
        "id": "dJYAZtJLNDsC"
      },
      "source": [
        "We want to experiment with different hyperparameters, and so we must train our network many times. Thus, we will create a class in order to have our model and its parameters in one place. "
      ]
    },
    {
      "cell_type": "code",
      "metadata": {
        "id": "pS8u2Bv4Nsu8"
      },
      "source": [
        "NEG_INF = -10000\n",
        "TINY_FLOAT = 1e-6\n",
        "\n",
        "def seq_mask(seq_len, max_len):\n",
        "\n",
        "    idx = torch.arange(max_len).to(seq_len).repeat(seq_len.size(0), 1)\n",
        "    mask = torch.gt(seq_len.unsqueeze(1), idx).to(seq_len)\n",
        "\n",
        "    return mask\n",
        "\n",
        "def mask_softmax(matrix, mask=None):\n",
        "\n",
        "    if mask is None:\n",
        "        result = F.softmax(matrix, dim=-1)\n",
        "    else:\n",
        "        mask_norm = ((1 - mask) * NEG_INF).to(matrix)\n",
        "        for i in range(matrix.dim() - mask_norm.dim()):\n",
        "            mask_norm = mask_norm.unsqueeze(1)\n",
        "        result = F.softmax(matrix + mask_norm, dim=-1)\n",
        "\n",
        "    return result\n",
        "\n",
        "def mask_mean(seq, mask=None):\n",
        "\n",
        "    if mask is None:\n",
        "        return torch.mean(seq, dim=1)\n",
        "\n",
        "    mask_sum = torch.sum(  # [b,msl,nc]->[b,nc]\n",
        "        seq * mask.unsqueeze(-1).float(), dim=1)\n",
        "    seq_len = torch.sum(mask, dim=-1)  # [b]\n",
        "    mask_mean = mask_sum / (seq_len.unsqueeze(-1).float() + TINY_FLOAT)\n",
        "\n",
        "    return mask_mean\n",
        "\n",
        "\n",
        "def mask_max(seq, mask=None):\n",
        "\n",
        "    if mask is None:\n",
        "        return torch.mean(seq, dim=1)\n",
        "\n",
        "    torch\n",
        "    mask_max, _ = torch.max(  # [b,msl,nc]->[b,nc]\n",
        "        seq + (1 - mask.unsqueeze(-1).float()) * NEG_INF,\n",
        "        dim=1)\n",
        "\n",
        "    return mask_max\n",
        "\n",
        "\n",
        "class Bidirectional_Stacked_RNN(nn.Module):\n",
        "    def __init__(self, input_dim, hidden_dim, embedding_dim, output_size, num_layers, cell_type, dropout_rate, pad_idx, bidirectional=True, attention=False):\n",
        "        # initialize the mother class\n",
        "        super(Bidirectional_Stacked_RNN, self).__init__()\n",
        "\n",
        "        # create a dict for the possible types of cells\n",
        "        cells = {\n",
        "            \"RNN\"  : nn.RNN, \n",
        "            \"LSTM\" : nn.LSTM,\n",
        "            \"GRU\"  : nn.GRU\n",
        "        }\n",
        "        # make sure that a compatible cell type is selected\n",
        "        if (cell_type not in cells):\n",
        "            print(\"Wrong cell type selected\")\n",
        "            return\n",
        "        self.cell_type, self.input_dim ,self.embedding_dim, self.hidden_dim, self.num_layers, self.attention = cell_type, input_dim, embedding_dim, hidden_dim, num_layers, attention\n",
        "\n",
        "        # embedding layer\n",
        "        self.embedding = nn.Embedding(input_dim, embedding_dim, padding_idx = pad_idx)\n",
        "        # rnn layer\n",
        "        self.rnn = cells[cell_type](\n",
        "            input_size = embedding_dim,     # feature size \n",
        "            hidden_size = hidden_dim,       # hidden embedding representation\n",
        "            num_layers = num_layers,        # layers on our stacked RNN \n",
        "            bidirectional = bidirectional,  # out NN is bidirectional\n",
        "            dropout = dropout_rate          # dropout rate in-between the rnn layer\n",
        "        )\n",
        "\n",
        "\n",
        "        # dropout layer\n",
        "        self.dropout = nn.Dropout(dropout)\n",
        "        if bidirectional == True:\n",
        "\n",
        "            # if our model is bidirectional, we will have 2 more layers as the output to the final layer\n",
        "            self.out = nn.Linear(hidden_dim * 2, output_size)\n",
        "            # attention layer\n",
        "            self.fc_att = nn.Linear(hidden_dim * 2, output_size)\n",
        "\n",
        "        else:\n",
        "            # if our model is not bidirectional\n",
        "            self.out = nn.Linear(hidden_dim, output_size)\n",
        "            # attention layer\n",
        "            self.fc_att = nn.Linear(hidden_dim, output_size)\n",
        "\n",
        "        # activation using the sigmoid function\n",
        "        self.activation = nn.Sigmoid()\n",
        "\n",
        "\n",
        "    def forward(self, x, lengths):\n",
        "        # create the embedding layer\n",
        "        embedded = self.dropout(self.embedding(x))\n",
        "        # pack sequence\n",
        "        packed_embedded = nn.utils.rnn.pack_padded_sequence(embedded, lengths.cpu(), batch_first=False)\n",
        "\n",
        "\n",
        "        # LSTM cells reutrn also the last cell states\n",
        "        if self.cell_type == 'LSTM':\n",
        "            r_out, (last_hidden_state, last_cell_state) = self.rnn(packed_embedded) \n",
        "        else:\n",
        "            r_out, last_hidden_state = self.rnn(packed_embedded)\n",
        "            \n",
        "        #unpack sequence\n",
        "        output, output_lengths = nn.utils.rnn.pad_packed_sequence(r_out)\n",
        "        output = output.permute(1,0,2)\n",
        "\n",
        "        # Concat the forward and backward hidden layers of the output\n",
        "        hidden = torch.cat((last_hidden_state[-2,:,:], last_hidden_state[-1,:,:]), dim = 1)\n",
        "     \n",
        "        if (self.attention == True):\n",
        "            max_seq_len = torch.max(lengths)\n",
        "            mask = seq_mask(lengths, max_seq_len)  # [b,msl]\n",
        "            \n",
        "            # attention\n",
        "            att = self.fc_att(output).squeeze(-1)  # [b,msl,h*2]->[b,msl]\n",
        "            att = mask_softmax(att, mask)  # [b,msl]\n",
        "            attention_output = torch.sum(att.unsqueeze(-1) * output, dim=1)  # [b,h*2]\n",
        "            \n",
        "            # activation, fully connnected and dropout layer all in once   \n",
        "            return self.activation(self.out(self.dropout(attention_output)))\n",
        "\n",
        "        else:\n",
        "            return self.activation(self.out(self.dropout(hidden)))\n",
        "        \n",
        "\n",
        "\n"
      ],
      "execution_count": 16,
      "outputs": []
    },
    {
      "cell_type": "markdown",
      "metadata": {
        "id": "T1jqRwE7VbNO"
      },
      "source": [
        "## HyperParameters and techniques explanation"
      ]
    },
    {
      "cell_type": "markdown",
      "metadata": {
        "id": "5i1H_kElVhro"
      },
      "source": [
        "Unlike our previous notebooks, this time we have plenty of hyperparameters to experiment with, all of whom are extremely important to our results. We also have many techniques based on the theory that will help us to achieve better accuracy in our model. The hyperparameters that we will be experimenting with are: \n",
        " - __Cell types__: We have 2 different options of cells, the LSTM and GRU. Both of those cell types are trying to solve the vanishing and exploding gradients problem, and they offer the solution of keeping a long-term memory in our NN. This way, in a big sentence, words that encounter early, will be taken into consideration, somehting that is nearly impossible in simple RNNs. The difference between those cell types, are that GRU cells are simpler, quicker to compute and require fewer parameters. However, a standard practice is to begin with LSTM, and that's how we are going to proceed.\n",
        "\n",
        " - __Number of layers__: Like in simple or convolutional NNs, the more layers we have, the more complex the calculations become, and thus we have better results for complicated problems. However, given that sentiment classification is not such a difficult computational task, we would rather use only a few layers(2 or maybe 3). If we are not satisfyied by our results, we are free to increase them.\n",
        "\n",
        " - __Dropout__: In order to avoid overfitting, the must cut the connections between some neurons in our NN. A standard approach for this kind of task, is close to 20-30% of the connections to be cut.\n",
        "\n",
        " - __Learning rate, epochs__: Allready used and known.\n",
        "\n",
        "\\\n",
        "Some techniques that favor us in order to achieve better classification:\n",
        "  - __Bi-directional NNs__: By having such a neural network, we are now able to take into consideration a tweet both forwards, and backwards, so for example the sentence `This was terribly exciting`, will be classified as positive.\n",
        "  - __Clipping gradients__: A way to avoid the exploding gradients problem.\n",
        "  - __Skipping connections__: A way to avoid the vanishing gradients problem, which is however used in more deep networks(eg. 8 layers)."
      ]
    },
    {
      "cell_type": "markdown",
      "metadata": {
        "id": "bTQ4cuIeINQR"
      },
      "source": [
        "Finally, we are going to define a function that we are going to use to determine our models' train accuracy."
      ]
    },
    {
      "cell_type": "code",
      "metadata": {
        "id": "IdJWK0UxITXN"
      },
      "source": [
        "def my_accuracy(pred, label):\n",
        "\n",
        "    #round predictions to the closest integer\n",
        "    preds = torch.round(pred)\n",
        "    # find the correct ones\n",
        "    correct = (preds == label).float()\n",
        "    # simple accuracy\n",
        "    acc = correct.sum() / len(correct)\n",
        "    return acc"
      ],
      "execution_count": 17,
      "outputs": []
    },
    {
      "cell_type": "markdown",
      "metadata": {
        "id": "b8lF8K0kf1hU"
      },
      "source": [
        "## Defining a training and evaluating method"
      ]
    },
    {
      "cell_type": "markdown",
      "metadata": {
        "id": "Tu7Uvwhpf55n"
      },
      "source": [
        "Next up, we are going to define a training method that uses all the previously mentioned parameters and trains a specific model."
      ]
    },
    {
      "cell_type": "code",
      "metadata": {
        "id": "G47QNKXZf0DL"
      },
      "source": [
        "def train(model, iterator, optimizer, loss, clipping_rate=(-5,5)):\n",
        "    # Start train mode\n",
        "    model.train()\n",
        "\n",
        "    # hold the results in order to plot them\n",
        "    epoch_loss = 0\n",
        "    epoch_acc = 0\n",
        "    items = 0\n",
        "\n",
        "    for batch in iterator:\n",
        "        items += 1\n",
        "        # get text info\n",
        "        text, lengths = batch.text\n",
        "        # clear gradients\n",
        "        optimizer.zero_grad()\n",
        "        # forward probagation\n",
        "        output = model(text, lengths).squeeze(1)\n",
        "\n",
        "        # compute loss and accuracy and append them in the aprropriate lists\n",
        "        ret_loss = loss(output, batch.target)\n",
        "        accuracy = my_accuracy(output, batch.target)\n",
        "\n",
        "        # pass gradients back, startiing on loss value\n",
        "        ret_loss.backward()\n",
        "\n",
        "        # Clip gradients\n",
        "        for param in model.parameters():\n",
        "            if param.grad is None:\n",
        "                continue\n",
        "            grad_val = torch.clamp(param.grad, clipping_rate[0], clipping_rate[1])\n",
        "        # apply gradients\n",
        "        optimizer.step()\n",
        "\n",
        "        epoch_loss += ret_loss.item()\n",
        "        epoch_acc += accuracy.item()\n",
        "\n",
        "    return epoch_loss / items, epoch_acc / items"
      ],
      "execution_count": 18,
      "outputs": []
    },
    {
      "cell_type": "code",
      "metadata": {
        "id": "4dMr6Gk7ycSE"
      },
      "source": [
        "def evaluate(model, iterator, loss):\n",
        "    # hold the results in order to plot them\n",
        "    epoch_loss = 0\n",
        "    epoch_acc = 0\n",
        "    items = 0\n",
        "\n",
        "    model.eval()\n",
        "    \n",
        "    # do not change the gradients\n",
        "    with torch.no_grad():\n",
        "\n",
        "        # iterate through our dataset\n",
        "        for batch in iterator:\n",
        "            items += 1\n",
        "            # get text info\n",
        "            text, len = batch.text\n",
        "\n",
        "            # get the predictions\n",
        "            predict = model(text, len).squeeze(1)\n",
        "\n",
        "            # and compute the metrics\n",
        "            losses = loss(predict, batch.target)\n",
        "            acc = my_accuracy(predict, batch.target)\n",
        "\n",
        "            epoch_loss += losses.item()\n",
        "            epoch_acc += acc.item()\n",
        "\n",
        "    return epoch_loss / items, epoch_acc / items\n"
      ],
      "execution_count": 19,
      "outputs": []
    },
    {
      "cell_type": "code",
      "metadata": {
        "id": "DhB8--C4wFbq"
      },
      "source": [
        "def train_and_eval(model, iterator, valid_iterator, optimizer, loss, epochs, l_rate, pad_idx, clipping_rate=(-5,5)):\n",
        "    print('Began training for {} trainable parameters\\n\\n'.format(sum(p.numel() for p in model.parameters() if p.requires_grad)))\n",
        "\n",
        "    model = model.to(device)\n",
        "    loss = loss.to(device)\n",
        "    \n",
        "    pretrained_embeddings = TEXT.vocab.vectors\n",
        "    model.embedding.weight.data.copy_(pretrained_embeddings)\n",
        "    unk_idx = TEXT.vocab.stoi[TEXT.unk_token]\n",
        "\n",
        "    model.embedding.weight.data[unk_idx] = torch.zeros(model.embedding_dim)\n",
        "    model.embedding.weight.data[pad_idx] = torch.zeros(model.embedding_dim)\n",
        "\n",
        "    loss_list = []\n",
        "    acc_list = []\n",
        "    val_loss_list = []\n",
        "    val_acc_list = []\n",
        "    for epoch in range(epochs):\n",
        "        train_loss, train_acc = train(model, iterator, optimizer, loss, clipping_rate)\n",
        "        valid_loss, valid_acc = evaluate(model, valid_iterator, loss)\n",
        "\n",
        "        loss_list.append(train_loss)\n",
        "        acc_list.append(train_acc)\n",
        "        val_loss_list.append(valid_loss)\n",
        "        val_acc_list.append(valid_acc)\n",
        "\n",
        "        print(f'Epoch: {epoch+1}/{epochs}  | Train Loss: {train_loss:.3f} | Train Acc: {train_acc*100:.2f}% | Val. Loss: {valid_loss:.3f} |  Val. Acc: {valid_acc*100:.2f}%')\n",
        "\n",
        "    return loss_list, acc_list, val_loss_list, val_acc_list"
      ],
      "execution_count": 20,
      "outputs": []
    },
    {
      "cell_type": "markdown",
      "metadata": {
        "id": "DoPnLTcLpu4q"
      },
      "source": [
        "## Experimenting using different Models"
      ]
    },
    {
      "cell_type": "markdown",
      "metadata": {
        "id": "0r_fHjksp1pu"
      },
      "source": [
        "Now that we have defined everything regarding to our data and models, it is time to use it, by defining several models, and comparing them in order to decide which combination of hyperparameters is the best. The comparison will be made by observing the results and the plots of the training procedure."
      ]
    },
    {
      "cell_type": "markdown",
      "metadata": {
        "id": "RipnRGLTr0JD"
      },
      "source": [
        "Some of the parameters will be the same during our testings. Those will be:"
      ]
    },
    {
      "cell_type": "code",
      "metadata": {
        "id": "5F2wVqPbr5A1"
      },
      "source": [
        "input_shape = len(TEXT.vocab)\n",
        "loss = torch.nn.BCELoss()\n",
        "output_neurons = 1\n",
        "embedding_neurons = len(TEXT.vocab.vectors[0])\n",
        "pad_idx = TEXT.vocab.stoi[TEXT.pad_token]"
      ],
      "execution_count": 21,
      "outputs": []
    },
    {
      "cell_type": "markdown",
      "metadata": {
        "id": "oW_R67QtqOcn"
      },
      "source": [
        "We will begin rather conservatively, going by the book and starting with the following parameters:"
      ]
    },
    {
      "cell_type": "code",
      "metadata": {
        "id": "2l9BeMGFpunC"
      },
      "source": [
        "cell_type = 'LSTM'\n",
        "layers = 2\n",
        "dropout = 0.4\n",
        "learning_rate = 0.001\n",
        "epochs = 5\n",
        "hidden_neurons = 50\n",
        "clipping_rate = (-5,5)"
      ],
      "execution_count": 22,
      "outputs": []
    },
    {
      "cell_type": "code",
      "metadata": {
        "colab": {
          "base_uri": "https://localhost:8080/"
        },
        "id": "XPq-zi-rsn9p",
        "outputId": "3d286f51-e035-494a-c51e-274f221ba482"
      },
      "source": [
        "model_1 = Bidirectional_Stacked_RNN(input_shape, hidden_neurons, embedding_neurons, output_neurons, layers, cell_type, dropout, pad_idx)\n",
        "\n",
        "\n",
        "optimizer = torch.optim.Adam(model_1.parameters(), lr=learning_rate)\n",
        "\n",
        "_, _, _, _ = train_and_eval(model_1, train_iterator, valid_iterator, optimizer, loss, epochs, learning_rate, pad_idx, clipping_rate)"
      ],
      "execution_count": 23,
      "outputs": [
        {
          "output_type": "stream",
          "text": [
            "Began training for 1101902 trainable parameters\n",
            "\n",
            "\n"
          ],
          "name": "stdout"
        },
        {
          "output_type": "stream",
          "text": [
            "\r100%|█████████▉| 399411/400000 [00:29<00:00, 37156.26it/s]"
          ],
          "name": "stderr"
        },
        {
          "output_type": "stream",
          "text": [
            "Epoch: 1/5  | Train Loss: 0.452 | Train Acc: 78.64% | Val. Loss: 0.399 |  Val. Acc: 81.82%\n",
            "Epoch: 2/5  | Train Loss: 0.404 | Train Acc: 81.63% | Val. Loss: 0.372 |  Val. Acc: 83.26%\n",
            "Epoch: 3/5  | Train Loss: 0.389 | Train Acc: 82.48% | Val. Loss: 0.364 |  Val. Acc: 83.68%\n",
            "Epoch: 4/5  | Train Loss: 0.380 | Train Acc: 82.95% | Val. Loss: 0.354 |  Val. Acc: 84.28%\n",
            "Epoch: 5/5  | Train Loss: 0.373 | Train Acc: 83.29% | Val. Loss: 0.347 |  Val. Acc: 84.62%\n"
          ],
          "name": "stdout"
        }
      ]
    },
    {
      "cell_type": "markdown",
      "metadata": {
        "id": "Aooo8KLwEXEw"
      },
      "source": [
        "As we can see, our results are better than our previous models. Let's now try to increase the hidden neurons, while applying less dropout, while making our model bi-directional"
      ]
    },
    {
      "cell_type": "code",
      "metadata": {
        "id": "iW8IFUAIFmWh"
      },
      "source": [
        "cell_type = 'LSTM'\n",
        "layers = 2\n",
        "dropout = 0.3\n",
        "learning_rate = 0.001\n",
        "epochs = 5\n",
        "hidden_neurons = 100\n",
        "clipping_rate = (-5,5)\n",
        "bidirectional = True"
      ],
      "execution_count": 24,
      "outputs": []
    },
    {
      "cell_type": "code",
      "metadata": {
        "colab": {
          "base_uri": "https://localhost:8080/"
        },
        "id": "fuT58wJjF39j",
        "outputId": "34862cf3-97ae-4a1e-ea9c-e6178eb40126"
      },
      "source": [
        "model_2 = Bidirectional_Stacked_RNN(input_shape, hidden_neurons, embedding_neurons, output_neurons, layers, cell_type, dropout, pad_idx, bidirectional)\n",
        "\n",
        "optimizer = torch.optim.Adam(model_2.parameters(), lr=learning_rate)\n",
        "\n",
        "_, _, _, _ = train_and_eval(model_2, train_iterator, valid_iterator, optimizer, loss, epochs, learning_rate, pad_idx, clipping_rate)"
      ],
      "execution_count": 25,
      "outputs": [
        {
          "output_type": "stream",
          "text": [
            "Began training for 1363702 trainable parameters\n",
            "\n",
            "\n",
            "Epoch: 1/5  | Train Loss: 0.438 | Train Acc: 79.46% | Val. Loss: 0.387 |  Val. Acc: 82.40%\n",
            "Epoch: 2/5  | Train Loss: 0.390 | Train Acc: 82.35% | Val. Loss: 0.361 |  Val. Acc: 83.93%\n",
            "Epoch: 3/5  | Train Loss: 0.374 | Train Acc: 83.22% | Val. Loss: 0.347 |  Val. Acc: 84.64%\n",
            "Epoch: 4/5  | Train Loss: 0.364 | Train Acc: 83.77% | Val. Loss: 0.336 |  Val. Acc: 85.15%\n",
            "Epoch: 5/5  | Train Loss: 0.356 | Train Acc: 84.21% | Val. Loss: 0.328 |  Val. Acc: 85.58%\n"
          ],
          "name": "stdout"
        }
      ]
    },
    {
      "cell_type": "markdown",
      "metadata": {
        "id": "Lj9iqCn_KLyK"
      },
      "source": [
        "We observe that  the results are even better. Let's now try to increase the learning rate, in order to possibly fix the large difference between the training and the validation accuracy."
      ]
    },
    {
      "cell_type": "code",
      "metadata": {
        "id": "2pwaYZA4KYR8"
      },
      "source": [
        "cell_type = 'LSTM'\n",
        "layers = 2\n",
        "dropout = 0.6\n",
        "learning_rate = 0.01\n",
        "epochs = 5\n",
        "hidden_neurons = 100\n",
        "clipping_rate = (-5,5)\n",
        "bidirectional = True"
      ],
      "execution_count": 26,
      "outputs": []
    },
    {
      "cell_type": "code",
      "metadata": {
        "colab": {
          "base_uri": "https://localhost:8080/"
        },
        "id": "-W-HWgnfKg-p",
        "outputId": "ae580a9d-fc50-4245-e622-4ae31fc542f2"
      },
      "source": [
        "model_2 = Bidirectional_Stacked_RNN(input_shape, hidden_neurons, embedding_neurons, output_neurons, layers, cell_type, dropout, pad_idx, bidirectional)\n",
        "\n",
        "optimizer = torch.optim.Adam(model_2.parameters(), lr=learning_rate)\n",
        "\n",
        "_, _, _, _ = train_and_eval(model_2, train_iterator, valid_iterator, optimizer, loss, epochs, learning_rate, pad_idx, clipping_rate)"
      ],
      "execution_count": 27,
      "outputs": [
        {
          "output_type": "stream",
          "text": [
            "Began training for 1363702 trainable parameters\n",
            "\n",
            "\n",
            "Epoch: 1/5  | Train Loss: 0.479 | Train Acc: 77.48% | Val. Loss: 0.442 |  Val. Acc: 80.20%\n",
            "Epoch: 2/5  | Train Loss: 0.483 | Train Acc: 77.22% | Val. Loss: 0.452 |  Val. Acc: 79.56%\n",
            "Epoch: 3/5  | Train Loss: 0.501 | Train Acc: 76.02% | Val. Loss: 0.450 |  Val. Acc: 79.14%\n",
            "Epoch: 4/5  | Train Loss: 0.520 | Train Acc: 74.70% | Val. Loss: 0.463 |  Val. Acc: 78.53%\n",
            "Epoch: 5/5  | Train Loss: 0.546 | Train Acc: 72.78% | Val. Loss: 0.471 |  Val. Acc: 77.81%\n"
          ],
          "name": "stdout"
        }
      ]
    },
    {
      "cell_type": "markdown",
      "metadata": {
        "id": "RkaNrkLlLdS5"
      },
      "source": [
        "We are now going to experiment with a different type of cells: GRU, which are said to be faster and with better results. The expirement with the higher learning rate did not go well, thus we are going to decrease it again."
      ]
    },
    {
      "cell_type": "code",
      "metadata": {
        "id": "4LgQ5-SyL6c3"
      },
      "source": [
        "cell_type = 'GRU'\n",
        "layers = 2\n",
        "dropout = 0.6\n",
        "learning_rate = 0.001\n",
        "epochs = 5\n",
        "hidden_neurons = 100\n",
        "clipping_rate = (-5,5)\n",
        "bidirectional = True"
      ],
      "execution_count": 28,
      "outputs": []
    },
    {
      "cell_type": "code",
      "metadata": {
        "id": "e88u3PymRz8o",
        "colab": {
          "base_uri": "https://localhost:8080/"
        },
        "outputId": "3664a1d6-db6b-4dd0-a6a1-0ca8289d11bd"
      },
      "source": [
        "model_3 = Bidirectional_Stacked_RNN(input_shape, hidden_neurons, embedding_neurons, output_neurons, layers, cell_type, dropout, pad_idx, bidirectional)\n",
        "\n",
        "optimizer = torch.optim.Adam(model_3.parameters(), lr=learning_rate)\n",
        "\n",
        "_, _, _, _ = train_and_eval(model_3, train_iterator, valid_iterator, optimizer, loss, epochs, learning_rate, pad_idx, clipping_rate)"
      ],
      "execution_count": 29,
      "outputs": [
        {
          "output_type": "stream",
          "text": [
            "Began training for 1272902 trainable parameters\n",
            "\n",
            "\n",
            "Epoch: 1/5  | Train Loss: 0.476 | Train Acc: 77.12% | Val. Loss: 0.408 |  Val. Acc: 81.43%\n",
            "Epoch: 2/5  | Train Loss: 0.424 | Train Acc: 80.46% | Val. Loss: 0.384 |  Val. Acc: 82.71%\n",
            "Epoch: 3/5  | Train Loss: 0.409 | Train Acc: 81.35% | Val. Loss: 0.380 |  Val. Acc: 83.11%\n",
            "Epoch: 4/5  | Train Loss: 0.401 | Train Acc: 81.82% | Val. Loss: 0.370 |  Val. Acc: 83.50%\n",
            "Epoch: 5/5  | Train Loss: 0.395 | Train Acc: 82.16% | Val. Loss: 0.367 |  Val. Acc: 83.65%\n"
          ],
          "name": "stdout"
        }
      ]
    },
    {
      "cell_type": "markdown",
      "metadata": {
        "id": "iGi5sgXdToa4"
      },
      "source": [
        "Compared to the similar model with the LSTM cells, we get better numbers with the GRU ones. Thus, we are going to proceed the search for our best model, using GRU cells.\n",
        "\n",
        "Let's now make our models more complex, by adding layers and hidden neurons, and see whether that results into overfitting or not."
      ]
    },
    {
      "cell_type": "code",
      "metadata": {
        "id": "4RlvV7SVToHz"
      },
      "source": [
        "cell_type = 'GRU'\n",
        "layers = 3\n",
        "dropout = 0.5\n",
        "learning_rate = 0.001\n",
        "epochs = 5\n",
        "hidden_neurons = 200\n",
        "clipping_rate = (-5,5)\n",
        "bidirectional = True"
      ],
      "execution_count": 30,
      "outputs": []
    },
    {
      "cell_type": "code",
      "metadata": {
        "id": "H8p74J7EUhoT",
        "colab": {
          "base_uri": "https://localhost:8080/"
        },
        "outputId": "6598d062-38ae-4b99-c9fb-280987c48ac7"
      },
      "source": [
        "model_4 = Bidirectional_Stacked_RNN(input_shape, hidden_neurons, embedding_neurons, output_neurons, layers, cell_type, dropout, pad_idx, bidirectional)\n",
        "\n",
        "optimizer = torch.optim.Adam(model_4.parameters(), lr=learning_rate)\n",
        "\n",
        "_, _, _, _ = train_and_eval(model_4, train_iterator, valid_iterator, optimizer, loss, epochs, learning_rate, pad_idx, clipping_rate)"
      ],
      "execution_count": 31,
      "outputs": [
        {
          "output_type": "stream",
          "text": [
            "Began training for 2748102 trainable parameters\n",
            "\n",
            "\n",
            "Epoch: 1/5  | Train Loss: 0.461 | Train Acc: 78.11% | Val. Loss: 0.396 |  Val. Acc: 81.87%\n",
            "Epoch: 2/5  | Train Loss: 0.410 | Train Acc: 81.30% | Val. Loss: 0.373 |  Val. Acc: 83.24%\n",
            "Epoch: 3/5  | Train Loss: 0.396 | Train Acc: 82.10% | Val. Loss: 0.365 |  Val. Acc: 83.68%\n",
            "Epoch: 4/5  | Train Loss: 0.388 | Train Acc: 82.53% | Val. Loss: 0.361 |  Val. Acc: 83.90%\n",
            "Epoch: 5/5  | Train Loss: 0.383 | Train Acc: 82.82% | Val. Loss: 0.356 |  Val. Acc: 84.15%\n"
          ],
          "name": "stdout"
        }
      ]
    },
    {
      "cell_type": "markdown",
      "metadata": {
        "id": "2aGJniDiXVfQ"
      },
      "source": [
        "Our model did not overfit, although it took significant time to train, even with 5 epochs. Thus, we are not going to proceed with 3 layers, because it makes our model nuch more complex, without adding significant accuracy. We are going to hold on to 200 neurons, but we are going to increase the clipping rate, in order to observe the results. We are also going to decrease the dropout rate. "
      ]
    },
    {
      "cell_type": "code",
      "metadata": {
        "id": "3Hx5BkenYHbf"
      },
      "source": [
        "cell_type = 'GRU'\n",
        "layers = 2\n",
        "dropout = 0.5\n",
        "learning_rate = 0.001\n",
        "epochs = 5\n",
        "hidden_neurons = 200\n",
        "clipping_rate = (-100,100)\n",
        "bidirectional = True"
      ],
      "execution_count": 32,
      "outputs": []
    },
    {
      "cell_type": "code",
      "metadata": {
        "id": "5JMb_jZeYbvD",
        "colab": {
          "base_uri": "https://localhost:8080/"
        },
        "outputId": "8e2b97ed-1138-4050-b1ea-2403e7ae1088"
      },
      "source": [
        "model_5 = Bidirectional_Stacked_RNN(input_shape, hidden_neurons, embedding_neurons, output_neurons, layers, cell_type, dropout, pad_idx, bidirectional)\n",
        "\n",
        "optimizer = torch.optim.Adam(model_5.parameters(), lr=learning_rate)\n",
        "\n",
        "_, _, _, _ = train_and_eval(model_5, train_iterator, valid_iterator, optimizer, loss, epochs, learning_rate, pad_idx, clipping_rate)"
      ],
      "execution_count": 33,
      "outputs": [
        {
          "output_type": "stream",
          "text": [
            "Began training for 2025702 trainable parameters\n",
            "\n",
            "\n",
            "Epoch: 1/5  | Train Loss: 0.459 | Train Acc: 78.18% | Val. Loss: 0.391 |  Val. Acc: 82.34%\n",
            "Epoch: 2/5  | Train Loss: 0.409 | Train Acc: 81.29% | Val. Loss: 0.372 |  Val. Acc: 83.29%\n",
            "Epoch: 3/5  | Train Loss: 0.395 | Train Acc: 82.11% | Val. Loss: 0.369 |  Val. Acc: 83.46%\n",
            "Epoch: 4/5  | Train Loss: 0.388 | Train Acc: 82.49% | Val. Loss: 0.359 |  Val. Acc: 84.08%\n",
            "Epoch: 5/5  | Train Loss: 0.382 | Train Acc: 82.81% | Val. Loss: 0.353 |  Val. Acc: 84.26%\n"
          ],
          "name": "stdout"
        }
      ]
    },
    {
      "cell_type": "markdown",
      "metadata": {
        "id": "0lLxiCCwa8-K"
      },
      "source": [
        "Once again, we do not observe significant changes. Let's increase a bit more the hidden neurons, though we do not expect extremely better numbers"
      ]
    },
    {
      "cell_type": "code",
      "metadata": {
        "id": "UfS_lkN7caak"
      },
      "source": [
        "cell_type = 'GRU'\n",
        "layers = 2\n",
        "dropout = 0.5\n",
        "learning_rate = 0.001\n",
        "epochs = 5\n",
        "hidden_neurons = 400\n",
        "clipping_rate = (-100,100)\n",
        "bidirectional = True"
      ],
      "execution_count": 34,
      "outputs": []
    },
    {
      "cell_type": "code",
      "metadata": {
        "id": "RdKn8DOicyCB",
        "colab": {
          "base_uri": "https://localhost:8080/"
        },
        "outputId": "ba1fae3a-247f-403a-c9c8-09da6d5ba24b"
      },
      "source": [
        "model_6 = Bidirectional_Stacked_RNN(input_shape, hidden_neurons, embedding_neurons, output_neurons, layers, cell_type, dropout, pad_idx, bidirectional)\n",
        "\n",
        "optimizer = torch.optim.Adam(model_6.parameters(), lr=learning_rate)\n",
        "\n",
        "_, _, _, _ = train_and_eval(model_6, train_iterator, valid_iterator, optimizer, loss, epochs, learning_rate, pad_idx, clipping_rate)"
      ],
      "execution_count": 35,
      "outputs": [
        {
          "output_type": "stream",
          "text": [
            "Began training for 4971302 trainable parameters\n",
            "\n",
            "\n",
            "Epoch: 1/5  | Train Loss: 0.460 | Train Acc: 78.11% | Val. Loss: 0.391 |  Val. Acc: 82.19%\n",
            "Epoch: 2/5  | Train Loss: 0.410 | Train Acc: 81.24% | Val. Loss: 0.374 |  Val. Acc: 83.31%\n",
            "Epoch: 3/5  | Train Loss: 0.397 | Train Acc: 81.98% | Val. Loss: 0.365 |  Val. Acc: 83.69%\n",
            "Epoch: 4/5  | Train Loss: 0.390 | Train Acc: 82.39% | Val. Loss: 0.363 |  Val. Acc: 83.91%\n",
            "Epoch: 5/5  | Train Loss: 0.385 | Train Acc: 82.67% | Val. Loss: 0.359 |  Val. Acc: 84.07%\n"
          ],
          "name": "stdout"
        }
      ]
    },
    {
      "cell_type": "markdown",
      "metadata": {
        "id": "DAmK8JTOiel6"
      },
      "source": [
        "For our last model, we are going to run our best GRU model with LSTM cells, and see the results."
      ]
    },
    {
      "cell_type": "code",
      "metadata": {
        "id": "lwJCF0RCiePL"
      },
      "source": [
        "cell_type = 'LSTM'\n",
        "layers = 2\n",
        "dropout = 0.5\n",
        "learning_rate = 0.001\n",
        "epochs = 5\n",
        "hidden_neurons = 200\n",
        "clipping_rate = (-100,100)\n",
        "bidirectional = True"
      ],
      "execution_count": 36,
      "outputs": []
    },
    {
      "cell_type": "code",
      "metadata": {
        "id": "tYKu8QUfiaW6",
        "colab": {
          "base_uri": "https://localhost:8080/"
        },
        "outputId": "3ad1b733-0bc3-4791-8fda-7549d1fec586"
      },
      "source": [
        "model_7 = Bidirectional_Stacked_RNN(input_shape, hidden_neurons, embedding_neurons, output_neurons, layers, cell_type, dropout, pad_idx, bidirectional)\n",
        "\n",
        "optimizer = torch.optim.Adam(model_7.parameters(), lr=learning_rate)\n",
        "\n",
        "_, _, _, _ = train_and_eval(model_7, train_iterator, valid_iterator, optimizer, loss, epochs, learning_rate, pad_idx, clipping_rate)"
      ],
      "execution_count": 37,
      "outputs": [
        {
          "output_type": "stream",
          "text": [
            "Began training for 2367302 trainable parameters\n",
            "\n",
            "\n",
            "Epoch: 1/5  | Train Loss: 0.458 | Train Acc: 78.26% | Val. Loss: 0.390 |  Val. Acc: 82.34%\n",
            "Epoch: 2/5  | Train Loss: 0.406 | Train Acc: 81.50% | Val. Loss: 0.374 |  Val. Acc: 83.18%\n",
            "Epoch: 3/5  | Train Loss: 0.391 | Train Acc: 82.38% | Val. Loss: 0.360 |  Val. Acc: 83.94%\n",
            "Epoch: 4/5  | Train Loss: 0.381 | Train Acc: 82.89% | Val. Loss: 0.352 |  Val. Acc: 84.38%\n",
            "Epoch: 5/5  | Train Loss: 0.374 | Train Acc: 83.26% | Val. Loss: 0.346 |  Val. Acc: 84.64%\n"
          ],
          "name": "stdout"
        }
      ]
    },
    {
      "cell_type": "markdown",
      "metadata": {
        "id": "LvkGLSZwo7nG"
      },
      "source": [
        "## Best model"
      ]
    },
    {
      "cell_type": "markdown",
      "metadata": {
        "id": "yHGBUV4uh3au"
      },
      "source": [
        "As we can see, our best model is a bi-directional stacked Reccurent Neural Network, consisted of the following hyperparameters:\n",
        " - __Cell type:__ LSTM\n",
        " - __Stacked Layers:__ 2\n",
        " - __Dropout Rate:__ 20%\n",
        " - __Learing rate:__ 0.001\n",
        " - __Hidden layer neurons:__ 200\n",
        " - __Gradient clipping rate:__ (-100, 100)\n",
        " "
      ]
    },
    {
      "cell_type": "markdown",
      "metadata": {
        "id": "xU12Z3OwnPrL"
      },
      "source": [
        "Let's now train our best model for 10 epochs in order to get better accuracy and legitimate results for our plots"
      ]
    },
    {
      "cell_type": "code",
      "metadata": {
        "id": "X6SX3lAnnf8A"
      },
      "source": [
        "cell_type = 'LSTM'\n",
        "layers = 2\n",
        "dropout = 0.2\n",
        "learning_rate = 0.001\n",
        "epochs = 10\n",
        "hidden_neurons = 200\n",
        "clipping_rate = (-100,100)\n",
        "bidirectional = True"
      ],
      "execution_count": 38,
      "outputs": []
    },
    {
      "cell_type": "code",
      "metadata": {
        "id": "ot3gb6IkniGB",
        "colab": {
          "base_uri": "https://localhost:8080/"
        },
        "outputId": "730c30f7-ceac-4514-a102-2a810e5b4a9b"
      },
      "source": [
        "best_model = Bidirectional_Stacked_RNN(input_shape, hidden_neurons, embedding_neurons, output_neurons, layers, cell_type, dropout, pad_idx, bidirectional)\n",
        "\n",
        "optimizer = torch.optim.Adam(best_model.parameters(), lr=learning_rate)\n",
        "\n",
        "loss_list, acc_list, val_loss_list, val_acc_list = train_and_eval(best_model, train_iterator, valid_iterator, optimizer, loss, epochs, learning_rate, pad_idx, clipping_rate)"
      ],
      "execution_count": 39,
      "outputs": [
        {
          "output_type": "stream",
          "text": [
            "Began training for 2367302 trainable parameters\n",
            "\n",
            "\n",
            "Epoch: 1/10  | Train Loss: 0.428 | Train Acc: 80.07% | Val. Loss: 0.374 |  Val. Acc: 83.23%\n",
            "Epoch: 2/10  | Train Loss: 0.379 | Train Acc: 82.92% | Val. Loss: 0.347 |  Val. Acc: 84.60%\n",
            "Epoch: 3/10  | Train Loss: 0.360 | Train Acc: 83.96% | Val. Loss: 0.330 |  Val. Acc: 85.50%\n",
            "Epoch: 4/10  | Train Loss: 0.345 | Train Acc: 84.68% | Val. Loss: 0.314 |  Val. Acc: 86.31%\n",
            "Epoch: 5/10  | Train Loss: 0.334 | Train Acc: 85.27% | Val. Loss: 0.301 |  Val. Acc: 86.93%\n",
            "Epoch: 6/10  | Train Loss: 0.325 | Train Acc: 85.73% | Val. Loss: 0.288 |  Val. Acc: 87.51%\n",
            "Epoch: 7/10  | Train Loss: 0.317 | Train Acc: 86.17% | Val. Loss: 0.278 |  Val. Acc: 88.17%\n",
            "Epoch: 8/10  | Train Loss: 0.309 | Train Acc: 86.50% | Val. Loss: 0.267 |  Val. Acc: 88.57%\n",
            "Epoch: 9/10  | Train Loss: 0.303 | Train Acc: 86.84% | Val. Loss: 0.260 |  Val. Acc: 88.97%\n",
            "Epoch: 10/10  | Train Loss: 0.298 | Train Acc: 87.08% | Val. Loss: 0.251 |  Val. Acc: 89.42%\n"
          ],
          "name": "stdout"
        }
      ]
    },
    {
      "cell_type": "markdown",
      "metadata": {
        "id": "1gZlbmYnxz3c"
      },
      "source": [
        "### Metrics Plots"
      ]
    },
    {
      "cell_type": "markdown",
      "metadata": {
        "id": "iYSg95ojflF7"
      },
      "source": [
        "While using torchtext makes it very easy to handle our data, it makes it also dificult to have the predictions as np arrays, in order to compute our well-known metrics. Thus, I have created a function that is given the itterators and return the prediction labels"
      ]
    },
    {
      "cell_type": "code",
      "metadata": {
        "id": "D2mwjnrXf_L5"
      },
      "source": [
        "def get_labels(model, iterator):\n",
        "\n",
        "    y_pred_list = []\n",
        "    y_true_list = []\n",
        "\n",
        "    with torch.no_grad():\n",
        "        model.eval()\n",
        "        for batch in iterator:\n",
        "\n",
        "            text, lengths = batch.text\n",
        "            y_true = batch.target.reshape(-1, 1)\n",
        "            y_pred = model(text, lengths)\n",
        "\n",
        "            y_true_list.append(y_true)\n",
        "            y_pred_list.append(y_pred)\n",
        "    \n",
        "    y_true_full = torch.cat(y_true_list, dim=0).cpu()\n",
        "    y_pred_full = torch.cat(y_pred_list, dim=0).cpu()\n",
        "\n",
        "    return y_true_full, y_pred_full"
      ],
      "execution_count": 40,
      "outputs": []
    },
    {
      "cell_type": "markdown",
      "metadata": {
        "id": "MmAesLHDguBz"
      },
      "source": [
        "#### Loss and Accuracy"
      ]
    },
    {
      "cell_type": "code",
      "metadata": {
        "id": "jPLrnUXqx4m-",
        "colab": {
          "base_uri": "https://localhost:8080/",
          "height": 373
        },
        "outputId": "c1fc1285-4079-4989-f9a3-be53f89e32dd"
      },
      "source": [
        "fig, (ax1, ax2) = plt.subplots(1, 2, figsize=(16,5))\n",
        "fig.suptitle('Training/validation set metrics')\n",
        "\n",
        "epoch_list = [i+1 for i in range(epochs)]\n",
        "\n",
        "ax1.plot(epoch_list, loss_list)\n",
        "ax1.plot(epoch_list, val_loss_list, 'r.')\n",
        "ax2.plot(epoch_list, acc_list)\n",
        "ax2.plot(epoch_list, val_acc_list, 'r.')"
      ],
      "execution_count": 41,
      "outputs": [
        {
          "output_type": "execute_result",
          "data": {
            "text/plain": [
              "[<matplotlib.lines.Line2D at 0x7f1e99c8cda0>]"
            ]
          },
          "metadata": {
            "tags": []
          },
          "execution_count": 41
        },
        {
          "output_type": "display_data",
          "data": {
            "image/png": "[encoded data removed]",
            "text/plain": [
              "<Figure size 1152x360 with 2 Axes>"
            ]
          },
          "metadata": {
            "tags": [],
            "needs_background": "light"
          }
        }
      ]
    },
    {
      "cell_type": "markdown",
      "metadata": {
        "id": "j0ZC8965gxPN"
      },
      "source": [
        "#### ROC Curve"
      ]
    },
    {
      "cell_type": "code",
      "metadata": {
        "colab": {
          "base_uri": "https://localhost:8080/",
          "height": 532
        },
        "id": "8CSAvDk2hbJy",
        "outputId": "4607f337-8ec3-4e0d-fd5e-4c484f331eac"
      },
      "source": [
        "# get the true and predicted labels from the appropriate function\n",
        "test_Y, predict_outs = get_labels(best_model, valid_iterator)\n",
        "\n",
        "# calculate the fpr and tpr for all thresholds of the classification\n",
        "probs = predict_outs.detach().numpy()\n",
        "\n",
        "# # keep probabilities for the positive outcome only\n",
        "lr_probs = probs\n",
        "ns_probs = [0 for _ in range(len(test_Y))]\n",
        "\n",
        "# calculate scores\n",
        "ns_auc = roc_auc_score(test_Y, ns_probs)\n",
        "lr_auc = roc_auc_score(test_Y, lr_probs)\n",
        "\n",
        "# summarize scores\n",
        "print('No Skill: ROC AUC=%.3f' % (ns_auc))\n",
        "print('RNN CLassifier: ROC AUC=%.3f' % (lr_auc))\n",
        "\n",
        "# calculate roc curves\n",
        "ns_fpr, ns_tpr, _ = roc_curve(test_Y, ns_probs)\n",
        "lr_fpr, lr_tpr, _ = roc_curve(test_Y, lr_probs)\n",
        "\n",
        "# plot the roc curve for the model\n",
        "plt.figure(figsize=(10,8))\n",
        "plt.plot(ns_fpr, ns_tpr, label='No Skill')\n",
        "plt.plot(lr_fpr, lr_tpr, label='RNN Classifier')\n",
        "\n",
        "# axis labels\n",
        "plt.xlabel('False Positive Rate')\n",
        "plt.ylabel('True Positive Rate')\n",
        "# show the legend\n",
        "plt.legend()\n",
        "# show the plot\n",
        "plt.show()"
      ],
      "execution_count": 42,
      "outputs": [
        {
          "output_type": "stream",
          "text": [
            "No Skill: ROC AUC=0.500\n",
            "RNN CLassifier: ROC AUC=0.962\n"
          ],
          "name": "stdout"
        },
        {
          "output_type": "display_data",
          "data": {
            "image/png": "[encoded data removed]",
            "text/plain": [
              "<Figure size 720x576 with 1 Axes>"
            ]
          },
          "metadata": {
            "tags": [],
            "needs_background": "light"
          }
        }
      ]
    },
    {
      "cell_type": "markdown",
      "metadata": {
        "id": "ffJ9Xu9Qg3M6"
      },
      "source": [
        "#### Classification Report"
      ]
    },
    {
      "cell_type": "code",
      "metadata": {
        "colab": {
          "base_uri": "https://localhost:8080/"
        },
        "id": "ZhQIXPv9h2II",
        "outputId": "c5088269-511d-4b83-9486-5ac5f649fa26"
      },
      "source": [
        "print(\"Accuracy score: {}\".format(round(accuracy_score(test_Y,predict_outs.round()),3)))\n",
        "print(classification_report(test_Y,predict_outs.round()))"
      ],
      "execution_count": 43,
      "outputs": [
        {
          "output_type": "stream",
          "text": [
            "Accuracy score: 0.894\n",
            "              precision    recall  f1-score   support\n",
            "\n",
            "         0.0       0.90      0.89      0.89    576019\n",
            "         1.0       0.89      0.90      0.89    575981\n",
            "\n",
            "    accuracy                           0.89   1152000\n",
            "   macro avg       0.89      0.89      0.89   1152000\n",
            "weighted avg       0.89      0.89      0.89   1152000\n",
            "\n"
          ],
          "name": "stdout"
        }
      ]
    },
    {
      "cell_type": "markdown",
      "metadata": {
        "id": "Ax-xpgi6JftM"
      },
      "source": [
        "#### Comparison to the Feed-Forward NN of the previous project"
      ]
    },
    {
      "cell_type": "markdown",
      "metadata": {
        "id": "Gr4vVzbJLFe1"
      },
      "source": [
        "While comparing our best model to the one of the previous assignment, it is clear that this one predicts our dataset better, mainly due to the more complex computations. An other parameter that we observe, is the time that the model requires to be trained, as each epoch takes more than 2 minutes."
      ]
    },
    {
      "cell_type": "markdown",
      "metadata": {
        "id": "bwwnlH12Cfll"
      },
      "source": [
        "### Predicting the test dataset"
      ]
    },
    {
      "cell_type": "markdown",
      "metadata": {
        "id": "iirvjGIRChxN"
      },
      "source": [
        "Now that we've determined our best model, it is time to use it in order to predict the test dataset, and hold its accuracy and error"
      ]
    },
    {
      "cell_type": "code",
      "metadata": {
        "id": "N0zowZkFCvk2",
        "colab": {
          "base_uri": "https://localhost:8080/"
        },
        "outputId": "118bce56-6220-40ce-b663-ba584b8cf21c"
      },
      "source": [
        "test_loss, test_acc = evaluate(best_model, test_iterator, loss)\n",
        "\n",
        "print(f'Test Loss: {test_loss:.3f} | Test Acc: {test_acc*100:.2f}%')"
      ],
      "execution_count": 44,
      "outputs": [
        {
          "output_type": "stream",
          "text": [
            "Test Loss: 0.251 | Test Acc: 89.42%\n"
          ],
          "name": "stdout"
        }
      ]
    },
    {
      "cell_type": "markdown",
      "metadata": {
        "id": "W5LoP562DHMr"
      },
      "source": [
        "We observe that the results are extremely good compared to our logistic regression models, as well as the Feed Forward Neural Network models. "
      ]
    },
    {
      "cell_type": "markdown",
      "metadata": {
        "id": "OA-7zISFnatu"
      },
      "source": [
        "### Adding attention layer"
      ]
    },
    {
      "cell_type": "markdown",
      "metadata": {
        "id": "X8P8JY6doL1o"
      },
      "source": [
        "For the bonus part of the assignment, we are going to add an attention layer to our best model, and compare the results.\n",
        "\n",
        "Attention is a mechanism combined in the RNN allowing it to focus on certain parts of the input sequence when predicting a certain part of the output sequence, enabling easier learning and of higher quality. Combination of attention mechanisms enabled improved performance in many tasks making it an integral part of modern RNN networks."
      ]
    },
    {
      "cell_type": "code",
      "metadata": {
        "id": "ymqyT1nVo0o0"
      },
      "source": [
        "cell_type = 'LSTM'\n",
        "layers = 2\n",
        "dropout = 0.2\n",
        "learning_rate = 0.001\n",
        "epochs = 10\n",
        "hidden_neurons = 200\n",
        "clipping_rate = (-100,100)\n",
        "bidirectional = True\n",
        "attention = True"
      ],
      "execution_count": 45,
      "outputs": []
    },
    {
      "cell_type": "code",
      "metadata": {
        "colab": {
          "base_uri": "https://localhost:8080/"
        },
        "id": "XekvoExto5Z1",
        "outputId": "32fd279c-b042-4ede-82c9-112163dc20a9"
      },
      "source": [
        "best_model = Bidirectional_Stacked_RNN(input_shape, hidden_neurons, embedding_neurons, output_neurons, layers, cell_type, dropout, pad_idx, bidirectional, attention)\n",
        "\n",
        "optimizer = torch.optim.Adam(best_model.parameters(), lr=learning_rate)\n",
        "\n",
        "loss_list_att, acc_list_att, val_loss_list_att, val_acc_list_att = train_and_eval(best_model, train_iterator, valid_iterator, optimizer, loss, epochs, learning_rate, pad_idx, clipping_rate)"
      ],
      "execution_count": 46,
      "outputs": [
        {
          "output_type": "stream",
          "text": [
            "Began training for 2367302 trainable parameters\n",
            "\n",
            "\n",
            "Epoch: 1/10  | Train Loss: 0.426 | Train Acc: 80.18% | Val. Loss: 0.376 |  Val. Acc: 83.15%\n",
            "Epoch: 2/10  | Train Loss: 0.378 | Train Acc: 82.99% | Val. Loss: 0.348 |  Val. Acc: 84.55%\n",
            "Epoch: 3/10  | Train Loss: 0.359 | Train Acc: 83.97% | Val. Loss: 0.333 |  Val. Acc: 85.25%\n",
            "Epoch: 4/10  | Train Loss: 0.345 | Train Acc: 84.70% | Val. Loss: 0.316 |  Val. Acc: 86.21%\n",
            "Epoch: 5/10  | Train Loss: 0.334 | Train Acc: 85.25% | Val. Loss: 0.301 |  Val. Acc: 86.98%\n",
            "Epoch: 6/10  | Train Loss: 0.325 | Train Acc: 85.73% | Val. Loss: 0.289 |  Val. Acc: 87.58%\n",
            "Epoch: 7/10  | Train Loss: 0.317 | Train Acc: 86.14% | Val. Loss: 0.278 |  Val. Acc: 88.13%\n",
            "Epoch: 8/10  | Train Loss: 0.310 | Train Acc: 86.47% | Val. Loss: 0.270 |  Val. Acc: 88.57%\n",
            "Epoch: 9/10  | Train Loss: 0.305 | Train Acc: 86.77% | Val. Loss: 0.262 |  Val. Acc: 88.95%\n",
            "Epoch: 10/10  | Train Loss: 0.299 | Train Acc: 87.03% | Val. Loss: 0.254 |  Val. Acc: 89.34%\n"
          ],
          "name": "stdout"
        }
      ]
    },
    {
      "cell_type": "markdown",
      "metadata": {
        "id": "g8jK4dJ3pZnv"
      },
      "source": [
        "#### Comparison to the model without attention layer"
      ]
    },
    {
      "cell_type": "markdown",
      "metadata": {
        "id": "xcTzSsfvpdcs"
      },
      "source": [
        "Finally, let's plot the validation metrics comparing the 2 models, with and without attention, to observe any noticable difference"
      ]
    },
    {
      "cell_type": "code",
      "metadata": {
        "colab": {
          "base_uri": "https://localhost:8080/",
          "height": 373
        },
        "id": "MxTtiRjdvdR2",
        "outputId": "5e8c64c7-be1a-4661-8411-0e4cd90529b9"
      },
      "source": [
        "fig, (ax1, ax2) = plt.subplots(1, 2, figsize=(16,5))\n",
        "fig.suptitle('Validation set metrics')\n",
        "\n",
        "epoch_list = [i+1 for i in range(epochs)]\n",
        "\n",
        "ax1.plot(epoch_list, val_loss_list, label='No attention')\n",
        "ax1.plot(epoch_list, val_loss_list_att, label='Attention')\n",
        "# show the legend\n",
        "ax1.legend()\n",
        "ax2.plot(epoch_list, val_acc_list,  label='No attention')\n",
        "ax2.plot(epoch_list, val_acc_list_att, label='Attention')\n",
        "ax2.legend()\n"
      ],
      "execution_count": 47,
      "outputs": [
        {
          "output_type": "execute_result",
          "data": {
            "text/plain": [
              "<matplotlib.legend.Legend at 0x7f1e9ad084a8>"
            ]
          },
          "metadata": {
            "tags": []
          },
          "execution_count": 48
        },
        {
          "output_type": "display_data",
          "data": {
            "image/png": "[encoded data removed]",
            "text/plain": [
              "<Figure size 1152x360 with 2 Axes>"
            ]
          },
          "metadata": {
            "tags": [],
            "needs_background": "light"
          }
        }
      ]
    },
    {
      "cell_type": "markdown",
      "metadata": {
        "id": "Fi7yV70I0PH6"
      },
      "source": [
        "As we can see, the results containing the attention layer are quite better, but without a big difference from the simple one."
      ]
    }
  ]
}
