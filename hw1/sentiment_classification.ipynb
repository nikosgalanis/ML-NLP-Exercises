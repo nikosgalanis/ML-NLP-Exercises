{
 "cells": [
  {
   "cell_type": "markdown",
   "metadata": {
    "id": "0mLPyvdLwFW9"
   },
   "source": [
    "# Sentiment classifier for Twitter classification dataset"
   ]
  },
  {
   "cell_type": "markdown",
   "metadata": {
    "id": "HSmC5ux2wFW_"
   },
   "source": [
    "The goal of this exercise is to develop a sentiment classifier using logistic regression for the Twitter sentiment classification dataset that will be presented above. We are going to combine a plethora of features, and see how it performs on the given dataset, aiming to high accuracy. We are going to use tools from Scikit-Learn. Afterwards, we are going to evaluate the classifier using several metrics."
   ]
  },
  {
   "cell_type": "markdown",
   "metadata": {
    "id": "W9Dg-4I7wFXA"
   },
   "source": [
    "## Import Libraries"
   ]
  },
  {
   "cell_type": "code",
   "execution_count": 1,
   "metadata": {
    "id": "dQSkkb6pwFXB"
   },
   "outputs": [],
   "source": [
    "# For data vizualization \n",
    "import matplotlib as mpl\n",
    "import matplotlib.pyplot as plt\n",
    "# For large and multi-dimensional arrays\n",
    "import numpy as np\n",
    "# For data manipulation and analysis\n",
    "import pandas as pd\n",
    "# Necessary for data format\n",
    "from sklearn.feature_extraction.text import CountVectorizer\n",
    "# Machine learning model\n",
    "from sklearn.linear_model import LogisticRegression\n",
    "# Metrics\n",
    "from sklearn.metrics import accuracy_score\n",
    "from sklearn.metrics import classification_report,confusion_matrix\n",
    "# Best parameters during classification\n",
    "from sklearn.model_selection import GridSearchCV\n",
    "# For basic cleaning and data preprocessing \n",
    "import re\n",
    "# Data preprocessing\n",
    "from sklearn.model_selection import train_test_split"
   ]
  },
  {
   "cell_type": "markdown",
   "metadata": {
    "id": "ybgJeBp9wFXF"
   },
   "source": [
    "## Dataset Configuration"
   ]
  },
  {
   "cell_type": "markdown",
   "metadata": {
    "id": "DskQ4P1bwFXG"
   },
   "source": [
    "We are going to import the dataset..."
   ]
  },
  {
   "cell_type": "code",
   "execution_count": 2,
   "metadata": {
    "colab": {
     "base_uri": "https://localhost:8080/",
     "height": 255
    },
    "id": "322UKOCNwFXH",
    "outputId": "9a3a8dc8-4f14-4a58-b362-606107a72063"
   },
   "outputs": [
    {
     "name": "stdout",
     "output_type": "stream",
     "text": [
      "<class 'pandas.core.frame.DataFrame'>\n",
      "RangeIndex: 50594 entries, 0 to 50593\n",
      "Data columns (total 7 columns):\n",
      " #   Column      Non-Null Count  Dtype  \n",
      "---  ------      --------------  -----  \n",
      " 0   Unnamed: 0  50594 non-null  int64  \n",
      " 1   target      50593 non-null  float64\n",
      " 2   id          50593 non-null  float64\n",
      " 3   date        50593 non-null  object \n",
      " 4   flag        50593 non-null  object \n",
      " 5   user        50593 non-null  object \n",
      " 6   text        50593 non-null  object \n",
      "dtypes: float64(2), int64(1), object(4)\n",
      "memory usage: 2.7+ MB\n"
     ]
    }
   ],
   "source": [
    "df = pd.read_csv(\"SentimentTweets.csv\")\n",
    "df.info()"
   ]
  },
  {
   "cell_type": "markdown",
   "metadata": {
    "id": "2JdjJ0iywFXL"
   },
   "source": [
    "...and take a look at its columns"
   ]
  },
  {
   "cell_type": "code",
   "execution_count": 3,
   "metadata": {
    "colab": {
     "base_uri": "https://localhost:8080/",
     "height": 204
    },
    "id": "9j5fhUiNwFXM",
    "outputId": "3d33db1d-35fb-49ca-ea4f-326a50edc967"
   },
   "outputs": [
    {
     "data": {
      "text/html": [
       "<div>\n",
       "<style scoped>\n",
       "    .dataframe tbody tr th:only-of-type {\n",
       "        vertical-align: middle;\n",
       "    }\n",
       "\n",
       "    .dataframe tbody tr th {\n",
       "        vertical-align: top;\n",
       "    }\n",
       "\n",
       "    .dataframe thead th {\n",
       "        text-align: right;\n",
       "    }\n",
       "</style>\n",
       "<table border=\"1\" class=\"dataframe\">\n",
       "  <thead>\n",
       "    <tr style=\"text-align: right;\">\n",
       "      <th></th>\n",
       "      <th>Unnamed: 0</th>\n",
       "      <th>target</th>\n",
       "      <th>id</th>\n",
       "      <th>date</th>\n",
       "      <th>flag</th>\n",
       "      <th>user</th>\n",
       "      <th>text</th>\n",
       "    </tr>\n",
       "  </thead>\n",
       "  <tbody>\n",
       "    <tr>\n",
       "      <th>0</th>\n",
       "      <td>680949</td>\n",
       "      <td>0.0</td>\n",
       "      <td>2.249622e+09</td>\n",
       "      <td>Fri Jun 19 22:41:08 PDT 2009</td>\n",
       "      <td>NO_QUERY</td>\n",
       "      <td>sukumarpant</td>\n",
       "      <td>#brokenpromises...</td>\n",
       "    </tr>\n",
       "    <tr>\n",
       "      <th>1</th>\n",
       "      <td>406741</td>\n",
       "      <td>0.0</td>\n",
       "      <td>2.059004e+09</td>\n",
       "      <td>Sat Jun 06 16:03:21 PDT 2009</td>\n",
       "      <td>NO_QUERY</td>\n",
       "      <td>MTMSparrow</td>\n",
       "      <td>David Carradine  so sad. Thai's law not sure i...</td>\n",
       "    </tr>\n",
       "    <tr>\n",
       "      <th>2</th>\n",
       "      <td>1337108</td>\n",
       "      <td>4.0</td>\n",
       "      <td>2.017466e+09</td>\n",
       "      <td>Wed Jun 03 08:26:14 PDT 2009</td>\n",
       "      <td>NO_QUERY</td>\n",
       "      <td>itsmemcee</td>\n",
       "      <td>A @ 415 B @ 425. Tell your bro i say congrats!</td>\n",
       "    </tr>\n",
       "    <tr>\n",
       "      <th>3</th>\n",
       "      <td>1560887</td>\n",
       "      <td>4.0</td>\n",
       "      <td>2.186457e+09</td>\n",
       "      <td>Mon Jun 15 18:52:04 PDT 2009</td>\n",
       "      <td>NO_QUERY</td>\n",
       "      <td>jdfreivald</td>\n",
       "      <td>@littlefluffycat  Indeed.</td>\n",
       "    </tr>\n",
       "    <tr>\n",
       "      <th>4</th>\n",
       "      <td>1466295</td>\n",
       "      <td>4.0</td>\n",
       "      <td>2.064458e+09</td>\n",
       "      <td>Sun Jun 07 06:19:20 PDT 2009</td>\n",
       "      <td>NO_QUERY</td>\n",
       "      <td>CrazyHan</td>\n",
       "      <td>Completed Race 4 Life in 58mins with girlies f...</td>\n",
       "    </tr>\n",
       "  </tbody>\n",
       "</table>\n",
       "</div>"
      ],
      "text/plain": [
       "   Unnamed: 0  ...                                               text\n",
       "0      680949  ...                                #brokenpromises... \n",
       "1      406741  ...  David Carradine  so sad. Thai's law not sure i...\n",
       "2     1337108  ...    A @ 415 B @ 425. Tell your bro i say congrats! \n",
       "3     1560887  ...                          @littlefluffycat  Indeed.\n",
       "4     1466295  ...  Completed Race 4 Life in 58mins with girlies f...\n",
       "\n",
       "[5 rows x 7 columns]"
      ]
     },
     "execution_count": 3,
     "metadata": {
      "tags": []
     },
     "output_type": "execute_result"
    }
   ],
   "source": [
    "df.head()"
   ]
  },
  {
   "cell_type": "markdown",
   "metadata": {
    "id": "g6cffhBMwFXX"
   },
   "source": [
    "Since we are going to use bag-of-words features, we have to preprocess our data set. We are going to convert everything to lowercase, and remove any punctuation points, weird characters and links"
   ]
  },
  {
   "cell_type": "code",
   "execution_count": 4,
   "metadata": {
    "id": "pZ7CMfllwFXX"
   },
   "outputs": [],
   "source": [
    "def text_normalization(text):\n",
    "    # convert text to lowercase\n",
    "    text = text.lower()\n",
    "    # remove all special characters, punctuation and spaces from string\n",
    "    text = re.sub('\\n|\\r|\\t', '', text)\n",
    "    text = re.sub(r'[^\\w\\s]+', '', text)\n",
    "    # first group of special chars: \\u followed by a number\n",
    "    text = re.sub('u\\d\\w+', '', text)\n",
    "    # second group: \\x followed by a letter\n",
    "    text = re.sub('x[a-z]\\d', '', text)\n",
    "    # remove links\n",
    "    text = re.sub(r'^http?://', ' ', text)\n",
    "    text = re.sub(r'^www://', ' ', text)\n",
    "    # return normalized text\n",
    "    return text"
   ]
  },
  {
   "cell_type": "code",
   "execution_count": 5,
   "metadata": {
    "id": "iSCV-SVvwFXb"
   },
   "outputs": [],
   "source": [
    "def preprocess(input_df):\n",
    "    # Remove rows with missing values in column col\n",
    "    input_df.dropna(inplace=True)\n",
    "    # Speed up code using numpy vectorization\n",
    "    vfunc = np.vectorize(text_normalization)\n",
    "    input_df.text = vfunc(input_df.text.values)\n",
    "    # return processed input_df\n",
    "    return input_df"
   ]
  },
  {
   "cell_type": "markdown",
   "metadata": {
    "id": "LNH-mQlVwFXf"
   },
   "source": [
    "Let's now apply those techniques in our dataset"
   ]
  },
  {
   "cell_type": "code",
   "execution_count": 6,
   "metadata": {
    "colab": {
     "base_uri": "https://localhost:8080/",
     "height": 204
    },
    "id": "qb9QJUjPwFXg",
    "outputId": "e41ee5ba-88fd-47c4-af15-da01ebdf03e6"
   },
   "outputs": [
    {
     "data": {
      "text/html": [
       "<div>\n",
       "<style scoped>\n",
       "    .dataframe tbody tr th:only-of-type {\n",
       "        vertical-align: middle;\n",
       "    }\n",
       "\n",
       "    .dataframe tbody tr th {\n",
       "        vertical-align: top;\n",
       "    }\n",
       "\n",
       "    .dataframe thead th {\n",
       "        text-align: right;\n",
       "    }\n",
       "</style>\n",
       "<table border=\"1\" class=\"dataframe\">\n",
       "  <thead>\n",
       "    <tr style=\"text-align: right;\">\n",
       "      <th></th>\n",
       "      <th>Unnamed: 0</th>\n",
       "      <th>target</th>\n",
       "      <th>id</th>\n",
       "      <th>date</th>\n",
       "      <th>flag</th>\n",
       "      <th>user</th>\n",
       "      <th>text</th>\n",
       "    </tr>\n",
       "  </thead>\n",
       "  <tbody>\n",
       "    <tr>\n",
       "      <th>0</th>\n",
       "      <td>680949</td>\n",
       "      <td>0.0</td>\n",
       "      <td>2.249622e+09</td>\n",
       "      <td>Fri Jun 19 22:41:08 PDT 2009</td>\n",
       "      <td>NO_QUERY</td>\n",
       "      <td>sukumarpant</td>\n",
       "      <td>brokenpromises</td>\n",
       "    </tr>\n",
       "    <tr>\n",
       "      <th>1</th>\n",
       "      <td>406741</td>\n",
       "      <td>0.0</td>\n",
       "      <td>2.059004e+09</td>\n",
       "      <td>Sat Jun 06 16:03:21 PDT 2009</td>\n",
       "      <td>NO_QUERY</td>\n",
       "      <td>MTMSparrow</td>\n",
       "      <td>david carradine  so sad thais law not sure if ...</td>\n",
       "    </tr>\n",
       "    <tr>\n",
       "      <th>2</th>\n",
       "      <td>1337108</td>\n",
       "      <td>4.0</td>\n",
       "      <td>2.017466e+09</td>\n",
       "      <td>Wed Jun 03 08:26:14 PDT 2009</td>\n",
       "      <td>NO_QUERY</td>\n",
       "      <td>itsmemcee</td>\n",
       "      <td>a  415 b  425 tell your bro i say congrats</td>\n",
       "    </tr>\n",
       "    <tr>\n",
       "      <th>3</th>\n",
       "      <td>1560887</td>\n",
       "      <td>4.0</td>\n",
       "      <td>2.186457e+09</td>\n",
       "      <td>Mon Jun 15 18:52:04 PDT 2009</td>\n",
       "      <td>NO_QUERY</td>\n",
       "      <td>jdfreivald</td>\n",
       "      <td>littlefluffycat  indeed</td>\n",
       "    </tr>\n",
       "    <tr>\n",
       "      <th>4</th>\n",
       "      <td>1466295</td>\n",
       "      <td>4.0</td>\n",
       "      <td>2.064458e+09</td>\n",
       "      <td>Sun Jun 07 06:19:20 PDT 2009</td>\n",
       "      <td>NO_QUERY</td>\n",
       "      <td>CrazyHan</td>\n",
       "      <td>completed race 4 life in 58mins with girlies f...</td>\n",
       "    </tr>\n",
       "  </tbody>\n",
       "</table>\n",
       "</div>"
      ],
      "text/plain": [
       "   Unnamed: 0  ...                                               text\n",
       "0      680949  ...                                    brokenpromises \n",
       "1      406741  ...  david carradine  so sad thais law not sure if ...\n",
       "2     1337108  ...        a  415 b  425 tell your bro i say congrats \n",
       "3     1560887  ...                            littlefluffycat  indeed\n",
       "4     1466295  ...  completed race 4 life in 58mins with girlies f...\n",
       "\n",
       "[5 rows x 7 columns]"
      ]
     },
     "execution_count": 6,
     "metadata": {
      "tags": []
     },
     "output_type": "execute_result"
    }
   ],
   "source": [
    "df = preprocess(df)\n",
    "df.head()"
   ]
  },
  {
   "cell_type": "markdown",
   "metadata": {
    "id": "58ZLs_cKwFXk"
   },
   "source": [
    "We are going to convert the target value to `1` instead of `4`, in order to be more convenient"
   ]
  },
  {
   "cell_type": "code",
   "execution_count": 7,
   "metadata": {
    "id": "vJRyAhJqwFXk"
   },
   "outputs": [],
   "source": [
    "def change_to_1(x):\n",
    "    if (x == 4):\n",
    "        return 1\n",
    "    else:\n",
    "        return x"
   ]
  },
  {
   "cell_type": "code",
   "execution_count": 8,
   "metadata": {
    "id": "_44f4TciwFXn"
   },
   "outputs": [],
   "source": [
    "df['target'] = df['target'].apply(change_to_1)"
   ]
  },
  {
   "cell_type": "code",
   "execution_count": 9,
   "metadata": {
    "colab": {
     "base_uri": "https://localhost:8080/",
     "height": 204
    },
    "id": "e8bXea1hwFXq",
    "outputId": "f4002625-6281-4c9a-ddc8-0f1a79fa539c"
   },
   "outputs": [
    {
     "data": {
      "text/html": [
       "<div>\n",
       "<style scoped>\n",
       "    .dataframe tbody tr th:only-of-type {\n",
       "        vertical-align: middle;\n",
       "    }\n",
       "\n",
       "    .dataframe tbody tr th {\n",
       "        vertical-align: top;\n",
       "    }\n",
       "\n",
       "    .dataframe thead th {\n",
       "        text-align: right;\n",
       "    }\n",
       "</style>\n",
       "<table border=\"1\" class=\"dataframe\">\n",
       "  <thead>\n",
       "    <tr style=\"text-align: right;\">\n",
       "      <th></th>\n",
       "      <th>Unnamed: 0</th>\n",
       "      <th>target</th>\n",
       "      <th>id</th>\n",
       "      <th>date</th>\n",
       "      <th>flag</th>\n",
       "      <th>user</th>\n",
       "      <th>text</th>\n",
       "    </tr>\n",
       "  </thead>\n",
       "  <tbody>\n",
       "    <tr>\n",
       "      <th>0</th>\n",
       "      <td>680949</td>\n",
       "      <td>0.0</td>\n",
       "      <td>2.249622e+09</td>\n",
       "      <td>Fri Jun 19 22:41:08 PDT 2009</td>\n",
       "      <td>NO_QUERY</td>\n",
       "      <td>sukumarpant</td>\n",
       "      <td>brokenpromises</td>\n",
       "    </tr>\n",
       "    <tr>\n",
       "      <th>1</th>\n",
       "      <td>406741</td>\n",
       "      <td>0.0</td>\n",
       "      <td>2.059004e+09</td>\n",
       "      <td>Sat Jun 06 16:03:21 PDT 2009</td>\n",
       "      <td>NO_QUERY</td>\n",
       "      <td>MTMSparrow</td>\n",
       "      <td>david carradine  so sad thais law not sure if ...</td>\n",
       "    </tr>\n",
       "    <tr>\n",
       "      <th>2</th>\n",
       "      <td>1337108</td>\n",
       "      <td>1.0</td>\n",
       "      <td>2.017466e+09</td>\n",
       "      <td>Wed Jun 03 08:26:14 PDT 2009</td>\n",
       "      <td>NO_QUERY</td>\n",
       "      <td>itsmemcee</td>\n",
       "      <td>a  415 b  425 tell your bro i say congrats</td>\n",
       "    </tr>\n",
       "    <tr>\n",
       "      <th>3</th>\n",
       "      <td>1560887</td>\n",
       "      <td>1.0</td>\n",
       "      <td>2.186457e+09</td>\n",
       "      <td>Mon Jun 15 18:52:04 PDT 2009</td>\n",
       "      <td>NO_QUERY</td>\n",
       "      <td>jdfreivald</td>\n",
       "      <td>littlefluffycat  indeed</td>\n",
       "    </tr>\n",
       "    <tr>\n",
       "      <th>4</th>\n",
       "      <td>1466295</td>\n",
       "      <td>1.0</td>\n",
       "      <td>2.064458e+09</td>\n",
       "      <td>Sun Jun 07 06:19:20 PDT 2009</td>\n",
       "      <td>NO_QUERY</td>\n",
       "      <td>CrazyHan</td>\n",
       "      <td>completed race 4 life in 58mins with girlies f...</td>\n",
       "    </tr>\n",
       "  </tbody>\n",
       "</table>\n",
       "</div>"
      ],
      "text/plain": [
       "   Unnamed: 0  ...                                               text\n",
       "0      680949  ...                                    brokenpromises \n",
       "1      406741  ...  david carradine  so sad thais law not sure if ...\n",
       "2     1337108  ...        a  415 b  425 tell your bro i say congrats \n",
       "3     1560887  ...                            littlefluffycat  indeed\n",
       "4     1466295  ...  completed race 4 life in 58mins with girlies f...\n",
       "\n",
       "[5 rows x 7 columns]"
      ]
     },
     "execution_count": 9,
     "metadata": {
      "tags": []
     },
     "output_type": "execute_result"
    }
   ],
   "source": [
    "df.head()"
   ]
  },
  {
   "cell_type": "markdown",
   "metadata": {
    "id": "bR1DsapZwFXt"
   },
   "source": [
    "### Splitting the dataset"
   ]
  },
  {
   "cell_type": "markdown",
   "metadata": {
    "id": "pleNtEGOwFXu"
   },
   "source": [
    "In order to train our model, we are going to use a significant portion of the dataset, but we also need some data to test our classifier, thus we are going to split the dataset into 2 datasets: one for training, and one for testing"
   ]
  },
  {
   "cell_type": "markdown",
   "metadata": {
    "id": "YkGK0cD_wFXv"
   },
   "source": [
    "First, we are going to define which are our X and Y variables"
   ]
  },
  {
   "cell_type": "code",
   "execution_count": 10,
   "metadata": {
    "id": "eYjCsX9PwFXw"
   },
   "outputs": [],
   "source": [
    "X = df['text']\n",
    "Y = df['target']"
   ]
  },
  {
   "cell_type": "markdown",
   "metadata": {
    "id": "cjLjOgPdwFXz"
   },
   "source": [
    "Then, split the datasets by keeping 80% for training and 20% for testing"
   ]
  },
  {
   "cell_type": "code",
   "execution_count": 11,
   "metadata": {
    "id": "qID7HU-_wFX0"
   },
   "outputs": [],
   "source": [
    "X_train, X_test, Y_train, Y_test = train_test_split(X,Y, test_size = 0.2)"
   ]
  },
  {
   "cell_type": "markdown",
   "metadata": {
    "id": "Tv4-OTLUwFX4"
   },
   "source": [
    "## Feature extraction"
   ]
  },
  {
   "cell_type": "markdown",
   "metadata": {
    "id": "wowbLM--wFX4"
   },
   "source": [
    "We are going to use Bag-of-Words in order to train our system"
   ]
  },
  {
   "cell_type": "code",
   "execution_count": 12,
   "metadata": {
    "id": "E1ZXjf6DwFX5"
   },
   "outputs": [],
   "source": [
    "# creating the feature matrix \n",
    "cv = CountVectorizer()\n",
    "\n",
    "# use the cv in our sets to convert the words\n",
    "X_train = cv.fit_transform(X_train)\n",
    "X_test = cv.transform(X_test)"
   ]
  },
  {
   "cell_type": "markdown",
   "metadata": {
    "id": "lkko4j7rwFX8"
   },
   "source": [
    "## Linear Classifier"
   ]
  },
  {
   "cell_type": "markdown",
   "metadata": {
    "id": "h_1CPXNswFX8"
   },
   "source": [
    "As we stated, we are going to use a linear classifier with logistic regression, which is given to us as a handy class by Scikit-Learn"
   ]
  },
  {
   "cell_type": "code",
   "execution_count": 13,
   "metadata": {
    "colab": {
     "base_uri": "https://localhost:8080/",
     "height": 102
    },
    "id": "_VOhR420zfOj",
    "outputId": "d5b96ffb-491d-45f4-c4f8-6500d242558c"
   },
   "outputs": [
    {
     "data": {
      "text/plain": [
       "LogisticRegression(C=1.0, class_weight=None, dual=False, fit_intercept=True,\n",
       "                   intercept_scaling=1, l1_ratio=None, max_iter=1000,\n",
       "                   multi_class='auto', n_jobs=None, penalty='l2',\n",
       "                   random_state=None, solver='lbfgs', tol=0.0001, verbose=0,\n",
       "                   warm_start=False)"
      ]
     },
     "execution_count": 13,
     "metadata": {
      "tags": []
     },
     "output_type": "execute_result"
    }
   ],
   "source": [
    "model = LogisticRegression(max_iter=1000)\n",
    "\n",
    "# fit the classifier\n",
    "model.fit(X = X_train, y = Y_train)"
   ]
  },
  {
   "cell_type": "markdown",
   "metadata": {
    "id": "dXY8k9MYwFYA"
   },
   "source": [
    "Now, let's use our model in order to predict the Y values of the train set"
   ]
  },
  {
   "cell_type": "code",
   "execution_count": 14,
   "metadata": {
    "id": "SQJLea7LwFYB"
   },
   "outputs": [],
   "source": [
    "y_pred = model.predict(X_test)"
   ]
  },
  {
   "cell_type": "markdown",
   "metadata": {
    "id": "1USzDERf321X"
   },
   "source": [
    "Let's now see the results of our classifying method\n"
   ]
  },
  {
   "cell_type": "code",
   "execution_count": 15,
   "metadata": {
    "colab": {
     "base_uri": "https://localhost:8080/",
     "height": 170
    },
    "id": "SonQSZz132SP",
    "outputId": "e7560253-37ff-4e30-a7dd-23d23ae9f4fd"
   },
   "outputs": [
    {
     "name": "stdout",
     "output_type": "stream",
     "text": [
      "              precision    recall  f1-score   support\n",
      "\n",
      "         0.0       0.77      0.76      0.76      4999\n",
      "         1.0       0.77      0.78      0.77      5120\n",
      "\n",
      "    accuracy                           0.77     10119\n",
      "   macro avg       0.77      0.77      0.77     10119\n",
      "weighted avg       0.77      0.77      0.77     10119\n",
      "\n"
     ]
    }
   ],
   "source": [
    "print(classification_report(Y_test,y_pred))"
   ]
  },
  {
   "cell_type": "code",
   "execution_count": 16,
   "metadata": {
    "colab": {
     "base_uri": "https://localhost:8080/",
     "height": 34
    },
    "id": "EQA22VRH3-oK",
    "outputId": "3a7c3550-4ac4-4e09-f30a-2eff98fc1266"
   },
   "outputs": [
    {
     "name": "stdout",
     "output_type": "stream",
     "text": [
      "Accuracy score: 0.769\n"
     ]
    }
   ],
   "source": [
    "print(\"Accuracy score: {}\".format(round(accuracy_score(Y_test,y_pred),3)))"
   ]
  },
  {
   "cell_type": "markdown",
   "metadata": {
    "id": "bRp0TjoQ4W_v"
   },
   "source": [
    "As we can see, without applying extreme preprocessing or complicated features, our logistic regression linear classifier works just fine, achieving an accuracy near 80%\n"
   ]
  }
 ],
 "metadata": {
  "colab": {
   "collapsed_sections": [],
   "name": "Untitled.ipynb",
   "provenance": [],
   "toc_visible": true
  },
  "kernelspec": {
   "display_name": "Python 3",
   "language": "python",
   "name": "python3"
  },
  "language_info": {
   "codemirror_mode": {
    "name": "ipython",
    "version": 3
   },
   "file_extension": ".py",
   "mimetype": "text/x-python",
   "name": "python",
   "nbconvert_exporter": "python",
   "pygments_lexer": "ipython3",
   "version": "3.8.5"
  }
 },
 "nbformat": 4,
 "nbformat_minor": 1
}
