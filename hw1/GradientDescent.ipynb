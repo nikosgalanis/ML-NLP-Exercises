{
 "cells": [
  {
   "cell_type": "markdown",
   "metadata": {},
   "source": [
    "# Gradient descent for ridge regression"
   ]
  },
  {
   "cell_type": "markdown",
   "metadata": {},
   "source": [
    "The goal of this exercise is to implement gradient descent, stochastic gradient descent and mini-batch gradient descent methods for ridge regression. We re going to implement them by defining the necessary functions, and then demonstrate their performance using a specific dataset, and appropriate visualization techniques."
   ]
  },
  {
   "cell_type": "markdown",
   "metadata": {},
   "source": [
    "## Import Libraries"
   ]
  },
  {
   "cell_type": "code",
   "execution_count": 1,
   "metadata": {},
   "outputs": [],
   "source": [
    "# For large and multi-dimensional arrays\n",
    "import numpy as np\n",
    "# For data manipulation and analysis\n",
    "import pandas as pd\n",
    "# For data vizualization \n",
    "import matplotlib.pyplot as plt\n",
    "# For ML algorithms\n",
    "from sklearn import preprocessing\n",
    "from sklearn.model_selection import train_test_split"
   ]
  },
  {
   "cell_type": "markdown",
   "metadata": {},
   "source": [
    "## Define necessary functions"
   ]
  },
  {
   "cell_type": "markdown",
   "metadata": {},
   "source": [
    "First, we want a function to compute the predictions that are created for a given dataset."
   ]
  },
  {
   "cell_type": "code",
   "execution_count": 2,
   "metadata": {},
   "outputs": [],
   "source": [
    "def predict(X, theta):\n",
    "  return np.dot(X, theta[0:8]) + theta[8]"
   ]
  },
  {
   "cell_type": "markdown",
   "metadata": {},
   "source": [
    "We also need a function to compute the gradient of the error"
   ]
  },
  {
   "cell_type": "code",
   "execution_count": 3,
   "metadata": {},
   "outputs": [],
   "source": [
    "def gradient(X, y, theta): \n",
    "    h = np.dot(X, theta) \n",
    "    grad = (2 / X.shape[0]) * np.dot(X.transpose(), (h - y)) \n",
    "    \n",
    "    return grad "
   ]
  },
  {
   "cell_type": "markdown",
   "metadata": {},
   "source": [
    "We also need a function to compute the Mean Squared Error (MSE), which is defined as: $$MSE(w) = \\frac{1}{m}\\sum_{i=1}^{m}(h_w(x^{(i)}) - y^{(1)})^2$$\n",
    "\n"
   ]
  },
  {
   "cell_type": "code",
   "execution_count": 4,
   "metadata": {},
   "outputs": [],
   "source": [
    "def cost(X, y, theta): \n",
    "    h = np.dot(X, theta) \n",
    "    J = np.dot((h - y).transpose(), (h - y)) \n",
    "    J /= X.shape[0]\n",
    "    return J[0]"
   ]
  },
  {
   "cell_type": "markdown",
   "metadata": {},
   "source": [
    "## Different kinds of gradient descent"
   ]
  },
  {
   "cell_type": "markdown",
   "metadata": {},
   "source": [
    "We are going to implement 3 different types of gradient descent, in order to check the difference in their behaviors when it comes down to correctly classifying a dataset. We are going to define 3 functions, that perform:\n",
    " - Gradient Descent\n",
    " - Stochastic Gradient Descent\n",
    " - Mini-Batch Gradient Descent"
   ]
  },
  {
   "cell_type": "markdown",
   "metadata": {},
   "source": [
    "### Gradient descent"
   ]
  },
  {
   "cell_type": "markdown",
   "metadata": {},
   "source": [
    "The most simple method of implementing gradient descent, is to iterate the whole dataset in each loop. \n",
    "\n",
    "Convergence to the unique global minimum is guaranteed (as long as we pick η small enough) but may be very slow: we have to cycle through all the training data for every step, and there may be many steps."
   ]
  },
  {
   "cell_type": "code",
   "execution_count": 5,
   "metadata": {},
   "outputs": [],
   "source": [
    "# function to perform gradient descent\n",
    "def gradientDescent(X, y, learning_rate = 0.1, steps = 1000): \n",
    "    X = np.c_[X, np.ones(X.shape[0])] #add a column of ones to X for the bias term\n",
    "    theta = np.zeros((X.shape[1], 1)) #create inital weights w0, w1..wd\n",
    "    error_list = []  \n",
    "    for s in range(steps):\n",
    "        theta = theta - learning_rate * gradient(X, y, theta) \n",
    "        error_list.append(cost(X, y, theta)) #useful for plotting changes when using different batch sizes\n",
    "  \n",
    "    return theta, error_list "
   ]
  },
  {
   "cell_type": "markdown",
   "metadata": {},
   "source": [
    "### Stochastic Gradient descent"
   ]
  },
  {
   "cell_type": "markdown",
   "metadata": {},
   "source": [
    "In this case, we consider only a single training instance at a time (chosen randomly), taking a step after each one using the following equation which is appropriate for a single training instance (x, y): \n",
    "$$ w_i \\leftarrow w_i - \\eta(h_w(x)-y)x_i$$"
   ]
  },
  {
   "cell_type": "markdown",
   "metadata": {},
   "source": [
    "In order to define this method, we must first define the `learning_schedule`, which  determines the learning rate at each iteration"
   ]
  },
  {
   "cell_type": "code",
   "execution_count": 6,
   "metadata": {},
   "outputs": [],
   "source": [
    "def learning_schedule(t, t_0, t_1):\n",
    "    return t_0 / (t + t_1)"
   ]
  },
  {
   "cell_type": "markdown",
   "metadata": {},
   "source": [
    "Now let's define the stochastic gradient descent function"
   ]
  },
  {
   "cell_type": "code",
   "execution_count": 7,
   "metadata": {},
   "outputs": [],
   "source": [
    "def stochasticGradientDescent(X, y, learning_rate = 0.1, steps = 1000, epochs = 50):\n",
    "    X = np.c_[X, np.ones(X.shape[0])] #add a column of ones to X for the bias term\n",
    "    theta = np.zeros((X.shape[1], 1)) #create inital weights w0, w1..wd\n",
    "    error_list = []\n",
    "    t0 = 5 # learning_schedule hyperparameters\n",
    "    t1 = 50 \n",
    "    m = X.shape[0]\n",
    "    for e in range(epochs):\n",
    "        for s in range(steps):\n",
    "            random_index = np.random.randint(m - 1)\n",
    "            xi = X[random_index : random_index + 1]\n",
    "            yi = y[random_index : random_index + 1]            \n",
    "            eta = learning_schedule(e * m + s, t0, t1)\n",
    "            theta = theta - eta * gradient(xi, yi, theta)\n",
    "        error_list.append(cost(X, y, theta))\n",
    "    return theta, error_list"
   ]
  },
  {
   "cell_type": "markdown",
   "metadata": {},
   "source": [
    "### Mini-Batch Gradient descent"
   ]
  },
  {
   "cell_type": "markdown",
   "metadata": {},
   "source": [
    "In this case, at each step, instead of computing the gradients based on the full training set (as in batch gradient descent) or based on just one instance (as in stochastic gradient descent), mini-batch gradient descent computes the gradients on small random sets of instances called mini-batches."
   ]
  },
  {
   "cell_type": "code",
   "execution_count": 8,
   "metadata": {},
   "outputs": [],
   "source": [
    "def miniBatchGradientDescent(X, y, learning_rate = 0.1, steps = 1000, epochs = 50, batch_size = 10):\n",
    "    X = np.c_[X, np.ones(X.shape[0])] #add a column of ones to X for the bias term\n",
    "    theta = np.zeros((X.shape[1], 1)) #create inital weights w0, w1..wd\n",
    "    error_list = []\n",
    "    t0 = 5 # learning_schedule hyperparameters\n",
    "    t1 = 50 \n",
    "    m = X.shape[0]\n",
    "    for e in range(epochs):\n",
    "        for s in range(steps):\n",
    "            random_index = np.random.randint(m - batch_size)\n",
    "            xi = X[random_index : random_index + batch_size]\n",
    "            yi = y[random_index : random_index + batch_size]            \n",
    "            eta = learning_schedule(e * m + s, t0, t1)\n",
    "            theta = theta - eta * gradient(xi, yi, theta)\n",
    "        error_list.append(cost(X, y, theta))\n",
    "    return theta, error_list"
   ]
  },
  {
   "cell_type": "markdown",
   "metadata": {},
   "source": [
    "## Demonstration of the algorithms"
   ]
  },
  {
   "cell_type": "markdown",
   "metadata": {},
   "source": [
    "We are going to use the `California Housing Dataset`, in order to demonstrate the algorithms that we implemented"
   ]
  },
  {
   "cell_type": "markdown",
   "metadata": {},
   "source": [
    "### Import the dataset"
   ]
  },
  {
   "cell_type": "markdown",
   "metadata": {},
   "source": [
    "We are going to import the dataset..."
   ]
  },
  {
   "cell_type": "code",
   "execution_count": 9,
   "metadata": {},
   "outputs": [
    {
     "name": "stdout",
     "output_type": "stream",
     "text": [
      "<class 'pandas.core.frame.DataFrame'>\n",
      "RangeIndex: 16512 entries, 0 to 16511\n",
      "Data columns (total 10 columns):\n",
      " #   Column              Non-Null Count  Dtype  \n",
      "---  ------              --------------  -----  \n",
      " 0   Unnamed: 0          16512 non-null  int64  \n",
      " 1   MedInc              16512 non-null  float64\n",
      " 2   HouseAge            16512 non-null  float64\n",
      " 3   AveRooms            16512 non-null  float64\n",
      " 4   AveBedrms           16512 non-null  float64\n",
      " 5   Population          16512 non-null  float64\n",
      " 6   AveOccup            16512 non-null  float64\n",
      " 7   Latitude            16512 non-null  float64\n",
      " 8   Longitude           16512 non-null  float64\n",
      " 9   Median House Value  16512 non-null  float64\n",
      "dtypes: float64(9), int64(1)\n",
      "memory usage: 1.3 MB\n"
     ]
    }
   ],
   "source": [
    "df = pd.read_csv(\"HousingData.csv\")\n",
    "df.info()"
   ]
  },
  {
   "cell_type": "markdown",
   "metadata": {},
   "source": [
    "...and take a look at its columns"
   ]
  },
  {
   "cell_type": "code",
   "execution_count": 10,
   "metadata": {},
   "outputs": [
    {
     "data": {
      "text/html": [
       "<div>\n",
       "<style scoped>\n",
       "    .dataframe tbody tr th:only-of-type {\n",
       "        vertical-align: middle;\n",
       "    }\n",
       "\n",
       "    .dataframe tbody tr th {\n",
       "        vertical-align: top;\n",
       "    }\n",
       "\n",
       "    .dataframe thead th {\n",
       "        text-align: right;\n",
       "    }\n",
       "</style>\n",
       "<table border=\"1\" class=\"dataframe\">\n",
       "  <thead>\n",
       "    <tr style=\"text-align: right;\">\n",
       "      <th></th>\n",
       "      <th>Unnamed: 0</th>\n",
       "      <th>MedInc</th>\n",
       "      <th>HouseAge</th>\n",
       "      <th>AveRooms</th>\n",
       "      <th>AveBedrms</th>\n",
       "      <th>Population</th>\n",
       "      <th>AveOccup</th>\n",
       "      <th>Latitude</th>\n",
       "      <th>Longitude</th>\n",
       "      <th>Median House Value</th>\n",
       "    </tr>\n",
       "  </thead>\n",
       "  <tbody>\n",
       "    <tr>\n",
       "      <th>0</th>\n",
       "      <td>0</td>\n",
       "      <td>3.9816</td>\n",
       "      <td>27.0</td>\n",
       "      <td>4.928668</td>\n",
       "      <td>1.122476</td>\n",
       "      <td>3009.0</td>\n",
       "      <td>4.049798</td>\n",
       "      <td>33.73</td>\n",
       "      <td>-117.93</td>\n",
       "      <td>1.795</td>\n",
       "    </tr>\n",
       "    <tr>\n",
       "      <th>1</th>\n",
       "      <td>1</td>\n",
       "      <td>3.4531</td>\n",
       "      <td>23.0</td>\n",
       "      <td>4.021339</td>\n",
       "      <td>1.099338</td>\n",
       "      <td>2511.0</td>\n",
       "      <td>1.847682</td>\n",
       "      <td>34.14</td>\n",
       "      <td>-118.13</td>\n",
       "      <td>2.109</td>\n",
       "    </tr>\n",
       "    <tr>\n",
       "      <th>2</th>\n",
       "      <td>2</td>\n",
       "      <td>6.3942</td>\n",
       "      <td>4.0</td>\n",
       "      <td>5.681272</td>\n",
       "      <td>1.095774</td>\n",
       "      <td>5613.0</td>\n",
       "      <td>2.176425</td>\n",
       "      <td>37.78</td>\n",
       "      <td>-121.95</td>\n",
       "      <td>3.567</td>\n",
       "    </tr>\n",
       "    <tr>\n",
       "      <th>3</th>\n",
       "      <td>3</td>\n",
       "      <td>2.2243</td>\n",
       "      <td>32.0</td>\n",
       "      <td>5.685221</td>\n",
       "      <td>1.009597</td>\n",
       "      <td>1542.0</td>\n",
       "      <td>2.959693</td>\n",
       "      <td>38.69</td>\n",
       "      <td>-121.45</td>\n",
       "      <td>0.892</td>\n",
       "    </tr>\n",
       "    <tr>\n",
       "      <th>4</th>\n",
       "      <td>4</td>\n",
       "      <td>3.0217</td>\n",
       "      <td>9.0</td>\n",
       "      <td>5.006324</td>\n",
       "      <td>1.071146</td>\n",
       "      <td>3265.0</td>\n",
       "      <td>2.581028</td>\n",
       "      <td>37.69</td>\n",
       "      <td>-121.04</td>\n",
       "      <td>1.609</td>\n",
       "    </tr>\n",
       "  </tbody>\n",
       "</table>\n",
       "</div>"
      ],
      "text/plain": [
       "   Unnamed: 0  MedInc  HouseAge  AveRooms  AveBedrms  Population  AveOccup  \\\n",
       "0           0  3.9816      27.0  4.928668   1.122476      3009.0  4.049798   \n",
       "1           1  3.4531      23.0  4.021339   1.099338      2511.0  1.847682   \n",
       "2           2  6.3942       4.0  5.681272   1.095774      5613.0  2.176425   \n",
       "3           3  2.2243      32.0  5.685221   1.009597      1542.0  2.959693   \n",
       "4           4  3.0217       9.0  5.006324   1.071146      3265.0  2.581028   \n",
       "\n",
       "   Latitude  Longitude  Median House Value  \n",
       "0     33.73    -117.93               1.795  \n",
       "1     34.14    -118.13               2.109  \n",
       "2     37.78    -121.95               3.567  \n",
       "3     38.69    -121.45               0.892  \n",
       "4     37.69    -121.04               1.609  "
      ]
     },
     "execution_count": 10,
     "metadata": {},
     "output_type": "execute_result"
    }
   ],
   "source": [
    "df.head()"
   ]
  },
  {
   "cell_type": "markdown",
   "metadata": {},
   "source": [
    "### Splitting "
   ]
  },
  {
   "cell_type": "markdown",
   "metadata": {},
   "source": [
    "We are going to split the dataset into training and testing ones"
   ]
  },
  {
   "cell_type": "code",
   "execution_count": 11,
   "metadata": {},
   "outputs": [],
   "source": [
    "X_train, X_test, y_train, y_test = train_test_split(df[df.columns[1:-1]], df['Median House Value'], test_size=.2)\n",
    "\n",
    "# reconfigure the shape of the Y datasets\n",
    "y_test = y_test.to_numpy().reshape(-1,1)\n",
    "y_train = y_train.to_numpy().reshape(-1,1)"
   ]
  },
  {
   "cell_type": "markdown",
   "metadata": {},
   "source": [
    "### Scaling"
   ]
  },
  {
   "cell_type": "markdown",
   "metadata": {},
   "source": [
    "In order for our algorithms to work correctly, we must ensure that our features are of the same scale. We can do this easily by using `sklearn`'s methods"
   ]
  },
  {
   "cell_type": "code",
   "execution_count": 12,
   "metadata": {},
   "outputs": [],
   "source": [
    "X_train_scaled = preprocessing.scale(X_train)\n",
    "X_test_scaled = preprocessing.scale(X_test)"
   ]
  },
  {
   "cell_type": "markdown",
   "metadata": {},
   "source": [
    "Let's take a look at the distribution of our first feature's data in our dataset"
   ]
  },
  {
   "cell_type": "code",
   "execution_count": 13,
   "metadata": {},
   "outputs": [
    {
     "data": {
      "image/png": "[encoded data removed]",
      "text/plain": [
       "<Figure size 432x288 with 1 Axes>"
      ]
     },
     "metadata": {
      "needs_background": "light"
     },
     "output_type": "display_data"
    }
   ],
   "source": [
    "plt.plot(X_test_scaled[:,1], y_test, 'b.')\n",
    "plt.xlabel(\"$x_1$\", fontsize=15)\n",
    "plt.ylabel(\"$y$\", rotation=0, fontsize=15)\n",
    "plt.show()"
   ]
  },
  {
   "cell_type": "markdown",
   "metadata": {},
   "source": [
    "## Gradient Descent"
   ]
  },
  {
   "cell_type": "markdown",
   "metadata": {},
   "source": [
    "Let's run the `gradientDescent` algorithm for our dataset. It will return the best weights found, as well as a list containing the error in every iteration. We are going to select the learning rate to be `0.001`, and see what results we are getting"
   ]
  },
  {
   "cell_type": "code",
   "execution_count": 14,
   "metadata": {},
   "outputs": [],
   "source": [
    "best_theta, error = gradientDescent(X_train_scaled, y_train, 0.01, steps = 100)"
   ]
  },
  {
   "cell_type": "code",
   "execution_count": 15,
   "metadata": {},
   "outputs": [
    {
     "name": "stdout",
     "output_type": "stream",
     "text": [
      "[[ 6.68004437e-01]\n",
      " [ 1.54846968e-01]\n",
      " [ 5.32575079e-02]\n",
      " [-3.91052345e-02]\n",
      " [ 1.29441656e-03]\n",
      " [-3.79859494e-02]\n",
      " [-1.81497179e-01]\n",
      " [-1.34106006e-01]\n",
      " [ 1.78813654e+00]]\n"
     ]
    }
   ],
   "source": [
    "print(best_theta)"
   ]
  },
  {
   "cell_type": "markdown",
   "metadata": {},
   "source": [
    "Let's plot the error as the iterations increase. It should be getting less with each iteration. The algorithm will not be working correctly if any other kind of plot appears"
   ]
  },
  {
   "cell_type": "code",
   "execution_count": 16,
   "metadata": {},
   "outputs": [
    {
     "data": {
      "image/png": "[encoded data removed]",
      "text/plain": [
       "<Figure size 432x288 with 1 Axes>"
      ]
     },
     "metadata": {
      "needs_background": "light"
     },
     "output_type": "display_data"
    }
   ],
   "source": [
    "y_pred = predict(X_train_scaled, best_theta)\n",
    "plt.plot(error)\n",
    "plt.xlabel(\"Itterations\", fontsize=15)\n",
    "plt.ylabel(\"MSE\", rotation=0, fontsize=15)\n",
    "plt.show()"
   ]
  },
  {
   "cell_type": "markdown",
   "metadata": {},
   "source": [
    "We  see that the error decreases as the iterations increase. Thus, our model is working correctly."
   ]
  },
  {
   "cell_type": "markdown",
   "metadata": {},
   "source": [
    "### Learning curves"
   ]
  },
  {
   "cell_type": "markdown",
   "metadata": {},
   "source": [
    "Another way to check our model's quality is to look at the learning curves: these are plots of the model's performance on the training set and the validation set as a function of the training set size (or the training iteration)."
   ]
  },
  {
   "cell_type": "code",
   "execution_count": 17,
   "metadata": {},
   "outputs": [
    {
     "data": {
      "image/png": "[encoded data removed]",
      "text/plain": [
       "<Figure size 864x576 with 1 Axes>"
      ]
     },
     "metadata": {
      "needs_background": "light"
     },
     "output_type": "display_data"
    }
   ],
   "source": [
    "# define the sample sizesthat we'll be taking from the dataset\n",
    "sizes = [i * (len(df) // 10) for i in range (1,10)]\n",
    "\n",
    "# keep track of the errors\n",
    "err_test_list = []\n",
    "err_train_list = []\n",
    "\n",
    "# iterate all the different sizes\n",
    "for size in sizes:\n",
    "    # create the sets, based on what we did earlier\n",
    "    df_trimmed = df.sample(n = size)\n",
    "    \n",
    "    X_train, X_test, y_train, y_test = train_test_split(df_trimmed[df_trimmed.columns[1:-1]], df_trimmed['Median House Value'], test_size=.2)\n",
    "    \n",
    "    y_test = y_test.to_numpy().reshape(-1,1)\n",
    "    y_train = y_train.to_numpy().reshape(-1,1)\n",
    "    \n",
    "    X_train_scaled = preprocessing.scale(X_train)\n",
    "    X_test_scaled = preprocessing.scale(X_test)\n",
    "        \n",
    "    # rum the model to get the train error array\n",
    "    best_theta, error_train = gradientDescent(X_train_scaled, y_train, 0.00001, steps = 1000)\n",
    "    # append its last value to the list\n",
    "    err_train_list.append(error_train[-1])\n",
    "    \n",
    "    \n",
    "    X_test_scaled = np.c_[X_test_scaled, np.ones(X_test_scaled.shape[0])] #add a column of ones to X for the bias term\n",
    "    err_test = cost(X_test_scaled, y_test, best_theta)\n",
    "\n",
    "    err_test_list.append(err_test)\n",
    "\n",
    "\n",
    "#plot the 2 graphs\n",
    "plt.figure(figsize = (12,8))\n",
    "plt.plot(sizes, err_train_list, label='Train')\n",
    "plt.plot(sizes, err_test_list, label=\"val\")\n",
    "plt.legend(loc='best')\n",
    "plt.gca().set_ylim([4,6])\n",
    "plt.xlabel(\"Training set size\", fontsize=15)\n",
    "plt.ylabel(\"MSE\", rotation=0, fontsize=15)\n",
    "plt.show()"
   ]
  },
  {
   "cell_type": "markdown",
   "metadata": {},
   "source": [
    "As we can see, our model does not meet the criteria for underfitting or overfitting according to the theory"
   ]
  },
  {
   "cell_type": "markdown",
   "metadata": {},
   "source": [
    "## Stochastic Gradient Descent"
   ]
  },
  {
   "cell_type": "markdown",
   "metadata": {},
   "source": [
    "This time, we are going to set the learning rate to `0.00001`, and see what results we are getting"
   ]
  },
  {
   "cell_type": "code",
   "execution_count": 18,
   "metadata": {},
   "outputs": [],
   "source": [
    "best_theta, error = stochasticGradientDescent(X_train_scaled, y_train, 0.001, epochs = 50, steps = 100)"
   ]
  },
  {
   "cell_type": "code",
   "execution_count": 19,
   "metadata": {},
   "outputs": [
    {
     "data": {
      "image/png": "[encoded data removed]",
      "text/plain": [
       "<Figure size 432x288 with 1 Axes>"
      ]
     },
     "metadata": {
      "needs_background": "light"
     },
     "output_type": "display_data"
    }
   ],
   "source": [
    "plt.plot(error)\n",
    "plt.xlabel(\"Epochs\", fontsize=15)\n",
    "plt.ylabel(\"MSE\", rotation=0, fontsize=15)\n",
    "plt.show()"
   ]
  },
  {
   "cell_type": "markdown",
   "metadata": {},
   "source": [
    "As expected, as epochs increase, our error gets lower"
   ]
  },
  {
   "cell_type": "markdown",
   "metadata": {},
   "source": [
    "### Learning Curves"
   ]
  },
  {
   "cell_type": "markdown",
   "metadata": {},
   "source": [
    "Let's now check the learning curves for our Stochastic model, in order to locate any underfitting or overfitting"
   ]
  },
  {
   "cell_type": "code",
   "execution_count": 33,
   "metadata": {},
   "outputs": [
    {
     "data": {
      "image/png": "[encoded data removed]",
      "text/plain": [
       "<Figure size 864x576 with 1 Axes>"
      ]
     },
     "metadata": {
      "needs_background": "light"
     },
     "output_type": "display_data"
    }
   ],
   "source": [
    "# define the sample sizesthat we'll be taking from the dataset\n",
    "sizes = [i * (len(df) // 10) for i in range (1,10)]\n",
    "\n",
    "# keep track of the errors\n",
    "err_test_list = []\n",
    "err_train_list = []\n",
    "\n",
    "# iterate all the different sizes\n",
    "for size in sizes:\n",
    "    # create the sets, based on what we did earlier\n",
    "    df_trimmed = df.sample(n = size)\n",
    "    \n",
    "    X_train, X_test, y_train, y_test = train_test_split(df_trimmed[df_trimmed.columns[1:-1]], df_trimmed['Median House Value'], test_size=.2)\n",
    "    \n",
    "    y_test = y_test.to_numpy().reshape(-1,1)\n",
    "    y_train = y_train.to_numpy().reshape(-1,1)\n",
    "    \n",
    "    X_train_scaled = preprocessing.scale(X_train)\n",
    "    X_test_scaled = preprocessing.scale(X_test)\n",
    "        \n",
    "    # rum the model to get the train error array\n",
    "    best_theta, error_train = stochasticGradientDescent(X_train_scaled, y_train, 0.001, epochs = 50, steps = 100)\n",
    "    # append its last value to the list\n",
    "    err_train_list.append(error_train[-1])\n",
    "    \n",
    "    \n",
    "    X_test_scaled = np.c_[X_test_scaled, np.ones(X_test_scaled.shape[0])] #add a column of ones to X for the bias term\n",
    "    err_test = cost(X_test_scaled, y_test, best_theta)\n",
    "\n",
    "    err_test_list.append(err_test)\n",
    "\n",
    "\n",
    "#plot the 2 graphs\n",
    "plt.figure(figsize = (12,8))\n",
    "plt.plot(sizes, err_train_list, label='Train')\n",
    "plt.plot(sizes, err_test_list, label=\"val\")\n",
    "plt.legend(loc='best')\n",
    "plt.gca().set_ylim([0,2])\n",
    "plt.xlabel(\"Training set size\", fontsize=15)\n",
    "plt.ylabel(\"MSE\", rotation=0, fontsize=15)\n",
    "plt.show()"
   ]
  },
  {
   "cell_type": "markdown",
   "metadata": {},
   "source": [
    "Once again, our model does not meet the criteria for underfitting or overfitting according to the theory"
   ]
  },
  {
   "cell_type": "markdown",
   "metadata": {},
   "source": [
    "## Mini-Batch Gradient Descent"
   ]
  },
  {
   "cell_type": "markdown",
   "metadata": {},
   "source": [
    "Finally, we are going to test our mini-batch model, by again setting the learning rate to `0.0001`, and see what results we are getting"
   ]
  },
  {
   "cell_type": "code",
   "execution_count": 21,
   "metadata": {},
   "outputs": [],
   "source": [
    "best_theta, error = miniBatchGradientDescent(X_train_scaled, y_train, 0.001, epochs = 50, steps = 10, batch_size = 50)"
   ]
  },
  {
   "cell_type": "code",
   "execution_count": 22,
   "metadata": {},
   "outputs": [
    {
     "data": {
      "image/png": "[encoded data removed]",
      "text/plain": [
       "<Figure size 432x288 with 1 Axes>"
      ]
     },
     "metadata": {
      "needs_background": "light"
     },
     "output_type": "display_data"
    }
   ],
   "source": [
    "plt.plot(error)\n",
    "plt.xlabel(\"Epochs\", fontsize=15)\n",
    "plt.ylabel(\"MSE\", rotation=0, fontsize=15)\n",
    "plt.show()"
   ]
  },
  {
   "cell_type": "markdown",
   "metadata": {},
   "source": [
    "Let's now check the learning curves for our mini-batch model, in order to locate any underfitting or overfitting"
   ]
  },
  {
   "cell_type": "markdown",
   "metadata": {},
   "source": [
    "### Learning Curves"
   ]
  },
  {
   "cell_type": "code",
   "execution_count": 23,
   "metadata": {},
   "outputs": [
    {
     "data": {
      "image/png": "[encoded data removed]",
      "text/plain": [
       "<Figure size 864x576 with 1 Axes>"
      ]
     },
     "metadata": {
      "needs_background": "light"
     },
     "output_type": "display_data"
    }
   ],
   "source": [
    "# define the sample sizesthat we'll be taking from the dataset\n",
    "sizes = [i * (len(df) // 10) for i in range (1,10)]\n",
    "\n",
    "# keep track of the errors\n",
    "err_test_list = []\n",
    "err_train_list = []\n",
    "\n",
    "# iterate all the different sizes\n",
    "for size in sizes:\n",
    "    # create the sets, based on what we did earlier\n",
    "    df_trimmed = df.sample(n = size)\n",
    "    \n",
    "    X_train, X_test, y_train, y_test = train_test_split(df_trimmed[df_trimmed.columns[1:-1]], df_trimmed['Median House Value'], test_size=.2)\n",
    "    \n",
    "    y_test = y_test.to_numpy().reshape(-1,1)\n",
    "    y_train = y_train.to_numpy().reshape(-1,1)\n",
    "    \n",
    "    X_train_scaled = preprocessing.scale(X_train)\n",
    "    X_test_scaled = preprocessing.scale(X_test)\n",
    "        \n",
    "    # rum the model to get the train error array\n",
    "    best_theta, error_train = best_theta, error = miniBatchGradientDescent(X_train_scaled, y_train, 0.001, epochs = 50, steps = 10, batch_size = 50)\n",
    "    # append its last value to the list\n",
    "    err_train_list.append(error_train[-1])\n",
    "    \n",
    "    \n",
    "    X_test_scaled = np.c_[X_test_scaled, np.ones(X_test_scaled.shape[0])] #add a column of ones to X for the bias term\n",
    "    err_test = cost(X_test_scaled, y_test, best_theta)\n",
    "\n",
    "    err_test_list.append(err_test)\n",
    "\n",
    "\n",
    "#plot the 2 graphs\n",
    "plt.figure(figsize = (12,8))\n",
    "plt.plot(sizes, err_train_list, label='Train')\n",
    "plt.plot(sizes, err_test_list, label=\"val\")\n",
    "plt.gca().set_ylim([0,1])\n",
    "plt.legend(loc='best')\n",
    "plt.xlabel(\"Training set size\", fontsize=15)\n",
    "plt.ylabel(\"MSE\", rotation=0, fontsize=15)\n",
    "plt.show()"
   ]
  }
 ],
 "metadata": {
  "kernelspec": {
   "display_name": "Python 3",
   "language": "python",
   "name": "python3"
  },
  "language_info": {
   "codemirror_mode": {
    "name": "ipython",
    "version": 3
   },
   "file_extension": ".py",
   "mimetype": "text/x-python",
   "name": "python",
   "nbconvert_exporter": "python",
   "pygments_lexer": "ipython3",
   "version": "3.8.5"
  }
 },
 "nbformat": 4,
 "nbformat_minor": 4
}
